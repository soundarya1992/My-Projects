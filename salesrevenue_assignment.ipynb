{
  "nbformat": 4,
  "nbformat_minor": 0,
  "metadata": {
    "colab": {
      "name": "salesrevenue_assignment.ipynb",
      "provenance": [],
      "collapsed_sections": [],
      "authorship_tag": "ABX9TyPa+S6ccU3uunrhJGNxkuCR",
      "include_colab_link": true
    },
    "kernelspec": {
      "name": "python3",
      "display_name": "Python 3"
    },
    "accelerator": "GPU"
  },
  "cells": [
    {
      "cell_type": "markdown",
      "metadata": {
        "id": "view-in-github",
        "colab_type": "text"
      },
      "source": [
        "<a href=\"https://colab.research.google.com/github/soundarya1992/My-Projects/blob/master/salesrevenue_assignment.ipynb\" target=\"_parent\"><img src=\"https://colab.research.google.com/assets/colab-badge.svg\" alt=\"Open In Colab\"/></a>"
      ]
    },
    {
      "cell_type": "markdown",
      "metadata": {
        "id": "nEZZZ7bonBl8",
        "colab_type": "text"
      },
      "source": [
        "**Dataset**\n",
        "This case study would help in understanding how advertisement spends done by a company for their \n",
        "product  has  helped  in  driving  their  Sales  Revenue  and  also  help  us  in  planning  the  future \n",
        "advertisement spends. We have two variables in this dataset,\n",
        "AdSpends = The advertising expenditure (in thousands of dollars)\n",
        "SalesRevenue = The sales revenue (in thousands of dollars)\n",
        "\n",
        "**Problem**\n",
        "Analyse  and  build  a  model  using  the  given  dataset  to  predict  the  Sales  Revenue  based  on  the \n",
        "advertisement expenditure.\n",
        "Also provide explanation to all the below questions,\n",
        "1.  Find the 5 point summary of the dataset.\n",
        "2.  Plot the dataset to see how the data is distributed.\n",
        "3.  Determine how the variables are related to each other. If there is any relation explain it.\n",
        "4.  Build the linear regression model and interpret all the statistics obtained from the model. \n",
        "Also justify your conclusions about the model.\n",
        "5.  Perform all the model diagnostics to check if all the assumptions are satisfied.\n",
        "6.   Use the model built to predict for an AdSpend = 50\n"
      ]
    },
    {
      "cell_type": "code",
      "metadata": {
        "id": "8SzaLTvXjgOE",
        "colab_type": "code",
        "colab": {}
      },
      "source": [
        "import pandas as pd\n",
        "import numpy as np\n",
        "import matplotlib.pyplot as plt"
      ],
      "execution_count": 0,
      "outputs": []
    },
    {
      "cell_type": "code",
      "metadata": {
        "id": "vF4bKREOkLoz",
        "colab_type": "code",
        "colab": {}
      },
      "source": [
        "data = pd.read_csv('Sales Revenue data-dataset.csv')"
      ],
      "execution_count": 0,
      "outputs": []
    },
    {
      "cell_type": "markdown",
      "metadata": {
        "id": "b8mnVgSRbBl8",
        "colab_type": "text"
      },
      "source": [
        "**5 point summary**"
      ]
    },
    {
      "cell_type": "code",
      "metadata": {
        "id": "8Ax4-9qjuPPP",
        "colab_type": "code",
        "outputId": "bbe5854b-9f5b-4f2e-da94-17252ca7af4d",
        "colab": {
          "base_uri": "https://localhost:8080/",
          "height": 284
        }
      },
      "source": [
        "data.describe()"
      ],
      "execution_count": 111,
      "outputs": [
        {
          "output_type": "execute_result",
          "data": {
            "text/html": [
              "<div>\n",
              "<style scoped>\n",
              "    .dataframe tbody tr th:only-of-type {\n",
              "        vertical-align: middle;\n",
              "    }\n",
              "\n",
              "    .dataframe tbody tr th {\n",
              "        vertical-align: top;\n",
              "    }\n",
              "\n",
              "    .dataframe thead th {\n",
              "        text-align: right;\n",
              "    }\n",
              "</style>\n",
              "<table border=\"1\" class=\"dataframe\">\n",
              "  <thead>\n",
              "    <tr style=\"text-align: right;\">\n",
              "      <th></th>\n",
              "      <th>AdSpend</th>\n",
              "      <th>SalesRevenue</th>\n",
              "    </tr>\n",
              "  </thead>\n",
              "  <tbody>\n",
              "    <tr>\n",
              "      <th>count</th>\n",
              "      <td>20.000000</td>\n",
              "      <td>20.000000</td>\n",
              "    </tr>\n",
              "    <tr>\n",
              "      <th>mean</th>\n",
              "      <td>32.250000</td>\n",
              "      <td>291.600000</td>\n",
              "    </tr>\n",
              "    <tr>\n",
              "      <th>std</th>\n",
              "      <td>5.734246</td>\n",
              "      <td>38.692308</td>\n",
              "    </tr>\n",
              "    <tr>\n",
              "      <th>min</th>\n",
              "      <td>25.000000</td>\n",
              "      <td>238.000000</td>\n",
              "    </tr>\n",
              "    <tr>\n",
              "      <th>25%</th>\n",
              "      <td>27.750000</td>\n",
              "      <td>261.750000</td>\n",
              "    </tr>\n",
              "    <tr>\n",
              "      <th>50%</th>\n",
              "      <td>31.000000</td>\n",
              "      <td>285.500000</td>\n",
              "    </tr>\n",
              "    <tr>\n",
              "      <th>75%</th>\n",
              "      <td>34.500000</td>\n",
              "      <td>312.500000</td>\n",
              "    </tr>\n",
              "    <tr>\n",
              "      <th>max</th>\n",
              "      <td>45.000000</td>\n",
              "      <td>371.000000</td>\n",
              "    </tr>\n",
              "  </tbody>\n",
              "</table>\n",
              "</div>"
            ],
            "text/plain": [
              "         AdSpend  SalesRevenue\n",
              "count  20.000000     20.000000\n",
              "mean   32.250000    291.600000\n",
              "std     5.734246     38.692308\n",
              "min    25.000000    238.000000\n",
              "25%    27.750000    261.750000\n",
              "50%    31.000000    285.500000\n",
              "75%    34.500000    312.500000\n",
              "max    45.000000    371.000000"
            ]
          },
          "metadata": {
            "tags": []
          },
          "execution_count": 111
        }
      ]
    },
    {
      "cell_type": "markdown",
      "metadata": {
        "id": "MdlBj8IFbKtK",
        "colab_type": "text"
      },
      "source": [
        "**Data distribution**"
      ]
    },
    {
      "cell_type": "code",
      "metadata": {
        "id": "0sqPhRo_kWLL",
        "colab_type": "code",
        "outputId": "115d6682-963f-4de3-b1a6-0f16d3f65ad3",
        "colab": {
          "base_uri": "https://localhost:8080/",
          "height": 312
        }
      },
      "source": [
        "data.plot.scatter(x='AdSpend', y='SalesRevenue')\n",
        "plt.xlabel('AdSpend in thousands of dollars')\n",
        "plt.ylabel('SalesRevenue in thousands of dollars')\n",
        "plt.title('The Sales Revenue based on the advertisement expenditure')"
      ],
      "execution_count": 112,
      "outputs": [
        {
          "output_type": "execute_result",
          "data": {
            "text/plain": [
              "Text(0.5, 1.0, 'The Sales Revenue based on the advertisement expenditure')"
            ]
          },
          "metadata": {
            "tags": []
          },
          "execution_count": 112
        },
        {
          "output_type": "display_data",
          "data": {
            "image/png": "[encoded data removed]",
            "text/plain": [
              "<Figure size 432x288 with 1 Axes>"
            ]
          },
          "metadata": {
            "tags": [],
            "needs_background": "light"
          }
        }
      ]
    },
    {
      "cell_type": "code",
      "metadata": {
        "id": "XqN1yGON1n6Q",
        "colab_type": "code",
        "colab": {
          "base_uri": "https://localhost:8080/",
          "height": 296
        },
        "outputId": "9a776049-e1c1-4bf9-e6d6-45e6070727d6"
      },
      "source": [
        "sns.boxplot(x=data['AdSpend'])"
      ],
      "execution_count": 134,
      "outputs": [
        {
          "output_type": "execute_result",
          "data": {
            "text/plain": [
              "<matplotlib.axes._subplots.AxesSubplot at 0x7f1604dcb668>"
            ]
          },
          "metadata": {
            "tags": []
          },
          "execution_count": 134
        },
        {
          "output_type": "display_data",
          "data": {
            "image/png": "[encoded data removed]",
            "text/plain": [
              "<Figure size 432x288 with 1 Axes>"
            ]
          },
          "metadata": {
            "tags": [],
            "needs_background": "light"
          }
        }
      ]
    },
    {
      "cell_type": "code",
      "metadata": {
        "id": "bJzmtFp76QEA",
        "colab_type": "code",
        "outputId": "9c164cfe-3266-4b27-8d44-6613c749274b",
        "colab": {
          "base_uri": "https://localhost:8080/",
          "height": 106
        }
      },
      "source": [
        "#Correlation\n",
        "data.corr()"
      ],
      "execution_count": 113,
      "outputs": [
        {
          "output_type": "execute_result",
          "data": {
            "text/html": [
              "<div>\n",
              "<style scoped>\n",
              "    .dataframe tbody tr th:only-of-type {\n",
              "        vertical-align: middle;\n",
              "    }\n",
              "\n",
              "    .dataframe tbody tr th {\n",
              "        vertical-align: top;\n",
              "    }\n",
              "\n",
              "    .dataframe thead th {\n",
              "        text-align: right;\n",
              "    }\n",
              "</style>\n",
              "<table border=\"1\" class=\"dataframe\">\n",
              "  <thead>\n",
              "    <tr style=\"text-align: right;\">\n",
              "      <th></th>\n",
              "      <th>AdSpend</th>\n",
              "      <th>SalesRevenue</th>\n",
              "    </tr>\n",
              "  </thead>\n",
              "  <tbody>\n",
              "    <tr>\n",
              "      <th>AdSpend</th>\n",
              "      <td>1.000000</td>\n",
              "      <td>0.978282</td>\n",
              "    </tr>\n",
              "    <tr>\n",
              "      <th>SalesRevenue</th>\n",
              "      <td>0.978282</td>\n",
              "      <td>1.000000</td>\n",
              "    </tr>\n",
              "  </tbody>\n",
              "</table>\n",
              "</div>"
            ],
            "text/plain": [
              "               AdSpend  SalesRevenue\n",
              "AdSpend       1.000000      0.978282\n",
              "SalesRevenue  0.978282      1.000000"
            ]
          },
          "metadata": {
            "tags": []
          },
          "execution_count": 113
        }
      ]
    },
    {
      "cell_type": "markdown",
      "metadata": {
        "id": "5Vcl3e8frkc7",
        "colab_type": "text"
      },
      "source": [
        "We can see the relationship between x and y looks kind of linear. As in, we could probably draw a line somewhere diagonally from the bottom left of the plot to the top right to generally describe the relationship between the data.\n",
        "\n",
        "This is a good indication that using linear regression might be appropriate for this little dataset."
      ]
    },
    {
      "cell_type": "code",
      "metadata": {
        "id": "m_zTewZxrlpT",
        "colab_type": "code",
        "colab": {}
      },
      "source": [
        "X = data.iloc[:, :-1].values\n",
        "y = data.iloc[:, 1].values"
      ],
      "execution_count": 0,
      "outputs": []
    },
    {
      "cell_type": "code",
      "metadata": {
        "id": "-ziLvQdnwCS1",
        "colab_type": "code",
        "colab": {}
      },
      "source": [
        "from sklearn.model_selection import train_test_split\n",
        "X_train, X_test, y_train, y_test = train_test_split(X, y, test_size=0.2, random_state=0)"
      ],
      "execution_count": 0,
      "outputs": []
    },
    {
      "cell_type": "markdown",
      "metadata": {
        "id": "dZSaZK-hwKc-",
        "colab_type": "text"
      },
      "source": [
        "Train the algorithm"
      ]
    },
    {
      "cell_type": "code",
      "metadata": {
        "id": "WU9a7mmawMLo",
        "colab_type": "code",
        "outputId": "20908552-9e8f-4c6e-b390-741350a487b6",
        "colab": {
          "base_uri": "https://localhost:8080/",
          "height": 34
        }
      },
      "source": [
        "from sklearn.linear_model import LinearRegression\n",
        "regressor = LinearRegression()\n",
        "regressor.fit(X_train, y_train)"
      ],
      "execution_count": 151,
      "outputs": [
        {
          "output_type": "execute_result",
          "data": {
            "text/plain": [
              "LinearRegression(copy_X=True, fit_intercept=True, n_jobs=None, normalize=False)"
            ]
          },
          "metadata": {
            "tags": []
          },
          "execution_count": 151
        }
      ]
    },
    {
      "cell_type": "code",
      "metadata": {
        "id": "xDq8az7DwVpX",
        "colab_type": "code",
        "colab": {}
      },
      "source": [
        "y_pred = regressor.predict(X_test)"
      ],
      "execution_count": 0,
      "outputs": []
    },
    {
      "cell_type": "code",
      "metadata": {
        "id": "DopXCsQ0xT2n",
        "colab_type": "code",
        "outputId": "643d5ee6-b3f2-4e87-819e-39a478b0b561",
        "colab": {
          "base_uri": "https://localhost:8080/",
          "height": 50
        }
      },
      "source": [
        "print('Coefficient is', regressor.coef_)\n",
        "print('Intercept is', regressor.intercept_)"
      ],
      "execution_count": 153,
      "outputs": [
        {
          "output_type": "stream",
          "text": [
            "Coefficient is [6.50478293]\n",
            "Intercept is 82.67402501839587\n"
          ],
          "name": "stdout"
        }
      ]
    },
    {
      "cell_type": "code",
      "metadata": {
        "id": "DPS1e7sgxtgK",
        "colab_type": "code",
        "outputId": "0792724b-cf12-493f-e6ce-79158f997864",
        "colab": {
          "base_uri": "https://localhost:8080/",
          "height": 166
        }
      },
      "source": [
        "df = pd.DataFrame({'Actual': y_test, 'Predicted': y_pred})\n",
        "df"
      ],
      "execution_count": 154,
      "outputs": [
        {
          "output_type": "execute_result",
          "data": {
            "text/html": [
              "<div>\n",
              "<style scoped>\n",
              "    .dataframe tbody tr th:only-of-type {\n",
              "        vertical-align: middle;\n",
              "    }\n",
              "\n",
              "    .dataframe tbody tr th {\n",
              "        vertical-align: top;\n",
              "    }\n",
              "\n",
              "    .dataframe thead th {\n",
              "        text-align: right;\n",
              "    }\n",
              "</style>\n",
              "<table border=\"1\" class=\"dataframe\">\n",
              "  <thead>\n",
              "    <tr style=\"text-align: right;\">\n",
              "      <th></th>\n",
              "      <th>Actual</th>\n",
              "      <th>Predicted</th>\n",
              "    </tr>\n",
              "  </thead>\n",
              "  <tbody>\n",
              "    <tr>\n",
              "      <th>0</th>\n",
              "      <td>371</td>\n",
              "      <td>375.389257</td>\n",
              "    </tr>\n",
              "    <tr>\n",
              "      <th>1</th>\n",
              "      <td>240</td>\n",
              "      <td>248.545990</td>\n",
              "    </tr>\n",
              "    <tr>\n",
              "      <th>2</th>\n",
              "      <td>238</td>\n",
              "      <td>245.293598</td>\n",
              "    </tr>\n",
              "    <tr>\n",
              "      <th>3</th>\n",
              "      <td>307</td>\n",
              "      <td>303.836645</td>\n",
              "    </tr>\n",
              "  </tbody>\n",
              "</table>\n",
              "</div>"
            ],
            "text/plain": [
              "   Actual   Predicted\n",
              "0     371  375.389257\n",
              "1     240  248.545990\n",
              "2     238  245.293598\n",
              "3     307  303.836645"
            ]
          },
          "metadata": {
            "tags": []
          },
          "execution_count": 154
        }
      ]
    },
    {
      "cell_type": "markdown",
      "metadata": {
        "id": "TqkvibNxzLy6",
        "colab_type": "text"
      },
      "source": [
        "The predicted revenue values are close to the actual ones."
      ]
    },
    {
      "cell_type": "code",
      "metadata": {
        "id": "0iUFDGp8x-HJ",
        "colab_type": "code",
        "outputId": "09d88325-60c0-425a-a7d2-0b40e5fbe82d",
        "colab": {
          "base_uri": "https://localhost:8080/",
          "height": 84
        }
      },
      "source": [
        "from sklearn import metrics\n",
        "from sklearn.metrics import r2_score\n",
        "print(\"r2_score\",r2_score(y_test, y_pred))\n",
        "print('Mean Absolute Error:', metrics.mean_absolute_error(y_test, y_pred))\n",
        "print('Mean Squared Error:', metrics.mean_squared_error(y_test, y_pred))\n",
        "print('Root Mean Squared Error:', np.sqrt(metrics.mean_squared_error(y_test, y_pred)))"
      ],
      "execution_count": 120,
      "outputs": [
        {
          "output_type": "stream",
          "text": [
            "r2_score 0.987095194367179\n",
            "Mean Absolute Error: 5.848050036791761\n",
            "Mean Squared Error: 38.87572696887352\n",
            "Root Mean Squared Error: 6.235040253989827\n"
          ],
          "name": "stdout"
        }
      ]
    },
    {
      "cell_type": "markdown",
      "metadata": {
        "id": "uzxkgqszL5Iq",
        "colab_type": "text"
      },
      "source": [
        "Linear Regression using statsmodel"
      ]
    },
    {
      "cell_type": "code",
      "metadata": {
        "id": "irDdj09Cxy_J",
        "colab_type": "code",
        "colab": {}
      },
      "source": [
        "import statsmodels.api as sm\n",
        "model = sm.OLS(data['SalesRevenue'], data['AdSpend']).fit()\n",
        "model = sm.OLS(data['AdSpend'], sm.add_constant(data['SalesRevenue'])).fit()"
      ],
      "execution_count": 0,
      "outputs": []
    },
    {
      "cell_type": "code",
      "metadata": {
        "id": "adn6Mp0FM3ar",
        "colab_type": "code",
        "outputId": "d5d392a5-a060-401e-c2a5-055b4906d1a7",
        "colab": {
          "base_uri": "https://localhost:8080/",
          "height": 459
        }
      },
      "source": [
        "model.summary()"
      ],
      "execution_count": 123,
      "outputs": [
        {
          "output_type": "execute_result",
          "data": {
            "text/html": [
              "<table class=\"simpletable\">\n",
              "<caption>OLS Regression Results</caption>\n",
              "<tr>\n",
              "  <th>Dep. Variable:</th>         <td>AdSpend</td>     <th>  R-squared:         </th> <td>   0.957</td>\n",
              "</tr>\n",
              "<tr>\n",
              "  <th>Model:</th>                   <td>OLS</td>       <th>  Adj. R-squared:    </th> <td>   0.955</td>\n",
              "</tr>\n",
              "<tr>\n",
              "  <th>Method:</th>             <td>Least Squares</td>  <th>  F-statistic:       </th> <td>   401.0</td>\n",
              "</tr>\n",
              "<tr>\n",
              "  <th>Date:</th>             <td>Sun, 10 May 2020</td> <th>  Prob (F-statistic):</th> <td>9.44e-14</td>\n",
              "</tr>\n",
              "<tr>\n",
              "  <th>Time:</th>                 <td>13:44:12</td>     <th>  Log-Likelihood:    </th> <td> -31.321</td>\n",
              "</tr>\n",
              "<tr>\n",
              "  <th>No. Observations:</th>      <td>    20</td>      <th>  AIC:               </th> <td>   66.64</td>\n",
              "</tr>\n",
              "<tr>\n",
              "  <th>Df Residuals:</th>          <td>    18</td>      <th>  BIC:               </th> <td>   68.63</td>\n",
              "</tr>\n",
              "<tr>\n",
              "  <th>Df Model:</th>              <td>     1</td>      <th>                     </th>     <td> </td>   \n",
              "</tr>\n",
              "<tr>\n",
              "  <th>Covariance Type:</th>      <td>nonrobust</td>    <th>                     </th>     <td> </td>   \n",
              "</tr>\n",
              "</table>\n",
              "<table class=\"simpletable\">\n",
              "<tr>\n",
              "        <td></td>          <th>coef</th>     <th>std err</th>      <th>t</th>      <th>P>|t|</th>  <th>[0.025</th>    <th>0.975]</th>  \n",
              "</tr>\n",
              "<tr>\n",
              "  <th>const</th>        <td>  -10.0269</td> <td>    2.129</td> <td>   -4.710</td> <td> 0.000</td> <td>  -14.500</td> <td>   -5.554</td>\n",
              "</tr>\n",
              "<tr>\n",
              "  <th>SalesRevenue</th> <td>    0.1450</td> <td>    0.007</td> <td>   20.024</td> <td> 0.000</td> <td>    0.130</td> <td>    0.160</td>\n",
              "</tr>\n",
              "</table>\n",
              "<table class=\"simpletable\">\n",
              "<tr>\n",
              "  <th>Omnibus:</th>       <td> 0.541</td> <th>  Durbin-Watson:     </th> <td>   1.746</td>\n",
              "</tr>\n",
              "<tr>\n",
              "  <th>Prob(Omnibus):</th> <td> 0.763</td> <th>  Jarque-Bera (JB):  </th> <td>   0.600</td>\n",
              "</tr>\n",
              "<tr>\n",
              "  <th>Skew:</th>          <td> 0.318</td> <th>  Prob(JB):          </th> <td>   0.741</td>\n",
              "</tr>\n",
              "<tr>\n",
              "  <th>Kurtosis:</th>      <td> 2.438</td> <th>  Cond. No.          </th> <td>2.29e+03</td>\n",
              "</tr>\n",
              "</table><br/><br/>Warnings:<br/>[1] Standard Errors assume that the covariance matrix of the errors is correctly specified.<br/>[2] The condition number is large, 2.29e+03. This might indicate that there are<br/>strong multicollinearity or other numerical problems."
            ],
            "text/plain": [
              "<class 'statsmodels.iolib.summary.Summary'>\n",
              "\"\"\"\n",
              "                            OLS Regression Results                            \n",
              "==============================================================================\n",
              "Dep. Variable:                AdSpend   R-squared:                       0.957\n",
              "Model:                            OLS   Adj. R-squared:                  0.955\n",
              "Method:                 Least Squares   F-statistic:                     401.0\n",
              "Date:                Sun, 10 May 2020   Prob (F-statistic):           9.44e-14\n",
              "Time:                        13:44:12   Log-Likelihood:                -31.321\n",
              "No. Observations:                  20   AIC:                             66.64\n",
              "Df Residuals:                      18   BIC:                             68.63\n",
              "Df Model:                           1                                         \n",
              "Covariance Type:            nonrobust                                         \n",
              "================================================================================\n",
              "                   coef    std err          t      P>|t|      [0.025      0.975]\n",
              "--------------------------------------------------------------------------------\n",
              "const          -10.0269      2.129     -4.710      0.000     -14.500      -5.554\n",
              "SalesRevenue     0.1450      0.007     20.024      0.000       0.130       0.160\n",
              "==============================================================================\n",
              "Omnibus:                        0.541   Durbin-Watson:                   1.746\n",
              "Prob(Omnibus):                  0.763   Jarque-Bera (JB):                0.600\n",
              "Skew:                           0.318   Prob(JB):                        0.741\n",
              "Kurtosis:                       2.438   Cond. No.                     2.29e+03\n",
              "==============================================================================\n",
              "\n",
              "Warnings:\n",
              "[1] Standard Errors assume that the covariance matrix of the errors is correctly specified.\n",
              "[2] The condition number is large, 2.29e+03. This might indicate that there are\n",
              "strong multicollinearity or other numerical problems.\n",
              "\"\"\""
            ]
          },
          "metadata": {
            "tags": []
          },
          "execution_count": 123
        }
      ]
    },
    {
      "cell_type": "code",
      "metadata": {
        "id": "IiO7Qs1tyjL3",
        "colab_type": "code",
        "colab": {
          "base_uri": "https://localhost:8080/",
          "height": 67
        },
        "outputId": "ea5378e9-31cb-4a96-e81b-209a09960c06"
      },
      "source": [
        "print('Params',model.params)\n"
      ],
      "execution_count": 124,
      "outputs": [
        {
          "output_type": "stream",
          "text": [
            "Params const          -10.026915\n",
            "SalesRevenue     0.144983\n",
            "dtype: float64\n"
          ],
          "name": "stdout"
        }
      ]
    },
    {
      "cell_type": "code",
      "metadata": {
        "id": "muJsav91y7EC",
        "colab_type": "code",
        "colab": {
          "base_uri": "https://localhost:8080/",
          "height": 67
        },
        "outputId": "2e8d87e9-3c81-4fa5-8c5a-225fd346995e"
      },
      "source": [
        "print('Pvalue', model.pvalues)\n"
      ],
      "execution_count": 125,
      "outputs": [
        {
          "output_type": "stream",
          "text": [
            "Pvalue const           1.746340e-04\n",
            "SalesRevenue    9.436382e-14\n",
            "dtype: float64\n"
          ],
          "name": "stdout"
        }
      ]
    },
    {
      "cell_type": "code",
      "metadata": {
        "id": "EY97Q5WWy9It",
        "colab_type": "code",
        "colab": {
          "base_uri": "https://localhost:8080/",
          "height": 34
        },
        "outputId": "30b71d43-2bc3-4145-eb34-ca606d4ab17f"
      },
      "source": [
        "print('R2', model.rsquared)"
      ],
      "execution_count": 126,
      "outputs": [
        {
          "output_type": "stream",
          "text": [
            "R2 0.9570357561406833\n"
          ],
          "name": "stdout"
        }
      ]
    },
    {
      "cell_type": "markdown",
      "metadata": {
        "id": "IlUACxUiNHTG",
        "colab_type": "text"
      },
      "source": [
        "R-squared value is 0.957, which is close to 1. Model is fit well.\n",
        "Adj R-Squared is 0.955 - features are relevant to one another.\n",
        "F-stat is used for accessing the significance of the overall regression model. here we Reject null hyp and linear relationship exsists between the variables."
      ]
    },
    {
      "cell_type": "markdown",
      "metadata": {
        "colab_type": "text",
        "id": "8jkM9uHSpomS"
      },
      "source": [
        "There are four **assumptions** associated with a linear regression model:\n",
        "\n",
        "*Linearity*: The relationship between X and the mean of Y is linear \n",
        "*Homoscedasticity*: The variance of residual is the same for any value of X.\n",
        "*Independence*: Observations are independent of each other.\n",
        "*Normality*: For any fixed value of X, Y is normally distributed. Here we have only one independent variable. "
      ]
    },
    {
      "cell_type": "code",
      "metadata": {
        "id": "YGtRmjKFSY_m",
        "colab_type": "code",
        "outputId": "09bb7d14-eb8c-4bf1-94c2-a20d4fbe9661",
        "colab": {
          "base_uri": "https://localhost:8080/",
          "height": 50
        }
      },
      "source": [
        "y_pred = results.predict(X_test)\n",
        "y_pred, y_test"
      ],
      "execution_count": 127,
      "outputs": [
        {
          "output_type": "execute_result",
          "data": {
            "text/plain": [
              "(array([405.72990174, 229.91361098, 225.40550096, 306.55148131]),\n",
              " array([371, 240, 238, 307]))"
            ]
          },
          "metadata": {
            "tags": []
          },
          "execution_count": 127
        }
      ]
    },
    {
      "cell_type": "code",
      "metadata": {
        "id": "Bz1rMkM7SZxH",
        "colab_type": "code",
        "outputId": "44b70842-7768-457f-f1ae-7e0229fb0f4c",
        "colab": {
          "base_uri": "https://localhost:8080/",
          "height": 34
        }
      },
      "source": [
        "residual = y_test - y_pred\n",
        "residual"
      ],
      "execution_count": 128,
      "outputs": [
        {
          "output_type": "execute_result",
          "data": {
            "text/plain": [
              "array([-34.72990174,  10.08638902,  12.59449904,   0.44851869])"
            ]
          },
          "metadata": {
            "tags": []
          },
          "execution_count": 128
        }
      ]
    },
    {
      "cell_type": "code",
      "metadata": {
        "id": "BKk2BLU8TDA3",
        "colab_type": "code",
        "outputId": "8c891a87-62f1-4cbf-ee30-6607e3e189fa",
        "colab": {
          "base_uri": "https://localhost:8080/",
          "height": 282
        }
      },
      "source": [
        "import seaborn as sns\n",
        "sns.distplot(residual)"
      ],
      "execution_count": 129,
      "outputs": [
        {
          "output_type": "execute_result",
          "data": {
            "text/plain": [
              "<matplotlib.axes._subplots.AxesSubplot at 0x7f1604f11eb8>"
            ]
          },
          "metadata": {
            "tags": []
          },
          "execution_count": 129
        },
        {
          "output_type": "display_data",
          "data": {
            "image/png": "[encoded data removed]",
            "text/plain": [
              "<Figure size 432x288 with 1 Axes>"
            ]
          },
          "metadata": {
            "tags": [],
            "needs_background": "light"
          }
        }
      ]
    },
    {
      "cell_type": "code",
      "metadata": {
        "id": "lYlWk4METT1T",
        "colab_type": "code",
        "outputId": "05a2ab50-c386-428c-8fd5-e9b030769905",
        "colab": {
          "base_uri": "https://localhost:8080/",
          "height": 214
        }
      },
      "source": [
        "import scipy as sp\n",
        "fig, ax = plt.subplots(figsize=(6,2.5))\n",
        "_, (__, ___, r) = sp.stats.probplot(residual, plot=ax, fit=True)"
      ],
      "execution_count": 130,
      "outputs": [
        {
          "output_type": "display_data",
          "data": {
            "image/png": "[encoded data removed]",
            "text/plain": [
              "<Figure size 432x180 with 1 Axes>"
            ]
          },
          "metadata": {
            "tags": [],
            "needs_background": "light"
          }
        }
      ]
    },
    {
      "cell_type": "markdown",
      "metadata": {
        "id": "D9WbLVCzTiVg",
        "colab_type": "text"
      },
      "source": [
        ""
      ]
    },
    {
      "cell_type": "code",
      "metadata": {
        "id": "EFGJDl41TkNP",
        "colab_type": "code",
        "outputId": "92260550-8231-4013-8bb5-18b624d59e0e",
        "colab": {
          "base_uri": "https://localhost:8080/",
          "height": 34
        }
      },
      "source": [
        "np.mean(residual) #not a near model distribution"
      ],
      "execution_count": 131,
      "outputs": [
        {
          "output_type": "execute_result",
          "data": {
            "text/plain": [
              "-2.900123749613364"
            ]
          },
          "metadata": {
            "tags": []
          },
          "execution_count": 131
        }
      ]
    },
    {
      "cell_type": "code",
      "metadata": {
        "id": "Vj65mscXUB5J",
        "colab_type": "code",
        "outputId": "aa5deda1-90bf-4954-e196-e8c71f97ac23",
        "colab": {
          "base_uri": "https://localhost:8080/",
          "height": 296
        }
      },
      "source": [
        "# Visualising the Train set results\n",
        "plt.scatter(X_train, y_train, color = 'red')\n",
        "plt.plot(X_train, regressor.predict(X_train), color = 'blue')\n",
        "plt.xlabel('Adspends')\n",
        "plt.ylabel('Sales Revenue')"
      ],
      "execution_count": 136,
      "outputs": [
        {
          "output_type": "execute_result",
          "data": {
            "text/plain": [
              "Text(0, 0.5, 'Sales Revenue')"
            ]
          },
          "metadata": {
            "tags": []
          },
          "execution_count": 136
        },
        {
          "output_type": "display_data",
          "data": {
            "image/png": "[encoded data removed]",
            "text/plain": [
              "<Figure size 432x288 with 1 Axes>"
            ]
          },
          "metadata": {
            "tags": [],
            "needs_background": "light"
          }
        }
      ]
    },
    {
      "cell_type": "code",
      "metadata": {
        "id": "d0MXL8cjtm9Y",
        "colab_type": "code",
        "colab": {
          "base_uri": "https://localhost:8080/",
          "height": 279
        },
        "outputId": "2a544692-4e97-43ba-cb5c-8a4e6e22943a"
      },
      "source": [
        "# Visualising the Test set results\n",
        "plt.scatter(X_test, y_test, color = 'red')\n",
        "plt.plot(X_train, regressor.predict(X_train), color = 'blue')\n",
        "plt.xlabel('Adspends')\n",
        "plt.ylabel('Sales Revenue')\n",
        "plt.show()"
      ],
      "execution_count": 135,
      "outputs": [
        {
          "output_type": "display_data",
          "data": {
            "image/png": "[encoded data removed]",
            "text/plain": [
              "<Figure size 432x288 with 1 Axes>"
            ]
          },
          "metadata": {
            "tags": [],
            "needs_background": "light"
          }
        }
      ]
    },
    {
      "cell_type": "markdown",
      "metadata": {
        "id": "ya-H23oLqrgF",
        "colab_type": "text"
      },
      "source": [
        "Using the model built to predict for an AdSpend = 50"
      ]
    },
    {
      "cell_type": "code",
      "metadata": {
        "id": "3a8l_Zxakq1B",
        "colab_type": "code",
        "outputId": "e7d4f50e-33fd-4c9b-fad1-c4327aac9897",
        "colab": {
          "base_uri": "https://localhost:8080/",
          "height": 50
        }
      },
      "source": [
        "def new_pred(a):\n",
        "  a = [a]\n",
        "  a = np.array(a) # convert to a numpy array\n",
        "  a = np.expand_dims(a, 0) # change shape from (8,) to (1,8)\n",
        "  pred = regressor.predict(a) # voila!\n",
        "  print(\"The predicted sales revenue is \", pred)\n",
        "\n",
        "new_pred(int(input(\"Enter the advertisement expense \")))"
      ],
      "execution_count": 137,
      "outputs": [
        {
          "output_type": "stream",
          "text": [
            "Enter the advertisement expense 50\n",
            "The predicted sales revenue is  [407.91317145]\n"
          ],
          "name": "stdout"
        }
      ]
    }
  ]
}