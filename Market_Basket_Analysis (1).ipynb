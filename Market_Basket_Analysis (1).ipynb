{
  "nbformat": 4,
  "nbformat_minor": 0,
  "metadata": {
    "colab": {
      "name": "Market Basket Analysis.ipynb",
      "provenance": [],
      "collapsed_sections": [
        "mb4nNYHqyfAb"
      ],
      "toc_visible": true
    },
    "kernelspec": {
      "name": "python3",
      "display_name": "Python 3"
    }
  },
  "cells": [
    {
      "cell_type": "markdown",
      "metadata": {
        "id": "FVwMFYNgpgrB",
        "colab_type": "text"
      },
      "source": [
        "\n",
        " **Data Science and Machine Learning Combo**\n",
        "\n",
        "Submitted by: Soundarya Lakshmi Arunachalam\n",
        "\n",
        "Batch: DSP 20\n",
        "\n",
        "Academic Year: 2019 - 2020"
      ]
    },
    {
      "cell_type": "markdown",
      "metadata": {
        "id": "TpSwtS4ZEQ4N",
        "colab_type": "text"
      },
      "source": [
        "# Introduction"
      ]
    },
    {
      "cell_type": "markdown",
      "metadata": {
        "id": "8f6-ZyjmPXwz",
        "colab_type": "text"
      },
      "source": [
        "A very classic problem faced by such e-commerce websites is understanding the purchase behaviour of a customer. The lifeblood of retail businesses has always been sales.\n",
        "\n",
        "**Association Rule Mining**\n",
        " \n",
        "Association Rule Mining is used when you want to find an association between different objects in a set, find frequent patterns in a transaction database, relational databases or any other information repository. The applications of Association Rule Mining are found in Marketing, Basket Data Analysis (or Market Basket Analysis) in retailing, clustering and classification.\n",
        "\n",
        "The most common approach to find these patterns is Market Basket Analysis, which is a key technique used by large retailers like Amazon, Flipkart, etc to analyze customer buying habits by finding associations between the different items that customers place in their “shopping baskets”. The discovery of these associations can help retailers develop marketing strategies by gaining insight into which items are frequently purchased together by customers. The strategies may include:\n",
        "\n",
        "Changing the store layout according to trends\n",
        "Customer behavior analysis\n",
        "Catalog design\n",
        "Cross marketing on online stores\n",
        "What are the trending items customers buy\n",
        "Customized emails with add-on sales etc..\n",
        "\n",
        "Online retailers and publishers can use this type of analysis to:\n",
        "\n",
        "Inform the placement of content items on their media sites, or products in their catalog\n",
        "Deliver targeted marketing (e.g. emailing customers who bought products specific products with other products and offers on those products that are likely to be interesting to them.)\n",
        "\n",
        "**Difference between Association and Recommendation**\n",
        " \n",
        "Association rules do not extract an individual's preference, rather find relationships between sets of elements of every distinct transaction. This is what makes them different than Collaborative filtering which is used in recommendation systems.\n",
        "To understand it better, Amazon page is the example\n",
        "\n",
        "“Frequently Bought Together” → Association\n",
        "\n",
        "“Customers who bought this item also bought” → Recommendation\n",
        " the basis of this technique, We’re really just interested in learning how often things go together and how to predict when things will go together.\n",
        " \n",
        " In this project, we will try and explore the basic information about the dataset given. The dataset for this project is a relational set of files describing customers' orders over time.\n",
        "\n",
        "**Objective:**\n",
        "\n",
        "The goal of the project is to predict which products will be in a user's next order.\n",
        "The entire process of analyzing the shopping trends of customers is called ‘Market Basket Analysis’. \n",
        " It is an analyzing technique based on the idea that if we buy an item then we are bound to buy or not-buy a group (or single) items. For example, if a customer is buying bread then the chances of him/her buying jam is more. This is represented by the following equation:\n",
        "  A    =>     B\n",
        "{if}        {then}\n",
        "\n",
        "**Association Mining Rule**\n",
        "\n",
        "This equation is called the Association Mining Rule. This can be thought of as an IF-THEN relationship. If item A is bought by a customer then the chances of item B being bought by the same user in the same transaction is found out. Here A is called the Antecedent and B the consequent. Antecedents are primary item that are found in the basket and consequents are the items that are found with an antecedent/group of antecedents. The metrics for measuring association are:\n",
        "\n",
        "**Support**: It tells us about the combination of items bought together frequently. It gives the part of transactions that contain both A and B.\n",
        "support = freq(A,B)/N\n",
        "We can filter out the less frequently occurring items-sets using support.\n",
        "\n",
        "**Confidence**: It tells us how frequently the items A and B are bought together, for the no. of times A is bought.\n",
        "conf = freq(A,B)/freq(A)\n",
        "\n",
        "**Lift**: It indicates the strength of a rule over the randomness of A and B being bought together. It basically measures the strength of any association rule(we will talk about association rules below).\n",
        "lift = supp / (supp(A)*supp(B))\n",
        "\n",
        "More the lift more is the strength of the rule. If the lift is 3 for A -> B then it means if we buy A, the chances of buying B is 3 times.\n",
        "\n",
        "So the process is to make rules for each item-set to figure out the metrics of its association so as to decide whether to include it in the analysis or not. But consider a large data-set having millions of user and transactions, thereby producing a large amount of item-sets. So to make rules for all of these would be a humongous task. This is where Apriori algorithm enters the scene.\n",
        "Apriori algorithm uses frequently bought item-sets to generate association rules. It is built on the idea that the subset of a frequently bought items-set is also a frequently bought item-set. Frequently bought item-sets are decided if their support value is above a minimum threshold support value."
      ]
    },
    {
      "cell_type": "markdown",
      "metadata": {
        "id": "-bwmIhHhEZw5",
        "colab_type": "text"
      },
      "source": [
        "# Importing libraries"
      ]
    },
    {
      "cell_type": "code",
      "metadata": {
        "id": "5jVQnn0upO2Q",
        "colab_type": "code",
        "colab": {
          "base_uri": "https://localhost:8080/",
          "height": 121
        },
        "outputId": "68fbed87-6971-4f51-ce3a-ace8053b3c0d"
      },
      "source": [
        "from google.colab import drive\n",
        "drive.mount('/content/drive')"
      ],
      "execution_count": null,
      "outputs": [
        {
          "output_type": "stream",
          "text": [
            "Go to this URL in a browser: https://accounts.google.com/o/oauth2/auth?client_id=947318989803-6bn6qk8qdgf4n4g3pfee6491hc0brc4i.apps.googleusercontent.com&redirect_uri=urn%3aietf%3awg%3aoauth%3a2.0%3aoob&scope=email%20https%3a%2f%2fwww.googleapis.com%2fauth%2fdocs.test%20https%3a%2f%2fwww.googleapis.com%2fauth%2fdrive%20https%3a%2f%2fwww.googleapis.com%2fauth%2fdrive.photos.readonly%20https%3a%2f%2fwww.googleapis.com%2fauth%2fpeopleapi.readonly&response_type=code\n",
            "\n",
            "Enter your authorization code:\n",
            "··········\n",
            "Mounted at /content/drive\n"
          ],
          "name": "stdout"
        }
      ]
    },
    {
      "cell_type": "code",
      "metadata": {
        "id": "cbCMXFQ8p424",
        "colab_type": "code",
        "colab": {
          "base_uri": "https://localhost:8080/",
          "height": 70
        },
        "outputId": "2bca9586-39fe-421d-b70f-a917f3ede9af"
      },
      "source": [
        "import numpy as np # linear algebra\n",
        "import pandas as pd # data processing, CSV file I/O (e.g. pd.read_csv)\n",
        "import matplotlib.pyplot as plt\n",
        "import seaborn as sns\n",
        "import matplotlib\n",
        "from sklearn.metrics import classification_report\n",
        "from sklearn.model_selection import train_test_split\n",
        "\n",
        "from mlxtend.preprocessing import TransactionEncoder\n",
        "from mlxtend.frequent_patterns import apriori\n",
        "from mlxtend.frequent_patterns import association_rules\n",
        "\n",
        "%matplotlib inline"
      ],
      "execution_count": null,
      "outputs": [
        {
          "output_type": "stream",
          "text": [
            "/usr/local/lib/python3.6/dist-packages/statsmodels/tools/_testing.py:19: FutureWarning: pandas.util.testing is deprecated. Use the functions in the public API at pandas.testing instead.\n",
            "  import pandas.util.testing as tm\n"
          ],
          "name": "stderr"
        }
      ]
    },
    {
      "cell_type": "markdown",
      "metadata": {
        "id": "cI12QQ6mEgSt",
        "colab_type": "text"
      },
      "source": [
        "# Reading input files"
      ]
    },
    {
      "cell_type": "markdown",
      "metadata": {
        "id": "23cQpvJZs_au",
        "colab_type": "text"
      },
      "source": [
        "Reading all the files as DataFrame"
      ]
    },
    {
      "cell_type": "code",
      "metadata": {
        "id": "trjsq6Ser6x3",
        "colab_type": "code",
        "colab": {}
      },
      "source": [
        "aisles = pd.read_csv(\"/content/drive/My Drive/MLP project/aisles.csv\")\n",
        "departments = pd.read_csv(\"/content/drive/My Drive/MLP project/departments.csv\")\n",
        "order_products_prior = pd.read_csv(\"/content/drive/My Drive/MLP project/order_products_prior.csv\")\n",
        "order_products_test = pd.read_csv(\"/content/drive/My Drive/MLP project/order_products_test.csv\")\n",
        "order_products_train = pd.read_csv(\"/content/drive/My Drive/MLP project/order_products_train.csv\")\n",
        "orders = pd.read_csv(\"/content/drive/My Drive/MLP project/orders.csv\")\n",
        "products = pd.read_csv(\"/content/drive/My Drive/MLP project/products.csv\")"
      ],
      "execution_count": null,
      "outputs": []
    },
    {
      "cell_type": "code",
      "metadata": {
        "id": "FnMeBDjljOjw",
        "colab_type": "code",
        "colab": {
          "base_uri": "https://localhost:8080/",
          "height": 34
        },
        "outputId": "dbd5aea8-41f7-4617-ef72-edc466952886"
      },
      "source": [
        "orders.eval_set.unique()"
      ],
      "execution_count": null,
      "outputs": [
        {
          "output_type": "execute_result",
          "data": {
            "text/plain": [
              "array(['prior', 'train', 'test'], dtype=object)"
            ]
          },
          "metadata": {
            "tags": []
          },
          "execution_count": 3
        }
      ]
    },
    {
      "cell_type": "code",
      "metadata": {
        "id": "1p1w-n7Otctj",
        "colab_type": "code",
        "colab": {
          "base_uri": "https://localhost:8080/",
          "height": 195
        },
        "outputId": "1874fcc4-368e-4d09-e6f3-1f35b13b74df"
      },
      "source": [
        "orders.head()"
      ],
      "execution_count": null,
      "outputs": [
        {
          "output_type": "execute_result",
          "data": {
            "text/html": [
              "<div>\n",
              "<style scoped>\n",
              "    .dataframe tbody tr th:only-of-type {\n",
              "        vertical-align: middle;\n",
              "    }\n",
              "\n",
              "    .dataframe tbody tr th {\n",
              "        vertical-align: top;\n",
              "    }\n",
              "\n",
              "    .dataframe thead th {\n",
              "        text-align: right;\n",
              "    }\n",
              "</style>\n",
              "<table border=\"1\" class=\"dataframe\">\n",
              "  <thead>\n",
              "    <tr style=\"text-align: right;\">\n",
              "      <th></th>\n",
              "      <th>Unnamed: 0</th>\n",
              "      <th>days_since_prior_order</th>\n",
              "      <th>eval_set</th>\n",
              "      <th>order_dow</th>\n",
              "      <th>order_hour_of_day</th>\n",
              "      <th>order_id</th>\n",
              "      <th>order_number</th>\n",
              "      <th>user_id</th>\n",
              "    </tr>\n",
              "  </thead>\n",
              "  <tbody>\n",
              "    <tr>\n",
              "      <th>0</th>\n",
              "      <td>0</td>\n",
              "      <td>NaN</td>\n",
              "      <td>prior</td>\n",
              "      <td>2</td>\n",
              "      <td>8</td>\n",
              "      <td>2539329</td>\n",
              "      <td>1</td>\n",
              "      <td>1</td>\n",
              "    </tr>\n",
              "    <tr>\n",
              "      <th>1</th>\n",
              "      <td>1</td>\n",
              "      <td>15.0</td>\n",
              "      <td>prior</td>\n",
              "      <td>3</td>\n",
              "      <td>7</td>\n",
              "      <td>2398795</td>\n",
              "      <td>2</td>\n",
              "      <td>1</td>\n",
              "    </tr>\n",
              "    <tr>\n",
              "      <th>2</th>\n",
              "      <td>2</td>\n",
              "      <td>21.0</td>\n",
              "      <td>prior</td>\n",
              "      <td>3</td>\n",
              "      <td>12</td>\n",
              "      <td>473747</td>\n",
              "      <td>3</td>\n",
              "      <td>1</td>\n",
              "    </tr>\n",
              "    <tr>\n",
              "      <th>3</th>\n",
              "      <td>3</td>\n",
              "      <td>29.0</td>\n",
              "      <td>prior</td>\n",
              "      <td>4</td>\n",
              "      <td>7</td>\n",
              "      <td>2254736</td>\n",
              "      <td>4</td>\n",
              "      <td>1</td>\n",
              "    </tr>\n",
              "    <tr>\n",
              "      <th>4</th>\n",
              "      <td>4</td>\n",
              "      <td>28.0</td>\n",
              "      <td>prior</td>\n",
              "      <td>4</td>\n",
              "      <td>15</td>\n",
              "      <td>431534</td>\n",
              "      <td>5</td>\n",
              "      <td>1</td>\n",
              "    </tr>\n",
              "  </tbody>\n",
              "</table>\n",
              "</div>"
            ],
            "text/plain": [
              "   Unnamed: 0  days_since_prior_order eval_set  ...  order_id  order_number  user_id\n",
              "0           0                     NaN    prior  ...   2539329             1        1\n",
              "1           1                    15.0    prior  ...   2398795             2        1\n",
              "2           2                    21.0    prior  ...    473747             3        1\n",
              "3           3                    29.0    prior  ...   2254736             4        1\n",
              "4           4                    28.0    prior  ...    431534             5        1\n",
              "\n",
              "[5 rows x 8 columns]"
            ]
          },
          "metadata": {
            "tags": []
          },
          "execution_count": 38
        }
      ]
    },
    {
      "cell_type": "markdown",
      "metadata": {
        "id": "929v9q76_4pA",
        "colab_type": "text"
      },
      "source": [
        "**orders**\n",
        "This file gives a list of all orders we have in the dataset. 1 row per order. For example, we can see that user 1 has 11 orders, 1 of which is in the train set, and 10 of which are prior orders. The orders.csv doesn’t tell us about which products were ordered. This is contained in the order_products.csv"
      ]
    },
    {
      "cell_type": "code",
      "metadata": {
        "id": "qF4v-fnZtqsg",
        "colab_type": "code",
        "colab": {
          "base_uri": "https://localhost:8080/",
          "height": 195
        },
        "outputId": "f1739ecf-7dd0-412c-fea9-6ad19af646f4"
      },
      "source": [
        "order_products_train.head()"
      ],
      "execution_count": null,
      "outputs": [
        {
          "output_type": "execute_result",
          "data": {
            "text/html": [
              "<div>\n",
              "<style scoped>\n",
              "    .dataframe tbody tr th:only-of-type {\n",
              "        vertical-align: middle;\n",
              "    }\n",
              "\n",
              "    .dataframe tbody tr th {\n",
              "        vertical-align: top;\n",
              "    }\n",
              "\n",
              "    .dataframe thead th {\n",
              "        text-align: right;\n",
              "    }\n",
              "</style>\n",
              "<table border=\"1\" class=\"dataframe\">\n",
              "  <thead>\n",
              "    <tr style=\"text-align: right;\">\n",
              "      <th></th>\n",
              "      <th>Unnamed: 0</th>\n",
              "      <th>order_id</th>\n",
              "      <th>product_id</th>\n",
              "      <th>add_to_cart_order</th>\n",
              "      <th>reordered</th>\n",
              "    </tr>\n",
              "  </thead>\n",
              "  <tbody>\n",
              "    <tr>\n",
              "      <th>0</th>\n",
              "      <td>8</td>\n",
              "      <td>36</td>\n",
              "      <td>39612</td>\n",
              "      <td>1</td>\n",
              "      <td>0</td>\n",
              "    </tr>\n",
              "    <tr>\n",
              "      <th>1</th>\n",
              "      <td>9</td>\n",
              "      <td>36</td>\n",
              "      <td>19660</td>\n",
              "      <td>2</td>\n",
              "      <td>1</td>\n",
              "    </tr>\n",
              "    <tr>\n",
              "      <th>2</th>\n",
              "      <td>10</td>\n",
              "      <td>36</td>\n",
              "      <td>49235</td>\n",
              "      <td>3</td>\n",
              "      <td>0</td>\n",
              "    </tr>\n",
              "    <tr>\n",
              "      <th>3</th>\n",
              "      <td>11</td>\n",
              "      <td>36</td>\n",
              "      <td>43086</td>\n",
              "      <td>4</td>\n",
              "      <td>1</td>\n",
              "    </tr>\n",
              "    <tr>\n",
              "      <th>4</th>\n",
              "      <td>12</td>\n",
              "      <td>36</td>\n",
              "      <td>46620</td>\n",
              "      <td>5</td>\n",
              "      <td>1</td>\n",
              "    </tr>\n",
              "  </tbody>\n",
              "</table>\n",
              "</div>"
            ],
            "text/plain": [
              "   Unnamed: 0  order_id  product_id  add_to_cart_order  reordered\n",
              "0           8        36       39612                  1          0\n",
              "1           9        36       19660                  2          1\n",
              "2          10        36       49235                  3          0\n",
              "3          11        36       43086                  4          1\n",
              "4          12        36       46620                  5          1"
            ]
          },
          "metadata": {
            "tags": []
          },
          "execution_count": 39
        }
      ]
    },
    {
      "cell_type": "markdown",
      "metadata": {
        "id": "0xSaiFWL_Lp1",
        "colab_type": "text"
      },
      "source": [
        "**order_products_train**\n",
        "This file gives us information about which products (product_id) were ordered. It also contains information of the order (add_to_cart_order) in which the products were put into the cart and information of whether this product is a re-order(1) or not(0).\n",
        "\n",
        "For example, we see below that order_id 1 had 8 products, 4 of which are reorders.\n",
        "\n",
        "Still we don’t know what these products are. This information is in the products.csv"
      ]
    },
    {
      "cell_type": "code",
      "metadata": {
        "id": "3CqnfJkKtg27",
        "colab_type": "code",
        "colab": {
          "base_uri": "https://localhost:8080/",
          "height": 195
        },
        "outputId": "0e6270f6-9b3b-46e9-e828-32426a787b2c"
      },
      "source": [
        "products.head()"
      ],
      "execution_count": null,
      "outputs": [
        {
          "output_type": "execute_result",
          "data": {
            "text/html": [
              "<div>\n",
              "<style scoped>\n",
              "    .dataframe tbody tr th:only-of-type {\n",
              "        vertical-align: middle;\n",
              "    }\n",
              "\n",
              "    .dataframe tbody tr th {\n",
              "        vertical-align: top;\n",
              "    }\n",
              "\n",
              "    .dataframe thead th {\n",
              "        text-align: right;\n",
              "    }\n",
              "</style>\n",
              "<table border=\"1\" class=\"dataframe\">\n",
              "  <thead>\n",
              "    <tr style=\"text-align: right;\">\n",
              "      <th></th>\n",
              "      <th>product_id</th>\n",
              "      <th>product_name</th>\n",
              "      <th>aisle_id</th>\n",
              "      <th>department_id</th>\n",
              "    </tr>\n",
              "  </thead>\n",
              "  <tbody>\n",
              "    <tr>\n",
              "      <th>0</th>\n",
              "      <td>1</td>\n",
              "      <td>Chocolate Sandwich Cookies</td>\n",
              "      <td>61</td>\n",
              "      <td>19</td>\n",
              "    </tr>\n",
              "    <tr>\n",
              "      <th>1</th>\n",
              "      <td>2</td>\n",
              "      <td>All-Seasons Salt</td>\n",
              "      <td>104</td>\n",
              "      <td>13</td>\n",
              "    </tr>\n",
              "    <tr>\n",
              "      <th>2</th>\n",
              "      <td>3</td>\n",
              "      <td>Robust Golden Unsweetened Oolong Tea</td>\n",
              "      <td>94</td>\n",
              "      <td>7</td>\n",
              "    </tr>\n",
              "    <tr>\n",
              "      <th>3</th>\n",
              "      <td>4</td>\n",
              "      <td>Smart Ones Classic Favorites Mini Rigatoni Wit...</td>\n",
              "      <td>38</td>\n",
              "      <td>1</td>\n",
              "    </tr>\n",
              "    <tr>\n",
              "      <th>4</th>\n",
              "      <td>5</td>\n",
              "      <td>Green Chile Anytime Sauce</td>\n",
              "      <td>5</td>\n",
              "      <td>13</td>\n",
              "    </tr>\n",
              "  </tbody>\n",
              "</table>\n",
              "</div>"
            ],
            "text/plain": [
              "   product_id  ... department_id\n",
              "0           1  ...            19\n",
              "1           2  ...            13\n",
              "2           3  ...             7\n",
              "3           4  ...             1\n",
              "4           5  ...            13\n",
              "\n",
              "[5 rows x 4 columns]"
            ]
          },
          "metadata": {
            "tags": []
          },
          "execution_count": 40
        }
      ]
    },
    {
      "cell_type": "markdown",
      "metadata": {
        "id": "zqhyxmSJAY32",
        "colab_type": "text"
      },
      "source": [
        "**products** This file contains the names of the products with their corresponding product_id. Furthermore the aisle and deparment are included."
      ]
    },
    {
      "cell_type": "code",
      "metadata": {
        "id": "CGM0g8yZtlUA",
        "colab_type": "code",
        "colab": {
          "base_uri": "https://localhost:8080/",
          "height": 195
        },
        "outputId": "138b1ac3-3ee7-4883-8bee-d40151b875f3"
      },
      "source": [
        "order_products_prior.head()"
      ],
      "execution_count": null,
      "outputs": [
        {
          "output_type": "execute_result",
          "data": {
            "text/html": [
              "<div>\n",
              "<style scoped>\n",
              "    .dataframe tbody tr th:only-of-type {\n",
              "        vertical-align: middle;\n",
              "    }\n",
              "\n",
              "    .dataframe tbody tr th {\n",
              "        vertical-align: top;\n",
              "    }\n",
              "\n",
              "    .dataframe thead th {\n",
              "        text-align: right;\n",
              "    }\n",
              "</style>\n",
              "<table border=\"1\" class=\"dataframe\">\n",
              "  <thead>\n",
              "    <tr style=\"text-align: right;\">\n",
              "      <th></th>\n",
              "      <th>order_id</th>\n",
              "      <th>product_id</th>\n",
              "      <th>add_to_cart_order</th>\n",
              "      <th>reordered</th>\n",
              "    </tr>\n",
              "  </thead>\n",
              "  <tbody>\n",
              "    <tr>\n",
              "      <th>0</th>\n",
              "      <td>2</td>\n",
              "      <td>33120</td>\n",
              "      <td>1</td>\n",
              "      <td>1</td>\n",
              "    </tr>\n",
              "    <tr>\n",
              "      <th>1</th>\n",
              "      <td>2</td>\n",
              "      <td>28985</td>\n",
              "      <td>2</td>\n",
              "      <td>1</td>\n",
              "    </tr>\n",
              "    <tr>\n",
              "      <th>2</th>\n",
              "      <td>2</td>\n",
              "      <td>9327</td>\n",
              "      <td>3</td>\n",
              "      <td>0</td>\n",
              "    </tr>\n",
              "    <tr>\n",
              "      <th>3</th>\n",
              "      <td>2</td>\n",
              "      <td>45918</td>\n",
              "      <td>4</td>\n",
              "      <td>1</td>\n",
              "    </tr>\n",
              "    <tr>\n",
              "      <th>4</th>\n",
              "      <td>2</td>\n",
              "      <td>30035</td>\n",
              "      <td>5</td>\n",
              "      <td>0</td>\n",
              "    </tr>\n",
              "  </tbody>\n",
              "</table>\n",
              "</div>"
            ],
            "text/plain": [
              "   order_id  product_id  add_to_cart_order  reordered\n",
              "0         2       33120                  1          1\n",
              "1         2       28985                  2          1\n",
              "2         2        9327                  3          0\n",
              "3         2       45918                  4          1\n",
              "4         2       30035                  5          0"
            ]
          },
          "metadata": {
            "tags": []
          },
          "execution_count": 41
        }
      ]
    },
    {
      "cell_type": "markdown",
      "metadata": {
        "id": "dY7yem5rAows",
        "colab_type": "text"
      },
      "source": [
        "**order_products_prior** This file is structurally the same as the other_products_train.csv."
      ]
    },
    {
      "cell_type": "code",
      "metadata": {
        "id": "sKM7uYdMtt2U",
        "colab_type": "code",
        "colab": {
          "base_uri": "https://localhost:8080/",
          "height": 195
        },
        "outputId": "8a7cd9c2-9827-402e-e6cc-1eab5327dc01"
      },
      "source": [
        "order_products_test.head()"
      ],
      "execution_count": null,
      "outputs": [
        {
          "output_type": "execute_result",
          "data": {
            "text/html": [
              "<div>\n",
              "<style scoped>\n",
              "    .dataframe tbody tr th:only-of-type {\n",
              "        vertical-align: middle;\n",
              "    }\n",
              "\n",
              "    .dataframe tbody tr th {\n",
              "        vertical-align: top;\n",
              "    }\n",
              "\n",
              "    .dataframe thead th {\n",
              "        text-align: right;\n",
              "    }\n",
              "</style>\n",
              "<table border=\"1\" class=\"dataframe\">\n",
              "  <thead>\n",
              "    <tr style=\"text-align: right;\">\n",
              "      <th></th>\n",
              "      <th>Unnamed: 0</th>\n",
              "      <th>order_id</th>\n",
              "      <th>product_id</th>\n",
              "      <th>add_to_cart_order</th>\n",
              "      <th>reordered</th>\n",
              "    </tr>\n",
              "  </thead>\n",
              "  <tbody>\n",
              "    <tr>\n",
              "      <th>0</th>\n",
              "      <td>0</td>\n",
              "      <td>1</td>\n",
              "      <td>49302</td>\n",
              "      <td>1</td>\n",
              "      <td>1</td>\n",
              "    </tr>\n",
              "    <tr>\n",
              "      <th>1</th>\n",
              "      <td>1</td>\n",
              "      <td>1</td>\n",
              "      <td>11109</td>\n",
              "      <td>2</td>\n",
              "      <td>1</td>\n",
              "    </tr>\n",
              "    <tr>\n",
              "      <th>2</th>\n",
              "      <td>2</td>\n",
              "      <td>1</td>\n",
              "      <td>10246</td>\n",
              "      <td>3</td>\n",
              "      <td>0</td>\n",
              "    </tr>\n",
              "    <tr>\n",
              "      <th>3</th>\n",
              "      <td>3</td>\n",
              "      <td>1</td>\n",
              "      <td>49683</td>\n",
              "      <td>4</td>\n",
              "      <td>0</td>\n",
              "    </tr>\n",
              "    <tr>\n",
              "      <th>4</th>\n",
              "      <td>4</td>\n",
              "      <td>1</td>\n",
              "      <td>43633</td>\n",
              "      <td>5</td>\n",
              "      <td>1</td>\n",
              "    </tr>\n",
              "  </tbody>\n",
              "</table>\n",
              "</div>"
            ],
            "text/plain": [
              "   Unnamed: 0  order_id  product_id  add_to_cart_order  reordered\n",
              "0           0         1       49302                  1          1\n",
              "1           1         1       11109                  2          1\n",
              "2           2         1       10246                  3          0\n",
              "3           3         1       49683                  4          0\n",
              "4           4         1       43633                  5          1"
            ]
          },
          "metadata": {
            "tags": []
          },
          "execution_count": 42
        }
      ]
    },
    {
      "cell_type": "code",
      "metadata": {
        "id": "fk9zFDTgA1iT",
        "colab_type": "code",
        "colab": {
          "base_uri": "https://localhost:8080/",
          "height": 195
        },
        "outputId": "490b481e-9951-424e-e8fb-4e21a9f70ae0"
      },
      "source": [
        "aisles.head()"
      ],
      "execution_count": null,
      "outputs": [
        {
          "output_type": "execute_result",
          "data": {
            "text/html": [
              "<div>\n",
              "<style scoped>\n",
              "    .dataframe tbody tr th:only-of-type {\n",
              "        vertical-align: middle;\n",
              "    }\n",
              "\n",
              "    .dataframe tbody tr th {\n",
              "        vertical-align: top;\n",
              "    }\n",
              "\n",
              "    .dataframe thead th {\n",
              "        text-align: right;\n",
              "    }\n",
              "</style>\n",
              "<table border=\"1\" class=\"dataframe\">\n",
              "  <thead>\n",
              "    <tr style=\"text-align: right;\">\n",
              "      <th></th>\n",
              "      <th>aisle_id</th>\n",
              "      <th>aisle</th>\n",
              "    </tr>\n",
              "  </thead>\n",
              "  <tbody>\n",
              "    <tr>\n",
              "      <th>0</th>\n",
              "      <td>1</td>\n",
              "      <td>prepared soups salads</td>\n",
              "    </tr>\n",
              "    <tr>\n",
              "      <th>1</th>\n",
              "      <td>2</td>\n",
              "      <td>specialty cheeses</td>\n",
              "    </tr>\n",
              "    <tr>\n",
              "      <th>2</th>\n",
              "      <td>3</td>\n",
              "      <td>energy granola bars</td>\n",
              "    </tr>\n",
              "    <tr>\n",
              "      <th>3</th>\n",
              "      <td>4</td>\n",
              "      <td>instant foods</td>\n",
              "    </tr>\n",
              "    <tr>\n",
              "      <th>4</th>\n",
              "      <td>5</td>\n",
              "      <td>marinades meat preparation</td>\n",
              "    </tr>\n",
              "  </tbody>\n",
              "</table>\n",
              "</div>"
            ],
            "text/plain": [
              "   aisle_id                       aisle\n",
              "0         1       prepared soups salads\n",
              "1         2           specialty cheeses\n",
              "2         3         energy granola bars\n",
              "3         4               instant foods\n",
              "4         5  marinades meat preparation"
            ]
          },
          "metadata": {
            "tags": []
          },
          "execution_count": 43
        }
      ]
    },
    {
      "cell_type": "markdown",
      "metadata": {
        "id": "uzc0J_mkA5u-",
        "colab_type": "text"
      },
      "source": [
        "**aisles** This file contains the different aisle id and the aisle."
      ]
    },
    {
      "cell_type": "code",
      "metadata": {
        "id": "75a9sGmSBCBv",
        "colab_type": "code",
        "colab": {
          "base_uri": "https://localhost:8080/",
          "height": 195
        },
        "outputId": "9392f64a-d94f-471a-90b4-79a129d3314c"
      },
      "source": [
        "departments.head()"
      ],
      "execution_count": null,
      "outputs": [
        {
          "output_type": "execute_result",
          "data": {
            "text/html": [
              "<div>\n",
              "<style scoped>\n",
              "    .dataframe tbody tr th:only-of-type {\n",
              "        vertical-align: middle;\n",
              "    }\n",
              "\n",
              "    .dataframe tbody tr th {\n",
              "        vertical-align: top;\n",
              "    }\n",
              "\n",
              "    .dataframe thead th {\n",
              "        text-align: right;\n",
              "    }\n",
              "</style>\n",
              "<table border=\"1\" class=\"dataframe\">\n",
              "  <thead>\n",
              "    <tr style=\"text-align: right;\">\n",
              "      <th></th>\n",
              "      <th>department_id</th>\n",
              "      <th>department</th>\n",
              "    </tr>\n",
              "  </thead>\n",
              "  <tbody>\n",
              "    <tr>\n",
              "      <th>0</th>\n",
              "      <td>1</td>\n",
              "      <td>frozen</td>\n",
              "    </tr>\n",
              "    <tr>\n",
              "      <th>1</th>\n",
              "      <td>2</td>\n",
              "      <td>other</td>\n",
              "    </tr>\n",
              "    <tr>\n",
              "      <th>2</th>\n",
              "      <td>3</td>\n",
              "      <td>bakery</td>\n",
              "    </tr>\n",
              "    <tr>\n",
              "      <th>3</th>\n",
              "      <td>4</td>\n",
              "      <td>produce</td>\n",
              "    </tr>\n",
              "    <tr>\n",
              "      <th>4</th>\n",
              "      <td>5</td>\n",
              "      <td>alcohol</td>\n",
              "    </tr>\n",
              "  </tbody>\n",
              "</table>\n",
              "</div>"
            ],
            "text/plain": [
              "   department_id department\n",
              "0              1     frozen\n",
              "1              2      other\n",
              "2              3     bakery\n",
              "3              4    produce\n",
              "4              5    alcohol"
            ]
          },
          "metadata": {
            "tags": []
          },
          "execution_count": 44
        }
      ]
    },
    {
      "cell_type": "markdown",
      "metadata": {
        "id": "dpa9xvZsBRvv",
        "colab_type": "text"
      },
      "source": [
        "**departments** This file contains the department id and the department"
      ]
    },
    {
      "cell_type": "code",
      "metadata": {
        "id": "F7qvyVt4vkas",
        "colab_type": "code",
        "colab": {
          "base_uri": "https://localhost:8080/",
          "height": 195
        },
        "outputId": "11d69915-17a0-4078-e480-58b1952a6aba"
      },
      "source": [
        "orders.head()"
      ],
      "execution_count": null,
      "outputs": [
        {
          "output_type": "execute_result",
          "data": {
            "text/html": [
              "<div>\n",
              "<style scoped>\n",
              "    .dataframe tbody tr th:only-of-type {\n",
              "        vertical-align: middle;\n",
              "    }\n",
              "\n",
              "    .dataframe tbody tr th {\n",
              "        vertical-align: top;\n",
              "    }\n",
              "\n",
              "    .dataframe thead th {\n",
              "        text-align: right;\n",
              "    }\n",
              "</style>\n",
              "<table border=\"1\" class=\"dataframe\">\n",
              "  <thead>\n",
              "    <tr style=\"text-align: right;\">\n",
              "      <th></th>\n",
              "      <th>Unnamed: 0</th>\n",
              "      <th>days_since_prior_order</th>\n",
              "      <th>eval_set</th>\n",
              "      <th>order_dow</th>\n",
              "      <th>order_hour_of_day</th>\n",
              "      <th>order_id</th>\n",
              "      <th>order_number</th>\n",
              "      <th>user_id</th>\n",
              "    </tr>\n",
              "  </thead>\n",
              "  <tbody>\n",
              "    <tr>\n",
              "      <th>0</th>\n",
              "      <td>0</td>\n",
              "      <td>NaN</td>\n",
              "      <td>prior</td>\n",
              "      <td>2</td>\n",
              "      <td>8</td>\n",
              "      <td>2539329</td>\n",
              "      <td>1</td>\n",
              "      <td>1</td>\n",
              "    </tr>\n",
              "    <tr>\n",
              "      <th>1</th>\n",
              "      <td>1</td>\n",
              "      <td>15.0</td>\n",
              "      <td>prior</td>\n",
              "      <td>3</td>\n",
              "      <td>7</td>\n",
              "      <td>2398795</td>\n",
              "      <td>2</td>\n",
              "      <td>1</td>\n",
              "    </tr>\n",
              "    <tr>\n",
              "      <th>2</th>\n",
              "      <td>2</td>\n",
              "      <td>21.0</td>\n",
              "      <td>prior</td>\n",
              "      <td>3</td>\n",
              "      <td>12</td>\n",
              "      <td>473747</td>\n",
              "      <td>3</td>\n",
              "      <td>1</td>\n",
              "    </tr>\n",
              "    <tr>\n",
              "      <th>3</th>\n",
              "      <td>3</td>\n",
              "      <td>29.0</td>\n",
              "      <td>prior</td>\n",
              "      <td>4</td>\n",
              "      <td>7</td>\n",
              "      <td>2254736</td>\n",
              "      <td>4</td>\n",
              "      <td>1</td>\n",
              "    </tr>\n",
              "    <tr>\n",
              "      <th>4</th>\n",
              "      <td>4</td>\n",
              "      <td>28.0</td>\n",
              "      <td>prior</td>\n",
              "      <td>4</td>\n",
              "      <td>15</td>\n",
              "      <td>431534</td>\n",
              "      <td>5</td>\n",
              "      <td>1</td>\n",
              "    </tr>\n",
              "  </tbody>\n",
              "</table>\n",
              "</div>"
            ],
            "text/plain": [
              "   Unnamed: 0  days_since_prior_order eval_set  ...  order_id  order_number  user_id\n",
              "0           0                     NaN    prior  ...   2539329             1        1\n",
              "1           1                    15.0    prior  ...   2398795             2        1\n",
              "2           2                    21.0    prior  ...    473747             3        1\n",
              "3           3                    29.0    prior  ...   2254736             4        1\n",
              "4           4                    28.0    prior  ...    431534             5        1\n",
              "\n",
              "[5 rows x 8 columns]"
            ]
          },
          "metadata": {
            "tags": []
          },
          "execution_count": 45
        }
      ]
    },
    {
      "cell_type": "markdown",
      "metadata": {
        "id": "Fu-vhqCfk0Kf",
        "colab_type": "text"
      },
      "source": [
        "# Data Cleaning\n",
        "\n",
        "Now lets clean the data and look at the missing values in each data set."
      ]
    },
    {
      "cell_type": "code",
      "metadata": {
        "id": "2xtDAPHLudDo",
        "colab_type": "code",
        "colab": {
          "base_uri": "https://localhost:8080/",
          "height": 168
        },
        "outputId": "f2a5dcef-7be7-4a9d-8753-7b0226e3f026"
      },
      "source": [
        "orders[orders[\"order_number\"]==1].count()"
      ],
      "execution_count": null,
      "outputs": [
        {
          "output_type": "execute_result",
          "data": {
            "text/plain": [
              "Unnamed: 0                62764\n",
              "days_since_prior_order        0\n",
              "eval_set                  62764\n",
              "order_dow                 62764\n",
              "order_hour_of_day         62764\n",
              "order_id                  62764\n",
              "order_number              62764\n",
              "user_id                   62764\n",
              "dtype: int64"
            ]
          },
          "metadata": {
            "tags": []
          },
          "execution_count": 46
        }
      ]
    },
    {
      "cell_type": "code",
      "metadata": {
        "id": "BPslmRg5w8-1",
        "colab_type": "code",
        "colab": {
          "base_uri": "https://localhost:8080/",
          "height": 168
        },
        "outputId": "387cd0bf-0379-44dc-8722-b08f07f5b2c8"
      },
      "source": [
        "orders.isnull().sum()"
      ],
      "execution_count": null,
      "outputs": [
        {
          "output_type": "execute_result",
          "data": {
            "text/plain": [
              "Unnamed: 0                    0\n",
              "days_since_prior_order    62764\n",
              "eval_set                      0\n",
              "order_dow                     0\n",
              "order_hour_of_day             0\n",
              "order_id                      0\n",
              "order_number                  0\n",
              "user_id                       0\n",
              "dtype: int64"
            ]
          },
          "metadata": {
            "tags": []
          },
          "execution_count": 47
        }
      ]
    },
    {
      "cell_type": "markdown",
      "metadata": {
        "id": "onFMebKfxTOA",
        "colab_type": "text"
      },
      "source": [
        "The null values in the orders dataset are in the\tdays_since_prior, which are nothing but the days since the last order, capped at 30 (with NAs for order_number = 1)"
      ]
    },
    {
      "cell_type": "code",
      "metadata": {
        "id": "PMuSbRa1lr2B",
        "colab_type": "code",
        "colab": {
          "base_uri": "https://localhost:8080/",
          "height": 168
        },
        "outputId": "86eae858-0ea3-4adf-ce4a-1f3398d9ef7a"
      },
      "source": [
        "orders.isnull().mean().round(4) * 100"
      ],
      "execution_count": null,
      "outputs": [
        {
          "output_type": "execute_result",
          "data": {
            "text/plain": [
              "Unnamed: 0                0.00\n",
              "days_since_prior_order    5.99\n",
              "eval_set                  0.00\n",
              "order_dow                 0.00\n",
              "order_hour_of_day         0.00\n",
              "order_id                  0.00\n",
              "order_number              0.00\n",
              "user_id                   0.00\n",
              "dtype: float64"
            ]
          },
          "metadata": {
            "tags": []
          },
          "execution_count": 48
        }
      ]
    },
    {
      "cell_type": "code",
      "metadata": {
        "id": "RJSLM8dbpe8s",
        "colab_type": "code",
        "colab": {
          "base_uri": "https://localhost:8080/",
          "height": 67
        },
        "outputId": "10812375-ae56-4923-ec65-607458df0f5c"
      },
      "source": [
        "aisles.isnull().mean().round(4) * 100"
      ],
      "execution_count": null,
      "outputs": [
        {
          "output_type": "execute_result",
          "data": {
            "text/plain": [
              "aisle_id    0.0\n",
              "aisle       0.0\n",
              "dtype: float64"
            ]
          },
          "metadata": {
            "tags": []
          },
          "execution_count": 50
        }
      ]
    },
    {
      "cell_type": "code",
      "metadata": {
        "id": "hdSWLXfFpv_A",
        "colab_type": "code",
        "colab": {
          "base_uri": "https://localhost:8080/",
          "height": 67
        },
        "outputId": "4c96550f-41b1-4c83-9535-e8c053d3d193"
      },
      "source": [
        "departments.isnull().mean().round(4) * 100"
      ],
      "execution_count": null,
      "outputs": [
        {
          "output_type": "execute_result",
          "data": {
            "text/plain": [
              "department_id    0.0\n",
              "department       0.0\n",
              "dtype: float64"
            ]
          },
          "metadata": {
            "tags": []
          },
          "execution_count": 51
        }
      ]
    },
    {
      "cell_type": "code",
      "metadata": {
        "id": "H_H9tRd0pyeR",
        "colab_type": "code",
        "colab": {
          "base_uri": "https://localhost:8080/",
          "height": 101
        },
        "outputId": "c8aa6f80-5459-4eb4-a135-ce4ac217dff3"
      },
      "source": [
        "order_products_prior.isnull().mean().round(4) * 100"
      ],
      "execution_count": null,
      "outputs": [
        {
          "output_type": "execute_result",
          "data": {
            "text/plain": [
              "order_id             0.0\n",
              "product_id           0.0\n",
              "add_to_cart_order    0.0\n",
              "reordered            0.0\n",
              "dtype: float64"
            ]
          },
          "metadata": {
            "tags": []
          },
          "execution_count": 52
        }
      ]
    },
    {
      "cell_type": "code",
      "metadata": {
        "id": "ZHIbDRL5p6Vk",
        "colab_type": "code",
        "colab": {
          "base_uri": "https://localhost:8080/",
          "height": 118
        },
        "outputId": "188caf95-b0a6-4f78-9884-c2cc1618b886"
      },
      "source": [
        "order_products_train.isnull().mean().round(4) * 100"
      ],
      "execution_count": null,
      "outputs": [
        {
          "output_type": "execute_result",
          "data": {
            "text/plain": [
              "Unnamed: 0           0.0\n",
              "order_id             0.0\n",
              "product_id           0.0\n",
              "add_to_cart_order    0.0\n",
              "reordered            0.0\n",
              "dtype: float64"
            ]
          },
          "metadata": {
            "tags": []
          },
          "execution_count": 53
        }
      ]
    },
    {
      "cell_type": "code",
      "metadata": {
        "id": "7-lx39Q0p81p",
        "colab_type": "code",
        "colab": {
          "base_uri": "https://localhost:8080/",
          "height": 118
        },
        "outputId": "6e2c9495-c8bf-405f-9f17-ef6e2cc1cb95"
      },
      "source": [
        "order_products_test.isnull().mean().round(4) * 100"
      ],
      "execution_count": null,
      "outputs": [
        {
          "output_type": "execute_result",
          "data": {
            "text/plain": [
              "Unnamed: 0           0.0\n",
              "order_id             0.0\n",
              "product_id           0.0\n",
              "add_to_cart_order    0.0\n",
              "reordered            0.0\n",
              "dtype: float64"
            ]
          },
          "metadata": {
            "tags": []
          },
          "execution_count": 54
        }
      ]
    },
    {
      "cell_type": "code",
      "metadata": {
        "id": "qB9iEx2up_HB",
        "colab_type": "code",
        "colab": {
          "base_uri": "https://localhost:8080/",
          "height": 101
        },
        "outputId": "3416b0c5-d163-4c66-fb50-05fcff3af971"
      },
      "source": [
        "products.isnull().mean().round(4) * 100"
      ],
      "execution_count": null,
      "outputs": [
        {
          "output_type": "execute_result",
          "data": {
            "text/plain": [
              "product_id       0.0\n",
              "product_name     0.0\n",
              "aisle_id         0.0\n",
              "department_id    0.0\n",
              "dtype: float64"
            ]
          },
          "metadata": {
            "tags": []
          },
          "execution_count": 55
        }
      ]
    },
    {
      "cell_type": "markdown",
      "metadata": {
        "id": "kJdySaa3qG8V",
        "colab_type": "text"
      },
      "source": [
        "On looking at all the datasets, only orders dataset has missing values. Also we can see that only 6% of days_since_prior_order column is null, which is nothing but the days since the last order, capped at 30 (with NAs for order_number = 1). So we can exclude them and use the data. We are concluding the data cleaning process here as there are no other missing values."
      ]
    },
    {
      "cell_type": "markdown",
      "metadata": {
        "id": "mb4nNYHqyfAb",
        "colab_type": "text"
      },
      "source": [
        "# Exploratory Data Analysis"
      ]
    },
    {
      "cell_type": "code",
      "metadata": {
        "id": "XFmd8trnyrm1",
        "colab_type": "code",
        "colab": {
          "base_uri": "https://localhost:8080/",
          "height": 84
        },
        "outputId": "fba4c07b-b127-4822-8248-7e38c391c181"
      },
      "source": [
        "count=orders['eval_set'].value_counts()\n",
        "count"
      ],
      "execution_count": null,
      "outputs": [
        {
          "output_type": "execute_result",
          "data": {
            "text/plain": [
              "prior    985811\n",
              "train     48406\n",
              "test      14358\n",
              "Name: eval_set, dtype: int64"
            ]
          },
          "metadata": {
            "tags": []
          },
          "execution_count": 56
        }
      ]
    },
    {
      "cell_type": "code",
      "metadata": {
        "id": "9bfEmkeEzlFz",
        "colab_type": "code",
        "colab": {
          "base_uri": "https://localhost:8080/",
          "height": 536
        },
        "outputId": "33163007-9e31-4dc8-bd91-70259bc35bef"
      },
      "source": [
        "plt.figure(figsize=(12,8))\n",
        "sns.barplot(count.index, count.values)\n",
        "plt.ylabel('Number of Occurrences in the dataset', fontsize=14)\n",
        "plt.xlabel('Evaluation set type', fontsize=14)\n",
        "plt.title('Eval_set breakdown in orders dataset', fontsize=16)"
      ],
      "execution_count": null,
      "outputs": [
        {
          "output_type": "execute_result",
          "data": {
            "text/plain": [
              "Text(0.5, 1.0, 'Eval_set breakdown in orders dataset')"
            ]
          },
          "metadata": {
            "tags": []
          },
          "execution_count": 57
        },
        {
          "output_type": "display_data",
          "data": {
            "image/png": "[encoded data removed]",
            "text/plain": [
              "<Figure size 864x576 with 1 Axes>"
            ]
          },
          "metadata": {
            "tags": [],
            "needs_background": "light"
          }
        }
      ]
    },
    {
      "cell_type": "code",
      "metadata": {
        "id": "qaLJOczty3hk",
        "colab_type": "code",
        "colab": {
          "base_uri": "https://localhost:8080/",
          "height": 34
        },
        "outputId": "4e8e2d24-2335-4bd4-ad56-71124fca292a"
      },
      "source": [
        "order_products_train.shape"
      ],
      "execution_count": null,
      "outputs": [
        {
          "output_type": "execute_result",
          "data": {
            "text/plain": [
              "(1068168, 5)"
            ]
          },
          "metadata": {
            "tags": []
          },
          "execution_count": 58
        }
      ]
    },
    {
      "cell_type": "markdown",
      "metadata": {
        "id": "wQglMw85E32n",
        "colab_type": "text"
      },
      "source": [
        "# Problem Statements"
      ]
    },
    {
      "cell_type": "markdown",
      "metadata": {
        "id": "-tDWLsQHFkWd",
        "colab_type": "text"
      },
      "source": [
        "## Peak turnover"
      ]
    },
    {
      "cell_type": "markdown",
      "metadata": {
        "id": "p1OCdDc4E6RA",
        "colab_type": "text"
      },
      "source": [
        "1)\tWhen do customers order the most?\n",
        "  -\tDay of the week\n",
        "  -\tTime of the day\n",
        "  -\tCombination of the above two.\n"
      ]
    },
    {
      "cell_type": "code",
      "metadata": {
        "id": "ncQZ2QDhqwZ-",
        "colab_type": "code",
        "colab": {
          "base_uri": "https://localhost:8080/",
          "height": 335
        },
        "outputId": "29f0c4e4-2b9e-41af-fd08-e1004d18585f"
      },
      "source": [
        "plt.figure(figsize= (10,5))\n",
        "ax = sns.countplot(x= \"order_hour_of_day\", data = orders, palette= 'Set2')"
      ],
      "execution_count": null,
      "outputs": [
        {
          "output_type": "display_data",
          "data": {
            "image/png": "[encoded data removed]",
            "text/plain": [
              "<Figure size 720x360 with 1 Axes>"
            ]
          },
          "metadata": {
            "tags": [],
            "needs_background": "light"
          }
        }
      ]
    },
    {
      "cell_type": "markdown",
      "metadata": {
        "id": "olZK4lDwsawN",
        "colab_type": "text"
      },
      "source": [
        "From the graph above we can see that the maximum number of orders is around 10 to 11 AM followed by 2 to 3 PM. On the other hand the orders are least at 3 to 4 AM, that's the time people usually are asleep. Now in order to know more, let's see how the orders vary across different days of the week."
      ]
    },
    {
      "cell_type": "code",
      "metadata": {
        "id": "6MxmTbO0swty",
        "colab_type": "code",
        "colab": {
          "base_uri": "https://localhost:8080/",
          "height": 151
        },
        "outputId": "a91ee73f-f649-430b-f269-338a5904f04f"
      },
      "source": [
        "orders['order_dow'].value_counts()"
      ],
      "execution_count": null,
      "outputs": [
        {
          "output_type": "execute_result",
          "data": {
            "text/plain": [
              "0    184042\n",
              "1    180123\n",
              "2    143261\n",
              "5    139157\n",
              "6    137590\n",
              "3    134145\n",
              "4    130257\n",
              "Name: order_dow, dtype: int64"
            ]
          },
          "metadata": {
            "tags": []
          },
          "execution_count": 60
        }
      ]
    },
    {
      "cell_type": "code",
      "metadata": {
        "id": "_E4460YLteWM",
        "colab_type": "code",
        "colab": {
          "base_uri": "https://localhost:8080/",
          "height": 335
        },
        "outputId": "1149c9c5-ad84-4457-a601-c311d461c428"
      },
      "source": [
        "plt.figure(figsize=(12,5))\n",
        "ax = sns.countplot(x=\"order_dow\", data=orders)"
      ],
      "execution_count": null,
      "outputs": [
        {
          "output_type": "display_data",
          "data": {
            "image/png": "[encoded data removed]",
            "text/plain": [
              "<Figure size 864x360 with 1 Axes>"
            ]
          },
          "metadata": {
            "tags": [],
            "needs_background": "light"
          }
        }
      ]
    },
    {
      "cell_type": "markdown",
      "metadata": {
        "id": "2M85rE97lbcb",
        "colab_type": "text"
      },
      "source": [
        "We can say that, customers order the most on Day 0, i.e on Sunday, followed by Day 1- Monday.\n",
        "\n",
        "Now let us see the time of the day at which the sales is maximum for each day."
      ]
    },
    {
      "cell_type": "code",
      "metadata": {
        "id": "dtKxbbxLfVOS",
        "colab_type": "code",
        "colab": {
          "base_uri": "https://localhost:8080/",
          "height": 498
        },
        "outputId": "46bc54a7-d608-43d8-ad10-3f0020b660a5"
      },
      "source": [
        "plt.figure(figsize=(12,8))\n",
        "ax=sns.countplot(x='order_hour_of_day',data=orders[orders['order_dow']==0])"
      ],
      "execution_count": null,
      "outputs": [
        {
          "output_type": "display_data",
          "data": {
            "image/png": "[encoded data removed]",
            "text/plain": [
              "<Figure size 864x576 with 1 Axes>"
            ]
          },
          "metadata": {
            "tags": [],
            "needs_background": "light"
          }
        }
      ]
    },
    {
      "cell_type": "markdown",
      "metadata": {
        "id": "BYJIA56Sf6hJ",
        "colab_type": "text"
      },
      "source": [
        "We can see from the visualization that, day 0 has maximum sales between 2 to 3 PM followed by 1 to 2 PM.\n",
        "\n"
      ]
    },
    {
      "cell_type": "code",
      "metadata": {
        "id": "kqtX7SDtmSXN",
        "colab_type": "code",
        "colab": {
          "base_uri": "https://localhost:8080/",
          "height": 498
        },
        "outputId": "fe07a0fd-62fa-410c-c28a-af7b4285ef76"
      },
      "source": [
        "plt.figure(figsize=(12,8))\n",
        "ax=sns.countplot(x='order_hour_of_day',data=orders[orders['order_dow']==1])"
      ],
      "execution_count": null,
      "outputs": [
        {
          "output_type": "display_data",
          "data": {
            "image/png": "[encoded data removed]",
            "text/plain": [
              "<Figure size 864x576 with 1 Axes>"
            ]
          },
          "metadata": {
            "tags": [],
            "needs_background": "light"
          }
        }
      ]
    },
    {
      "cell_type": "markdown",
      "metadata": {
        "id": "86SQWUGShUtT",
        "colab_type": "text"
      },
      "source": [
        "Day 1 has maximum sales between 10 to 11 AM followed by 9 to 10 AM."
      ]
    },
    {
      "cell_type": "code",
      "metadata": {
        "id": "pDaGO6k_hfYF",
        "colab_type": "code",
        "colab": {
          "base_uri": "https://localhost:8080/",
          "height": 498
        },
        "outputId": "094cd35b-ed91-495d-9ca8-628a2efbdde5"
      },
      "source": [
        "plt.figure(figsize=(12,8))\n",
        "ax=sns.countplot(x='order_hour_of_day',data=orders[orders['order_dow']==2])"
      ],
      "execution_count": null,
      "outputs": [
        {
          "output_type": "display_data",
          "data": {
            "image/png": "[encoded data removed]",
            "text/plain": [
              "<Figure size 864x576 with 1 Axes>"
            ]
          },
          "metadata": {
            "tags": [],
            "needs_background": "light"
          }
        }
      ]
    },
    {
      "cell_type": "markdown",
      "metadata": {
        "id": "uv8QuPIPhjUE",
        "colab_type": "text"
      },
      "source": [
        "Day 2 has maximum sales between 10 to 11 AM followed by 3 to 4 PM"
      ]
    },
    {
      "cell_type": "code",
      "metadata": {
        "id": "R3yL5NqXhxyu",
        "colab_type": "code",
        "colab": {
          "base_uri": "https://localhost:8080/",
          "height": 498
        },
        "outputId": "9617cd34-f447-4ee8-ca12-b13effd8fec5"
      },
      "source": [
        "plt.figure(figsize=(12,8))\n",
        "ax=sns.countplot(x='order_hour_of_day',data=orders[orders['order_dow']==3])"
      ],
      "execution_count": null,
      "outputs": [
        {
          "output_type": "display_data",
          "data": {
            "image/png": "[encoded data removed]",
            "text/plain": [
              "<Figure size 864x576 with 1 Axes>"
            ]
          },
          "metadata": {
            "tags": [],
            "needs_background": "light"
          }
        }
      ]
    },
    {
      "cell_type": "markdown",
      "metadata": {
        "id": "ry7l4HFqh3JA",
        "colab_type": "text"
      },
      "source": [
        "Day 3 has maximum sales between 10 to 11 AM followed by 3 to 4 PM"
      ]
    },
    {
      "cell_type": "code",
      "metadata": {
        "id": "ln11wflth45Y",
        "colab_type": "code",
        "colab": {
          "base_uri": "https://localhost:8080/",
          "height": 498
        },
        "outputId": "2c4a20e3-3c81-4a51-f822-9c991f6c1334"
      },
      "source": [
        "plt.figure(figsize=(12,8))\n",
        "ax=sns.countplot(x='order_hour_of_day',data=orders[orders['order_dow']==4])"
      ],
      "execution_count": null,
      "outputs": [
        {
          "output_type": "display_data",
          "data": {
            "image/png": "[encoded data removed]",
            "text/plain": [
              "<Figure size 864x576 with 1 Axes>"
            ]
          },
          "metadata": {
            "tags": [],
            "needs_background": "light"
          }
        }
      ]
    },
    {
      "cell_type": "markdown",
      "metadata": {
        "colab_type": "text",
        "id": "OKmr-xs3iJPz"
      },
      "source": [
        "Day 4 has maximum sales between 10 to 11 AM followed by 3 to 4 PM"
      ]
    },
    {
      "cell_type": "code",
      "metadata": {
        "colab_type": "code",
        "id": "HvAyqyCOiPBX",
        "colab": {
          "base_uri": "https://localhost:8080/",
          "height": 498
        },
        "outputId": "1eb1e524-732a-4fcf-94f2-49d345475f6b"
      },
      "source": [
        "plt.figure(figsize=(12,8))\n",
        "ax=sns.countplot(x='order_hour_of_day',data=orders[orders['order_dow']==5])"
      ],
      "execution_count": null,
      "outputs": [
        {
          "output_type": "display_data",
          "data": {
            "image/png": "[encoded data removed]",
            "text/plain": [
              "<Figure size 864x576 with 1 Axes>"
            ]
          },
          "metadata": {
            "tags": [],
            "needs_background": "light"
          }
        }
      ]
    },
    {
      "cell_type": "markdown",
      "metadata": {
        "id": "ZuEEq3bJiYt_",
        "colab_type": "text"
      },
      "source": [
        "Day 5 has maximum sales between 10 to 11 AM followed by 2 to 3 PM"
      ]
    },
    {
      "cell_type": "code",
      "metadata": {
        "colab_type": "code",
        "id": "4PUxLv4hi2h-",
        "colab": {
          "base_uri": "https://localhost:8080/",
          "height": 498
        },
        "outputId": "557738c1-97bc-4d0a-b7f1-d38b3a129b40"
      },
      "source": [
        "plt.figure(figsize=(12,8))\n",
        "ax=sns.countplot(x='order_hour_of_day',data=orders[orders['order_dow']==6])"
      ],
      "execution_count": null,
      "outputs": [
        {
          "output_type": "display_data",
          "data": {
            "image/png": "[encoded data removed]",
            "text/plain": [
              "<Figure size 864x576 with 1 Axes>"
            ]
          },
          "metadata": {
            "tags": [],
            "needs_background": "light"
          }
        }
      ]
    },
    {
      "cell_type": "markdown",
      "metadata": {
        "id": "AQzp_oUri9Z0",
        "colab_type": "text"
      },
      "source": [
        "Day 6 has maximum sales between 2 to 3 PM followed by 12 to 1 PM"
      ]
    },
    {
      "cell_type": "markdown",
      "metadata": {
        "id": "BLymSN-Ij_77",
        "colab_type": "text"
      },
      "source": [
        "It seems that, Days 1 to 5 has maximum number of orders places between 10 to 11 AM , whereas for day 0 and day 6 it is between 2 to 3 PM. We can conclude that on weekends the sales is at the peak in the afternoon and on the weekdays it is in the morning time."
      ]
    },
    {
      "cell_type": "markdown",
      "metadata": {
        "id": "z6I9OXW6k1DQ",
        "colab_type": "text"
      },
      "source": [
        "Now, let's get the orders in terms of hour of the day and day of the week in a single dataset by using the groupby option for better visualization."
      ]
    },
    {
      "cell_type": "code",
      "metadata": {
        "id": "R_GZRoZAk2Wp",
        "colab_type": "code",
        "colab": {
          "base_uri": "https://localhost:8080/",
          "height": 402
        },
        "outputId": "5ec1414e-bbc6-4762-b1b3-500f3cb53230"
      },
      "source": [
        "grouped_orders = orders.groupby([\"order_dow\", \"order_hour_of_day\"])[\"order_number\"].aggregate(\"count\").reset_index()\n",
        "grouped_orders"
      ],
      "execution_count": null,
      "outputs": [
        {
          "output_type": "execute_result",
          "data": {
            "text/html": [
              "<div>\n",
              "<style scoped>\n",
              "    .dataframe tbody tr th:only-of-type {\n",
              "        vertical-align: middle;\n",
              "    }\n",
              "\n",
              "    .dataframe tbody tr th {\n",
              "        vertical-align: top;\n",
              "    }\n",
              "\n",
              "    .dataframe thead th {\n",
              "        text-align: right;\n",
              "    }\n",
              "</style>\n",
              "<table border=\"1\" class=\"dataframe\">\n",
              "  <thead>\n",
              "    <tr style=\"text-align: right;\">\n",
              "      <th></th>\n",
              "      <th>order_dow</th>\n",
              "      <th>order_hour_of_day</th>\n",
              "      <th>order_number</th>\n",
              "    </tr>\n",
              "  </thead>\n",
              "  <tbody>\n",
              "    <tr>\n",
              "      <th>0</th>\n",
              "      <td>0</td>\n",
              "      <td>0</td>\n",
              "      <td>1206</td>\n",
              "    </tr>\n",
              "    <tr>\n",
              "      <th>1</th>\n",
              "      <td>0</td>\n",
              "      <td>1</td>\n",
              "      <td>727</td>\n",
              "    </tr>\n",
              "    <tr>\n",
              "      <th>2</th>\n",
              "      <td>0</td>\n",
              "      <td>2</td>\n",
              "      <td>448</td>\n",
              "    </tr>\n",
              "    <tr>\n",
              "      <th>3</th>\n",
              "      <td>0</td>\n",
              "      <td>3</td>\n",
              "      <td>331</td>\n",
              "    </tr>\n",
              "    <tr>\n",
              "      <th>4</th>\n",
              "      <td>0</td>\n",
              "      <td>4</td>\n",
              "      <td>256</td>\n",
              "    </tr>\n",
              "    <tr>\n",
              "      <th>...</th>\n",
              "      <td>...</td>\n",
              "      <td>...</td>\n",
              "      <td>...</td>\n",
              "    </tr>\n",
              "    <tr>\n",
              "      <th>163</th>\n",
              "      <td>6</td>\n",
              "      <td>19</td>\n",
              "      <td>5582</td>\n",
              "    </tr>\n",
              "    <tr>\n",
              "      <th>164</th>\n",
              "      <td>6</td>\n",
              "      <td>20</td>\n",
              "      <td>4154</td>\n",
              "    </tr>\n",
              "    <tr>\n",
              "      <th>165</th>\n",
              "      <td>6</td>\n",
              "      <td>21</td>\n",
              "      <td>3266</td>\n",
              "    </tr>\n",
              "    <tr>\n",
              "      <th>166</th>\n",
              "      <td>6</td>\n",
              "      <td>22</td>\n",
              "      <td>2714</td>\n",
              "    </tr>\n",
              "    <tr>\n",
              "      <th>167</th>\n",
              "      <td>6</td>\n",
              "      <td>23</td>\n",
              "      <td>1927</td>\n",
              "    </tr>\n",
              "  </tbody>\n",
              "</table>\n",
              "<p>168 rows × 3 columns</p>\n",
              "</div>"
            ],
            "text/plain": [
              "     order_dow  order_hour_of_day  order_number\n",
              "0            0                  0          1206\n",
              "1            0                  1           727\n",
              "2            0                  2           448\n",
              "3            0                  3           331\n",
              "4            0                  4           256\n",
              "..         ...                ...           ...\n",
              "163          6                 19          5582\n",
              "164          6                 20          4154\n",
              "165          6                 21          3266\n",
              "166          6                 22          2714\n",
              "167          6                 23          1927\n",
              "\n",
              "[168 rows x 3 columns]"
            ]
          },
          "metadata": {
            "tags": []
          },
          "execution_count": 69
        }
      ]
    },
    {
      "cell_type": "code",
      "metadata": {
        "id": "srZYr7fKk8Rw",
        "colab_type": "code",
        "colab": {
          "base_uri": "https://localhost:8080/",
          "height": 304
        },
        "outputId": "f12bb4a6-ad6a-46f1-af8f-fd1914e88cc2"
      },
      "source": [
        "#pivoting the table for clarity\n",
        "grouped_orders = grouped_orders.pivot('order_dow', 'order_hour_of_day', 'order_number')\n",
        "grouped_orders"
      ],
      "execution_count": null,
      "outputs": [
        {
          "output_type": "execute_result",
          "data": {
            "text/html": [
              "<div>\n",
              "<style scoped>\n",
              "    .dataframe tbody tr th:only-of-type {\n",
              "        vertical-align: middle;\n",
              "    }\n",
              "\n",
              "    .dataframe tbody tr th {\n",
              "        vertical-align: top;\n",
              "    }\n",
              "\n",
              "    .dataframe thead th {\n",
              "        text-align: right;\n",
              "    }\n",
              "</style>\n",
              "<table border=\"1\" class=\"dataframe\">\n",
              "  <thead>\n",
              "    <tr style=\"text-align: right;\">\n",
              "      <th>order_hour_of_day</th>\n",
              "      <th>0</th>\n",
              "      <th>1</th>\n",
              "      <th>2</th>\n",
              "      <th>3</th>\n",
              "      <th>4</th>\n",
              "      <th>5</th>\n",
              "      <th>6</th>\n",
              "      <th>7</th>\n",
              "      <th>8</th>\n",
              "      <th>9</th>\n",
              "      <th>10</th>\n",
              "      <th>11</th>\n",
              "      <th>12</th>\n",
              "      <th>13</th>\n",
              "      <th>14</th>\n",
              "      <th>15</th>\n",
              "      <th>16</th>\n",
              "      <th>17</th>\n",
              "      <th>18</th>\n",
              "      <th>19</th>\n",
              "      <th>20</th>\n",
              "      <th>21</th>\n",
              "      <th>22</th>\n",
              "      <th>23</th>\n",
              "    </tr>\n",
              "    <tr>\n",
              "      <th>order_dow</th>\n",
              "      <th></th>\n",
              "      <th></th>\n",
              "      <th></th>\n",
              "      <th></th>\n",
              "      <th></th>\n",
              "      <th></th>\n",
              "      <th></th>\n",
              "      <th></th>\n",
              "      <th></th>\n",
              "      <th></th>\n",
              "      <th></th>\n",
              "      <th></th>\n",
              "      <th></th>\n",
              "      <th></th>\n",
              "      <th></th>\n",
              "      <th></th>\n",
              "      <th></th>\n",
              "      <th></th>\n",
              "      <th></th>\n",
              "      <th></th>\n",
              "      <th></th>\n",
              "      <th></th>\n",
              "      <th></th>\n",
              "      <th></th>\n",
              "    </tr>\n",
              "  </thead>\n",
              "  <tbody>\n",
              "    <tr>\n",
              "      <th>0</th>\n",
              "      <td>1206</td>\n",
              "      <td>727</td>\n",
              "      <td>448</td>\n",
              "      <td>331</td>\n",
              "      <td>256</td>\n",
              "      <td>387</td>\n",
              "      <td>961</td>\n",
              "      <td>3817</td>\n",
              "      <td>8562</td>\n",
              "      <td>12468</td>\n",
              "      <td>14932</td>\n",
              "      <td>15567</td>\n",
              "      <td>15829</td>\n",
              "      <td>16385</td>\n",
              "      <td>16619</td>\n",
              "      <td>16514</td>\n",
              "      <td>15202</td>\n",
              "      <td>12185</td>\n",
              "      <td>9072</td>\n",
              "      <td>6980</td>\n",
              "      <td>5625</td>\n",
              "      <td>4490</td>\n",
              "      <td>3425</td>\n",
              "      <td>2054</td>\n",
              "    </tr>\n",
              "    <tr>\n",
              "      <th>1</th>\n",
              "      <td>1087</td>\n",
              "      <td>553</td>\n",
              "      <td>367</td>\n",
              "      <td>236</td>\n",
              "      <td>260</td>\n",
              "      <td>487</td>\n",
              "      <td>1661</td>\n",
              "      <td>5074</td>\n",
              "      <td>10203</td>\n",
              "      <td>15626</td>\n",
              "      <td>16869</td>\n",
              "      <td>15926</td>\n",
              "      <td>14508</td>\n",
              "      <td>14519</td>\n",
              "      <td>14347</td>\n",
              "      <td>14281</td>\n",
              "      <td>13707</td>\n",
              "      <td>11337</td>\n",
              "      <td>8980</td>\n",
              "      <td>6902</td>\n",
              "      <td>5022</td>\n",
              "      <td>3728</td>\n",
              "      <td>2747</td>\n",
              "      <td>1696</td>\n",
              "    </tr>\n",
              "    <tr>\n",
              "      <th>2</th>\n",
              "      <td>924</td>\n",
              "      <td>460</td>\n",
              "      <td>277</td>\n",
              "      <td>220</td>\n",
              "      <td>222</td>\n",
              "      <td>454</td>\n",
              "      <td>1445</td>\n",
              "      <td>4076</td>\n",
              "      <td>7555</td>\n",
              "      <td>11211</td>\n",
              "      <td>12075</td>\n",
              "      <td>11532</td>\n",
              "      <td>10975</td>\n",
              "      <td>11305</td>\n",
              "      <td>11274</td>\n",
              "      <td>11580</td>\n",
              "      <td>11622</td>\n",
              "      <td>9793</td>\n",
              "      <td>8089</td>\n",
              "      <td>6180</td>\n",
              "      <td>4571</td>\n",
              "      <td>3320</td>\n",
              "      <td>2448</td>\n",
              "      <td>1653</td>\n",
              "    </tr>\n",
              "    <tr>\n",
              "      <th>3</th>\n",
              "      <td>911</td>\n",
              "      <td>453</td>\n",
              "      <td>282</td>\n",
              "      <td>206</td>\n",
              "      <td>230</td>\n",
              "      <td>415</td>\n",
              "      <td>1356</td>\n",
              "      <td>3753</td>\n",
              "      <td>6964</td>\n",
              "      <td>9968</td>\n",
              "      <td>11224</td>\n",
              "      <td>10914</td>\n",
              "      <td>10299</td>\n",
              "      <td>10390</td>\n",
              "      <td>10547</td>\n",
              "      <td>11007</td>\n",
              "      <td>10699</td>\n",
              "      <td>9425</td>\n",
              "      <td>7748</td>\n",
              "      <td>5915</td>\n",
              "      <td>4162</td>\n",
              "      <td>3174</td>\n",
              "      <td>2555</td>\n",
              "      <td>1548</td>\n",
              "    </tr>\n",
              "    <tr>\n",
              "      <th>4</th>\n",
              "      <td>815</td>\n",
              "      <td>458</td>\n",
              "      <td>304</td>\n",
              "      <td>212</td>\n",
              "      <td>231</td>\n",
              "      <td>374</td>\n",
              "      <td>1418</td>\n",
              "      <td>3838</td>\n",
              "      <td>6608</td>\n",
              "      <td>9553</td>\n",
              "      <td>10764</td>\n",
              "      <td>10344</td>\n",
              "      <td>9912</td>\n",
              "      <td>10102</td>\n",
              "      <td>10215</td>\n",
              "      <td>10327</td>\n",
              "      <td>10277</td>\n",
              "      <td>9060</td>\n",
              "      <td>7382</td>\n",
              "      <td>5948</td>\n",
              "      <td>4300</td>\n",
              "      <td>3350</td>\n",
              "      <td>2727</td>\n",
              "      <td>1738</td>\n",
              "    </tr>\n",
              "    <tr>\n",
              "      <th>5</th>\n",
              "      <td>1022</td>\n",
              "      <td>498</td>\n",
              "      <td>309</td>\n",
              "      <td>258</td>\n",
              "      <td>285</td>\n",
              "      <td>479</td>\n",
              "      <td>1551</td>\n",
              "      <td>4145</td>\n",
              "      <td>7341</td>\n",
              "      <td>10545</td>\n",
              "      <td>11808</td>\n",
              "      <td>11567</td>\n",
              "      <td>11126</td>\n",
              "      <td>11119</td>\n",
              "      <td>11391</td>\n",
              "      <td>11487</td>\n",
              "      <td>10816</td>\n",
              "      <td>9242</td>\n",
              "      <td>7359</td>\n",
              "      <td>5895</td>\n",
              "      <td>4098</td>\n",
              "      <td>2941</td>\n",
              "      <td>2278</td>\n",
              "      <td>1597</td>\n",
              "    </tr>\n",
              "    <tr>\n",
              "      <th>6</th>\n",
              "      <td>1049</td>\n",
              "      <td>565</td>\n",
              "      <td>398</td>\n",
              "      <td>266</td>\n",
              "      <td>247</td>\n",
              "      <td>347</td>\n",
              "      <td>977</td>\n",
              "      <td>3494</td>\n",
              "      <td>7058</td>\n",
              "      <td>9539</td>\n",
              "      <td>10889</td>\n",
              "      <td>11313</td>\n",
              "      <td>11511</td>\n",
              "      <td>11479</td>\n",
              "      <td>11635</td>\n",
              "      <td>11651</td>\n",
              "      <td>10909</td>\n",
              "      <td>9214</td>\n",
              "      <td>7406</td>\n",
              "      <td>5582</td>\n",
              "      <td>4154</td>\n",
              "      <td>3266</td>\n",
              "      <td>2714</td>\n",
              "      <td>1927</td>\n",
              "    </tr>\n",
              "  </tbody>\n",
              "</table>\n",
              "</div>"
            ],
            "text/plain": [
              "order_hour_of_day    0    1    2    3    4   ...    19    20    21    22    23\n",
              "order_dow                                    ...                              \n",
              "0                  1206  727  448  331  256  ...  6980  5625  4490  3425  2054\n",
              "1                  1087  553  367  236  260  ...  6902  5022  3728  2747  1696\n",
              "2                   924  460  277  220  222  ...  6180  4571  3320  2448  1653\n",
              "3                   911  453  282  206  230  ...  5915  4162  3174  2555  1548\n",
              "4                   815  458  304  212  231  ...  5948  4300  3350  2727  1738\n",
              "5                  1022  498  309  258  285  ...  5895  4098  2941  2278  1597\n",
              "6                  1049  565  398  266  247  ...  5582  4154  3266  2714  1927\n",
              "\n",
              "[7 rows x 24 columns]"
            ]
          },
          "metadata": {
            "tags": []
          },
          "execution_count": 70
        }
      ]
    },
    {
      "cell_type": "code",
      "metadata": {
        "id": "ehudlLOY5DhL",
        "colab_type": "code",
        "colab": {
          "base_uri": "https://localhost:8080/",
          "height": 67
        },
        "outputId": "359ff054-1e0a-4a25-8717-e0ea74c7bb44"
      },
      "source": [
        "#Percentage of Reorders in order_products_prior dataset\n",
        "\n",
        "print( 'Reorders in order_products_prior dataset is', (order_products_prior.reordered.sum() / len(order_products_prior)) * 100 ,'%' '\\n')\n",
        "\n",
        "#Percentage of Reorders in order_products_train dataset\n",
        "\n",
        "print( 'Reorders in order_products_train dataset is', (order_products_train.reordered.sum() / len(order_products_train)) * 100 ,'%')"
      ],
      "execution_count": null,
      "outputs": [
        {
          "output_type": "stream",
          "text": [
            "Reorders in order_products_prior dataset is 58.969746679221615 %\n",
            "\n",
            "Reorders in order_products_train dataset is 59.861931830947945 %\n"
          ],
          "name": "stdout"
        }
      ]
    },
    {
      "cell_type": "markdown",
      "metadata": {
        "id": "IP7hP1Yy6gbQ",
        "colab_type": "text"
      },
      "source": [
        "Reorders in order_products_prior dataset is ~ 59% and \n",
        "reorders in order_products_train dataset is ~ 60%"
      ]
    },
    {
      "cell_type": "markdown",
      "metadata": {
        "id": "uqj8GBtGFNiM",
        "colab_type": "text"
      },
      "source": [
        "## Top products"
      ]
    },
    {
      "cell_type": "code",
      "metadata": {
        "id": "W2a-CMaP6hnV",
        "colab_type": "code",
        "colab": {}
      },
      "source": [
        "#merging order_products_prior and products\n",
        "prior_merged = pd.merge(order_products_prior, products, on='product_id', how='left')\n",
        "\n",
        "#merging prior_merged with aisles\n",
        "prior_merged = pd.merge(prior_merged, aisles, on='aisle_id', how='left')\n",
        "\n",
        "#merging the new prior_merged with departments\n",
        "prior_merged= pd.merge(prior_merged, departments, on='department_id', how='left')"
      ],
      "execution_count": null,
      "outputs": []
    },
    {
      "cell_type": "code",
      "metadata": {
        "id": "mlvM_WGZH92V",
        "colab_type": "code",
        "colab": {
          "base_uri": "https://localhost:8080/",
          "height": 343
        },
        "outputId": "d69b7e38-b077-468d-b628-6460bf94d7c3"
      },
      "source": [
        "products_count = prior_merged['product_name'].value_counts().reset_index().head(20)\n",
        "products_count.columns=['product_name','frequency']\n",
        "products_count.head(10)"
      ],
      "execution_count": null,
      "outputs": [
        {
          "output_type": "execute_result",
          "data": {
            "text/html": [
              "<div>\n",
              "<style scoped>\n",
              "    .dataframe tbody tr th:only-of-type {\n",
              "        vertical-align: middle;\n",
              "    }\n",
              "\n",
              "    .dataframe tbody tr th {\n",
              "        vertical-align: top;\n",
              "    }\n",
              "\n",
              "    .dataframe thead th {\n",
              "        text-align: right;\n",
              "    }\n",
              "</style>\n",
              "<table border=\"1\" class=\"dataframe\">\n",
              "  <thead>\n",
              "    <tr style=\"text-align: right;\">\n",
              "      <th></th>\n",
              "      <th>product_name</th>\n",
              "      <th>frequency</th>\n",
              "    </tr>\n",
              "  </thead>\n",
              "  <tbody>\n",
              "    <tr>\n",
              "      <th>0</th>\n",
              "      <td>Banana</td>\n",
              "      <td>472565</td>\n",
              "    </tr>\n",
              "    <tr>\n",
              "      <th>1</th>\n",
              "      <td>Bag of Organic Bananas</td>\n",
              "      <td>379450</td>\n",
              "    </tr>\n",
              "    <tr>\n",
              "      <th>2</th>\n",
              "      <td>Organic Strawberries</td>\n",
              "      <td>264683</td>\n",
              "    </tr>\n",
              "    <tr>\n",
              "      <th>3</th>\n",
              "      <td>Organic Baby Spinach</td>\n",
              "      <td>241921</td>\n",
              "    </tr>\n",
              "    <tr>\n",
              "      <th>4</th>\n",
              "      <td>Organic Hass Avocado</td>\n",
              "      <td>213584</td>\n",
              "    </tr>\n",
              "    <tr>\n",
              "      <th>5</th>\n",
              "      <td>Organic Avocado</td>\n",
              "      <td>176815</td>\n",
              "    </tr>\n",
              "    <tr>\n",
              "      <th>6</th>\n",
              "      <td>Large Lemon</td>\n",
              "      <td>152657</td>\n",
              "    </tr>\n",
              "    <tr>\n",
              "      <th>7</th>\n",
              "      <td>Strawberries</td>\n",
              "      <td>142951</td>\n",
              "    </tr>\n",
              "    <tr>\n",
              "      <th>8</th>\n",
              "      <td>Limes</td>\n",
              "      <td>140627</td>\n",
              "    </tr>\n",
              "    <tr>\n",
              "      <th>9</th>\n",
              "      <td>Organic Whole Milk</td>\n",
              "      <td>137905</td>\n",
              "    </tr>\n",
              "  </tbody>\n",
              "</table>\n",
              "</div>"
            ],
            "text/plain": [
              "             product_name  frequency\n",
              "0                  Banana     472565\n",
              "1  Bag of Organic Bananas     379450\n",
              "2    Organic Strawberries     264683\n",
              "3    Organic Baby Spinach     241921\n",
              "4    Organic Hass Avocado     213584\n",
              "5         Organic Avocado     176815\n",
              "6             Large Lemon     152657\n",
              "7            Strawberries     142951\n",
              "8                   Limes     140627\n",
              "9      Organic Whole Milk     137905"
            ]
          },
          "metadata": {
            "tags": []
          },
          "execution_count": 73
        }
      ]
    },
    {
      "cell_type": "markdown",
      "metadata": {
        "id": "CPiedRmIJNYL",
        "colab_type": "text"
      },
      "source": [
        "So, these are the top 5 products that are ordered - Banana, Bag of Organic Bananas, Organic Strawberries, Organic Baby Spinach, Organic Hass Avocado."
      ]
    },
    {
      "cell_type": "code",
      "metadata": {
        "id": "3i9c7zhn6kF9",
        "colab_type": "code",
        "colab": {
          "base_uri": "https://localhost:8080/",
          "height": 343
        },
        "outputId": "014a9c6f-34ed-4be5-ff51-b828d593234b"
      },
      "source": [
        "#Aisle frequency\n",
        "aisle_count = prior_merged['aisle'].value_counts().reset_index().head(20)\n",
        "aisle_count.columns=['aisle','frequency']\n",
        "aisle_count.head(10)"
      ],
      "execution_count": null,
      "outputs": [
        {
          "output_type": "execute_result",
          "data": {
            "text/html": [
              "<div>\n",
              "<style scoped>\n",
              "    .dataframe tbody tr th:only-of-type {\n",
              "        vertical-align: middle;\n",
              "    }\n",
              "\n",
              "    .dataframe tbody tr th {\n",
              "        vertical-align: top;\n",
              "    }\n",
              "\n",
              "    .dataframe thead th {\n",
              "        text-align: right;\n",
              "    }\n",
              "</style>\n",
              "<table border=\"1\" class=\"dataframe\">\n",
              "  <thead>\n",
              "    <tr style=\"text-align: right;\">\n",
              "      <th></th>\n",
              "      <th>aisle</th>\n",
              "      <th>frequency</th>\n",
              "    </tr>\n",
              "  </thead>\n",
              "  <tbody>\n",
              "    <tr>\n",
              "      <th>0</th>\n",
              "      <td>fresh fruits</td>\n",
              "      <td>3642188</td>\n",
              "    </tr>\n",
              "    <tr>\n",
              "      <th>1</th>\n",
              "      <td>fresh vegetables</td>\n",
              "      <td>3418021</td>\n",
              "    </tr>\n",
              "    <tr>\n",
              "      <th>2</th>\n",
              "      <td>packaged vegetables fruits</td>\n",
              "      <td>1765313</td>\n",
              "    </tr>\n",
              "    <tr>\n",
              "      <th>3</th>\n",
              "      <td>yogurt</td>\n",
              "      <td>1452343</td>\n",
              "    </tr>\n",
              "    <tr>\n",
              "      <th>4</th>\n",
              "      <td>packaged cheese</td>\n",
              "      <td>979763</td>\n",
              "    </tr>\n",
              "    <tr>\n",
              "      <th>5</th>\n",
              "      <td>milk</td>\n",
              "      <td>891015</td>\n",
              "    </tr>\n",
              "    <tr>\n",
              "      <th>6</th>\n",
              "      <td>water seltzer sparkling water</td>\n",
              "      <td>841533</td>\n",
              "    </tr>\n",
              "    <tr>\n",
              "      <th>7</th>\n",
              "      <td>chips pretzels</td>\n",
              "      <td>722470</td>\n",
              "    </tr>\n",
              "    <tr>\n",
              "      <th>8</th>\n",
              "      <td>soy lactosefree</td>\n",
              "      <td>638253</td>\n",
              "    </tr>\n",
              "    <tr>\n",
              "      <th>9</th>\n",
              "      <td>bread</td>\n",
              "      <td>584834</td>\n",
              "    </tr>\n",
              "  </tbody>\n",
              "</table>\n",
              "</div>"
            ],
            "text/plain": [
              "                           aisle  frequency\n",
              "0                   fresh fruits    3642188\n",
              "1               fresh vegetables    3418021\n",
              "2     packaged vegetables fruits    1765313\n",
              "3                         yogurt    1452343\n",
              "4                packaged cheese     979763\n",
              "5                           milk     891015\n",
              "6  water seltzer sparkling water     841533\n",
              "7                 chips pretzels     722470\n",
              "8                soy lactosefree     638253\n",
              "9                          bread     584834"
            ]
          },
          "metadata": {
            "tags": []
          },
          "execution_count": 74
        }
      ]
    },
    {
      "cell_type": "markdown",
      "metadata": {
        "id": "yM-ZUQLH7IQ4",
        "colab_type": "text"
      },
      "source": [
        "We can see that, the fresh food and fresh vegetables aisles are the most frequently visited."
      ]
    },
    {
      "cell_type": "code",
      "metadata": {
        "id": "biXvvmK-KFUp",
        "colab_type": "code",
        "colab": {
          "base_uri": "https://localhost:8080/",
          "height": 343
        },
        "outputId": "dc55c8cf-3aa9-456d-be2f-5636462fb545"
      },
      "source": [
        "#For reorders\n",
        "\n",
        "#merge order_product_prior with orders \n",
        "merged_reorders = pd.merge(order_products_prior, orders, on='order_id', how='right')\n",
        "\n",
        "result_reordered = merged_reorders.loc[merged_reorders['reordered'] == 1.0] \n",
        "\n",
        "#merging reordered products from order_products_prior and products\n",
        "result_reordered = pd.merge(result_reordered, products, on='product_id', how='left')\n",
        "\n",
        "products_reorder_count = result_reordered['product_name'].value_counts().reset_index().head(20)\n",
        "products_reorder_count.columns=['product_name','number of times reordered']\n",
        "products_reorder_count.head(10)"
      ],
      "execution_count": null,
      "outputs": [
        {
          "output_type": "execute_result",
          "data": {
            "text/html": [
              "<div>\n",
              "<style scoped>\n",
              "    .dataframe tbody tr th:only-of-type {\n",
              "        vertical-align: middle;\n",
              "    }\n",
              "\n",
              "    .dataframe tbody tr th {\n",
              "        vertical-align: top;\n",
              "    }\n",
              "\n",
              "    .dataframe thead th {\n",
              "        text-align: right;\n",
              "    }\n",
              "</style>\n",
              "<table border=\"1\" class=\"dataframe\">\n",
              "  <thead>\n",
              "    <tr style=\"text-align: right;\">\n",
              "      <th></th>\n",
              "      <th>product_name</th>\n",
              "      <th>number of times reordered</th>\n",
              "    </tr>\n",
              "  </thead>\n",
              "  <tbody>\n",
              "    <tr>\n",
              "      <th>0</th>\n",
              "      <td>Banana</td>\n",
              "      <td>121988</td>\n",
              "    </tr>\n",
              "    <tr>\n",
              "      <th>1</th>\n",
              "      <td>Bag of Organic Bananas</td>\n",
              "      <td>96357</td>\n",
              "    </tr>\n",
              "    <tr>\n",
              "      <th>2</th>\n",
              "      <td>Organic Strawberries</td>\n",
              "      <td>62878</td>\n",
              "    </tr>\n",
              "    <tr>\n",
              "      <th>3</th>\n",
              "      <td>Organic Baby Spinach</td>\n",
              "      <td>57835</td>\n",
              "    </tr>\n",
              "    <tr>\n",
              "      <th>4</th>\n",
              "      <td>Organic Hass Avocado</td>\n",
              "      <td>53588</td>\n",
              "    </tr>\n",
              "    <tr>\n",
              "      <th>5</th>\n",
              "      <td>Organic Avocado</td>\n",
              "      <td>41352</td>\n",
              "    </tr>\n",
              "    <tr>\n",
              "      <th>6</th>\n",
              "      <td>Organic Whole Milk</td>\n",
              "      <td>34747</td>\n",
              "    </tr>\n",
              "    <tr>\n",
              "      <th>7</th>\n",
              "      <td>Organic Raspberries</td>\n",
              "      <td>32827</td>\n",
              "    </tr>\n",
              "    <tr>\n",
              "      <th>8</th>\n",
              "      <td>Large Lemon</td>\n",
              "      <td>32309</td>\n",
              "    </tr>\n",
              "    <tr>\n",
              "      <th>9</th>\n",
              "      <td>Strawberries</td>\n",
              "      <td>30361</td>\n",
              "    </tr>\n",
              "  </tbody>\n",
              "</table>\n",
              "</div>"
            ],
            "text/plain": [
              "             product_name  number of times reordered\n",
              "0                  Banana                     121988\n",
              "1  Bag of Organic Bananas                      96357\n",
              "2    Organic Strawberries                      62878\n",
              "3    Organic Baby Spinach                      57835\n",
              "4    Organic Hass Avocado                      53588\n",
              "5         Organic Avocado                      41352\n",
              "6      Organic Whole Milk                      34747\n",
              "7     Organic Raspberries                      32827\n",
              "8             Large Lemon                      32309\n",
              "9            Strawberries                      30361"
            ]
          },
          "metadata": {
            "tags": []
          },
          "execution_count": 75
        }
      ]
    },
    {
      "cell_type": "markdown",
      "metadata": {
        "id": "XKx8euhj17iz",
        "colab_type": "text"
      },
      "source": [
        "So, these are the top 5 products that are reordered - Banana, Bag of Organic Bananas, Organic Strawberries, Organic Baby Spinach, Organic Hass Avocado."
      ]
    },
    {
      "cell_type": "markdown",
      "metadata": {
        "id": "OmqItqhXFU5y",
        "colab_type": "text"
      },
      "source": [
        "## Reorder Ratio"
      ]
    },
    {
      "cell_type": "markdown",
      "metadata": {
        "id": "QWRJza2N9q0h",
        "colab_type": "text"
      },
      "source": [
        "Reorder ratio - The repeat purchase rate calculation takes into account the purchases from repeat customers divided by all purchases on the site for a given date range.\n",
        "\n",
        "Now, let us find the reorder ratio for each department."
      ]
    },
    {
      "cell_type": "code",
      "metadata": {
        "id": "cH68nySM-aq7",
        "colab_type": "code",
        "colab": {}
      },
      "source": [
        "#For department wise reorders\n",
        "\n",
        "dept_reorders = pd.merge(order_products_prior, products, on='product_id', how='left')\n",
        "dept_reorders = pd.merge(dept_reorders, departments, on = 'department_id', how ='left')\n"
      ],
      "execution_count": null,
      "outputs": []
    },
    {
      "cell_type": "code",
      "metadata": {
        "id": "jk-OVV7PBAaL",
        "colab_type": "code",
        "colab": {
          "base_uri": "https://localhost:8080/",
          "height": 669
        },
        "outputId": "2be8bed4-d887-4dfd-9901-83d82125533f"
      },
      "source": [
        "#result_dept_reorders = dept_reorders.loc[dept_reorders['reordered'] == 1.0] \n",
        "#dept_reorder_ratio = result_dept_reorders['department'].value_counts().reset_index().head(20)\n",
        "dept_reorder_ratio = dept_reorders.groupby([\"department\"])[\"reordered\"].aggregate(\"mean\").reset_index()\n",
        "dept_reorder_ratio.sort_values(by='reordered', ascending=False)"
      ],
      "execution_count": null,
      "outputs": [
        {
          "output_type": "execute_result",
          "data": {
            "text/html": [
              "<div>\n",
              "<style scoped>\n",
              "    .dataframe tbody tr th:only-of-type {\n",
              "        vertical-align: middle;\n",
              "    }\n",
              "\n",
              "    .dataframe tbody tr th {\n",
              "        vertical-align: top;\n",
              "    }\n",
              "\n",
              "    .dataframe thead th {\n",
              "        text-align: right;\n",
              "    }\n",
              "</style>\n",
              "<table border=\"1\" class=\"dataframe\">\n",
              "  <thead>\n",
              "    <tr style=\"text-align: right;\">\n",
              "      <th></th>\n",
              "      <th>department</th>\n",
              "      <th>reordered</th>\n",
              "    </tr>\n",
              "  </thead>\n",
              "  <tbody>\n",
              "    <tr>\n",
              "      <th>7</th>\n",
              "      <td>dairy eggs</td>\n",
              "      <td>0.669969</td>\n",
              "    </tr>\n",
              "    <tr>\n",
              "      <th>3</th>\n",
              "      <td>beverages</td>\n",
              "      <td>0.653460</td>\n",
              "    </tr>\n",
              "    <tr>\n",
              "      <th>19</th>\n",
              "      <td>produce</td>\n",
              "      <td>0.649913</td>\n",
              "    </tr>\n",
              "    <tr>\n",
              "      <th>2</th>\n",
              "      <td>bakery</td>\n",
              "      <td>0.628141</td>\n",
              "    </tr>\n",
              "    <tr>\n",
              "      <th>8</th>\n",
              "      <td>deli</td>\n",
              "      <td>0.607719</td>\n",
              "    </tr>\n",
              "    <tr>\n",
              "      <th>18</th>\n",
              "      <td>pets</td>\n",
              "      <td>0.601285</td>\n",
              "    </tr>\n",
              "    <tr>\n",
              "      <th>1</th>\n",
              "      <td>babies</td>\n",
              "      <td>0.578971</td>\n",
              "    </tr>\n",
              "    <tr>\n",
              "      <th>5</th>\n",
              "      <td>bulk</td>\n",
              "      <td>0.577040</td>\n",
              "    </tr>\n",
              "    <tr>\n",
              "      <th>20</th>\n",
              "      <td>snacks</td>\n",
              "      <td>0.574180</td>\n",
              "    </tr>\n",
              "    <tr>\n",
              "      <th>0</th>\n",
              "      <td>alcohol</td>\n",
              "      <td>0.569924</td>\n",
              "    </tr>\n",
              "    <tr>\n",
              "      <th>13</th>\n",
              "      <td>meat seafood</td>\n",
              "      <td>0.567674</td>\n",
              "    </tr>\n",
              "    <tr>\n",
              "      <th>4</th>\n",
              "      <td>breakfast</td>\n",
              "      <td>0.560922</td>\n",
              "    </tr>\n",
              "    <tr>\n",
              "      <th>10</th>\n",
              "      <td>frozen</td>\n",
              "      <td>0.541885</td>\n",
              "    </tr>\n",
              "    <tr>\n",
              "      <th>9</th>\n",
              "      <td>dry goods pasta</td>\n",
              "      <td>0.461076</td>\n",
              "    </tr>\n",
              "    <tr>\n",
              "      <th>6</th>\n",
              "      <td>canned goods</td>\n",
              "      <td>0.457405</td>\n",
              "    </tr>\n",
              "    <tr>\n",
              "      <th>15</th>\n",
              "      <td>other</td>\n",
              "      <td>0.407980</td>\n",
              "    </tr>\n",
              "    <tr>\n",
              "      <th>11</th>\n",
              "      <td>household</td>\n",
              "      <td>0.402178</td>\n",
              "    </tr>\n",
              "    <tr>\n",
              "      <th>14</th>\n",
              "      <td>missing</td>\n",
              "      <td>0.395849</td>\n",
              "    </tr>\n",
              "    <tr>\n",
              "      <th>12</th>\n",
              "      <td>international</td>\n",
              "      <td>0.369229</td>\n",
              "    </tr>\n",
              "    <tr>\n",
              "      <th>16</th>\n",
              "      <td>pantry</td>\n",
              "      <td>0.346721</td>\n",
              "    </tr>\n",
              "    <tr>\n",
              "      <th>17</th>\n",
              "      <td>personal care</td>\n",
              "      <td>0.321129</td>\n",
              "    </tr>\n",
              "  </tbody>\n",
              "</table>\n",
              "</div>"
            ],
            "text/plain": [
              "         department  reordered\n",
              "7        dairy eggs   0.669969\n",
              "3         beverages   0.653460\n",
              "19          produce   0.649913\n",
              "2            bakery   0.628141\n",
              "8              deli   0.607719\n",
              "18             pets   0.601285\n",
              "1            babies   0.578971\n",
              "5              bulk   0.577040\n",
              "20           snacks   0.574180\n",
              "0           alcohol   0.569924\n",
              "13     meat seafood   0.567674\n",
              "4         breakfast   0.560922\n",
              "10           frozen   0.541885\n",
              "9   dry goods pasta   0.461076\n",
              "6      canned goods   0.457405\n",
              "15            other   0.407980\n",
              "11        household   0.402178\n",
              "14          missing   0.395849\n",
              "12    international   0.369229\n",
              "16           pantry   0.346721\n",
              "17    personal care   0.321129"
            ]
          },
          "metadata": {
            "tags": []
          },
          "execution_count": 77
        }
      ]
    },
    {
      "cell_type": "markdown",
      "metadata": {
        "id": "oPBracgmHRVi",
        "colab_type": "text"
      },
      "source": [
        "'Dairy eggs' department has the highest and the department 'Personal Care' has the lowest reorder ratio."
      ]
    },
    {
      "cell_type": "markdown",
      "metadata": {
        "id": "yfm1DjTKFZrk",
        "colab_type": "text"
      },
      "source": [
        "## Models"
      ]
    },
    {
      "cell_type": "markdown",
      "metadata": {
        "id": "koKo6zOyj4Tu",
        "colab_type": "text"
      },
      "source": [
        "Predictive modeling involves creating a model that outputs the probability of an outcome given current state values of input parameters.\n",
        "Our given dataset is **transactional** in nature, for which Apriori Algorithm is used."
      ]
    },
    {
      "cell_type": "markdown",
      "metadata": {
        "id": "XP4_z4uobZEp",
        "colab_type": "text"
      },
      "source": [
        "Lets start building models. Before that, we have to merge the dataframes with the required columns."
      ]
    },
    {
      "cell_type": "code",
      "metadata": {
        "id": "8t15fbu-bASd",
        "colab_type": "code",
        "colab": {}
      },
      "source": [
        "data = order_products_train.append(order_products_prior,ignore_index = True)"
      ],
      "execution_count": null,
      "outputs": []
    },
    {
      "cell_type": "code",
      "metadata": {
        "id": "_6Yi2cEdcuP8",
        "colab_type": "code",
        "colab": {}
      },
      "source": [
        "data = pd.merge(data, products, on = 'product_id', how = 'left')"
      ],
      "execution_count": null,
      "outputs": []
    },
    {
      "cell_type": "code",
      "metadata": {
        "id": "JwsmCZyYl_M8",
        "colab_type": "code",
        "colab": {}
      },
      "source": [
        "data = pd.merge(data, orders, on = 'order_id', how = 'inner')"
      ],
      "execution_count": null,
      "outputs": []
    },
    {
      "cell_type": "code",
      "metadata": {
        "id": "Mc3mrgHWl3Oz",
        "colab_type": "code",
        "colab": {}
      },
      "source": [
        "#To remove unnamed column and columns not required\n",
        "data.drop(data.filter(regex=\"Unname\"),axis=1, inplace=True)\n",
        "\n",
        "data.drop('days_since_prior_order', axis =1, inplace=True)\n",
        "data.drop(['eval_set'], axis=1, inplace=True)"
      ],
      "execution_count": null,
      "outputs": []
    },
    {
      "cell_type": "code",
      "metadata": {
        "id": "TajeqSdbAXNi",
        "colab_type": "code",
        "colab": {
          "base_uri": "https://localhost:8080/",
          "height": 218
        },
        "outputId": "02a3ac41-1b80-4113-c163-36006e4dd914"
      },
      "source": [
        "data.isnull().sum()"
      ],
      "execution_count": null,
      "outputs": [
        {
          "output_type": "execute_result",
          "data": {
            "text/plain": [
              "order_id             0\n",
              "product_id           0\n",
              "add_to_cart_order    0\n",
              "reordered            0\n",
              "product_name         0\n",
              "aisle_id             0\n",
              "department_id        0\n",
              "order_dow            0\n",
              "order_hour_of_day    0\n",
              "order_number         0\n",
              "user_id              0\n",
              "dtype: int64"
            ]
          },
          "metadata": {
            "tags": []
          },
          "execution_count": 24
        }
      ]
    },
    {
      "cell_type": "code",
      "metadata": {
        "id": "YW59mAJ7zmQi",
        "colab_type": "code",
        "colab": {}
      },
      "source": [
        "data_df = data"
      ],
      "execution_count": null,
      "outputs": []
    },
    {
      "cell_type": "code",
      "metadata": {
        "id": "JZCflfBU4F2T",
        "colab_type": "code",
        "colab": {
          "base_uri": "https://localhost:8080/",
          "height": 34
        },
        "outputId": "b33315f6-8093-419e-fb0d-95aad5a0c771"
      },
      "source": [
        "data.product_name.nunique()"
      ],
      "execution_count": null,
      "outputs": [
        {
          "output_type": "execute_result",
          "data": {
            "text/plain": [
              "47972"
            ]
          },
          "metadata": {
            "tags": []
          },
          "execution_count": 57
        }
      ]
    },
    {
      "cell_type": "code",
      "metadata": {
        "id": "8LJUNTvjk8mZ",
        "colab_type": "code",
        "colab": {
          "base_uri": "https://localhost:8080/",
          "height": 350
        },
        "outputId": "40301c72-0eea-44dc-a37a-c560ff0fa01d"
      },
      "source": [
        "data.head()"
      ],
      "execution_count": null,
      "outputs": [
        {
          "output_type": "execute_result",
          "data": {
            "text/html": [
              "<div>\n",
              "<style scoped>\n",
              "    .dataframe tbody tr th:only-of-type {\n",
              "        vertical-align: middle;\n",
              "    }\n",
              "\n",
              "    .dataframe tbody tr th {\n",
              "        vertical-align: top;\n",
              "    }\n",
              "\n",
              "    .dataframe thead th {\n",
              "        text-align: right;\n",
              "    }\n",
              "</style>\n",
              "<table border=\"1\" class=\"dataframe\">\n",
              "  <thead>\n",
              "    <tr style=\"text-align: right;\">\n",
              "      <th></th>\n",
              "      <th>order_id</th>\n",
              "      <th>product_id</th>\n",
              "      <th>add_to_cart_order</th>\n",
              "      <th>reordered</th>\n",
              "      <th>product_name</th>\n",
              "      <th>aisle_id</th>\n",
              "      <th>department_id</th>\n",
              "      <th>eval_set</th>\n",
              "      <th>order_dow</th>\n",
              "      <th>order_hour_of_day</th>\n",
              "      <th>order_number</th>\n",
              "      <th>user_id</th>\n",
              "    </tr>\n",
              "  </thead>\n",
              "  <tbody>\n",
              "    <tr>\n",
              "      <th>0</th>\n",
              "      <td>36</td>\n",
              "      <td>39612</td>\n",
              "      <td>1</td>\n",
              "      <td>0</td>\n",
              "      <td>Grated Pecorino Romano Cheese</td>\n",
              "      <td>2</td>\n",
              "      <td>16</td>\n",
              "      <td>train</td>\n",
              "      <td>6</td>\n",
              "      <td>18</td>\n",
              "      <td>23</td>\n",
              "      <td>79431</td>\n",
              "    </tr>\n",
              "    <tr>\n",
              "      <th>1</th>\n",
              "      <td>36</td>\n",
              "      <td>19660</td>\n",
              "      <td>2</td>\n",
              "      <td>1</td>\n",
              "      <td>Spring Water</td>\n",
              "      <td>115</td>\n",
              "      <td>7</td>\n",
              "      <td>train</td>\n",
              "      <td>6</td>\n",
              "      <td>18</td>\n",
              "      <td>23</td>\n",
              "      <td>79431</td>\n",
              "    </tr>\n",
              "    <tr>\n",
              "      <th>2</th>\n",
              "      <td>36</td>\n",
              "      <td>49235</td>\n",
              "      <td>3</td>\n",
              "      <td>0</td>\n",
              "      <td>Organic Half &amp; Half</td>\n",
              "      <td>53</td>\n",
              "      <td>16</td>\n",
              "      <td>train</td>\n",
              "      <td>6</td>\n",
              "      <td>18</td>\n",
              "      <td>23</td>\n",
              "      <td>79431</td>\n",
              "    </tr>\n",
              "    <tr>\n",
              "      <th>3</th>\n",
              "      <td>36</td>\n",
              "      <td>43086</td>\n",
              "      <td>4</td>\n",
              "      <td>1</td>\n",
              "      <td>Super Greens Salad</td>\n",
              "      <td>123</td>\n",
              "      <td>4</td>\n",
              "      <td>train</td>\n",
              "      <td>6</td>\n",
              "      <td>18</td>\n",
              "      <td>23</td>\n",
              "      <td>79431</td>\n",
              "    </tr>\n",
              "    <tr>\n",
              "      <th>4</th>\n",
              "      <td>36</td>\n",
              "      <td>46620</td>\n",
              "      <td>5</td>\n",
              "      <td>1</td>\n",
              "      <td>Cage Free Extra Large Grade AA Eggs</td>\n",
              "      <td>86</td>\n",
              "      <td>16</td>\n",
              "      <td>train</td>\n",
              "      <td>6</td>\n",
              "      <td>18</td>\n",
              "      <td>23</td>\n",
              "      <td>79431</td>\n",
              "    </tr>\n",
              "  </tbody>\n",
              "</table>\n",
              "</div>"
            ],
            "text/plain": [
              "   order_id  product_id  ...  order_number  user_id\n",
              "0        36       39612  ...            23    79431\n",
              "1        36       19660  ...            23    79431\n",
              "2        36       49235  ...            23    79431\n",
              "3        36       43086  ...            23    79431\n",
              "4        36       46620  ...            23    79431\n",
              "\n",
              "[5 rows x 12 columns]"
            ]
          },
          "metadata": {
            "tags": []
          },
          "execution_count": 54
        }
      ]
    },
    {
      "cell_type": "code",
      "metadata": {
        "id": "HBWJAN8P5iX8",
        "colab_type": "code",
        "colab": {
          "base_uri": "https://localhost:8080/",
          "height": 218
        },
        "outputId": "1fa443b8-d87c-4d1f-8e79-fb9148a312e2"
      },
      "source": [
        "data.dtypes"
      ],
      "execution_count": null,
      "outputs": [
        {
          "output_type": "execute_result",
          "data": {
            "text/plain": [
              "order_id             int64\n",
              "product_id           int64\n",
              "add_to_cart_order    int64\n",
              "reordered            int64\n",
              "product_name         int64\n",
              "aisle_id             int64\n",
              "department_id        int64\n",
              "order_dow            int64\n",
              "order_hour_of_day    int64\n",
              "order_number         int64\n",
              "user_id              int64\n",
              "dtype: object"
            ]
          },
          "metadata": {
            "tags": []
          },
          "execution_count": 62
        }
      ]
    },
    {
      "cell_type": "markdown",
      "metadata": {
        "id": "kNWZhW4eKCqz",
        "colab_type": "text"
      },
      "source": [
        "Having the clean data, lets start building models."
      ]
    },
    {
      "cell_type": "code",
      "metadata": {
        "id": "ijx9l_EI4sAv",
        "colab_type": "code",
        "colab": {}
      },
      "source": [
        "# Import label encoder- Converting each value in column to a number.\n",
        "from sklearn import preprocessing\n",
        "\n",
        "# label_encoder object knows how to understand word labels. \n",
        "label_encoder = preprocessing.LabelEncoder()\n",
        "\n",
        "# Encode labels in column 'product_name'. \n",
        "data['product_name']= label_encoder.fit_transform(data['product_name']) \n"
      ],
      "execution_count": null,
      "outputs": []
    },
    {
      "cell_type": "code",
      "metadata": {
        "id": "1fSOUPiQqBBi",
        "colab_type": "code",
        "colab": {}
      },
      "source": [
        "# Load the data\n",
        "X = data.drop('reordered', axis = 1)\n",
        "y = data['reordered']\n"
      ],
      "execution_count": null,
      "outputs": []
    },
    {
      "cell_type": "code",
      "metadata": {
        "id": "KfD7A1WHqZPI",
        "colab_type": "code",
        "colab": {}
      },
      "source": [
        "# Creating Train and Validation data by using train_test_split\n",
        "X_train, X_test, y_train, y_test = train_test_split(X, y, test_size=0.2, random_state=42)\n"
      ],
      "execution_count": null,
      "outputs": []
    },
    {
      "cell_type": "markdown",
      "metadata": {
        "id": "cs_ZQQ-pGHiC",
        "colab_type": "text"
      },
      "source": [
        "### Logistic Regression"
      ]
    },
    {
      "cell_type": "code",
      "metadata": {
        "id": "e_DGSojs-mtr",
        "colab_type": "code",
        "colab": {}
      },
      "source": [
        "# Logistic Regression Model\n",
        "# Logistic regression model is created to predict the probability of occurrence of an event (like attrition) by fitting data into a logistic curve\n",
        "from sklearn.linear_model import LogisticRegression\n",
        "\n",
        "# Define the model\n",
        "clf = LogisticRegression(random_state=0).fit(X_train, y_train)\n",
        "\n",
        "# Predict for train and validation data\n",
        "lr_train = clf.predict(X_train)\n",
        "lr_val = clf.predict(X_test)\n"
      ],
      "execution_count": null,
      "outputs": []
    },
    {
      "cell_type": "code",
      "metadata": {
        "id": "Qt29759p4nCX",
        "colab_type": "code",
        "colab": {
          "base_uri": "https://localhost:8080/",
          "height": 440
        },
        "outputId": "42b28ca3-b0b1-4939-ce3a-747e2bc10d1c"
      },
      "source": [
        "# Creating a text report\n",
        "#target_names = ['class 0', 'class 1']\n",
        "\n",
        "print('CLASSIFICATION REPORT FOR TRAIN DATA' '\\n' '\\n', classification_report(y_train, lr_train))\n",
        "print('CLASSIFICATION REPORT FOR VALIDATION DATA' '\\n' '\\n', classification_report(y_test, lr_val))\n"
      ],
      "execution_count": null,
      "outputs": [
        {
          "output_type": "stream",
          "text": [
            "/usr/local/lib/python3.6/dist-packages/sklearn/metrics/_classification.py:1272: UndefinedMetricWarning: Precision and F-score are ill-defined and being set to 0.0 in labels with no predicted samples. Use `zero_division` parameter to control this behavior.\n",
            "  _warn_prf(average, modifier, msg_start, len(result))\n"
          ],
          "name": "stderr"
        },
        {
          "output_type": "stream",
          "text": [
            "CLASSIFICATION REPORT FOR TRAIN DATA\n",
            "\n",
            "               precision    recall  f1-score   support\n",
            "\n",
            "           0       0.00      0.00      0.00   3424310\n",
            "           1       0.59      1.00      0.74   4944810\n",
            "\n",
            "    accuracy                           0.59   8369120\n",
            "   macro avg       0.30      0.50      0.37   8369120\n",
            "weighted avg       0.35      0.59      0.44   8369120\n",
            "\n",
            "CLASSIFICATION REPORT FOR VALIDATION DATA\n",
            "\n",
            "               precision    recall  f1-score   support\n",
            "\n",
            "           0       0.00      0.00      0.00    856339\n",
            "           1       0.59      1.00      0.74   1235941\n",
            "\n",
            "    accuracy                           0.59   2092280\n",
            "   macro avg       0.30      0.50      0.37   2092280\n",
            "weighted avg       0.35      0.59      0.44   2092280\n",
            "\n"
          ],
          "name": "stdout"
        }
      ]
    },
    {
      "cell_type": "markdown",
      "metadata": {
        "id": "UCWra-YNGMTR",
        "colab_type": "text"
      },
      "source": [
        "### Random Forest"
      ]
    },
    {
      "cell_type": "code",
      "metadata": {
        "id": "DvLXXtcpmu4V",
        "colab_type": "code",
        "colab": {}
      },
      "source": [
        "# Random Forest Classifier Model\n",
        "from sklearn.ensemble import RandomForestClassifier\n",
        "\n",
        "# define model\n",
        "rfc = RandomForestClassifier()\n",
        "\n",
        "# fit model no training data\n",
        "model_rf = rfc.fit(X_train, y_train)\n",
        "\n",
        "# predict for both train and validation data\n",
        "rf_train = model_rf.predict(X_train)\n",
        "rf_val = model_rf.predict(X_test)\n"
      ],
      "execution_count": null,
      "outputs": []
    },
    {
      "cell_type": "code",
      "metadata": {
        "id": "s_zRgaFNiOyj",
        "colab_type": "code",
        "colab": {
          "base_uri": "https://localhost:8080/",
          "height": 386
        },
        "outputId": "b8916d51-c8f1-4b49-9b3e-bccbacdb2d9e"
      },
      "source": [
        "# Creating a text report\n",
        "print('CLASSIFICATION REPORT FOR TRAIN DATA' '\\n' '\\n', classification_report(y_train, rf_train))\n",
        "print('CLASSIFICATION REPORT FOR VALIDATION DATA' '\\n' '\\n', classification_report(y_test, rf_val))\n"
      ],
      "execution_count": null,
      "outputs": [
        {
          "output_type": "stream",
          "text": [
            "CLASSIFICATION REPORT FOR TRAIN DATA\n",
            "\n",
            "               precision    recall  f1-score   support\n",
            "\n",
            "           0       0.74      0.41      0.53   3424310\n",
            "           1       0.69      0.90      0.78   4944810\n",
            "\n",
            "    accuracy                           0.70   8369120\n",
            "   macro avg       0.72      0.66      0.65   8369120\n",
            "weighted avg       0.71      0.70      0.68   8369120\n",
            "\n",
            "CLASSIFICATION REPORT FOR VALIDATION DATA\n",
            "\n",
            "               precision    recall  f1-score   support\n",
            "\n",
            "           0       0.74      0.41      0.53    856339\n",
            "           1       0.69      0.90      0.78   1235941\n",
            "\n",
            "    accuracy                           0.70   2092280\n",
            "   macro avg       0.72      0.66      0.65   2092280\n",
            "weighted avg       0.71      0.70      0.68   2092280\n",
            "\n"
          ],
          "name": "stdout"
        }
      ]
    },
    {
      "cell_type": "markdown",
      "metadata": {
        "id": "Ppg3M1HQGPE9",
        "colab_type": "text"
      },
      "source": [
        "### XGB Model"
      ]
    },
    {
      "cell_type": "code",
      "metadata": {
        "id": "rN9PpvMqF18p",
        "colab_type": "code",
        "colab": {
          "base_uri": "https://localhost:8080/",
          "height": 54
        },
        "outputId": "4a86dd28-23ac-4108-acec-dc551f41478a"
      },
      "source": [
        "# XGB Model\n",
        "import xgboost as xgb\n",
        "#data_dmatrix = xgb.DMatrix(data=X_train,label=y_train)\n",
        "\n",
        "# Define model\n",
        "xgb_class = xgb.XGBClassifier(n_estimators = 10)\n",
        "xgb_class.fit(X_train,y_train)\n",
        "\n",
        "# Predict for both Train and Validation data\n",
        "xgb_train = xgb_class.predict(X_train)\n",
        "xgb_val = xgb_class.predict(X_test)"
      ],
      "execution_count": null,
      "outputs": [
        {
          "output_type": "stream",
          "text": [
            "[14:56:14] WARNING: /workspace/src/learner.cc:686: Tree method is automatically selected to be 'approx' for faster speed. To use old behavior (exact greedy algorithm on single machine), set tree_method to 'exact'.\n"
          ],
          "name": "stdout"
        }
      ]
    },
    {
      "cell_type": "code",
      "metadata": {
        "id": "NpB84nRzIOVQ",
        "colab_type": "code",
        "colab": {
          "base_uri": "https://localhost:8080/",
          "height": 386
        },
        "outputId": "3de4b39e-5b6c-4e0d-8687-f5113cd64017"
      },
      "source": [
        "# Creating a text report\n",
        "print('CLASSIFICATION REPORT FOR TRAIN DATA' '\\n' '\\n', classification_report(y_train, xgb_train))\n",
        "print('CLASSIFICATION REPORT FOR VALIDATION DATA' '\\n' '\\n', classification_report(y_test, xgb_val))"
      ],
      "execution_count": null,
      "outputs": [
        {
          "output_type": "stream",
          "text": [
            "CLASSIFICATION REPORT FOR TRAIN DATA\n",
            "\n",
            "               precision    recall  f1-score   support\n",
            "\n",
            "           0       0.73      0.47      0.57   3424310\n",
            "           1       0.70      0.88      0.78   4944810\n",
            "\n",
            "    accuracy                           0.71   8369120\n",
            "   macro avg       0.71      0.67      0.67   8369120\n",
            "weighted avg       0.71      0.71      0.69   8369120\n",
            "\n",
            "CLASSIFICATION REPORT FOR VALIDATION DATA\n",
            "\n",
            "               precision    recall  f1-score   support\n",
            "\n",
            "           0       0.73      0.47      0.57    856339\n",
            "           1       0.70      0.88      0.78   1235941\n",
            "\n",
            "    accuracy                           0.71   2092280\n",
            "   macro avg       0.71      0.67      0.67   2092280\n",
            "weighted avg       0.71      0.71      0.69   2092280\n",
            "\n"
          ],
          "name": "stdout"
        }
      ]
    },
    {
      "cell_type": "code",
      "metadata": {
        "id": "bs9yzgnXJRKH",
        "colab_type": "code",
        "colab": {}
      },
      "source": [
        "\n",
        "# Getting the test data ready \n",
        "\n",
        "test = order_products_test\n",
        "data_test = test.append(order_products_prior,ignore_index = True)\n",
        "data_test = pd.merge(data_test, products, on = 'product_id', how = 'left')\n",
        "data_test = pd.merge(data_test, orders, on = 'order_id', how = 'inner')\n",
        "true_val = data_test.reordered.values\n",
        "\n",
        "#To remove unnamed column and columns not required\n",
        "data_test.drop(data_test.filter(regex=\"Unname\"),axis=1, inplace=True)\n",
        "data_test.drop('days_since_prior_order', axis =1, inplace=True)\n",
        "data_test.drop(['eval_set'], axis=1, inplace=True)\n",
        "data_test.drop(['reordered'], axis=1, inplace=True)\n",
        "\n",
        "# Encode labels in column 'product_name'. \n",
        "data_test['product_name']= label_encoder.fit_transform(data_test['product_name']) \n"
      ],
      "execution_count": null,
      "outputs": []
    },
    {
      "cell_type": "code",
      "metadata": {
        "id": "yI6EI6pgKZXu",
        "colab_type": "code",
        "colab": {}
      },
      "source": [
        "# Prediction for test data\n",
        "xgb_preds = xgb_class.predict(data_test)"
      ],
      "execution_count": null,
      "outputs": []
    },
    {
      "cell_type": "code",
      "metadata": {
        "id": "SWSSL24XSOgq",
        "colab_type": "code",
        "colab": {
          "base_uri": "https://localhost:8080/",
          "height": 202
        },
        "outputId": "134b3424-1287-4d2d-8063-e17fd4281a67"
      },
      "source": [
        "# To check the goodness of the model \n",
        "print('CLASSIFICATION REPORT FOR VALIDATION DATA' '\\n' '\\n', classification_report(true_val, xgb_preds))"
      ],
      "execution_count": null,
      "outputs": [
        {
          "output_type": "stream",
          "text": [
            "CLASSIFICATION REPORT FOR VALIDATION DATA\n",
            "\n",
            "               precision    recall  f1-score   support\n",
            "\n",
            "           0       0.73      0.47      0.57   4136520\n",
            "           1       0.71      0.88      0.78   5965173\n",
            "\n",
            "    accuracy                           0.71  10101693\n",
            "   macro avg       0.72      0.68      0.68  10101693\n",
            "weighted avg       0.71      0.71      0.70  10101693\n",
            "\n"
          ],
          "name": "stdout"
        }
      ]
    },
    {
      "cell_type": "code",
      "metadata": {
        "id": "tXsTkcZJLxB4",
        "colab_type": "code",
        "colab": {}
      },
      "source": [
        "data.shape # DataFrame is too big"
      ],
      "execution_count": null,
      "outputs": []
    },
    {
      "cell_type": "markdown",
      "metadata": {
        "id": "7LM1h0dBF5CC",
        "colab_type": "text"
      },
      "source": [
        "### APRIORI ALGORITHM"
      ]
    },
    {
      "cell_type": "markdown",
      "metadata": {
        "id": "KRa_7RaGLiJv",
        "colab_type": "text"
      },
      "source": [
        "Apriori Algorithm & Association Rules"
      ]
    },
    {
      "cell_type": "markdown",
      "metadata": {
        "id": "dZVckBhys1wj",
        "colab_type": "text"
      },
      "source": [
        "Apriori Algorithm\n",
        "Uses frequent item-sets to generate association rules. Based on the concept that a subset of a frequent item-set must be a frequent item-set. (frequent item-set is an item-set whose support value is greater than a threshold value specified )\n",
        "\n",
        "The frequent item sets determined by Apriori can be used to determine association rules which highlight general trends in the database: this has applications in domains such as market basket analysis."
      ]
    },
    {
      "cell_type": "code",
      "metadata": {
        "id": "mDcgcsHuojc5",
        "colab_type": "code",
        "colab": {}
      },
      "source": [
        "data = data_df"
      ],
      "execution_count": null,
      "outputs": []
    },
    {
      "cell_type": "code",
      "metadata": {
        "id": "5LTiMFwbMNxP",
        "colab_type": "code",
        "colab": {}
      },
      "source": [
        "# For the purpose of analysis I have taken only the department = 2\n",
        "\n",
        "data_1 = data[data['department_id'] == 3]"
      ],
      "execution_count": null,
      "outputs": []
    },
    {
      "cell_type": "code",
      "metadata": {
        "id": "sIGi9oUoIyVa",
        "colab_type": "code",
        "colab": {}
      },
      "source": [
        "# consolidate the items into 1 transaction per row with each product\n",
        "basket_1 = data_1.groupby(['product_id', 'product_name'])['reordered'].sum().unstack().reset_index().fillna(0).set_index('product_id')\n",
        "basket_1"
      ],
      "execution_count": null,
      "outputs": []
    },
    {
      "cell_type": "code",
      "metadata": {
        "id": "h56kCpyyTFBO",
        "colab_type": "code",
        "colab": {}
      },
      "source": [
        "# Converting dataframe to list \n",
        "records = basket_1.iloc[:, :].astype(str).values.tolist()"
      ],
      "execution_count": null,
      "outputs": []
    },
    {
      "cell_type": "code",
      "metadata": {
        "id": "F6raNzlcS7cX",
        "colab_type": "code",
        "colab": {}
      },
      "source": [
        "TE = TransactionEncoder()\n",
        "array = TE.fit(records).transform(records)\n",
        "#building the data frame rows are logical and columns are the items have been purchased \n",
        "transf_df = pd.DataFrame(array, columns = TE.columns_)\n",
        "transf_df"
      ],
      "execution_count": null,
      "outputs": []
    },
    {
      "cell_type": "markdown",
      "metadata": {
        "id": "u1B5nGikHRPf",
        "colab_type": "text"
      },
      "source": [
        "Apriori module from mlxtend library provides fast and efficient apriori implementation."
      ]
    },
    {
      "cell_type": "code",
      "metadata": {
        "id": "T8iBYAArk3Mt",
        "colab_type": "code",
        "colab": {
          "base_uri": "https://localhost:8080/",
          "height": 195
        },
        "outputId": "e43483d4-33f2-412c-e176-0709266c0536"
      },
      "source": [
        "#I chose 0.01 minimum support\n",
        "a_rules = apriori(transf_df, min_support = 0.01, use_colnames = True)\n",
        "a_rules.head()"
      ],
      "execution_count": null,
      "outputs": [
        {
          "output_type": "execute_result",
          "data": {
            "text/html": [
              "<div>\n",
              "<style scoped>\n",
              "    .dataframe tbody tr th:only-of-type {\n",
              "        vertical-align: middle;\n",
              "    }\n",
              "\n",
              "    .dataframe tbody tr th {\n",
              "        vertical-align: top;\n",
              "    }\n",
              "\n",
              "    .dataframe thead th {\n",
              "        text-align: right;\n",
              "    }\n",
              "</style>\n",
              "<table border=\"1\" class=\"dataframe\">\n",
              "  <thead>\n",
              "    <tr style=\"text-align: right;\">\n",
              "      <th></th>\n",
              "      <th>support</th>\n",
              "      <th>itemsets</th>\n",
              "    </tr>\n",
              "  </thead>\n",
              "  <tbody>\n",
              "    <tr>\n",
              "      <th>0</th>\n",
              "      <td>1.000000</td>\n",
              "      <td>(0.0)</td>\n",
              "    </tr>\n",
              "    <tr>\n",
              "      <th>1</th>\n",
              "      <td>0.052027</td>\n",
              "      <td>(1.0)</td>\n",
              "    </tr>\n",
              "    <tr>\n",
              "      <th>2</th>\n",
              "      <td>0.013514</td>\n",
              "      <td>(10.0)</td>\n",
              "    </tr>\n",
              "    <tr>\n",
              "      <th>3</th>\n",
              "      <td>0.014189</td>\n",
              "      <td>(11.0)</td>\n",
              "    </tr>\n",
              "    <tr>\n",
              "      <th>4</th>\n",
              "      <td>0.015541</td>\n",
              "      <td>(12.0)</td>\n",
              "    </tr>\n",
              "  </tbody>\n",
              "</table>\n",
              "</div>"
            ],
            "text/plain": [
              "    support itemsets\n",
              "0  1.000000    (0.0)\n",
              "1  0.052027    (1.0)\n",
              "2  0.013514   (10.0)\n",
              "3  0.014189   (11.0)\n",
              "4  0.015541   (12.0)"
            ]
          },
          "metadata": {
            "tags": []
          },
          "execution_count": 74
        }
      ]
    },
    {
      "cell_type": "code",
      "metadata": {
        "id": "vTJ1cKrRlORJ",
        "colab_type": "code",
        "colab": {
          "base_uri": "https://localhost:8080/",
          "height": 168
        },
        "outputId": "38486064-1b95-4347-ec59-4b43006e30b1"
      },
      "source": [
        "a_rules.info()"
      ],
      "execution_count": null,
      "outputs": [
        {
          "output_type": "stream",
          "text": [
            "<class 'pandas.core.frame.DataFrame'>\n",
            "RangeIndex: 33 entries, 0 to 32\n",
            "Data columns (total 2 columns):\n",
            " #   Column    Non-Null Count  Dtype  \n",
            "---  ------    --------------  -----  \n",
            " 0   support   33 non-null     float64\n",
            " 1   itemsets  33 non-null     object \n",
            "dtypes: float64(1), object(1)\n",
            "memory usage: 656.0+ bytes\n"
          ],
          "name": "stdout"
        }
      ]
    },
    {
      "cell_type": "code",
      "metadata": {
        "id": "s_8qDN3nlG7m",
        "colab_type": "code",
        "colab": {
          "base_uri": "https://localhost:8080/",
          "height": 195
        },
        "outputId": "f1f49ab1-0f30-4cf3-ce2f-65ef02a257b6"
      },
      "source": [
        "rules = association_rules(a_rules, metric = 'lift', min_threshold = 1)\n",
        "rules.tail()"
      ],
      "execution_count": null,
      "outputs": [
        {
          "output_type": "execute_result",
          "data": {
            "text/html": [
              "<div>\n",
              "<style scoped>\n",
              "    .dataframe tbody tr th:only-of-type {\n",
              "        vertical-align: middle;\n",
              "    }\n",
              "\n",
              "    .dataframe tbody tr th {\n",
              "        vertical-align: top;\n",
              "    }\n",
              "\n",
              "    .dataframe thead th {\n",
              "        text-align: right;\n",
              "    }\n",
              "</style>\n",
              "<table border=\"1\" class=\"dataframe\">\n",
              "  <thead>\n",
              "    <tr style=\"text-align: right;\">\n",
              "      <th></th>\n",
              "      <th>antecedents</th>\n",
              "      <th>consequents</th>\n",
              "      <th>antecedent support</th>\n",
              "      <th>consequent support</th>\n",
              "      <th>support</th>\n",
              "      <th>confidence</th>\n",
              "      <th>lift</th>\n",
              "      <th>leverage</th>\n",
              "      <th>conviction</th>\n",
              "    </tr>\n",
              "  </thead>\n",
              "  <tbody>\n",
              "    <tr>\n",
              "      <th>27</th>\n",
              "      <td>(7.0)</td>\n",
              "      <td>(0.0)</td>\n",
              "      <td>0.014865</td>\n",
              "      <td>1.000000</td>\n",
              "      <td>0.014865</td>\n",
              "      <td>1.000000</td>\n",
              "      <td>1.0</td>\n",
              "      <td>0.0</td>\n",
              "      <td>inf</td>\n",
              "    </tr>\n",
              "    <tr>\n",
              "      <th>28</th>\n",
              "      <td>(0.0)</td>\n",
              "      <td>(8.0)</td>\n",
              "      <td>1.000000</td>\n",
              "      <td>0.019595</td>\n",
              "      <td>0.019595</td>\n",
              "      <td>0.019595</td>\n",
              "      <td>1.0</td>\n",
              "      <td>0.0</td>\n",
              "      <td>1.0</td>\n",
              "    </tr>\n",
              "    <tr>\n",
              "      <th>29</th>\n",
              "      <td>(8.0)</td>\n",
              "      <td>(0.0)</td>\n",
              "      <td>0.019595</td>\n",
              "      <td>1.000000</td>\n",
              "      <td>0.019595</td>\n",
              "      <td>1.000000</td>\n",
              "      <td>1.0</td>\n",
              "      <td>0.0</td>\n",
              "      <td>inf</td>\n",
              "    </tr>\n",
              "    <tr>\n",
              "      <th>30</th>\n",
              "      <td>(0.0)</td>\n",
              "      <td>(9.0)</td>\n",
              "      <td>1.000000</td>\n",
              "      <td>0.015541</td>\n",
              "      <td>0.015541</td>\n",
              "      <td>0.015541</td>\n",
              "      <td>1.0</td>\n",
              "      <td>0.0</td>\n",
              "      <td>1.0</td>\n",
              "    </tr>\n",
              "    <tr>\n",
              "      <th>31</th>\n",
              "      <td>(9.0)</td>\n",
              "      <td>(0.0)</td>\n",
              "      <td>0.015541</td>\n",
              "      <td>1.000000</td>\n",
              "      <td>0.015541</td>\n",
              "      <td>1.000000</td>\n",
              "      <td>1.0</td>\n",
              "      <td>0.0</td>\n",
              "      <td>inf</td>\n",
              "    </tr>\n",
              "  </tbody>\n",
              "</table>\n",
              "</div>"
            ],
            "text/plain": [
              "   antecedents consequents  antecedent support  ...  lift  leverage  conviction\n",
              "27       (7.0)       (0.0)            0.014865  ...   1.0       0.0         inf\n",
              "28       (0.0)       (8.0)            1.000000  ...   1.0       0.0         1.0\n",
              "29       (8.0)       (0.0)            0.019595  ...   1.0       0.0         inf\n",
              "30       (0.0)       (9.0)            1.000000  ...   1.0       0.0         1.0\n",
              "31       (9.0)       (0.0)            0.015541  ...   1.0       0.0         inf\n",
              "\n",
              "[5 rows x 9 columns]"
            ]
          },
          "metadata": {
            "tags": []
          },
          "execution_count": 76
        }
      ]
    },
    {
      "cell_type": "code",
      "metadata": {
        "id": "XRGb_UwQnuhB",
        "colab_type": "code",
        "colab": {
          "base_uri": "https://localhost:8080/",
          "height": 521
        },
        "outputId": "2717af19-ae0f-48cc-c89b-d253c2effee9"
      },
      "source": [
        "# Getting the results for LIFT above 1 and CONFIDENCE above 0.1\n",
        "\n",
        "rules[ (rules['lift'] >= 1) &\n",
        "       (rules['confidence'] >= 0.1) ]"
      ],
      "execution_count": null,
      "outputs": [
        {
          "output_type": "execute_result",
          "data": {
            "text/html": [
              "<div>\n",
              "<style scoped>\n",
              "    .dataframe tbody tr th:only-of-type {\n",
              "        vertical-align: middle;\n",
              "    }\n",
              "\n",
              "    .dataframe tbody tr th {\n",
              "        vertical-align: top;\n",
              "    }\n",
              "\n",
              "    .dataframe thead th {\n",
              "        text-align: right;\n",
              "    }\n",
              "</style>\n",
              "<table border=\"1\" class=\"dataframe\">\n",
              "  <thead>\n",
              "    <tr style=\"text-align: right;\">\n",
              "      <th></th>\n",
              "      <th>antecedents</th>\n",
              "      <th>consequents</th>\n",
              "      <th>antecedent support</th>\n",
              "      <th>consequent support</th>\n",
              "      <th>support</th>\n",
              "      <th>confidence</th>\n",
              "      <th>lift</th>\n",
              "      <th>leverage</th>\n",
              "      <th>conviction</th>\n",
              "    </tr>\n",
              "  </thead>\n",
              "  <tbody>\n",
              "    <tr>\n",
              "      <th>1</th>\n",
              "      <td>(1.0)</td>\n",
              "      <td>(0.0)</td>\n",
              "      <td>0.052027</td>\n",
              "      <td>1.0</td>\n",
              "      <td>0.052027</td>\n",
              "      <td>1.0</td>\n",
              "      <td>1.0</td>\n",
              "      <td>0.0</td>\n",
              "      <td>inf</td>\n",
              "    </tr>\n",
              "    <tr>\n",
              "      <th>3</th>\n",
              "      <td>(10.0)</td>\n",
              "      <td>(0.0)</td>\n",
              "      <td>0.013514</td>\n",
              "      <td>1.0</td>\n",
              "      <td>0.013514</td>\n",
              "      <td>1.0</td>\n",
              "      <td>1.0</td>\n",
              "      <td>0.0</td>\n",
              "      <td>inf</td>\n",
              "    </tr>\n",
              "    <tr>\n",
              "      <th>5</th>\n",
              "      <td>(11.0)</td>\n",
              "      <td>(0.0)</td>\n",
              "      <td>0.014189</td>\n",
              "      <td>1.0</td>\n",
              "      <td>0.014189</td>\n",
              "      <td>1.0</td>\n",
              "      <td>1.0</td>\n",
              "      <td>0.0</td>\n",
              "      <td>inf</td>\n",
              "    </tr>\n",
              "    <tr>\n",
              "      <th>7</th>\n",
              "      <td>(12.0)</td>\n",
              "      <td>(0.0)</td>\n",
              "      <td>0.015541</td>\n",
              "      <td>1.0</td>\n",
              "      <td>0.015541</td>\n",
              "      <td>1.0</td>\n",
              "      <td>1.0</td>\n",
              "      <td>0.0</td>\n",
              "      <td>inf</td>\n",
              "    </tr>\n",
              "    <tr>\n",
              "      <th>9</th>\n",
              "      <td>(13.0)</td>\n",
              "      <td>(0.0)</td>\n",
              "      <td>0.013514</td>\n",
              "      <td>1.0</td>\n",
              "      <td>0.013514</td>\n",
              "      <td>1.0</td>\n",
              "      <td>1.0</td>\n",
              "      <td>0.0</td>\n",
              "      <td>inf</td>\n",
              "    </tr>\n",
              "    <tr>\n",
              "      <th>11</th>\n",
              "      <td>(15.0)</td>\n",
              "      <td>(0.0)</td>\n",
              "      <td>0.012162</td>\n",
              "      <td>1.0</td>\n",
              "      <td>0.012162</td>\n",
              "      <td>1.0</td>\n",
              "      <td>1.0</td>\n",
              "      <td>0.0</td>\n",
              "      <td>inf</td>\n",
              "    </tr>\n",
              "    <tr>\n",
              "      <th>13</th>\n",
              "      <td>(16.0)</td>\n",
              "      <td>(0.0)</td>\n",
              "      <td>0.010135</td>\n",
              "      <td>1.0</td>\n",
              "      <td>0.010135</td>\n",
              "      <td>1.0</td>\n",
              "      <td>1.0</td>\n",
              "      <td>0.0</td>\n",
              "      <td>inf</td>\n",
              "    </tr>\n",
              "    <tr>\n",
              "      <th>15</th>\n",
              "      <td>(18.0)</td>\n",
              "      <td>(0.0)</td>\n",
              "      <td>0.010135</td>\n",
              "      <td>1.0</td>\n",
              "      <td>0.010135</td>\n",
              "      <td>1.0</td>\n",
              "      <td>1.0</td>\n",
              "      <td>0.0</td>\n",
              "      <td>inf</td>\n",
              "    </tr>\n",
              "    <tr>\n",
              "      <th>17</th>\n",
              "      <td>(2.0)</td>\n",
              "      <td>(0.0)</td>\n",
              "      <td>0.039189</td>\n",
              "      <td>1.0</td>\n",
              "      <td>0.039189</td>\n",
              "      <td>1.0</td>\n",
              "      <td>1.0</td>\n",
              "      <td>0.0</td>\n",
              "      <td>inf</td>\n",
              "    </tr>\n",
              "    <tr>\n",
              "      <th>19</th>\n",
              "      <td>(3.0)</td>\n",
              "      <td>(0.0)</td>\n",
              "      <td>0.028378</td>\n",
              "      <td>1.0</td>\n",
              "      <td>0.028378</td>\n",
              "      <td>1.0</td>\n",
              "      <td>1.0</td>\n",
              "      <td>0.0</td>\n",
              "      <td>inf</td>\n",
              "    </tr>\n",
              "    <tr>\n",
              "      <th>21</th>\n",
              "      <td>(4.0)</td>\n",
              "      <td>(0.0)</td>\n",
              "      <td>0.030405</td>\n",
              "      <td>1.0</td>\n",
              "      <td>0.030405</td>\n",
              "      <td>1.0</td>\n",
              "      <td>1.0</td>\n",
              "      <td>0.0</td>\n",
              "      <td>inf</td>\n",
              "    </tr>\n",
              "    <tr>\n",
              "      <th>23</th>\n",
              "      <td>(5.0)</td>\n",
              "      <td>(0.0)</td>\n",
              "      <td>0.021622</td>\n",
              "      <td>1.0</td>\n",
              "      <td>0.021622</td>\n",
              "      <td>1.0</td>\n",
              "      <td>1.0</td>\n",
              "      <td>0.0</td>\n",
              "      <td>inf</td>\n",
              "    </tr>\n",
              "    <tr>\n",
              "      <th>25</th>\n",
              "      <td>(6.0)</td>\n",
              "      <td>(0.0)</td>\n",
              "      <td>0.030405</td>\n",
              "      <td>1.0</td>\n",
              "      <td>0.030405</td>\n",
              "      <td>1.0</td>\n",
              "      <td>1.0</td>\n",
              "      <td>0.0</td>\n",
              "      <td>inf</td>\n",
              "    </tr>\n",
              "    <tr>\n",
              "      <th>27</th>\n",
              "      <td>(7.0)</td>\n",
              "      <td>(0.0)</td>\n",
              "      <td>0.014865</td>\n",
              "      <td>1.0</td>\n",
              "      <td>0.014865</td>\n",
              "      <td>1.0</td>\n",
              "      <td>1.0</td>\n",
              "      <td>0.0</td>\n",
              "      <td>inf</td>\n",
              "    </tr>\n",
              "    <tr>\n",
              "      <th>29</th>\n",
              "      <td>(8.0)</td>\n",
              "      <td>(0.0)</td>\n",
              "      <td>0.019595</td>\n",
              "      <td>1.0</td>\n",
              "      <td>0.019595</td>\n",
              "      <td>1.0</td>\n",
              "      <td>1.0</td>\n",
              "      <td>0.0</td>\n",
              "      <td>inf</td>\n",
              "    </tr>\n",
              "    <tr>\n",
              "      <th>31</th>\n",
              "      <td>(9.0)</td>\n",
              "      <td>(0.0)</td>\n",
              "      <td>0.015541</td>\n",
              "      <td>1.0</td>\n",
              "      <td>0.015541</td>\n",
              "      <td>1.0</td>\n",
              "      <td>1.0</td>\n",
              "      <td>0.0</td>\n",
              "      <td>inf</td>\n",
              "    </tr>\n",
              "  </tbody>\n",
              "</table>\n",
              "</div>"
            ],
            "text/plain": [
              "   antecedents consequents  antecedent support  ...  lift  leverage  conviction\n",
              "1        (1.0)       (0.0)            0.052027  ...   1.0       0.0         inf\n",
              "3       (10.0)       (0.0)            0.013514  ...   1.0       0.0         inf\n",
              "5       (11.0)       (0.0)            0.014189  ...   1.0       0.0         inf\n",
              "7       (12.0)       (0.0)            0.015541  ...   1.0       0.0         inf\n",
              "9       (13.0)       (0.0)            0.013514  ...   1.0       0.0         inf\n",
              "11      (15.0)       (0.0)            0.012162  ...   1.0       0.0         inf\n",
              "13      (16.0)       (0.0)            0.010135  ...   1.0       0.0         inf\n",
              "15      (18.0)       (0.0)            0.010135  ...   1.0       0.0         inf\n",
              "17       (2.0)       (0.0)            0.039189  ...   1.0       0.0         inf\n",
              "19       (3.0)       (0.0)            0.028378  ...   1.0       0.0         inf\n",
              "21       (4.0)       (0.0)            0.030405  ...   1.0       0.0         inf\n",
              "23       (5.0)       (0.0)            0.021622  ...   1.0       0.0         inf\n",
              "25       (6.0)       (0.0)            0.030405  ...   1.0       0.0         inf\n",
              "27       (7.0)       (0.0)            0.014865  ...   1.0       0.0         inf\n",
              "29       (8.0)       (0.0)            0.019595  ...   1.0       0.0         inf\n",
              "31       (9.0)       (0.0)            0.015541  ...   1.0       0.0         inf\n",
              "\n",
              "[16 rows x 9 columns]"
            ]
          },
          "metadata": {
            "tags": []
          },
          "execution_count": 77
        }
      ]
    },
    {
      "cell_type": "markdown",
      "metadata": {
        "id": "eKPGYAuWWB5f",
        "colab_type": "text"
      },
      "source": [
        "#### Test data"
      ]
    },
    {
      "cell_type": "code",
      "metadata": {
        "id": "VWWLW_jkWDAf",
        "colab_type": "code",
        "colab": {
          "base_uri": "https://localhost:8080/",
          "height": 218
        },
        "outputId": "61375b35-cb91-45da-b358-7a6e9cd97d63"
      },
      "source": [
        "order_products_test.info()"
      ],
      "execution_count": null,
      "outputs": [
        {
          "output_type": "stream",
          "text": [
            "<class 'pandas.core.frame.DataFrame'>\n",
            "RangeIndex: 316449 entries, 0 to 316448\n",
            "Data columns (total 5 columns):\n",
            " #   Column             Non-Null Count   Dtype\n",
            "---  ------             --------------   -----\n",
            " 0   Unnamed: 0         316449 non-null  int64\n",
            " 1   order_id           316449 non-null  int64\n",
            " 2   product_id         316449 non-null  int64\n",
            " 3   add_to_cart_order  316449 non-null  int64\n",
            " 4   reordered          316449 non-null  int64\n",
            "dtypes: int64(5)\n",
            "memory usage: 12.1 MB\n"
          ],
          "name": "stdout"
        }
      ]
    },
    {
      "cell_type": "code",
      "metadata": {
        "id": "vUCbXtWYWUl8",
        "colab_type": "code",
        "colab": {
          "base_uri": "https://localhost:8080/",
          "height": 195
        },
        "outputId": "0ed1f12d-a8f5-4756-943b-d5db7fec725c"
      },
      "source": [
        "products.head()"
      ],
      "execution_count": null,
      "outputs": [
        {
          "output_type": "execute_result",
          "data": {
            "text/html": [
              "<div>\n",
              "<style scoped>\n",
              "    .dataframe tbody tr th:only-of-type {\n",
              "        vertical-align: middle;\n",
              "    }\n",
              "\n",
              "    .dataframe tbody tr th {\n",
              "        vertical-align: top;\n",
              "    }\n",
              "\n",
              "    .dataframe thead th {\n",
              "        text-align: right;\n",
              "    }\n",
              "</style>\n",
              "<table border=\"1\" class=\"dataframe\">\n",
              "  <thead>\n",
              "    <tr style=\"text-align: right;\">\n",
              "      <th></th>\n",
              "      <th>product_id</th>\n",
              "      <th>product_name</th>\n",
              "      <th>aisle_id</th>\n",
              "      <th>department_id</th>\n",
              "    </tr>\n",
              "  </thead>\n",
              "  <tbody>\n",
              "    <tr>\n",
              "      <th>0</th>\n",
              "      <td>1</td>\n",
              "      <td>Chocolate Sandwich Cookies</td>\n",
              "      <td>61</td>\n",
              "      <td>19</td>\n",
              "    </tr>\n",
              "    <tr>\n",
              "      <th>1</th>\n",
              "      <td>2</td>\n",
              "      <td>All-Seasons Salt</td>\n",
              "      <td>104</td>\n",
              "      <td>13</td>\n",
              "    </tr>\n",
              "    <tr>\n",
              "      <th>2</th>\n",
              "      <td>3</td>\n",
              "      <td>Robust Golden Unsweetened Oolong Tea</td>\n",
              "      <td>94</td>\n",
              "      <td>7</td>\n",
              "    </tr>\n",
              "    <tr>\n",
              "      <th>3</th>\n",
              "      <td>4</td>\n",
              "      <td>Smart Ones Classic Favorites Mini Rigatoni Wit...</td>\n",
              "      <td>38</td>\n",
              "      <td>1</td>\n",
              "    </tr>\n",
              "    <tr>\n",
              "      <th>4</th>\n",
              "      <td>5</td>\n",
              "      <td>Green Chile Anytime Sauce</td>\n",
              "      <td>5</td>\n",
              "      <td>13</td>\n",
              "    </tr>\n",
              "  </tbody>\n",
              "</table>\n",
              "</div>"
            ],
            "text/plain": [
              "   product_id  ... department_id\n",
              "0           1  ...            19\n",
              "1           2  ...            13\n",
              "2           3  ...             7\n",
              "3           4  ...             1\n",
              "4           5  ...            13\n",
              "\n",
              "[5 rows x 4 columns]"
            ]
          },
          "metadata": {
            "tags": []
          },
          "execution_count": 4
        }
      ]
    },
    {
      "cell_type": "code",
      "metadata": {
        "id": "NtRV0qucXN7f",
        "colab_type": "code",
        "colab": {
          "base_uri": "https://localhost:8080/",
          "height": 34
        },
        "outputId": "aeb37a5d-e049-4414-ecb5-c5936f03cdff"
      },
      "source": [
        "test = pd.merge(order_products_test, products[['product_name','product_id','department_id']], how ='left', on='product_id')\n",
        "test.shape"
      ],
      "execution_count": null,
      "outputs": [
        {
          "output_type": "execute_result",
          "data": {
            "text/plain": [
              "(316449, 7)"
            ]
          },
          "metadata": {
            "tags": []
          },
          "execution_count": 4
        }
      ]
    },
    {
      "cell_type": "code",
      "metadata": {
        "id": "a17i7dXFXn8b",
        "colab_type": "code",
        "colab": {
          "base_uri": "https://localhost:8080/",
          "height": 34
        },
        "outputId": "ac2d3fe8-61c0-4260-9d54-36f5920c4a68"
      },
      "source": [
        "# Taken department_id = 2, same as the training dataset for the purpose of analysis\n",
        "test_basket = test[test['department_id']==2]\n",
        "test_basket.shape"
      ],
      "execution_count": null,
      "outputs": [
        {
          "output_type": "execute_result",
          "data": {
            "text/plain": [
              "(437, 7)"
            ]
          },
          "metadata": {
            "tags": []
          },
          "execution_count": 11
        }
      ]
    },
    {
      "cell_type": "code",
      "metadata": {
        "id": "-mcdcvh3X5t-",
        "colab_type": "code",
        "colab": {
          "base_uri": "https://localhost:8080/",
          "height": 101
        },
        "outputId": "ac8908ec-06f4-4d70-abc1-2720301cf3bb"
      },
      "source": [
        "#remove unnamed column and columns not required\n",
        "test_basket.drop(test_basket.filter(regex=\"Unname\"),axis=1, inplace=True)"
      ],
      "execution_count": null,
      "outputs": [
        {
          "output_type": "stream",
          "text": [
            "/usr/local/lib/python3.6/dist-packages/pandas/core/frame.py:3997: SettingWithCopyWarning: \n",
            "A value is trying to be set on a copy of a slice from a DataFrame\n",
            "\n",
            "See the caveats in the documentation: https://pandas.pydata.org/pandas-docs/stable/user_guide/indexing.html#returning-a-view-versus-a-copy\n",
            "  errors=errors,\n"
          ],
          "name": "stderr"
        }
      ]
    },
    {
      "cell_type": "code",
      "metadata": {
        "id": "TPqmasFoXbWo",
        "colab_type": "code",
        "colab": {
          "base_uri": "https://localhost:8080/",
          "height": 569
        },
        "outputId": "554e5b05-384c-4e9c-f5bb-a2500e124f72"
      },
      "source": [
        "basket_2 = test_basket.groupby(['product_id', 'product_name'])['reordered'].sum().unstack().reset_index().fillna(0).set_index('product_id')\n",
        "basket_2"
      ],
      "execution_count": null,
      "outputs": [
        {
          "output_type": "execute_result",
          "data": {
            "text/html": [
              "<div>\n",
              "<style scoped>\n",
              "    .dataframe tbody tr th:only-of-type {\n",
              "        vertical-align: middle;\n",
              "    }\n",
              "\n",
              "    .dataframe tbody tr th {\n",
              "        vertical-align: top;\n",
              "    }\n",
              "\n",
              "    .dataframe thead th {\n",
              "        text-align: right;\n",
              "    }\n",
              "</style>\n",
              "<table border=\"1\" class=\"dataframe\">\n",
              "  <thead>\n",
              "    <tr style=\"text-align: right;\">\n",
              "      <th>product_name</th>\n",
              "      <th>100% Pure Eucalyptus</th>\n",
              "      <th>3mg Melatonin Dietary Supplement Tablets - 240 CT</th>\n",
              "      <th>93/7 Ground Beef</th>\n",
              "      <th>AA Rechargeable Nickel Metal Hydride Batteries</th>\n",
              "      <th>Agar Agar Powder</th>\n",
              "      <th>All Purpose Precision Tip 2 Pack</th>\n",
              "      <th>Antibacterial Liquid Hand Soap Fresh Citrus</th>\n",
              "      <th>Arrowroot Powder</th>\n",
              "      <th>Baby Eczema Relief Body Creme</th>\n",
              "      <th>Baby Eczema Therapy Soothing Bath Treatment</th>\n",
              "      <th>Baby Healing Ointment</th>\n",
              "      <th>Baby's Jarro-Dophilus +FOS Powder Probiotic Supplement</th>\n",
              "      <th>BabyRub® Soothing Ointment</th>\n",
              "      <th>Bareskin Premium Lubricant Condoms Sensitivity</th>\n",
              "      <th>Beef Chuck Roast</th>\n",
              "      <th>Beef Flank Steak</th>\n",
              "      <th>Black Chia Seeds</th>\n",
              "      <th>Black Pepper Grinder</th>\n",
              "      <th>Bloody Mary Mix</th>\n",
              "      <th>Bold &amp; Spicy Bloody Mary Mix</th>\n",
              "      <th>Brightening Hydro Serum Facial Mask</th>\n",
              "      <th>Butt Paste Original Diaper Rash Ointment</th>\n",
              "      <th>Calendula with Beeswax &amp; Sunflower Zinc Oxide Diaper Cream</th>\n",
              "      <th>California Blush Pink Champagne</th>\n",
              "      <th>California White Zinfandel</th>\n",
              "      <th>Camilia, Single Liquid Doses</th>\n",
              "      <th>Candle Lighter</th>\n",
              "      <th>Caramelized Pecans</th>\n",
              "      <th>Cherry Flavor Natural Calm Anti-Stress Drink</th>\n",
              "      <th>Cherry Vanilla Granola</th>\n",
              "      <th>Children's Chestal Homeopathic Medicine</th>\n",
              "      <th>Cinnamon Vanilla Creme Liquid Coffee Creamer</th>\n",
              "      <th>Classic Lime Margarita</th>\n",
              "      <th>Classic Margarita Mix</th>\n",
              "      <th>Classic Vanilla Coffee Creamer</th>\n",
              "      <th>Cocktail Mixer, Mojito</th>\n",
              "      <th>Coconut Almond Granola</th>\n",
              "      <th>Coconut Flour</th>\n",
              "      <th>Coffee Mate French Vanilla Creamer Packets</th>\n",
              "      <th>Condoms, Premium Latex, Ultra Thin, Premium Lubricant</th>\n",
              "      <th>...</th>\n",
              "      <th>Rose Wine</th>\n",
              "      <th>Safety Swabs Cotton Products</th>\n",
              "      <th>Salted Mixed Nuts</th>\n",
              "      <th>Sambucus Nighttime Standardized Elderberry</th>\n",
              "      <th>SleepGels Nighttime Sleep Aid</th>\n",
              "      <th>SleepTabs Nighttime Sleep Aid</th>\n",
              "      <th>Spicy Salmon Roll</th>\n",
              "      <th>Spring Water Refill Liquid Hand Soap</th>\n",
              "      <th>Stella Pink Semi-Sweet</th>\n",
              "      <th>Stimulations Ecstasy Ultrasmooth Lubricant Premium Latex Condoms</th>\n",
              "      <th>Strike On Box Matches</th>\n",
              "      <th>Sunflower Seeds</th>\n",
              "      <th>Super Cleanse Tablets</th>\n",
              "      <th>Super Glue, All Purpose, Brush</th>\n",
              "      <th>Sweetened Lime Juice</th>\n",
              "      <th>Sweets Organic Lollipops</th>\n",
              "      <th>Tahini Sesame Paste</th>\n",
              "      <th>Tape</th>\n",
              "      <th>The Original Margarita Mix</th>\n",
              "      <th>Toe Nail Clip</th>\n",
              "      <th>Traditional Panettone</th>\n",
              "      <th>Tropical Fruit Electrolyte Solution</th>\n",
              "      <th>Turbinado Sugar</th>\n",
              "      <th>Ultimate Intensive Healing Hand Cream</th>\n",
              "      <th>Ultra Thin Armor Spermicidal Lubricant Condoms</th>\n",
              "      <th>UltraGel Personal Lubricant</th>\n",
              "      <th>Unsalted Roasted Cashews</th>\n",
              "      <th>Vitamin Code Kids Chewable Whole Food Multivitamin For Kids Cherry Berry</th>\n",
              "      <th>Walnuts</th>\n",
              "      <th>Watch 2032BP Batteries</th>\n",
              "      <th>Water Based Personal Lubricant</th>\n",
              "      <th>Whispering Angel Rosé</th>\n",
              "      <th>White Zinfandel</th>\n",
              "      <th>Whole Bay Leaves</th>\n",
              "      <th>Whole Raw Brazil Nuts</th>\n",
              "      <th>Yogurt Covered Almonds</th>\n",
              "      <th>Yogurt Peanut Clusters</th>\n",
              "      <th>Zahatar Seasoning</th>\n",
              "      <th>Zen Party Mix</th>\n",
              "      <th>Zero Calorie Tonic Water</th>\n",
              "    </tr>\n",
              "    <tr>\n",
              "      <th>product_id</th>\n",
              "      <th></th>\n",
              "      <th></th>\n",
              "      <th></th>\n",
              "      <th></th>\n",
              "      <th></th>\n",
              "      <th></th>\n",
              "      <th></th>\n",
              "      <th></th>\n",
              "      <th></th>\n",
              "      <th></th>\n",
              "      <th></th>\n",
              "      <th></th>\n",
              "      <th></th>\n",
              "      <th></th>\n",
              "      <th></th>\n",
              "      <th></th>\n",
              "      <th></th>\n",
              "      <th></th>\n",
              "      <th></th>\n",
              "      <th></th>\n",
              "      <th></th>\n",
              "      <th></th>\n",
              "      <th></th>\n",
              "      <th></th>\n",
              "      <th></th>\n",
              "      <th></th>\n",
              "      <th></th>\n",
              "      <th></th>\n",
              "      <th></th>\n",
              "      <th></th>\n",
              "      <th></th>\n",
              "      <th></th>\n",
              "      <th></th>\n",
              "      <th></th>\n",
              "      <th></th>\n",
              "      <th></th>\n",
              "      <th></th>\n",
              "      <th></th>\n",
              "      <th></th>\n",
              "      <th></th>\n",
              "      <th></th>\n",
              "      <th></th>\n",
              "      <th></th>\n",
              "      <th></th>\n",
              "      <th></th>\n",
              "      <th></th>\n",
              "      <th></th>\n",
              "      <th></th>\n",
              "      <th></th>\n",
              "      <th></th>\n",
              "      <th></th>\n",
              "      <th></th>\n",
              "      <th></th>\n",
              "      <th></th>\n",
              "      <th></th>\n",
              "      <th></th>\n",
              "      <th></th>\n",
              "      <th></th>\n",
              "      <th></th>\n",
              "      <th></th>\n",
              "      <th></th>\n",
              "      <th></th>\n",
              "      <th></th>\n",
              "      <th></th>\n",
              "      <th></th>\n",
              "      <th></th>\n",
              "      <th></th>\n",
              "      <th></th>\n",
              "      <th></th>\n",
              "      <th></th>\n",
              "      <th></th>\n",
              "      <th></th>\n",
              "      <th></th>\n",
              "      <th></th>\n",
              "      <th></th>\n",
              "      <th></th>\n",
              "      <th></th>\n",
              "      <th></th>\n",
              "      <th></th>\n",
              "      <th></th>\n",
              "      <th></th>\n",
              "    </tr>\n",
              "  </thead>\n",
              "  <tbody>\n",
              "    <tr>\n",
              "      <th>86</th>\n",
              "      <td>0.0</td>\n",
              "      <td>0.0</td>\n",
              "      <td>0.0</td>\n",
              "      <td>0.0</td>\n",
              "      <td>0.0</td>\n",
              "      <td>0.0</td>\n",
              "      <td>0.0</td>\n",
              "      <td>0.0</td>\n",
              "      <td>0.0</td>\n",
              "      <td>0.0</td>\n",
              "      <td>0.0</td>\n",
              "      <td>0.0</td>\n",
              "      <td>0.0</td>\n",
              "      <td>0.0</td>\n",
              "      <td>0.0</td>\n",
              "      <td>0.0</td>\n",
              "      <td>0.0</td>\n",
              "      <td>0.0</td>\n",
              "      <td>0.0</td>\n",
              "      <td>0.0</td>\n",
              "      <td>0.0</td>\n",
              "      <td>0.0</td>\n",
              "      <td>0.0</td>\n",
              "      <td>0.0</td>\n",
              "      <td>0.0</td>\n",
              "      <td>1.0</td>\n",
              "      <td>0.0</td>\n",
              "      <td>0.0</td>\n",
              "      <td>0.0</td>\n",
              "      <td>0.0</td>\n",
              "      <td>0.0</td>\n",
              "      <td>0.0</td>\n",
              "      <td>0.0</td>\n",
              "      <td>0.0</td>\n",
              "      <td>0.0</td>\n",
              "      <td>0.0</td>\n",
              "      <td>0.0</td>\n",
              "      <td>0.0</td>\n",
              "      <td>0.0</td>\n",
              "      <td>0.0</td>\n",
              "      <td>...</td>\n",
              "      <td>0.0</td>\n",
              "      <td>0.0</td>\n",
              "      <td>0.0</td>\n",
              "      <td>0.0</td>\n",
              "      <td>0.0</td>\n",
              "      <td>0.0</td>\n",
              "      <td>0.0</td>\n",
              "      <td>0.0</td>\n",
              "      <td>0.0</td>\n",
              "      <td>0.0</td>\n",
              "      <td>0.0</td>\n",
              "      <td>0.0</td>\n",
              "      <td>0.0</td>\n",
              "      <td>0.0</td>\n",
              "      <td>0.0</td>\n",
              "      <td>0.0</td>\n",
              "      <td>0.0</td>\n",
              "      <td>0.0</td>\n",
              "      <td>0.0</td>\n",
              "      <td>0.0</td>\n",
              "      <td>0.0</td>\n",
              "      <td>0.0</td>\n",
              "      <td>0.0</td>\n",
              "      <td>0.0</td>\n",
              "      <td>0.0</td>\n",
              "      <td>0.0</td>\n",
              "      <td>0.0</td>\n",
              "      <td>0.0</td>\n",
              "      <td>0.0</td>\n",
              "      <td>0.0</td>\n",
              "      <td>0.0</td>\n",
              "      <td>0.0</td>\n",
              "      <td>0.0</td>\n",
              "      <td>0.0</td>\n",
              "      <td>0.0</td>\n",
              "      <td>0.0</td>\n",
              "      <td>0.0</td>\n",
              "      <td>0.0</td>\n",
              "      <td>0.0</td>\n",
              "      <td>0.0</td>\n",
              "    </tr>\n",
              "    <tr>\n",
              "      <th>506</th>\n",
              "      <td>0.0</td>\n",
              "      <td>0.0</td>\n",
              "      <td>0.0</td>\n",
              "      <td>0.0</td>\n",
              "      <td>0.0</td>\n",
              "      <td>0.0</td>\n",
              "      <td>0.0</td>\n",
              "      <td>1.0</td>\n",
              "      <td>0.0</td>\n",
              "      <td>0.0</td>\n",
              "      <td>0.0</td>\n",
              "      <td>0.0</td>\n",
              "      <td>0.0</td>\n",
              "      <td>0.0</td>\n",
              "      <td>0.0</td>\n",
              "      <td>0.0</td>\n",
              "      <td>0.0</td>\n",
              "      <td>0.0</td>\n",
              "      <td>0.0</td>\n",
              "      <td>0.0</td>\n",
              "      <td>0.0</td>\n",
              "      <td>0.0</td>\n",
              "      <td>0.0</td>\n",
              "      <td>0.0</td>\n",
              "      <td>0.0</td>\n",
              "      <td>0.0</td>\n",
              "      <td>0.0</td>\n",
              "      <td>0.0</td>\n",
              "      <td>0.0</td>\n",
              "      <td>0.0</td>\n",
              "      <td>0.0</td>\n",
              "      <td>0.0</td>\n",
              "      <td>0.0</td>\n",
              "      <td>0.0</td>\n",
              "      <td>0.0</td>\n",
              "      <td>0.0</td>\n",
              "      <td>0.0</td>\n",
              "      <td>0.0</td>\n",
              "      <td>0.0</td>\n",
              "      <td>0.0</td>\n",
              "      <td>...</td>\n",
              "      <td>0.0</td>\n",
              "      <td>0.0</td>\n",
              "      <td>0.0</td>\n",
              "      <td>0.0</td>\n",
              "      <td>0.0</td>\n",
              "      <td>0.0</td>\n",
              "      <td>0.0</td>\n",
              "      <td>0.0</td>\n",
              "      <td>0.0</td>\n",
              "      <td>0.0</td>\n",
              "      <td>0.0</td>\n",
              "      <td>0.0</td>\n",
              "      <td>0.0</td>\n",
              "      <td>0.0</td>\n",
              "      <td>0.0</td>\n",
              "      <td>0.0</td>\n",
              "      <td>0.0</td>\n",
              "      <td>0.0</td>\n",
              "      <td>0.0</td>\n",
              "      <td>0.0</td>\n",
              "      <td>0.0</td>\n",
              "      <td>0.0</td>\n",
              "      <td>0.0</td>\n",
              "      <td>0.0</td>\n",
              "      <td>0.0</td>\n",
              "      <td>0.0</td>\n",
              "      <td>0.0</td>\n",
              "      <td>0.0</td>\n",
              "      <td>0.0</td>\n",
              "      <td>0.0</td>\n",
              "      <td>0.0</td>\n",
              "      <td>0.0</td>\n",
              "      <td>0.0</td>\n",
              "      <td>0.0</td>\n",
              "      <td>0.0</td>\n",
              "      <td>0.0</td>\n",
              "      <td>0.0</td>\n",
              "      <td>0.0</td>\n",
              "      <td>0.0</td>\n",
              "      <td>0.0</td>\n",
              "    </tr>\n",
              "    <tr>\n",
              "      <th>535</th>\n",
              "      <td>0.0</td>\n",
              "      <td>0.0</td>\n",
              "      <td>0.0</td>\n",
              "      <td>0.0</td>\n",
              "      <td>0.0</td>\n",
              "      <td>0.0</td>\n",
              "      <td>0.0</td>\n",
              "      <td>0.0</td>\n",
              "      <td>0.0</td>\n",
              "      <td>0.0</td>\n",
              "      <td>0.0</td>\n",
              "      <td>0.0</td>\n",
              "      <td>0.0</td>\n",
              "      <td>0.0</td>\n",
              "      <td>0.0</td>\n",
              "      <td>0.0</td>\n",
              "      <td>0.0</td>\n",
              "      <td>0.0</td>\n",
              "      <td>0.0</td>\n",
              "      <td>0.0</td>\n",
              "      <td>0.0</td>\n",
              "      <td>0.0</td>\n",
              "      <td>0.0</td>\n",
              "      <td>0.0</td>\n",
              "      <td>0.0</td>\n",
              "      <td>0.0</td>\n",
              "      <td>0.0</td>\n",
              "      <td>0.0</td>\n",
              "      <td>0.0</td>\n",
              "      <td>0.0</td>\n",
              "      <td>0.0</td>\n",
              "      <td>0.0</td>\n",
              "      <td>0.0</td>\n",
              "      <td>0.0</td>\n",
              "      <td>0.0</td>\n",
              "      <td>0.0</td>\n",
              "      <td>0.0</td>\n",
              "      <td>0.0</td>\n",
              "      <td>0.0</td>\n",
              "      <td>0.0</td>\n",
              "      <td>...</td>\n",
              "      <td>0.0</td>\n",
              "      <td>0.0</td>\n",
              "      <td>0.0</td>\n",
              "      <td>0.0</td>\n",
              "      <td>0.0</td>\n",
              "      <td>0.0</td>\n",
              "      <td>0.0</td>\n",
              "      <td>0.0</td>\n",
              "      <td>0.0</td>\n",
              "      <td>0.0</td>\n",
              "      <td>0.0</td>\n",
              "      <td>0.0</td>\n",
              "      <td>0.0</td>\n",
              "      <td>0.0</td>\n",
              "      <td>0.0</td>\n",
              "      <td>0.0</td>\n",
              "      <td>0.0</td>\n",
              "      <td>0.0</td>\n",
              "      <td>0.0</td>\n",
              "      <td>0.0</td>\n",
              "      <td>0.0</td>\n",
              "      <td>0.0</td>\n",
              "      <td>0.0</td>\n",
              "      <td>0.0</td>\n",
              "      <td>0.0</td>\n",
              "      <td>0.0</td>\n",
              "      <td>0.0</td>\n",
              "      <td>0.0</td>\n",
              "      <td>0.0</td>\n",
              "      <td>0.0</td>\n",
              "      <td>0.0</td>\n",
              "      <td>0.0</td>\n",
              "      <td>0.0</td>\n",
              "      <td>0.0</td>\n",
              "      <td>0.0</td>\n",
              "      <td>0.0</td>\n",
              "      <td>0.0</td>\n",
              "      <td>0.0</td>\n",
              "      <td>0.0</td>\n",
              "      <td>0.0</td>\n",
              "    </tr>\n",
              "    <tr>\n",
              "      <th>1010</th>\n",
              "      <td>0.0</td>\n",
              "      <td>0.0</td>\n",
              "      <td>0.0</td>\n",
              "      <td>0.0</td>\n",
              "      <td>0.0</td>\n",
              "      <td>0.0</td>\n",
              "      <td>0.0</td>\n",
              "      <td>0.0</td>\n",
              "      <td>0.0</td>\n",
              "      <td>0.0</td>\n",
              "      <td>0.0</td>\n",
              "      <td>0.0</td>\n",
              "      <td>0.0</td>\n",
              "      <td>0.0</td>\n",
              "      <td>0.0</td>\n",
              "      <td>0.0</td>\n",
              "      <td>0.0</td>\n",
              "      <td>0.0</td>\n",
              "      <td>0.0</td>\n",
              "      <td>0.0</td>\n",
              "      <td>0.0</td>\n",
              "      <td>0.0</td>\n",
              "      <td>0.0</td>\n",
              "      <td>0.0</td>\n",
              "      <td>0.0</td>\n",
              "      <td>0.0</td>\n",
              "      <td>0.0</td>\n",
              "      <td>0.0</td>\n",
              "      <td>0.0</td>\n",
              "      <td>0.0</td>\n",
              "      <td>0.0</td>\n",
              "      <td>0.0</td>\n",
              "      <td>0.0</td>\n",
              "      <td>0.0</td>\n",
              "      <td>0.0</td>\n",
              "      <td>0.0</td>\n",
              "      <td>0.0</td>\n",
              "      <td>0.0</td>\n",
              "      <td>0.0</td>\n",
              "      <td>0.0</td>\n",
              "      <td>...</td>\n",
              "      <td>0.0</td>\n",
              "      <td>0.0</td>\n",
              "      <td>0.0</td>\n",
              "      <td>0.0</td>\n",
              "      <td>0.0</td>\n",
              "      <td>0.0</td>\n",
              "      <td>0.0</td>\n",
              "      <td>0.0</td>\n",
              "      <td>0.0</td>\n",
              "      <td>0.0</td>\n",
              "      <td>0.0</td>\n",
              "      <td>0.0</td>\n",
              "      <td>0.0</td>\n",
              "      <td>0.0</td>\n",
              "      <td>0.0</td>\n",
              "      <td>0.0</td>\n",
              "      <td>0.0</td>\n",
              "      <td>0.0</td>\n",
              "      <td>0.0</td>\n",
              "      <td>0.0</td>\n",
              "      <td>0.0</td>\n",
              "      <td>0.0</td>\n",
              "      <td>0.0</td>\n",
              "      <td>0.0</td>\n",
              "      <td>0.0</td>\n",
              "      <td>0.0</td>\n",
              "      <td>0.0</td>\n",
              "      <td>0.0</td>\n",
              "      <td>0.0</td>\n",
              "      <td>0.0</td>\n",
              "      <td>0.0</td>\n",
              "      <td>0.0</td>\n",
              "      <td>0.0</td>\n",
              "      <td>0.0</td>\n",
              "      <td>0.0</td>\n",
              "      <td>0.0</td>\n",
              "      <td>0.0</td>\n",
              "      <td>0.0</td>\n",
              "      <td>0.0</td>\n",
              "      <td>0.0</td>\n",
              "    </tr>\n",
              "    <tr>\n",
              "      <th>1682</th>\n",
              "      <td>0.0</td>\n",
              "      <td>0.0</td>\n",
              "      <td>0.0</td>\n",
              "      <td>0.0</td>\n",
              "      <td>0.0</td>\n",
              "      <td>0.0</td>\n",
              "      <td>0.0</td>\n",
              "      <td>0.0</td>\n",
              "      <td>0.0</td>\n",
              "      <td>0.0</td>\n",
              "      <td>0.0</td>\n",
              "      <td>0.0</td>\n",
              "      <td>0.0</td>\n",
              "      <td>0.0</td>\n",
              "      <td>0.0</td>\n",
              "      <td>0.0</td>\n",
              "      <td>0.0</td>\n",
              "      <td>0.0</td>\n",
              "      <td>0.0</td>\n",
              "      <td>0.0</td>\n",
              "      <td>0.0</td>\n",
              "      <td>0.0</td>\n",
              "      <td>0.0</td>\n",
              "      <td>0.0</td>\n",
              "      <td>0.0</td>\n",
              "      <td>0.0</td>\n",
              "      <td>0.0</td>\n",
              "      <td>0.0</td>\n",
              "      <td>0.0</td>\n",
              "      <td>0.0</td>\n",
              "      <td>0.0</td>\n",
              "      <td>0.0</td>\n",
              "      <td>0.0</td>\n",
              "      <td>0.0</td>\n",
              "      <td>0.0</td>\n",
              "      <td>0.0</td>\n",
              "      <td>0.0</td>\n",
              "      <td>0.0</td>\n",
              "      <td>0.0</td>\n",
              "      <td>0.0</td>\n",
              "      <td>...</td>\n",
              "      <td>0.0</td>\n",
              "      <td>0.0</td>\n",
              "      <td>0.0</td>\n",
              "      <td>0.0</td>\n",
              "      <td>0.0</td>\n",
              "      <td>0.0</td>\n",
              "      <td>0.0</td>\n",
              "      <td>0.0</td>\n",
              "      <td>0.0</td>\n",
              "      <td>0.0</td>\n",
              "      <td>0.0</td>\n",
              "      <td>0.0</td>\n",
              "      <td>0.0</td>\n",
              "      <td>0.0</td>\n",
              "      <td>0.0</td>\n",
              "      <td>0.0</td>\n",
              "      <td>0.0</td>\n",
              "      <td>0.0</td>\n",
              "      <td>0.0</td>\n",
              "      <td>0.0</td>\n",
              "      <td>0.0</td>\n",
              "      <td>0.0</td>\n",
              "      <td>0.0</td>\n",
              "      <td>0.0</td>\n",
              "      <td>0.0</td>\n",
              "      <td>0.0</td>\n",
              "      <td>0.0</td>\n",
              "      <td>0.0</td>\n",
              "      <td>0.0</td>\n",
              "      <td>0.0</td>\n",
              "      <td>0.0</td>\n",
              "      <td>0.0</td>\n",
              "      <td>0.0</td>\n",
              "      <td>0.0</td>\n",
              "      <td>0.0</td>\n",
              "      <td>0.0</td>\n",
              "      <td>0.0</td>\n",
              "      <td>0.0</td>\n",
              "      <td>0.0</td>\n",
              "      <td>0.0</td>\n",
              "    </tr>\n",
              "    <tr>\n",
              "      <th>...</th>\n",
              "      <td>...</td>\n",
              "      <td>...</td>\n",
              "      <td>...</td>\n",
              "      <td>...</td>\n",
              "      <td>...</td>\n",
              "      <td>...</td>\n",
              "      <td>...</td>\n",
              "      <td>...</td>\n",
              "      <td>...</td>\n",
              "      <td>...</td>\n",
              "      <td>...</td>\n",
              "      <td>...</td>\n",
              "      <td>...</td>\n",
              "      <td>...</td>\n",
              "      <td>...</td>\n",
              "      <td>...</td>\n",
              "      <td>...</td>\n",
              "      <td>...</td>\n",
              "      <td>...</td>\n",
              "      <td>...</td>\n",
              "      <td>...</td>\n",
              "      <td>...</td>\n",
              "      <td>...</td>\n",
              "      <td>...</td>\n",
              "      <td>...</td>\n",
              "      <td>...</td>\n",
              "      <td>...</td>\n",
              "      <td>...</td>\n",
              "      <td>...</td>\n",
              "      <td>...</td>\n",
              "      <td>...</td>\n",
              "      <td>...</td>\n",
              "      <td>...</td>\n",
              "      <td>...</td>\n",
              "      <td>...</td>\n",
              "      <td>...</td>\n",
              "      <td>...</td>\n",
              "      <td>...</td>\n",
              "      <td>...</td>\n",
              "      <td>...</td>\n",
              "      <td>...</td>\n",
              "      <td>...</td>\n",
              "      <td>...</td>\n",
              "      <td>...</td>\n",
              "      <td>...</td>\n",
              "      <td>...</td>\n",
              "      <td>...</td>\n",
              "      <td>...</td>\n",
              "      <td>...</td>\n",
              "      <td>...</td>\n",
              "      <td>...</td>\n",
              "      <td>...</td>\n",
              "      <td>...</td>\n",
              "      <td>...</td>\n",
              "      <td>...</td>\n",
              "      <td>...</td>\n",
              "      <td>...</td>\n",
              "      <td>...</td>\n",
              "      <td>...</td>\n",
              "      <td>...</td>\n",
              "      <td>...</td>\n",
              "      <td>...</td>\n",
              "      <td>...</td>\n",
              "      <td>...</td>\n",
              "      <td>...</td>\n",
              "      <td>...</td>\n",
              "      <td>...</td>\n",
              "      <td>...</td>\n",
              "      <td>...</td>\n",
              "      <td>...</td>\n",
              "      <td>...</td>\n",
              "      <td>...</td>\n",
              "      <td>...</td>\n",
              "      <td>...</td>\n",
              "      <td>...</td>\n",
              "      <td>...</td>\n",
              "      <td>...</td>\n",
              "      <td>...</td>\n",
              "      <td>...</td>\n",
              "      <td>...</td>\n",
              "      <td>...</td>\n",
              "    </tr>\n",
              "    <tr>\n",
              "      <th>47442</th>\n",
              "      <td>0.0</td>\n",
              "      <td>0.0</td>\n",
              "      <td>0.0</td>\n",
              "      <td>0.0</td>\n",
              "      <td>0.0</td>\n",
              "      <td>0.0</td>\n",
              "      <td>0.0</td>\n",
              "      <td>0.0</td>\n",
              "      <td>0.0</td>\n",
              "      <td>0.0</td>\n",
              "      <td>0.0</td>\n",
              "      <td>0.0</td>\n",
              "      <td>0.0</td>\n",
              "      <td>0.0</td>\n",
              "      <td>0.0</td>\n",
              "      <td>0.0</td>\n",
              "      <td>0.0</td>\n",
              "      <td>0.0</td>\n",
              "      <td>0.0</td>\n",
              "      <td>0.0</td>\n",
              "      <td>0.0</td>\n",
              "      <td>0.0</td>\n",
              "      <td>0.0</td>\n",
              "      <td>0.0</td>\n",
              "      <td>0.0</td>\n",
              "      <td>0.0</td>\n",
              "      <td>0.0</td>\n",
              "      <td>0.0</td>\n",
              "      <td>0.0</td>\n",
              "      <td>0.0</td>\n",
              "      <td>0.0</td>\n",
              "      <td>0.0</td>\n",
              "      <td>0.0</td>\n",
              "      <td>0.0</td>\n",
              "      <td>0.0</td>\n",
              "      <td>0.0</td>\n",
              "      <td>0.0</td>\n",
              "      <td>0.0</td>\n",
              "      <td>0.0</td>\n",
              "      <td>0.0</td>\n",
              "      <td>...</td>\n",
              "      <td>0.0</td>\n",
              "      <td>0.0</td>\n",
              "      <td>0.0</td>\n",
              "      <td>0.0</td>\n",
              "      <td>0.0</td>\n",
              "      <td>0.0</td>\n",
              "      <td>0.0</td>\n",
              "      <td>0.0</td>\n",
              "      <td>0.0</td>\n",
              "      <td>0.0</td>\n",
              "      <td>0.0</td>\n",
              "      <td>0.0</td>\n",
              "      <td>0.0</td>\n",
              "      <td>0.0</td>\n",
              "      <td>0.0</td>\n",
              "      <td>0.0</td>\n",
              "      <td>0.0</td>\n",
              "      <td>0.0</td>\n",
              "      <td>0.0</td>\n",
              "      <td>0.0</td>\n",
              "      <td>0.0</td>\n",
              "      <td>0.0</td>\n",
              "      <td>0.0</td>\n",
              "      <td>0.0</td>\n",
              "      <td>0.0</td>\n",
              "      <td>0.0</td>\n",
              "      <td>0.0</td>\n",
              "      <td>0.0</td>\n",
              "      <td>0.0</td>\n",
              "      <td>0.0</td>\n",
              "      <td>0.0</td>\n",
              "      <td>0.0</td>\n",
              "      <td>0.0</td>\n",
              "      <td>0.0</td>\n",
              "      <td>0.0</td>\n",
              "      <td>0.0</td>\n",
              "      <td>0.0</td>\n",
              "      <td>0.0</td>\n",
              "      <td>0.0</td>\n",
              "      <td>0.0</td>\n",
              "    </tr>\n",
              "    <tr>\n",
              "      <th>48031</th>\n",
              "      <td>0.0</td>\n",
              "      <td>0.0</td>\n",
              "      <td>0.0</td>\n",
              "      <td>0.0</td>\n",
              "      <td>0.0</td>\n",
              "      <td>0.0</td>\n",
              "      <td>0.0</td>\n",
              "      <td>0.0</td>\n",
              "      <td>0.0</td>\n",
              "      <td>0.0</td>\n",
              "      <td>0.0</td>\n",
              "      <td>0.0</td>\n",
              "      <td>0.0</td>\n",
              "      <td>0.0</td>\n",
              "      <td>0.0</td>\n",
              "      <td>0.0</td>\n",
              "      <td>0.0</td>\n",
              "      <td>0.0</td>\n",
              "      <td>0.0</td>\n",
              "      <td>0.0</td>\n",
              "      <td>0.0</td>\n",
              "      <td>0.0</td>\n",
              "      <td>0.0</td>\n",
              "      <td>0.0</td>\n",
              "      <td>0.0</td>\n",
              "      <td>0.0</td>\n",
              "      <td>0.0</td>\n",
              "      <td>0.0</td>\n",
              "      <td>0.0</td>\n",
              "      <td>0.0</td>\n",
              "      <td>0.0</td>\n",
              "      <td>0.0</td>\n",
              "      <td>0.0</td>\n",
              "      <td>0.0</td>\n",
              "      <td>0.0</td>\n",
              "      <td>0.0</td>\n",
              "      <td>0.0</td>\n",
              "      <td>0.0</td>\n",
              "      <td>0.0</td>\n",
              "      <td>0.0</td>\n",
              "      <td>...</td>\n",
              "      <td>0.0</td>\n",
              "      <td>0.0</td>\n",
              "      <td>0.0</td>\n",
              "      <td>0.0</td>\n",
              "      <td>0.0</td>\n",
              "      <td>0.0</td>\n",
              "      <td>0.0</td>\n",
              "      <td>0.0</td>\n",
              "      <td>0.0</td>\n",
              "      <td>0.0</td>\n",
              "      <td>0.0</td>\n",
              "      <td>0.0</td>\n",
              "      <td>0.0</td>\n",
              "      <td>0.0</td>\n",
              "      <td>0.0</td>\n",
              "      <td>0.0</td>\n",
              "      <td>0.0</td>\n",
              "      <td>0.0</td>\n",
              "      <td>0.0</td>\n",
              "      <td>0.0</td>\n",
              "      <td>0.0</td>\n",
              "      <td>0.0</td>\n",
              "      <td>0.0</td>\n",
              "      <td>0.0</td>\n",
              "      <td>0.0</td>\n",
              "      <td>0.0</td>\n",
              "      <td>0.0</td>\n",
              "      <td>0.0</td>\n",
              "      <td>0.0</td>\n",
              "      <td>0.0</td>\n",
              "      <td>0.0</td>\n",
              "      <td>0.0</td>\n",
              "      <td>0.0</td>\n",
              "      <td>0.0</td>\n",
              "      <td>0.0</td>\n",
              "      <td>0.0</td>\n",
              "      <td>0.0</td>\n",
              "      <td>0.0</td>\n",
              "      <td>0.0</td>\n",
              "      <td>0.0</td>\n",
              "    </tr>\n",
              "    <tr>\n",
              "      <th>48049</th>\n",
              "      <td>0.0</td>\n",
              "      <td>0.0</td>\n",
              "      <td>0.0</td>\n",
              "      <td>0.0</td>\n",
              "      <td>0.0</td>\n",
              "      <td>0.0</td>\n",
              "      <td>0.0</td>\n",
              "      <td>0.0</td>\n",
              "      <td>0.0</td>\n",
              "      <td>0.0</td>\n",
              "      <td>0.0</td>\n",
              "      <td>0.0</td>\n",
              "      <td>0.0</td>\n",
              "      <td>0.0</td>\n",
              "      <td>0.0</td>\n",
              "      <td>0.0</td>\n",
              "      <td>0.0</td>\n",
              "      <td>0.0</td>\n",
              "      <td>0.0</td>\n",
              "      <td>0.0</td>\n",
              "      <td>0.0</td>\n",
              "      <td>0.0</td>\n",
              "      <td>0.0</td>\n",
              "      <td>0.0</td>\n",
              "      <td>0.0</td>\n",
              "      <td>0.0</td>\n",
              "      <td>0.0</td>\n",
              "      <td>0.0</td>\n",
              "      <td>0.0</td>\n",
              "      <td>0.0</td>\n",
              "      <td>0.0</td>\n",
              "      <td>0.0</td>\n",
              "      <td>0.0</td>\n",
              "      <td>0.0</td>\n",
              "      <td>0.0</td>\n",
              "      <td>0.0</td>\n",
              "      <td>0.0</td>\n",
              "      <td>0.0</td>\n",
              "      <td>0.0</td>\n",
              "      <td>0.0</td>\n",
              "      <td>...</td>\n",
              "      <td>0.0</td>\n",
              "      <td>0.0</td>\n",
              "      <td>2.0</td>\n",
              "      <td>0.0</td>\n",
              "      <td>0.0</td>\n",
              "      <td>0.0</td>\n",
              "      <td>0.0</td>\n",
              "      <td>0.0</td>\n",
              "      <td>0.0</td>\n",
              "      <td>0.0</td>\n",
              "      <td>0.0</td>\n",
              "      <td>0.0</td>\n",
              "      <td>0.0</td>\n",
              "      <td>0.0</td>\n",
              "      <td>0.0</td>\n",
              "      <td>0.0</td>\n",
              "      <td>0.0</td>\n",
              "      <td>0.0</td>\n",
              "      <td>0.0</td>\n",
              "      <td>0.0</td>\n",
              "      <td>0.0</td>\n",
              "      <td>0.0</td>\n",
              "      <td>0.0</td>\n",
              "      <td>0.0</td>\n",
              "      <td>0.0</td>\n",
              "      <td>0.0</td>\n",
              "      <td>0.0</td>\n",
              "      <td>0.0</td>\n",
              "      <td>0.0</td>\n",
              "      <td>0.0</td>\n",
              "      <td>0.0</td>\n",
              "      <td>0.0</td>\n",
              "      <td>0.0</td>\n",
              "      <td>0.0</td>\n",
              "      <td>0.0</td>\n",
              "      <td>0.0</td>\n",
              "      <td>0.0</td>\n",
              "      <td>0.0</td>\n",
              "      <td>0.0</td>\n",
              "      <td>0.0</td>\n",
              "    </tr>\n",
              "    <tr>\n",
              "      <th>48543</th>\n",
              "      <td>0.0</td>\n",
              "      <td>0.0</td>\n",
              "      <td>0.0</td>\n",
              "      <td>0.0</td>\n",
              "      <td>0.0</td>\n",
              "      <td>0.0</td>\n",
              "      <td>0.0</td>\n",
              "      <td>0.0</td>\n",
              "      <td>0.0</td>\n",
              "      <td>0.0</td>\n",
              "      <td>0.0</td>\n",
              "      <td>0.0</td>\n",
              "      <td>0.0</td>\n",
              "      <td>0.0</td>\n",
              "      <td>0.0</td>\n",
              "      <td>0.0</td>\n",
              "      <td>0.0</td>\n",
              "      <td>0.0</td>\n",
              "      <td>0.0</td>\n",
              "      <td>0.0</td>\n",
              "      <td>0.0</td>\n",
              "      <td>0.0</td>\n",
              "      <td>0.0</td>\n",
              "      <td>0.0</td>\n",
              "      <td>0.0</td>\n",
              "      <td>0.0</td>\n",
              "      <td>0.0</td>\n",
              "      <td>0.0</td>\n",
              "      <td>0.0</td>\n",
              "      <td>0.0</td>\n",
              "      <td>0.0</td>\n",
              "      <td>0.0</td>\n",
              "      <td>0.0</td>\n",
              "      <td>0.0</td>\n",
              "      <td>0.0</td>\n",
              "      <td>0.0</td>\n",
              "      <td>0.0</td>\n",
              "      <td>0.0</td>\n",
              "      <td>0.0</td>\n",
              "      <td>0.0</td>\n",
              "      <td>...</td>\n",
              "      <td>0.0</td>\n",
              "      <td>0.0</td>\n",
              "      <td>0.0</td>\n",
              "      <td>0.0</td>\n",
              "      <td>0.0</td>\n",
              "      <td>0.0</td>\n",
              "      <td>0.0</td>\n",
              "      <td>0.0</td>\n",
              "      <td>0.0</td>\n",
              "      <td>0.0</td>\n",
              "      <td>0.0</td>\n",
              "      <td>0.0</td>\n",
              "      <td>0.0</td>\n",
              "      <td>0.0</td>\n",
              "      <td>0.0</td>\n",
              "      <td>0.0</td>\n",
              "      <td>0.0</td>\n",
              "      <td>0.0</td>\n",
              "      <td>0.0</td>\n",
              "      <td>0.0</td>\n",
              "      <td>0.0</td>\n",
              "      <td>0.0</td>\n",
              "      <td>0.0</td>\n",
              "      <td>0.0</td>\n",
              "      <td>0.0</td>\n",
              "      <td>0.0</td>\n",
              "      <td>0.0</td>\n",
              "      <td>0.0</td>\n",
              "      <td>0.0</td>\n",
              "      <td>0.0</td>\n",
              "      <td>0.0</td>\n",
              "      <td>0.0</td>\n",
              "      <td>0.0</td>\n",
              "      <td>0.0</td>\n",
              "      <td>0.0</td>\n",
              "      <td>0.0</td>\n",
              "      <td>0.0</td>\n",
              "      <td>0.0</td>\n",
              "      <td>0.0</td>\n",
              "      <td>0.0</td>\n",
              "    </tr>\n",
              "    <tr>\n",
              "      <th>49088</th>\n",
              "      <td>0.0</td>\n",
              "      <td>0.0</td>\n",
              "      <td>0.0</td>\n",
              "      <td>0.0</td>\n",
              "      <td>0.0</td>\n",
              "      <td>0.0</td>\n",
              "      <td>0.0</td>\n",
              "      <td>0.0</td>\n",
              "      <td>0.0</td>\n",
              "      <td>0.0</td>\n",
              "      <td>0.0</td>\n",
              "      <td>0.0</td>\n",
              "      <td>0.0</td>\n",
              "      <td>0.0</td>\n",
              "      <td>0.0</td>\n",
              "      <td>0.0</td>\n",
              "      <td>0.0</td>\n",
              "      <td>0.0</td>\n",
              "      <td>0.0</td>\n",
              "      <td>0.0</td>\n",
              "      <td>0.0</td>\n",
              "      <td>0.0</td>\n",
              "      <td>0.0</td>\n",
              "      <td>0.0</td>\n",
              "      <td>0.0</td>\n",
              "      <td>0.0</td>\n",
              "      <td>0.0</td>\n",
              "      <td>0.0</td>\n",
              "      <td>0.0</td>\n",
              "      <td>0.0</td>\n",
              "      <td>0.0</td>\n",
              "      <td>0.0</td>\n",
              "      <td>0.0</td>\n",
              "      <td>0.0</td>\n",
              "      <td>0.0</td>\n",
              "      <td>0.0</td>\n",
              "      <td>0.0</td>\n",
              "      <td>0.0</td>\n",
              "      <td>0.0</td>\n",
              "      <td>0.0</td>\n",
              "      <td>...</td>\n",
              "      <td>0.0</td>\n",
              "      <td>0.0</td>\n",
              "      <td>0.0</td>\n",
              "      <td>0.0</td>\n",
              "      <td>0.0</td>\n",
              "      <td>0.0</td>\n",
              "      <td>0.0</td>\n",
              "      <td>0.0</td>\n",
              "      <td>0.0</td>\n",
              "      <td>0.0</td>\n",
              "      <td>0.0</td>\n",
              "      <td>0.0</td>\n",
              "      <td>0.0</td>\n",
              "      <td>0.0</td>\n",
              "      <td>0.0</td>\n",
              "      <td>0.0</td>\n",
              "      <td>0.0</td>\n",
              "      <td>0.0</td>\n",
              "      <td>0.0</td>\n",
              "      <td>0.0</td>\n",
              "      <td>0.0</td>\n",
              "      <td>0.0</td>\n",
              "      <td>0.0</td>\n",
              "      <td>0.0</td>\n",
              "      <td>0.0</td>\n",
              "      <td>0.0</td>\n",
              "      <td>0.0</td>\n",
              "      <td>0.0</td>\n",
              "      <td>0.0</td>\n",
              "      <td>0.0</td>\n",
              "      <td>0.0</td>\n",
              "      <td>0.0</td>\n",
              "      <td>0.0</td>\n",
              "      <td>0.0</td>\n",
              "      <td>0.0</td>\n",
              "      <td>0.0</td>\n",
              "      <td>0.0</td>\n",
              "      <td>0.0</td>\n",
              "      <td>0.0</td>\n",
              "      <td>0.0</td>\n",
              "    </tr>\n",
              "  </tbody>\n",
              "</table>\n",
              "<p>185 rows × 185 columns</p>\n",
              "</div>"
            ],
            "text/plain": [
              "product_name  100% Pure Eucalyptus  ...  Zero Calorie Tonic Water\n",
              "product_id                          ...                          \n",
              "86                             0.0  ...                       0.0\n",
              "506                            0.0  ...                       0.0\n",
              "535                            0.0  ...                       0.0\n",
              "1010                           0.0  ...                       0.0\n",
              "1682                           0.0  ...                       0.0\n",
              "...                            ...  ...                       ...\n",
              "47442                          0.0  ...                       0.0\n",
              "48031                          0.0  ...                       0.0\n",
              "48049                          0.0  ...                       0.0\n",
              "48543                          0.0  ...                       0.0\n",
              "49088                          0.0  ...                       0.0\n",
              "\n",
              "[185 rows x 185 columns]"
            ]
          },
          "metadata": {
            "tags": []
          },
          "execution_count": 15
        }
      ]
    },
    {
      "cell_type": "code",
      "metadata": {
        "id": "rmDmE7dib62R",
        "colab_type": "code",
        "colab": {
          "base_uri": "https://localhost:8080/",
          "height": 195
        },
        "outputId": "5fc04e67-7749-436d-d619-dd09bbfd52e5"
      },
      "source": [
        "# Converting dataframe to list \n",
        "records_test = basket_2.iloc[:, :].astype(str).values.tolist()\n",
        "\n",
        "TE = TransactionEncoder()\n",
        "array_test = TE.fit(records_test).transform(records_test)\n",
        "\n",
        "# building the data frame rows are logical and columns are the items have been purchased \n",
        "transf_testdf = pd.DataFrame(array_test, columns = TE.columns_)\n",
        "transf_testdf\n",
        "\n",
        "# apriori\n",
        "a_rules_test = apriori(transf_testdf, min_support = 0.01, use_colnames = True)\n",
        "a_rules_test.head()\n",
        "\n",
        "# associationrule\n",
        "rules_test = association_rules(a_rules_test, metric = 'lift', min_threshold = 1)\n",
        "rules_test.tail()\n"
      ],
      "execution_count": null,
      "outputs": [
        {
          "output_type": "execute_result",
          "data": {
            "text/html": [
              "<div>\n",
              "<style scoped>\n",
              "    .dataframe tbody tr th:only-of-type {\n",
              "        vertical-align: middle;\n",
              "    }\n",
              "\n",
              "    .dataframe tbody tr th {\n",
              "        vertical-align: top;\n",
              "    }\n",
              "\n",
              "    .dataframe thead th {\n",
              "        text-align: right;\n",
              "    }\n",
              "</style>\n",
              "<table border=\"1\" class=\"dataframe\">\n",
              "  <thead>\n",
              "    <tr style=\"text-align: right;\">\n",
              "      <th></th>\n",
              "      <th>antecedents</th>\n",
              "      <th>consequents</th>\n",
              "      <th>antecedent support</th>\n",
              "      <th>consequent support</th>\n",
              "      <th>support</th>\n",
              "      <th>confidence</th>\n",
              "      <th>lift</th>\n",
              "      <th>leverage</th>\n",
              "      <th>conviction</th>\n",
              "    </tr>\n",
              "  </thead>\n",
              "  <tbody>\n",
              "    <tr>\n",
              "      <th>3</th>\n",
              "      <td>(0.0)</td>\n",
              "      <td>(2.0)</td>\n",
              "      <td>1.000000</td>\n",
              "      <td>0.102703</td>\n",
              "      <td>0.102703</td>\n",
              "      <td>0.102703</td>\n",
              "      <td>1.0</td>\n",
              "      <td>0.0</td>\n",
              "      <td>1.0</td>\n",
              "    </tr>\n",
              "    <tr>\n",
              "      <th>4</th>\n",
              "      <td>(3.0)</td>\n",
              "      <td>(0.0)</td>\n",
              "      <td>0.016216</td>\n",
              "      <td>1.000000</td>\n",
              "      <td>0.016216</td>\n",
              "      <td>1.000000</td>\n",
              "      <td>1.0</td>\n",
              "      <td>0.0</td>\n",
              "      <td>inf</td>\n",
              "    </tr>\n",
              "    <tr>\n",
              "      <th>5</th>\n",
              "      <td>(0.0)</td>\n",
              "      <td>(3.0)</td>\n",
              "      <td>1.000000</td>\n",
              "      <td>0.016216</td>\n",
              "      <td>0.016216</td>\n",
              "      <td>0.016216</td>\n",
              "      <td>1.0</td>\n",
              "      <td>0.0</td>\n",
              "      <td>1.0</td>\n",
              "    </tr>\n",
              "    <tr>\n",
              "      <th>6</th>\n",
              "      <td>(6.0)</td>\n",
              "      <td>(0.0)</td>\n",
              "      <td>0.010811</td>\n",
              "      <td>1.000000</td>\n",
              "      <td>0.010811</td>\n",
              "      <td>1.000000</td>\n",
              "      <td>1.0</td>\n",
              "      <td>0.0</td>\n",
              "      <td>inf</td>\n",
              "    </tr>\n",
              "    <tr>\n",
              "      <th>7</th>\n",
              "      <td>(0.0)</td>\n",
              "      <td>(6.0)</td>\n",
              "      <td>1.000000</td>\n",
              "      <td>0.010811</td>\n",
              "      <td>0.010811</td>\n",
              "      <td>0.010811</td>\n",
              "      <td>1.0</td>\n",
              "      <td>0.0</td>\n",
              "      <td>1.0</td>\n",
              "    </tr>\n",
              "  </tbody>\n",
              "</table>\n",
              "</div>"
            ],
            "text/plain": [
              "  antecedents consequents  antecedent support  ...  lift  leverage  conviction\n",
              "3       (0.0)       (2.0)            1.000000  ...   1.0       0.0         1.0\n",
              "4       (3.0)       (0.0)            0.016216  ...   1.0       0.0         inf\n",
              "5       (0.0)       (3.0)            1.000000  ...   1.0       0.0         1.0\n",
              "6       (6.0)       (0.0)            0.010811  ...   1.0       0.0         inf\n",
              "7       (0.0)       (6.0)            1.000000  ...   1.0       0.0         1.0\n",
              "\n",
              "[5 rows x 9 columns]"
            ]
          },
          "metadata": {
            "tags": []
          },
          "execution_count": 19
        }
      ]
    },
    {
      "cell_type": "markdown",
      "metadata": {
        "id": "s644lHdQT-pM",
        "colab_type": "text"
      },
      "source": [
        "We can see that the XG Boost Algorithm is predicting well compared to the Logistic Regression and the Random Forest Algorithm. So i went further and predicted for the test data and checked the values as well. I can see that its accuracy is 70%, which I feel is not that bad. \n",
        "\n",
        "But then, since the given data is transactional, the Apriori Algorithm is the one that is  identifying the frequent individual items in the database and extending them to larger and larger item sets as long as those item sets appear sufficiently often in the database.\n",
        "\n",
        "After getting the frequent itemsets, we used the Association Rule learning which is used in discovering interesting relations between variables in large databases. Also, I have done analysis on the data and have discovered the relationship between the frequent itemsets as a result of the Association Rule."
      ]
    }
  ]
}