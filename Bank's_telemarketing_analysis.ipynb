{
  "nbformat": 4,
  "nbformat_minor": 0,
  "metadata": {
    "colab": {
      "name": "Bank's telemarketing analysis.ipynb",
      "provenance": [],
      "collapsed_sections": []
    },
    "kernelspec": {
      "name": "python3",
      "display_name": "Python 3"
    }
  },
  "cells": [
    {
      "cell_type": "markdown",
      "metadata": {
        "id": "OVj03_4p5Sg7",
        "colab_type": "text"
      },
      "source": [
        "# **Bank's telemarketing analysis**"
      ]
    },
    {
      "cell_type": "markdown",
      "metadata": {
        "id": "RVcDA7eJ5z0g",
        "colab_type": "text"
      },
      "source": [
        "**Case Study Background**\n",
        "Nowadays, marketing spending in the banking industry is massive, meaning that it is essential for banks to optimize marketing strategies and improve effectiveness. Understanding customers’ need leads to more effective marketing plans, smarter product designs and greater customer satisfaction.\n",
        "\n",
        "**Main Objective** to increase the effectiveness of the bank's telemarketing campaign.\n",
        "\n",
        "**Problem Statement**\n",
        "This project will enable the bank to develop a more granular understanding of its customer base, predict customers' response to its telemarketing campaign and establish a target customer profile for future marketing plans.\n",
        "By analyzing customer features, such as demographics and transaction history, the bank will be able to predict customer saving behaviours and identify which type of customers is more likely to make term deposits. The bank can then focus its marketing efforts on those customers. This will not only allow the bank to secure deposits more effectively but also increase customer satisfaction by reducing undesirable advertisements for certain customers.\n",
        "\n",
        "This is a classification problem where the objective is to analyse and identify which type of customers is more likely to make term deposits.\n",
        "\n",
        "\n"
      ]
    },
    {
      "cell_type": "markdown",
      "metadata": {
        "id": "RbgLZ0Pa8UaF",
        "colab_type": "text"
      },
      "source": [
        "Loading Packages"
      ]
    },
    {
      "cell_type": "code",
      "metadata": {
        "id": "ri3eFHEE45p4",
        "colab_type": "code",
        "colab": {}
      },
      "source": [
        "import pandas as pd\n",
        "import numpy as np\n",
        "import matplotlib.pyplot as plt\n",
        "from sklearn.model_selection import train_test_split\n",
        "from sklearn.model_selection import cross_val_score\n",
        "from sklearn.model_selection import KFold\n",
        "from sklearn.metrics import accuracy_score\n",
        "from numpy import mean"
      ],
      "execution_count": 0,
      "outputs": []
    },
    {
      "cell_type": "markdown",
      "metadata": {
        "id": "g_LQ8hJd8j_0",
        "colab_type": "text"
      },
      "source": [
        "Reading data"
      ]
    },
    {
      "cell_type": "code",
      "metadata": {
        "id": "lrP6jxp38o3h",
        "colab_type": "code",
        "colab": {}
      },
      "source": [
        "data=pd.read_csv('bank-full.csv')"
      ],
      "execution_count": 0,
      "outputs": []
    },
    {
      "cell_type": "markdown",
      "metadata": {
        "id": "NoIk1ORy9Ox7",
        "colab_type": "text"
      },
      "source": [
        "Understanding the data"
      ]
    },
    {
      "cell_type": "code",
      "metadata": {
        "id": "j1g7K7ri9WG1",
        "colab_type": "code",
        "colab": {
          "base_uri": "https://localhost:8080/",
          "height": 84
        },
        "outputId": "ddfa8b76-08f4-4a47-f448-7550622121e7"
      },
      "source": [
        "data.columns"
      ],
      "execution_count": 3,
      "outputs": [
        {
          "output_type": "execute_result",
          "data": {
            "text/plain": [
              "Index(['age', 'job', 'marital', 'education', 'default', 'balance', 'housing',\n",
              "       'loan', 'contact', 'day', 'month', 'duration', 'campaign', 'pdays',\n",
              "       'previous', 'poutcome', 'y'],\n",
              "      dtype='object')"
            ]
          },
          "metadata": {
            "tags": []
          },
          "execution_count": 3
        }
      ]
    },
    {
      "cell_type": "code",
      "metadata": {
        "id": "cYlAEpC89peW",
        "colab_type": "code",
        "colab": {
          "base_uri": "https://localhost:8080/",
          "height": 319
        },
        "outputId": "68972037-075c-4bbf-b564-99822c45bf17"
      },
      "source": [
        "data.dtypes"
      ],
      "execution_count": 4,
      "outputs": [
        {
          "output_type": "execute_result",
          "data": {
            "text/plain": [
              "age           int64\n",
              "job          object\n",
              "marital      object\n",
              "education    object\n",
              "default      object\n",
              "balance       int64\n",
              "housing      object\n",
              "loan         object\n",
              "contact      object\n",
              "day           int64\n",
              "month        object\n",
              "duration      int64\n",
              "campaign      int64\n",
              "pdays         int64\n",
              "previous      int64\n",
              "poutcome     object\n",
              "y            object\n",
              "dtype: object"
            ]
          },
          "metadata": {
            "tags": []
          },
          "execution_count": 4
        }
      ]
    },
    {
      "cell_type": "code",
      "metadata": {
        "id": "cEq4S8wg-VPz",
        "colab_type": "code",
        "colab": {
          "base_uri": "https://localhost:8080/",
          "height": 34
        },
        "outputId": "b4421983-fb69-499a-b966-ad2a1a0d9c30"
      },
      "source": [
        "data.shape"
      ],
      "execution_count": 5,
      "outputs": [
        {
          "output_type": "execute_result",
          "data": {
            "text/plain": [
              "(45211, 17)"
            ]
          },
          "metadata": {
            "tags": []
          },
          "execution_count": 5
        }
      ]
    },
    {
      "cell_type": "markdown",
      "metadata": {
        "id": "9XN4TuA8-eiI",
        "colab_type": "text"
      },
      "source": [
        "We have 45211 rows and 17 columns. \n",
        "\n",
        "---\n",
        "\n",
        "\n",
        "Column 'y' is the output variable here, all the other 16 variables are the inputs.\n"
      ]
    },
    {
      "cell_type": "markdown",
      "metadata": {
        "id": "y4Voxpn3_wcb",
        "colab_type": "text"
      },
      "source": [
        "Data Cleansing"
      ]
    },
    {
      "cell_type": "code",
      "metadata": {
        "id": "V0ENUt_W_3x4",
        "colab_type": "code",
        "colab": {
          "base_uri": "https://localhost:8080/",
          "height": 319
        },
        "outputId": "59fb40c0-ca62-43f0-abd6-33d1ad8f59cc"
      },
      "source": [
        "data.isnull().sum()"
      ],
      "execution_count": 6,
      "outputs": [
        {
          "output_type": "execute_result",
          "data": {
            "text/plain": [
              "age          0\n",
              "job          0\n",
              "marital      0\n",
              "education    0\n",
              "default      0\n",
              "balance      0\n",
              "housing      0\n",
              "loan         0\n",
              "contact      0\n",
              "day          0\n",
              "month        0\n",
              "duration     0\n",
              "campaign     0\n",
              "pdays        0\n",
              "previous     0\n",
              "poutcome     0\n",
              "y            0\n",
              "dtype: int64"
            ]
          },
          "metadata": {
            "tags": []
          },
          "execution_count": 6
        }
      ]
    },
    {
      "cell_type": "markdown",
      "metadata": {
        "id": "b837b5VS-DX5",
        "colab_type": "text"
      },
      "source": [
        "There is no missing value foud in the data."
      ]
    },
    {
      "cell_type": "markdown",
      "metadata": {
        "id": "AQo7P19i7-Ol",
        "colab_type": "text"
      },
      "source": [
        "Statistical Overview\n",
        "\n",
        "---\n",
        "The 5 point summary of the dataset.\n",
        "Five-number summary is used to describe the distribution of data. Pandas makes it easy to find the five-number summary\n",
        "1. Mean \n",
        "2. 1st Quartile (The 25th percentile)\n",
        "3. 3rd Quartile: The *75h* percentile\n",
        "4. Minimum: Smallest observation in the sample\n",
        "5. Maximum: Largest observation in the sample"
      ]
    },
    {
      "cell_type": "code",
      "metadata": {
        "id": "GIuc14x1BYwf",
        "colab_type": "code",
        "colab": {
          "base_uri": "https://localhost:8080/",
          "height": 410
        },
        "outputId": "634640a7-7921-4db1-be02-b6eb60b4c06e"
      },
      "source": [
        "data.describe(include='all')"
      ],
      "execution_count": 7,
      "outputs": [
        {
          "output_type": "execute_result",
          "data": {
            "text/html": [
              "<div>\n",
              "<style scoped>\n",
              "    .dataframe tbody tr th:only-of-type {\n",
              "        vertical-align: middle;\n",
              "    }\n",
              "\n",
              "    .dataframe tbody tr th {\n",
              "        vertical-align: top;\n",
              "    }\n",
              "\n",
              "    .dataframe thead th {\n",
              "        text-align: right;\n",
              "    }\n",
              "</style>\n",
              "<table border=\"1\" class=\"dataframe\">\n",
              "  <thead>\n",
              "    <tr style=\"text-align: right;\">\n",
              "      <th></th>\n",
              "      <th>age</th>\n",
              "      <th>job</th>\n",
              "      <th>marital</th>\n",
              "      <th>education</th>\n",
              "      <th>default</th>\n",
              "      <th>balance</th>\n",
              "      <th>housing</th>\n",
              "      <th>loan</th>\n",
              "      <th>contact</th>\n",
              "      <th>day</th>\n",
              "      <th>month</th>\n",
              "      <th>duration</th>\n",
              "      <th>campaign</th>\n",
              "      <th>pdays</th>\n",
              "      <th>previous</th>\n",
              "      <th>poutcome</th>\n",
              "      <th>y</th>\n",
              "    </tr>\n",
              "  </thead>\n",
              "  <tbody>\n",
              "    <tr>\n",
              "      <th>count</th>\n",
              "      <td>45211.000000</td>\n",
              "      <td>45211</td>\n",
              "      <td>45211</td>\n",
              "      <td>45211</td>\n",
              "      <td>45211</td>\n",
              "      <td>45211.000000</td>\n",
              "      <td>45211</td>\n",
              "      <td>45211</td>\n",
              "      <td>45211</td>\n",
              "      <td>45211.000000</td>\n",
              "      <td>45211</td>\n",
              "      <td>45211.000000</td>\n",
              "      <td>45211.000000</td>\n",
              "      <td>45211.000000</td>\n",
              "      <td>45211.000000</td>\n",
              "      <td>45211</td>\n",
              "      <td>45211</td>\n",
              "    </tr>\n",
              "    <tr>\n",
              "      <th>unique</th>\n",
              "      <td>NaN</td>\n",
              "      <td>12</td>\n",
              "      <td>3</td>\n",
              "      <td>4</td>\n",
              "      <td>2</td>\n",
              "      <td>NaN</td>\n",
              "      <td>2</td>\n",
              "      <td>2</td>\n",
              "      <td>3</td>\n",
              "      <td>NaN</td>\n",
              "      <td>12</td>\n",
              "      <td>NaN</td>\n",
              "      <td>NaN</td>\n",
              "      <td>NaN</td>\n",
              "      <td>NaN</td>\n",
              "      <td>4</td>\n",
              "      <td>2</td>\n",
              "    </tr>\n",
              "    <tr>\n",
              "      <th>top</th>\n",
              "      <td>NaN</td>\n",
              "      <td>blue-collar</td>\n",
              "      <td>married</td>\n",
              "      <td>secondary</td>\n",
              "      <td>no</td>\n",
              "      <td>NaN</td>\n",
              "      <td>yes</td>\n",
              "      <td>no</td>\n",
              "      <td>cellular</td>\n",
              "      <td>NaN</td>\n",
              "      <td>may</td>\n",
              "      <td>NaN</td>\n",
              "      <td>NaN</td>\n",
              "      <td>NaN</td>\n",
              "      <td>NaN</td>\n",
              "      <td>unknown</td>\n",
              "      <td>no</td>\n",
              "    </tr>\n",
              "    <tr>\n",
              "      <th>freq</th>\n",
              "      <td>NaN</td>\n",
              "      <td>9732</td>\n",
              "      <td>27214</td>\n",
              "      <td>23202</td>\n",
              "      <td>44396</td>\n",
              "      <td>NaN</td>\n",
              "      <td>25130</td>\n",
              "      <td>37967</td>\n",
              "      <td>29285</td>\n",
              "      <td>NaN</td>\n",
              "      <td>13766</td>\n",
              "      <td>NaN</td>\n",
              "      <td>NaN</td>\n",
              "      <td>NaN</td>\n",
              "      <td>NaN</td>\n",
              "      <td>36959</td>\n",
              "      <td>39922</td>\n",
              "    </tr>\n",
              "    <tr>\n",
              "      <th>mean</th>\n",
              "      <td>40.936210</td>\n",
              "      <td>NaN</td>\n",
              "      <td>NaN</td>\n",
              "      <td>NaN</td>\n",
              "      <td>NaN</td>\n",
              "      <td>1362.272058</td>\n",
              "      <td>NaN</td>\n",
              "      <td>NaN</td>\n",
              "      <td>NaN</td>\n",
              "      <td>15.806419</td>\n",
              "      <td>NaN</td>\n",
              "      <td>258.163080</td>\n",
              "      <td>2.763841</td>\n",
              "      <td>40.197828</td>\n",
              "      <td>0.580323</td>\n",
              "      <td>NaN</td>\n",
              "      <td>NaN</td>\n",
              "    </tr>\n",
              "    <tr>\n",
              "      <th>std</th>\n",
              "      <td>10.618762</td>\n",
              "      <td>NaN</td>\n",
              "      <td>NaN</td>\n",
              "      <td>NaN</td>\n",
              "      <td>NaN</td>\n",
              "      <td>3044.765829</td>\n",
              "      <td>NaN</td>\n",
              "      <td>NaN</td>\n",
              "      <td>NaN</td>\n",
              "      <td>8.322476</td>\n",
              "      <td>NaN</td>\n",
              "      <td>257.527812</td>\n",
              "      <td>3.098021</td>\n",
              "      <td>100.128746</td>\n",
              "      <td>2.303441</td>\n",
              "      <td>NaN</td>\n",
              "      <td>NaN</td>\n",
              "    </tr>\n",
              "    <tr>\n",
              "      <th>min</th>\n",
              "      <td>18.000000</td>\n",
              "      <td>NaN</td>\n",
              "      <td>NaN</td>\n",
              "      <td>NaN</td>\n",
              "      <td>NaN</td>\n",
              "      <td>-8019.000000</td>\n",
              "      <td>NaN</td>\n",
              "      <td>NaN</td>\n",
              "      <td>NaN</td>\n",
              "      <td>1.000000</td>\n",
              "      <td>NaN</td>\n",
              "      <td>0.000000</td>\n",
              "      <td>1.000000</td>\n",
              "      <td>-1.000000</td>\n",
              "      <td>0.000000</td>\n",
              "      <td>NaN</td>\n",
              "      <td>NaN</td>\n",
              "    </tr>\n",
              "    <tr>\n",
              "      <th>25%</th>\n",
              "      <td>33.000000</td>\n",
              "      <td>NaN</td>\n",
              "      <td>NaN</td>\n",
              "      <td>NaN</td>\n",
              "      <td>NaN</td>\n",
              "      <td>72.000000</td>\n",
              "      <td>NaN</td>\n",
              "      <td>NaN</td>\n",
              "      <td>NaN</td>\n",
              "      <td>8.000000</td>\n",
              "      <td>NaN</td>\n",
              "      <td>103.000000</td>\n",
              "      <td>1.000000</td>\n",
              "      <td>-1.000000</td>\n",
              "      <td>0.000000</td>\n",
              "      <td>NaN</td>\n",
              "      <td>NaN</td>\n",
              "    </tr>\n",
              "    <tr>\n",
              "      <th>50%</th>\n",
              "      <td>39.000000</td>\n",
              "      <td>NaN</td>\n",
              "      <td>NaN</td>\n",
              "      <td>NaN</td>\n",
              "      <td>NaN</td>\n",
              "      <td>448.000000</td>\n",
              "      <td>NaN</td>\n",
              "      <td>NaN</td>\n",
              "      <td>NaN</td>\n",
              "      <td>16.000000</td>\n",
              "      <td>NaN</td>\n",
              "      <td>180.000000</td>\n",
              "      <td>2.000000</td>\n",
              "      <td>-1.000000</td>\n",
              "      <td>0.000000</td>\n",
              "      <td>NaN</td>\n",
              "      <td>NaN</td>\n",
              "    </tr>\n",
              "    <tr>\n",
              "      <th>75%</th>\n",
              "      <td>48.000000</td>\n",
              "      <td>NaN</td>\n",
              "      <td>NaN</td>\n",
              "      <td>NaN</td>\n",
              "      <td>NaN</td>\n",
              "      <td>1428.000000</td>\n",
              "      <td>NaN</td>\n",
              "      <td>NaN</td>\n",
              "      <td>NaN</td>\n",
              "      <td>21.000000</td>\n",
              "      <td>NaN</td>\n",
              "      <td>319.000000</td>\n",
              "      <td>3.000000</td>\n",
              "      <td>-1.000000</td>\n",
              "      <td>0.000000</td>\n",
              "      <td>NaN</td>\n",
              "      <td>NaN</td>\n",
              "    </tr>\n",
              "    <tr>\n",
              "      <th>max</th>\n",
              "      <td>95.000000</td>\n",
              "      <td>NaN</td>\n",
              "      <td>NaN</td>\n",
              "      <td>NaN</td>\n",
              "      <td>NaN</td>\n",
              "      <td>102127.000000</td>\n",
              "      <td>NaN</td>\n",
              "      <td>NaN</td>\n",
              "      <td>NaN</td>\n",
              "      <td>31.000000</td>\n",
              "      <td>NaN</td>\n",
              "      <td>4918.000000</td>\n",
              "      <td>63.000000</td>\n",
              "      <td>871.000000</td>\n",
              "      <td>275.000000</td>\n",
              "      <td>NaN</td>\n",
              "      <td>NaN</td>\n",
              "    </tr>\n",
              "  </tbody>\n",
              "</table>\n",
              "</div>"
            ],
            "text/plain": [
              "                 age          job  marital  ...      previous poutcome      y\n",
              "count   45211.000000        45211    45211  ...  45211.000000    45211  45211\n",
              "unique           NaN           12        3  ...           NaN        4      2\n",
              "top              NaN  blue-collar  married  ...           NaN  unknown     no\n",
              "freq             NaN         9732    27214  ...           NaN    36959  39922\n",
              "mean       40.936210          NaN      NaN  ...      0.580323      NaN    NaN\n",
              "std        10.618762          NaN      NaN  ...      2.303441      NaN    NaN\n",
              "min        18.000000          NaN      NaN  ...      0.000000      NaN    NaN\n",
              "25%        33.000000          NaN      NaN  ...      0.000000      NaN    NaN\n",
              "50%        39.000000          NaN      NaN  ...      0.000000      NaN    NaN\n",
              "75%        48.000000          NaN      NaN  ...      0.000000      NaN    NaN\n",
              "max        95.000000          NaN      NaN  ...    275.000000      NaN    NaN\n",
              "\n",
              "[11 rows x 17 columns]"
            ]
          },
          "metadata": {
            "tags": []
          },
          "execution_count": 7
        }
      ]
    },
    {
      "cell_type": "code",
      "metadata": {
        "id": "afSQlnOIrt5Z",
        "colab_type": "code",
        "colab": {
          "base_uri": "https://localhost:8080/",
          "height": 235
        },
        "outputId": "8be1e202-56fe-429a-97b5-6a5c9cd37e40"
      },
      "source": [
        "data['job'].value_counts()"
      ],
      "execution_count": 8,
      "outputs": [
        {
          "output_type": "execute_result",
          "data": {
            "text/plain": [
              "blue-collar      9732\n",
              "management       9458\n",
              "technician       7597\n",
              "admin.           5171\n",
              "services         4154\n",
              "retired          2264\n",
              "self-employed    1579\n",
              "entrepreneur     1487\n",
              "unemployed       1303\n",
              "housemaid        1240\n",
              "student           938\n",
              "unknown           288\n",
              "Name: job, dtype: int64"
            ]
          },
          "metadata": {
            "tags": []
          },
          "execution_count": 8
        }
      ]
    },
    {
      "cell_type": "markdown",
      "metadata": {
        "id": "m6cHEycp89OW",
        "colab_type": "text"
      },
      "source": [
        "Lets now see how the data is distributed."
      ]
    },
    {
      "cell_type": "code",
      "metadata": {
        "id": "a14lDV45tauL",
        "colab_type": "code",
        "colab": {
          "base_uri": "https://localhost:8080/",
          "height": 290
        },
        "outputId": "519857cc-6a6f-4a55-b4ba-1e9795414bf9"
      },
      "source": [
        "data['y'].value_counts().plot(kind='bar')"
      ],
      "execution_count": 9,
      "outputs": [
        {
          "output_type": "execute_result",
          "data": {
            "text/plain": [
              "<matplotlib.axes._subplots.AxesSubplot at 0x7f9c45c37630>"
            ]
          },
          "metadata": {
            "tags": []
          },
          "execution_count": 9
        },
        {
          "output_type": "display_data",
          "data": {
            "image/png": "[encoded data removed]",
            "text/plain": [
              "<Figure size 432x288 with 1 Axes>"
            ]
          },
          "metadata": {
            "tags": []
          }
        }
      ]
    },
    {
      "cell_type": "markdown",
      "metadata": {
        "id": "u3cFnXoh7XBq",
        "colab_type": "text"
      },
      "source": [
        "Looks our data is unbalanced"
      ]
    },
    {
      "cell_type": "code",
      "metadata": {
        "id": "MOdcAuCsu5jx",
        "colab_type": "code",
        "colab": {
          "base_uri": "https://localhost:8080/",
          "height": 136
        },
        "outputId": "af33a5a7-d06e-4715-af85-b5042809ab61"
      },
      "source": [
        "data.groupby('y').mean()"
      ],
      "execution_count": 10,
      "outputs": [
        {
          "output_type": "execute_result",
          "data": {
            "text/html": [
              "<div>\n",
              "<style scoped>\n",
              "    .dataframe tbody tr th:only-of-type {\n",
              "        vertical-align: middle;\n",
              "    }\n",
              "\n",
              "    .dataframe tbody tr th {\n",
              "        vertical-align: top;\n",
              "    }\n",
              "\n",
              "    .dataframe thead th {\n",
              "        text-align: right;\n",
              "    }\n",
              "</style>\n",
              "<table border=\"1\" class=\"dataframe\">\n",
              "  <thead>\n",
              "    <tr style=\"text-align: right;\">\n",
              "      <th></th>\n",
              "      <th>age</th>\n",
              "      <th>balance</th>\n",
              "      <th>day</th>\n",
              "      <th>duration</th>\n",
              "      <th>campaign</th>\n",
              "      <th>pdays</th>\n",
              "      <th>previous</th>\n",
              "    </tr>\n",
              "    <tr>\n",
              "      <th>y</th>\n",
              "      <th></th>\n",
              "      <th></th>\n",
              "      <th></th>\n",
              "      <th></th>\n",
              "      <th></th>\n",
              "      <th></th>\n",
              "      <th></th>\n",
              "    </tr>\n",
              "  </thead>\n",
              "  <tbody>\n",
              "    <tr>\n",
              "      <th>no</th>\n",
              "      <td>40.838986</td>\n",
              "      <td>1303.714969</td>\n",
              "      <td>15.892290</td>\n",
              "      <td>221.182806</td>\n",
              "      <td>2.846350</td>\n",
              "      <td>36.421372</td>\n",
              "      <td>0.502154</td>\n",
              "    </tr>\n",
              "    <tr>\n",
              "      <th>yes</th>\n",
              "      <td>41.670070</td>\n",
              "      <td>1804.267915</td>\n",
              "      <td>15.158253</td>\n",
              "      <td>537.294574</td>\n",
              "      <td>2.141047</td>\n",
              "      <td>68.702968</td>\n",
              "      <td>1.170354</td>\n",
              "    </tr>\n",
              "  </tbody>\n",
              "</table>\n",
              "</div>"
            ],
            "text/plain": [
              "           age      balance        day  ...  campaign      pdays  previous\n",
              "y                                       ...                               \n",
              "no   40.838986  1303.714969  15.892290  ...  2.846350  36.421372  0.502154\n",
              "yes  41.670070  1804.267915  15.158253  ...  2.141047  68.702968  1.170354\n",
              "\n",
              "[2 rows x 7 columns]"
            ]
          },
          "metadata": {
            "tags": []
          },
          "execution_count": 10
        }
      ]
    },
    {
      "cell_type": "code",
      "metadata": {
        "id": "EYyxT0P9wYkE",
        "colab_type": "code",
        "colab": {
          "base_uri": "https://localhost:8080/",
          "height": 449
        },
        "outputId": "28c30483-f97f-4f55-d47c-66da5729ec34"
      },
      "source": [
        "data.hist()"
      ],
      "execution_count": 11,
      "outputs": [
        {
          "output_type": "execute_result",
          "data": {
            "text/plain": [
              "array([[<matplotlib.axes._subplots.AxesSubplot object at 0x7f9c45c37828>,\n",
              "        <matplotlib.axes._subplots.AxesSubplot object at 0x7f9c456fbc88>,\n",
              "        <matplotlib.axes._subplots.AxesSubplot object at 0x7f9c456aeef0>],\n",
              "       [<matplotlib.axes._subplots.AxesSubplot object at 0x7f9c45670198>,\n",
              "        <matplotlib.axes._subplots.AxesSubplot object at 0x7f9c45623400>,\n",
              "        <matplotlib.axes._subplots.AxesSubplot object at 0x7f9c45657668>],\n",
              "       [<matplotlib.axes._subplots.AxesSubplot object at 0x7f9c4560a8d0>,\n",
              "        <matplotlib.axes._subplots.AxesSubplot object at 0x7f9c455bdb00>,\n",
              "        <matplotlib.axes._subplots.AxesSubplot object at 0x7f9c455bdb70>]],\n",
              "      dtype=object)"
            ]
          },
          "metadata": {
            "tags": []
          },
          "execution_count": 11
        },
        {
          "output_type": "display_data",
          "data": {
            "image/png": "[encoded data removed]",
            "text/plain": [
              "<Figure size 432x288 with 9 Axes>"
            ]
          },
          "metadata": {
            "tags": []
          }
        }
      ]
    },
    {
      "cell_type": "code",
      "metadata": {
        "id": "qxV8-yiR0Qdp",
        "colab_type": "code",
        "colab": {
          "base_uri": "https://localhost:8080/",
          "height": 282
        },
        "outputId": "9c7bc152-6b82-4386-e269-0cf9571a2d9d"
      },
      "source": [
        "data['age'].hist()"
      ],
      "execution_count": 12,
      "outputs": [
        {
          "output_type": "execute_result",
          "data": {
            "text/plain": [
              "<matplotlib.axes._subplots.AxesSubplot at 0x7f9c453ff0b8>"
            ]
          },
          "metadata": {
            "tags": []
          },
          "execution_count": 12
        },
        {
          "output_type": "display_data",
          "data": {
            "image/png": "[encoded data removed]",
            "text/plain": [
              "<Figure size 432x288 with 1 Axes>"
            ]
          },
          "metadata": {
            "tags": []
          }
        }
      ]
    },
    {
      "cell_type": "code",
      "metadata": {
        "id": "1U5uM2uPQ5Ma",
        "colab_type": "code",
        "colab": {
          "base_uri": "https://localhost:8080/",
          "height": 350
        },
        "outputId": "f85e8e86-010c-4c46-c6f4-690f7b93e9ec"
      },
      "source": [
        "import seaborn as sns\n",
        "sns.boxplot(data['age'])"
      ],
      "execution_count": 13,
      "outputs": [
        {
          "output_type": "stream",
          "text": [
            "/usr/local/lib/python3.6/dist-packages/statsmodels/tools/_testing.py:19: FutureWarning: pandas.util.testing is deprecated. Use the functions in the public API at pandas.testing instead.\n",
            "  import pandas.util.testing as tm\n"
          ],
          "name": "stderr"
        },
        {
          "output_type": "execute_result",
          "data": {
            "text/plain": [
              "<matplotlib.axes._subplots.AxesSubplot at 0x7f9c44704ac8>"
            ]
          },
          "metadata": {
            "tags": []
          },
          "execution_count": 13
        },
        {
          "output_type": "display_data",
          "data": {
            "image/png": "[encoded data removed]",
            "text/plain": [
              "<Figure size 432x288 with 1 Axes>"
            ]
          },
          "metadata": {
            "tags": []
          }
        }
      ]
    },
    {
      "cell_type": "code",
      "metadata": {
        "id": "veSK0egg3Lau",
        "colab_type": "code",
        "colab": {
          "base_uri": "https://localhost:8080/",
          "height": 296
        },
        "outputId": "d71f2e7f-3004-4aed-807d-f6023128fffe"
      },
      "source": [
        "sns.boxplot(data['balance'])"
      ],
      "execution_count": 14,
      "outputs": [
        {
          "output_type": "execute_result",
          "data": {
            "text/plain": [
              "<matplotlib.axes._subplots.AxesSubplot at 0x7f9c446fb160>"
            ]
          },
          "metadata": {
            "tags": []
          },
          "execution_count": 14
        },
        {
          "output_type": "display_data",
          "data": {
            "image/png": "[encoded data removed]",
            "text/plain": [
              "<Figure size 432x288 with 1 Axes>"
            ]
          },
          "metadata": {
            "tags": []
          }
        }
      ]
    },
    {
      "cell_type": "code",
      "metadata": {
        "id": "LGaSjVLX24MH",
        "colab_type": "code",
        "colab": {
          "base_uri": "https://localhost:8080/",
          "height": 296
        },
        "outputId": "5021922d-2c93-495d-8d1d-f4edf1b000ed"
      },
      "source": [
        "sns.boxplot(data['day'])"
      ],
      "execution_count": 15,
      "outputs": [
        {
          "output_type": "execute_result",
          "data": {
            "text/plain": [
              "<matplotlib.axes._subplots.AxesSubplot at 0x7f9c44660908>"
            ]
          },
          "metadata": {
            "tags": []
          },
          "execution_count": 15
        },
        {
          "output_type": "display_data",
          "data": {
            "image/png": "[encoded data removed]",
            "text/plain": [
              "<Figure size 432x288 with 1 Axes>"
            ]
          },
          "metadata": {
            "tags": []
          }
        }
      ]
    },
    {
      "cell_type": "code",
      "metadata": {
        "id": "RdEAfDk13Gjk",
        "colab_type": "code",
        "colab": {
          "base_uri": "https://localhost:8080/",
          "height": 296
        },
        "outputId": "05fbcee5-3736-4b2f-84fe-f7e835655934"
      },
      "source": [
        "sns.boxplot(data['duration'])"
      ],
      "execution_count": 16,
      "outputs": [
        {
          "output_type": "execute_result",
          "data": {
            "text/plain": [
              "<matplotlib.axes._subplots.AxesSubplot at 0x7f9c445c3278>"
            ]
          },
          "metadata": {
            "tags": []
          },
          "execution_count": 16
        },
        {
          "output_type": "display_data",
          "data": {
            "image/png": "[encoded data removed]",
            "text/plain": [
              "<Figure size 432x288 with 1 Axes>"
            ]
          },
          "metadata": {
            "tags": []
          }
        }
      ]
    },
    {
      "cell_type": "code",
      "metadata": {
        "id": "Tw9XBfhR3Oud",
        "colab_type": "code",
        "colab": {
          "base_uri": "https://localhost:8080/",
          "height": 296
        },
        "outputId": "d0dfb249-77df-43bd-c95a-a8d9591f80f7"
      },
      "source": [
        "sns.boxplot(data['campaign'])"
      ],
      "execution_count": 17,
      "outputs": [
        {
          "output_type": "execute_result",
          "data": {
            "text/plain": [
              "<matplotlib.axes._subplots.AxesSubplot at 0x7f9c445ab588>"
            ]
          },
          "metadata": {
            "tags": []
          },
          "execution_count": 17
        },
        {
          "output_type": "display_data",
          "data": {
            "image/png": "[encoded data removed]",
            "text/plain": [
              "<Figure size 432x288 with 1 Axes>"
            ]
          },
          "metadata": {
            "tags": []
          }
        }
      ]
    },
    {
      "cell_type": "code",
      "metadata": {
        "id": "sgBUTF_i3UyT",
        "colab_type": "code",
        "colab": {
          "base_uri": "https://localhost:8080/",
          "height": 296
        },
        "outputId": "54927b00-759e-46a1-b4e1-4b689bd9e6ac"
      },
      "source": [
        "sns.boxplot(data['pdays'])"
      ],
      "execution_count": 18,
      "outputs": [
        {
          "output_type": "execute_result",
          "data": {
            "text/plain": [
              "<matplotlib.axes._subplots.AxesSubplot at 0x7f9c44501630>"
            ]
          },
          "metadata": {
            "tags": []
          },
          "execution_count": 18
        },
        {
          "output_type": "display_data",
          "data": {
            "image/png": "[encoded data removed]",
            "text/plain": [
              "<Figure size 432x288 with 1 Axes>"
            ]
          },
          "metadata": {
            "tags": []
          }
        }
      ]
    },
    {
      "cell_type": "code",
      "metadata": {
        "id": "ozNDldzo3Y6S",
        "colab_type": "code",
        "colab": {
          "base_uri": "https://localhost:8080/",
          "height": 296
        },
        "outputId": "877831f0-0a81-458b-fa7a-b883a583cecd"
      },
      "source": [
        "sns.boxplot(data['previous'])"
      ],
      "execution_count": 19,
      "outputs": [
        {
          "output_type": "execute_result",
          "data": {
            "text/plain": [
              "<matplotlib.axes._subplots.AxesSubplot at 0x7f9c44660080>"
            ]
          },
          "metadata": {
            "tags": []
          },
          "execution_count": 19
        },
        {
          "output_type": "display_data",
          "data": {
            "image/png": "[encoded data removed]",
            "text/plain": [
              "<Figure size 432x288 with 1 Axes>"
            ]
          },
          "metadata": {
            "tags": []
          }
        }
      ]
    },
    {
      "cell_type": "code",
      "metadata": {
        "id": "n_K-bYLA3Smu",
        "colab_type": "code",
        "colab": {
          "base_uri": "https://localhost:8080/",
          "height": 443
        },
        "outputId": "b5c293ce-0426-4bca-a82e-e20881d66695"
      },
      "source": [
        "import seaborn as sns \n",
        "corr = data.corr()\n",
        "sns.heatmap(corr)\n",
        "print(corr)"
      ],
      "execution_count": 20,
      "outputs": [
        {
          "output_type": "stream",
          "text": [
            "               age   balance       day  duration  campaign     pdays  previous\n",
            "age       1.000000  0.097783 -0.009120 -0.004648  0.004760 -0.023758  0.001288\n",
            "balance   0.097783  1.000000  0.004503  0.021560 -0.014578  0.003435  0.016674\n",
            "day      -0.009120  0.004503  1.000000 -0.030206  0.162490 -0.093044 -0.051710\n",
            "duration -0.004648  0.021560 -0.030206  1.000000 -0.084570 -0.001565  0.001203\n",
            "campaign  0.004760 -0.014578  0.162490 -0.084570  1.000000 -0.088628 -0.032855\n",
            "pdays    -0.023758  0.003435 -0.093044 -0.001565 -0.088628  1.000000  0.454820\n",
            "previous  0.001288  0.016674 -0.051710  0.001203 -0.032855  0.454820  1.000000\n"
          ],
          "name": "stdout"
        },
        {
          "output_type": "display_data",
          "data": {
            "image/png": "[encoded data removed]",
            "text/plain": [
              "<Figure size 432x288 with 2 Axes>"
            ]
          },
          "metadata": {
            "tags": []
          }
        }
      ]
    },
    {
      "cell_type": "code",
      "metadata": {
        "id": "Psp_0pIJUYrS",
        "colab_type": "code",
        "colab": {
          "base_uri": "https://localhost:8080/",
          "height": 296
        },
        "outputId": "5bd42b6c-9476-49b5-b56c-e78030e8929c"
      },
      "source": [
        "sns.distplot(data['age'])"
      ],
      "execution_count": 21,
      "outputs": [
        {
          "output_type": "execute_result",
          "data": {
            "text/plain": [
              "<matplotlib.axes._subplots.AxesSubplot at 0x7f9c409730b8>"
            ]
          },
          "metadata": {
            "tags": []
          },
          "execution_count": 21
        },
        {
          "output_type": "display_data",
          "data": {
            "image/png": "[encoded data removed]",
            "text/plain": [
              "<Figure size 432x288 with 1 Axes>"
            ]
          },
          "metadata": {
            "tags": []
          }
        }
      ]
    },
    {
      "cell_type": "code",
      "metadata": {
        "id": "btmkDMdBY-EM",
        "colab_type": "code",
        "colab": {
          "base_uri": "https://localhost:8080/",
          "height": 296
        },
        "outputId": "e76edf31-7b1c-45a5-853a-a70e086f21b4"
      },
      "source": [
        "sns.distplot(data['balance'])"
      ],
      "execution_count": 22,
      "outputs": [
        {
          "output_type": "execute_result",
          "data": {
            "text/plain": [
              "<matplotlib.axes._subplots.AxesSubplot at 0x7f9c40920ac8>"
            ]
          },
          "metadata": {
            "tags": []
          },
          "execution_count": 22
        },
        {
          "output_type": "display_data",
          "data": {
            "image/png": "[encoded data removed]",
            "text/plain": [
              "<Figure size 432x288 with 1 Axes>"
            ]
          },
          "metadata": {
            "tags": []
          }
        }
      ]
    },
    {
      "cell_type": "code",
      "metadata": {
        "id": "WVUG0JHiZJrg",
        "colab_type": "code",
        "colab": {
          "base_uri": "https://localhost:8080/",
          "height": 296
        },
        "outputId": "0cbb6ba7-91f9-4feb-8fa7-11cfb5593d04"
      },
      "source": [
        "sns.distplot(data['campaign'])"
      ],
      "execution_count": 23,
      "outputs": [
        {
          "output_type": "execute_result",
          "data": {
            "text/plain": [
              "<matplotlib.axes._subplots.AxesSubplot at 0x7f9c446f1a20>"
            ]
          },
          "metadata": {
            "tags": []
          },
          "execution_count": 23
        },
        {
          "output_type": "display_data",
          "data": {
            "image/png": "[encoded data removed]",
            "text/plain": [
              "<Figure size 432x288 with 1 Axes>"
            ]
          },
          "metadata": {
            "tags": []
          }
        }
      ]
    },
    {
      "cell_type": "code",
      "metadata": {
        "id": "bSVPwhg5ZUzb",
        "colab_type": "code",
        "colab": {
          "base_uri": "https://localhost:8080/",
          "height": 296
        },
        "outputId": "64f89585-3361-4b48-9c1a-ba95ccf8b8fe"
      },
      "source": [
        "sns.distplot(data['day'])"
      ],
      "execution_count": 24,
      "outputs": [
        {
          "output_type": "execute_result",
          "data": {
            "text/plain": [
              "<matplotlib.axes._subplots.AxesSubplot at 0x7f9c4063c400>"
            ]
          },
          "metadata": {
            "tags": []
          },
          "execution_count": 24
        },
        {
          "output_type": "display_data",
          "data": {
            "image/png": "[encoded data removed]",
            "text/plain": [
              "<Figure size 432x288 with 1 Axes>"
            ]
          },
          "metadata": {
            "tags": []
          }
        }
      ]
    },
    {
      "cell_type": "code",
      "metadata": {
        "id": "x5JjevxATU63",
        "colab_type": "code",
        "colab": {
          "base_uri": "https://localhost:8080/",
          "height": 296
        },
        "outputId": "13332065-a18d-4ec7-df67-1cb557235405"
      },
      "source": [
        "sns.distplot(data['duration'])"
      ],
      "execution_count": 25,
      "outputs": [
        {
          "output_type": "execute_result",
          "data": {
            "text/plain": [
              "<matplotlib.axes._subplots.AxesSubplot at 0x7f9c405962b0>"
            ]
          },
          "metadata": {
            "tags": []
          },
          "execution_count": 25
        },
        {
          "output_type": "display_data",
          "data": {
            "image/png": "[encoded data removed]",
            "text/plain": [
              "<Figure size 432x288 with 1 Axes>"
            ]
          },
          "metadata": {
            "tags": []
          }
        }
      ]
    },
    {
      "cell_type": "code",
      "metadata": {
        "id": "edaF3cy3TA8-",
        "colab_type": "code",
        "colab": {
          "base_uri": "https://localhost:8080/",
          "height": 151
        },
        "outputId": "5baf11c5-6e71-4905-f803-2b688ae012ab"
      },
      "source": [
        "print(corr)"
      ],
      "execution_count": 26,
      "outputs": [
        {
          "output_type": "stream",
          "text": [
            "               age   balance       day  duration  campaign     pdays  previous\n",
            "age       1.000000  0.097783 -0.009120 -0.004648  0.004760 -0.023758  0.001288\n",
            "balance   0.097783  1.000000  0.004503  0.021560 -0.014578  0.003435  0.016674\n",
            "day      -0.009120  0.004503  1.000000 -0.030206  0.162490 -0.093044 -0.051710\n",
            "duration -0.004648  0.021560 -0.030206  1.000000 -0.084570 -0.001565  0.001203\n",
            "campaign  0.004760 -0.014578  0.162490 -0.084570  1.000000 -0.088628 -0.032855\n",
            "pdays    -0.023758  0.003435 -0.093044 -0.001565 -0.088628  1.000000  0.454820\n",
            "previous  0.001288  0.016674 -0.051710  0.001203 -0.032855  0.454820  1.000000\n"
          ],
          "name": "stdout"
        }
      ]
    },
    {
      "cell_type": "code",
      "metadata": {
        "id": "tMo_jEsu9Q-B",
        "colab_type": "code",
        "outputId": "dd1e68d5-6d22-4b4c-844a-29f6a09d21ce",
        "colab": {
          "base_uri": "https://localhost:8080/",
          "height": 285
        }
      },
      "source": [
        "import seaborn as sns; \n",
        "sns.set(style=\"darkgrid\")\n",
        "import matplotlib.pyplot as plt\n",
        "ax = sns.scatterplot(x='age',y='balance', data=data)"
      ],
      "execution_count": 27,
      "outputs": [
        {
          "output_type": "display_data",
          "data": {
            "image/png": "[encoded data removed]",
            "text/plain": [
              "<Figure size 432x288 with 1 Axes>"
            ]
          },
          "metadata": {
            "tags": []
          }
        }
      ]
    },
    {
      "cell_type": "code",
      "metadata": {
        "id": "Tjgop5ASHIOI",
        "colab_type": "code",
        "colab": {
          "base_uri": "https://localhost:8080/",
          "height": 285
        },
        "outputId": "1b4688f6-106d-4294-b55a-e7515544fa5e"
      },
      "source": [
        "ax = sns.scatterplot(x='duration',y='campaign', data=data)"
      ],
      "execution_count": 28,
      "outputs": [
        {
          "output_type": "display_data",
          "data": {
            "image/png": "[encoded data removed]",
            "text/plain": [
              "<Figure size 432x288 with 1 Axes>"
            ]
          },
          "metadata": {
            "tags": []
          }
        }
      ]
    },
    {
      "cell_type": "markdown",
      "metadata": {
        "id": "3hgdar7j9LK2",
        "colab_type": "text"
      },
      "source": [
        "Categorical variable analysis"
      ]
    },
    {
      "cell_type": "code",
      "metadata": {
        "id": "wPKyB2VVckyo",
        "colab_type": "code",
        "colab": {
          "base_uri": "https://localhost:8080/",
          "height": 134
        },
        "outputId": "79cba354-6619-4414-95b1-b747510c198e"
      },
      "source": [
        "from scipy import stats\n",
        "crosstab = pd.crosstab(data['y'], data['duration'])\n",
        "stats.chi2_contingency(crosstab)"
      ],
      "execution_count": 29,
      "outputs": [
        {
          "output_type": "execute_result",
          "data": {
            "text/plain": [
              "(10568.236244749178,\n",
              " 0.0,\n",
              " 1572,\n",
              " array([[2.64904559, 1.76603039, 2.64904559, ..., 0.8830152 , 0.8830152 ,\n",
              "         0.8830152 ],\n",
              "        [0.35095441, 0.23396961, 0.35095441, ..., 0.1169848 , 0.1169848 ,\n",
              "         0.1169848 ]]))"
            ]
          },
          "metadata": {
            "tags": []
          },
          "execution_count": 29
        }
      ]
    },
    {
      "cell_type": "code",
      "metadata": {
        "id": "Xg5jZJnPT9gn",
        "colab_type": "code",
        "colab": {
          "base_uri": "https://localhost:8080/",
          "height": 101
        },
        "outputId": "07a70283-084e-47d7-ad80-5ce673c378f0"
      },
      "source": [
        "crosstab1 = pd.crosstab(data['y'], data['marital'])\n",
        "stats.chi2_contingency(crosstab1)"
      ],
      "execution_count": 30,
      "outputs": [
        {
          "output_type": "execute_result",
          "data": {
            "text/plain": [
              "(196.4959456560396,\n",
              " 2.1450999986791486e-43,\n",
              " 2,\n",
              " array([[ 4597.86012254, 24030.37552808, 11293.76434938],\n",
              "        [  609.13987746,  3183.62447192,  1496.23565062]]))"
            ]
          },
          "metadata": {
            "tags": []
          },
          "execution_count": 30
        }
      ]
    },
    {
      "cell_type": "markdown",
      "metadata": {
        "id": "JHFu9knhZ_lI",
        "colab_type": "text"
      },
      "source": [
        "Feature Engineering"
      ]
    },
    {
      "cell_type": "code",
      "metadata": {
        "id": "Vp_LSq45aDod",
        "colab_type": "code",
        "colab": {
          "base_uri": "https://localhost:8080/",
          "height": 84
        },
        "outputId": "62a2b1d5-6009-4a1b-9314-16e1641b2264"
      },
      "source": [
        "data.columns"
      ],
      "execution_count": 31,
      "outputs": [
        {
          "output_type": "execute_result",
          "data": {
            "text/plain": [
              "Index(['age', 'job', 'marital', 'education', 'default', 'balance', 'housing',\n",
              "       'loan', 'contact', 'day', 'month', 'duration', 'campaign', 'pdays',\n",
              "       'previous', 'poutcome', 'y'],\n",
              "      dtype='object')"
            ]
          },
          "metadata": {
            "tags": []
          },
          "execution_count": 31
        }
      ]
    },
    {
      "cell_type": "code",
      "metadata": {
        "id": "g4_V--BvdeRd",
        "colab_type": "code",
        "colab": {
          "base_uri": "https://localhost:8080/",
          "height": 67
        },
        "outputId": "dfb0acfb-bc53-4872-83ea-5f250e250ae3"
      },
      "source": [
        "cat_attr = list(data.select_dtypes(\"object\").columns)\n",
        "num_attr = list(data.select_dtypes(\"int64\").columns)\n",
        "print(\"categorical variables are\",cat_attr,'\\n')\n",
        "print(\"numerical ariables are\",num_attr)"
      ],
      "execution_count": 32,
      "outputs": [
        {
          "output_type": "stream",
          "text": [
            "categorical variables are ['job', 'marital', 'education', 'default', 'housing', 'loan', 'contact', 'month', 'poutcome', 'y'] \n",
            "\n",
            "numerical ariables are ['age', 'balance', 'day', 'duration', 'campaign', 'pdays', 'previous']\n"
          ],
          "name": "stdout"
        }
      ]
    },
    {
      "cell_type": "code",
      "metadata": {
        "id": "QnbQIg-G34Sv",
        "colab_type": "code",
        "colab": {}
      },
      "source": [
        "for col in cat_attr:\n",
        "    data[col] = data[col].astype('category')"
      ],
      "execution_count": 0,
      "outputs": []
    },
    {
      "cell_type": "code",
      "metadata": {
        "id": "nQ6pvyPM6dnq",
        "colab_type": "code",
        "colab": {
          "base_uri": "https://localhost:8080/",
          "height": 34
        },
        "outputId": "aa5abcda-1df1-4aa6-cfa1-b655d806e834"
      },
      "source": [
        "cat_attr.pop(9)"
      ],
      "execution_count": 34,
      "outputs": [
        {
          "output_type": "execute_result",
          "data": {
            "text/plain": [
              "'y'"
            ]
          },
          "metadata": {
            "tags": []
          },
          "execution_count": 34
        }
      ]
    },
    {
      "cell_type": "markdown",
      "metadata": {
        "id": "MC3zYn3j65WK",
        "colab_type": "text"
      },
      "source": [
        "# Import packages"
      ]
    },
    {
      "cell_type": "code",
      "metadata": {
        "id": "i3k9WGp263QD",
        "colab_type": "code",
        "colab": {}
      },
      "source": [
        "from sklearn import preprocessing\n",
        "from sklearn.impute import SimpleImputer\n",
        "from sklearn.svm import SVC\n",
        "from sklearn.linear_model import LogisticRegression\n",
        "from sklearn.preprocessing import StandardScaler\n",
        "from sklearn.preprocessing import OneHotEncoder\n",
        "from sklearn.compose import ColumnTransformer"
      ],
      "execution_count": 0,
      "outputs": []
    },
    {
      "cell_type": "markdown",
      "metadata": {
        "id": "_5gcjeWU87ck",
        "colab_type": "text"
      },
      "source": [
        "Standardising numerical features"
      ]
    },
    {
      "cell_type": "code",
      "metadata": {
        "id": "D-ZTOPmw7HVf",
        "colab_type": "code",
        "colab": {}
      },
      "source": [
        "scaler = StandardScaler()\n",
        "data_num = pd.DataFrame(scaler.fit_transform(data[num_attr]))"
      ],
      "execution_count": 0,
      "outputs": []
    },
    {
      "cell_type": "markdown",
      "metadata": {
        "id": "mktkxZTn9IE6",
        "colab_type": "text"
      },
      "source": [
        "Standardising categorical features- Dummification"
      ]
    },
    {
      "cell_type": "code",
      "metadata": {
        "id": "0xEmiCyZ9sOH",
        "colab_type": "code",
        "colab": {}
      },
      "source": [
        "from sklearn import preprocessing \n",
        "le = preprocessing.LabelEncoder()\n",
        "#data_cat = data[cat_attr]\n",
        "#data_cat = le.fit_transform(data_cat)\n",
        "data_cat = data[cat_attr].apply(le.fit_transform)"
      ],
      "execution_count": 0,
      "outputs": []
    },
    {
      "cell_type": "code",
      "metadata": {
        "id": "zvCX3L2sjYx3",
        "colab_type": "code",
        "colab": {}
      },
      "source": [
        "data1 = pd.concat([data_num,data_cat],axis = 1)"
      ],
      "execution_count": 0,
      "outputs": []
    },
    {
      "cell_type": "code",
      "metadata": {
        "id": "tFoR9_7JjvxI",
        "colab_type": "code",
        "colab": {
          "base_uri": "https://localhost:8080/",
          "height": 252
        },
        "outputId": "e92032c9-65a6-4db1-a77b-0fb5ea90cfdf"
      },
      "source": [
        "data1.describe"
      ],
      "execution_count": 39,
      "outputs": [
        {
          "output_type": "execute_result",
          "data": {
            "text/plain": [
              "<bound method NDFrame.describe of               0         1         2         3  ...  loan  contact  month  poutcome\n",
              "0      1.606965  0.256419 -1.298476  0.011016  ...     0        2      8         3\n",
              "1      0.288529 -0.437895 -1.298476 -0.416127  ...     0        2      8         3\n",
              "2     -0.747384 -0.446762 -1.298476 -0.707361  ...     1        2      8         3\n",
              "3      0.571051  0.047205 -1.298476 -0.645231  ...     0        2      8         3\n",
              "4     -0.747384 -0.447091 -1.298476 -0.233620  ...     0        2      8         3\n",
              "...         ...       ...       ...       ...  ...   ...      ...    ...       ...\n",
              "45206  0.947747 -0.176460  0.143418  2.791329  ...     0        0      9         3\n",
              "45207  2.831227  0.120447  0.143418  0.768224  ...     0        0      9         3\n",
              "45208  2.925401  1.429593  0.143418  3.373797  ...     0        0      9         2\n",
              "45209  1.512791 -0.228024  0.143418  0.970146  ...     0        1      9         3\n",
              "45210 -0.370689  0.528364  0.143418  0.399328  ...     0        0      9         1\n",
              "\n",
              "[45211 rows x 16 columns]>"
            ]
          },
          "metadata": {
            "tags": []
          },
          "execution_count": 39
        }
      ]
    },
    {
      "cell_type": "markdown",
      "metadata": {
        "id": "dtgiHkJ844fp",
        "colab_type": "text"
      },
      "source": [
        "Train/Test Split"
      ]
    },
    {
      "cell_type": "code",
      "metadata": {
        "id": "-XJ-0vlK47Nd",
        "colab_type": "code",
        "colab": {}
      },
      "source": [
        "y=data['y']\n",
        "x=data1"
      ],
      "execution_count": 0,
      "outputs": []
    },
    {
      "cell_type": "code",
      "metadata": {
        "id": "F1TFN2AkkK05",
        "colab_type": "code",
        "colab": {}
      },
      "source": [
        "X_train,X_test,y_train,y_test = train_test_split(x, y, test_size=0.20,random_state=123)"
      ],
      "execution_count": 0,
      "outputs": []
    },
    {
      "cell_type": "code",
      "metadata": {
        "id": "QTKlZ7mmkTen",
        "colab_type": "code",
        "colab": {
          "base_uri": "https://localhost:8080/",
          "height": 84
        },
        "outputId": "0470cc13-2112-463d-8274-78dc8def315f"
      },
      "source": [
        "print(X_train.shape)\n",
        "print(y_train.shape)\n",
        "print(X_test.shape)\n",
        "print(y_test.shape)"
      ],
      "execution_count": 42,
      "outputs": [
        {
          "output_type": "stream",
          "text": [
            "(36168, 16)\n",
            "(36168,)\n",
            "(9043, 16)\n",
            "(9043,)\n"
          ],
          "name": "stdout"
        }
      ]
    },
    {
      "cell_type": "markdown",
      "metadata": {
        "id": "tVxjESxvkr3C",
        "colab_type": "text"
      },
      "source": [
        "Logistic Regression"
      ]
    },
    {
      "cell_type": "code",
      "metadata": {
        "id": "5Bx_AB4dkuFW",
        "colab_type": "code",
        "colab": {
          "base_uri": "https://localhost:8080/",
          "height": 101
        },
        "outputId": "f3f15762-dd42-4f13-be34-915be3381d67"
      },
      "source": [
        "from sklearn.metrics import accuracy_score, recall_score, precision_score\n",
        "from sklearn.metrics import confusion_matrix\n",
        "from sklearn.metrics import classification_report\n",
        "from sklearn import  metrics\n",
        "from sklearn.metrics import roc_auc_score\n",
        "from sklearn.model_selection import RepeatedStratifiedKFold\n",
        "\n",
        "\n",
        "clf_logreg =  LogisticRegression()\n",
        "clf_logreg.fit(X_train, y_train)"
      ],
      "execution_count": 43,
      "outputs": [
        {
          "output_type": "execute_result",
          "data": {
            "text/plain": [
              "LogisticRegression(C=1.0, class_weight=None, dual=False, fit_intercept=True,\n",
              "                   intercept_scaling=1, l1_ratio=None, max_iter=100,\n",
              "                   multi_class='auto', n_jobs=None, penalty='l2',\n",
              "                   random_state=None, solver='lbfgs', tol=0.0001, verbose=0,\n",
              "                   warm_start=False)"
            ]
          },
          "metadata": {
            "tags": []
          },
          "execution_count": 43
        }
      ]
    },
    {
      "cell_type": "code",
      "metadata": {
        "id": "QUteWSxfl-LZ",
        "colab_type": "code",
        "colab": {
          "base_uri": "https://localhost:8080/",
          "height": 386
        },
        "outputId": "ffbc485c-7f4e-43e9-c99c-e479ea0a34fe"
      },
      "source": [
        "train_pred_log = clf_logreg.predict(X_train)\n",
        "test_pred_log= clf_logreg.predict(X_test)\n",
        "confusion_matrix_train = confusion_matrix(y_true = y_train, y_pred = train_pred_log)\n",
        "print(confusion_matrix_train)\n",
        "confusion_matrix_test = confusion_matrix(y_true = y_test, y_pred = test_pred_log)\n",
        "print(confusion_matrix_test)\n",
        "print(\"classification_report\",classification_report(y_train,train_pred_log,digits=4))\n",
        "print(\"classification_report\",classification_report(y_test,test_pred_log,digits=4))\n"
      ],
      "execution_count": 44,
      "outputs": [
        {
          "output_type": "stream",
          "text": [
            "[[31319   617]\n",
            " [ 3315   917]]\n",
            "[[7832  154]\n",
            " [ 835  222]]\n",
            "classification_report               precision    recall  f1-score   support\n",
            "\n",
            "          no     0.9043    0.9807    0.9409     31936\n",
            "         yes     0.5978    0.2167    0.3181      4232\n",
            "\n",
            "    accuracy                         0.8913     36168\n",
            "   macro avg     0.7510    0.5987    0.6295     36168\n",
            "weighted avg     0.8684    0.8913    0.8681     36168\n",
            "\n",
            "classification_report               precision    recall  f1-score   support\n",
            "\n",
            "          no     0.9037    0.9807    0.9406      7986\n",
            "         yes     0.5904    0.2100    0.3098      1057\n",
            "\n",
            "    accuracy                         0.8906      9043\n",
            "   macro avg     0.7470    0.5954    0.6252      9043\n",
            "weighted avg     0.8670    0.8906    0.8669      9043\n",
            "\n"
          ],
          "name": "stdout"
        }
      ]
    },
    {
      "cell_type": "code",
      "metadata": {
        "id": "r67Hw4hRmKN4",
        "colab_type": "code",
        "colab": {
          "base_uri": "https://localhost:8080/",
          "height": 570
        },
        "outputId": "eaa220c9-0c26-4fb1-8f23-9aa6fe64145a"
      },
      "source": [
        "metrics.plot_roc_curve(clf_logreg, X_train, y_train)\n",
        "metrics.plot_roc_curve(clf_logreg, X_test, y_test)"
      ],
      "execution_count": 45,
      "outputs": [
        {
          "output_type": "execute_result",
          "data": {
            "text/plain": [
              "<sklearn.metrics._plot.roc_curve.RocCurveDisplay at 0x7f9c4031b978>"
            ]
          },
          "metadata": {
            "tags": []
          },
          "execution_count": 45
        },
        {
          "output_type": "display_data",
          "data": {
            "image/png": "[encoded data removed]",
            "text/plain": [
              "<Figure size 432x288 with 1 Axes>"
            ]
          },
          "metadata": {
            "tags": []
          }
        },
        {
          "output_type": "display_data",
          "data": {
            "image/png": "[encoded data removed]",
            "text/plain": [
              "<Figure size 432x288 with 1 Axes>"
            ]
          },
          "metadata": {
            "tags": []
          }
        }
      ]
    },
    {
      "cell_type": "markdown",
      "metadata": {
        "id": "Hl9iWpd4EuNq",
        "colab_type": "text"
      },
      "source": [
        "MLP "
      ]
    },
    {
      "cell_type": "code",
      "metadata": {
        "id": "IjnLK850CZe5",
        "colab_type": "code",
        "colab": {
          "base_uri": "https://localhost:8080/",
          "height": 1000
        },
        "outputId": "3b15e369-cafe-4bb3-adde-77d754f47776"
      },
      "source": [
        "from sklearn.neural_network import MLPClassifier\n",
        "MLP = MLPClassifier(hidden_layer_sizes=(10,10,10 ), verbose = True, solver = 'adam', max_iter=300)\n",
        "MLP.fit(X_train, y_train)\n"
      ],
      "execution_count": 46,
      "outputs": [
        {
          "output_type": "stream",
          "text": [
            "Iteration 1, loss = 0.52001830\n",
            "Iteration 2, loss = 0.33195034\n",
            "Iteration 3, loss = 0.27933440\n",
            "Iteration 4, loss = 0.25893323\n",
            "Iteration 5, loss = 0.25469004\n",
            "Iteration 6, loss = 0.25335989\n",
            "Iteration 7, loss = 0.25245971\n",
            "Iteration 8, loss = 0.25171892\n",
            "Iteration 9, loss = 0.25058319\n",
            "Iteration 10, loss = 0.24983573\n",
            "Iteration 11, loss = 0.24899376\n",
            "Iteration 12, loss = 0.24815224\n",
            "Iteration 13, loss = 0.24681735\n",
            "Iteration 14, loss = 0.24557380\n",
            "Iteration 15, loss = 0.24358114\n",
            "Iteration 16, loss = 0.24208331\n",
            "Iteration 17, loss = 0.24002142\n",
            "Iteration 18, loss = 0.23877608\n",
            "Iteration 19, loss = 0.23738830\n",
            "Iteration 20, loss = 0.23656450\n",
            "Iteration 21, loss = 0.23571396\n",
            "Iteration 22, loss = 0.23482684\n",
            "Iteration 23, loss = 0.23403839\n",
            "Iteration 24, loss = 0.23336689\n",
            "Iteration 25, loss = 0.23313024\n",
            "Iteration 26, loss = 0.23249566\n",
            "Iteration 27, loss = 0.23202999\n",
            "Iteration 28, loss = 0.23194404\n",
            "Iteration 29, loss = 0.23210338\n",
            "Iteration 30, loss = 0.23127368\n",
            "Iteration 31, loss = 0.23105214\n",
            "Iteration 32, loss = 0.23059078\n",
            "Iteration 33, loss = 0.23070727\n",
            "Iteration 34, loss = 0.23006157\n",
            "Iteration 35, loss = 0.23039515\n",
            "Iteration 36, loss = 0.22999638\n",
            "Iteration 37, loss = 0.22985481\n",
            "Iteration 38, loss = 0.22966125\n",
            "Iteration 39, loss = 0.22946175\n",
            "Iteration 40, loss = 0.22919541\n",
            "Iteration 41, loss = 0.22977704\n",
            "Iteration 42, loss = 0.22962073\n",
            "Iteration 43, loss = 0.22905914\n",
            "Iteration 44, loss = 0.22865607\n",
            "Iteration 45, loss = 0.22863919\n",
            "Iteration 46, loss = 0.22915768\n",
            "Iteration 47, loss = 0.22829468\n",
            "Iteration 48, loss = 0.22828223\n",
            "Iteration 49, loss = 0.22890950\n",
            "Iteration 50, loss = 0.22823516\n",
            "Iteration 51, loss = 0.22833518\n",
            "Iteration 52, loss = 0.22795668\n",
            "Iteration 53, loss = 0.22813420\n",
            "Iteration 54, loss = 0.22767514\n",
            "Iteration 55, loss = 0.22782910\n",
            "Iteration 56, loss = 0.22787174\n",
            "Iteration 57, loss = 0.22804274\n",
            "Iteration 58, loss = 0.22773806\n",
            "Iteration 59, loss = 0.22780660\n",
            "Iteration 60, loss = 0.22747129\n",
            "Iteration 61, loss = 0.22731156\n",
            "Iteration 62, loss = 0.22742270\n",
            "Iteration 63, loss = 0.22770002\n",
            "Iteration 64, loss = 0.22750681\n",
            "Iteration 65, loss = 0.22718985\n",
            "Iteration 66, loss = 0.22697981\n",
            "Iteration 67, loss = 0.22703156\n",
            "Iteration 68, loss = 0.22705148\n",
            "Iteration 69, loss = 0.22713424\n",
            "Iteration 70, loss = 0.22712106\n",
            "Iteration 71, loss = 0.22691791\n",
            "Iteration 72, loss = 0.22664163\n",
            "Iteration 73, loss = 0.22684249\n",
            "Iteration 74, loss = 0.22685048\n",
            "Iteration 75, loss = 0.22727936\n",
            "Iteration 76, loss = 0.22678025\n",
            "Iteration 77, loss = 0.22651702\n",
            "Iteration 78, loss = 0.22684534\n",
            "Iteration 79, loss = 0.22628295\n",
            "Iteration 80, loss = 0.22639565\n",
            "Iteration 81, loss = 0.22669104\n",
            "Iteration 82, loss = 0.22622415\n",
            "Iteration 83, loss = 0.22685564\n",
            "Iteration 84, loss = 0.22594488\n",
            "Iteration 85, loss = 0.22641634\n",
            "Iteration 86, loss = 0.22635662\n",
            "Iteration 93, loss = 0.22575902\n",
            "Iteration 94, loss = 0.22617938\n",
            "Iteration 95, loss = 0.22602290\n",
            "Iteration 96, loss = 0.22608339\n",
            "Iteration 97, loss = 0.22584122\n",
            "Iteration 98, loss = 0.22563469\n",
            "Iteration 99, loss = 0.22590320\n",
            "Iteration 100, loss = 0.22596276\n",
            "Iteration 101, loss = 0.22537563\n",
            "Iteration 102, loss = 0.22528090\n",
            "Iteration 103, loss = 0.22538033\n",
            "Iteration 104, loss = 0.22543846\n",
            "Iteration 105, loss = 0.22513068\n",
            "Iteration 106, loss = 0.22526964\n",
            "Iteration 107, loss = 0.22502810\n",
            "Iteration 108, loss = 0.22534315\n",
            "Iteration 109, loss = 0.22496602\n",
            "Iteration 110, loss = 0.22504298\n",
            "Iteration 111, loss = 0.22499147\n",
            "Iteration 112, loss = 0.22553785\n",
            "Iteration 113, loss = 0.22489208\n",
            "Iteration 114, loss = 0.22501010\n",
            "Iteration 115, loss = 0.22477515\n",
            "Iteration 116, loss = 0.22499807\n",
            "Iteration 117, loss = 0.22473222\n",
            "Iteration 118, loss = 0.22458428\n",
            "Iteration 119, loss = 0.22506819\n",
            "Iteration 120, loss = 0.22497935\n",
            "Iteration 121, loss = 0.22516210\n",
            "Iteration 122, loss = 0.22449073\n",
            "Iteration 123, loss = 0.22435034\n",
            "Iteration 124, loss = 0.22446790\n",
            "Iteration 125, loss = 0.22423888\n",
            "Iteration 126, loss = 0.22439896\n",
            "Iteration 127, loss = 0.22418807\n",
            "Iteration 128, loss = 0.22431989\n",
            "Iteration 129, loss = 0.22416668\n",
            "Iteration 130, loss = 0.22466775\n",
            "Iteration 131, loss = 0.22409657\n",
            "Iteration 132, loss = 0.22412572\n",
            "Iteration 133, loss = 0.22385555\n",
            "Iteration 134, loss = 0.22427022\n",
            "Iteration 135, loss = 0.22412596\n",
            "Iteration 136, loss = 0.22462508\n",
            "Iteration 137, loss = 0.22391876\n",
            "Iteration 138, loss = 0.22421675\n",
            "Iteration 139, loss = 0.22368659\n",
            "Iteration 140, loss = 0.22425859\n",
            "Iteration 141, loss = 0.22408234\n",
            "Iteration 142, loss = 0.22405604\n",
            "Iteration 143, loss = 0.22384449\n",
            "Iteration 144, loss = 0.22392068\n",
            "Iteration 145, loss = 0.22378701\n",
            "Iteration 146, loss = 0.22381884\n",
            "Iteration 147, loss = 0.22374400\n",
            "Iteration 148, loss = 0.22427259\n",
            "Iteration 149, loss = 0.22344648\n",
            "Iteration 150, loss = 0.22387952\n",
            "Iteration 151, loss = 0.22327418\n",
            "Iteration 152, loss = 0.22295393\n",
            "Iteration 153, loss = 0.22383770\n",
            "Iteration 154, loss = 0.22327087\n",
            "Iteration 155, loss = 0.22309269\n",
            "Iteration 156, loss = 0.22333491\n",
            "Iteration 157, loss = 0.22307229\n",
            "Iteration 158, loss = 0.22328199\n",
            "Iteration 159, loss = 0.22406365\n",
            "Iteration 160, loss = 0.22353378\n",
            "Iteration 161, loss = 0.22344731\n",
            "Iteration 162, loss = 0.22336271\n",
            "Iteration 163, loss = 0.22310664\n",
            "Training loss did not improve more than tol=0.000100 for 10 consecutive epochs. Stopping.\n"
          ],
          "name": "stdout"
        },
        {
          "output_type": "execute_result",
          "data": {
            "text/plain": [
              "MLPClassifier(activation='relu', alpha=0.0001, batch_size='auto', beta_1=0.9,\n",
              "              beta_2=0.999, early_stopping=False, epsilon=1e-08,\n",
              "              hidden_layer_sizes=(10, 10, 10), learning_rate='constant',\n",
              "              learning_rate_init=0.001, max_fun=15000, max_iter=300,\n",
              "              momentum=0.9, n_iter_no_change=10, nesterovs_momentum=True,\n",
              "              power_t=0.5, random_state=None, shuffle=True, solver='adam',\n",
              "              tol=0.0001, validation_fraction=0.1, verbose=True,\n",
              "              warm_start=False)"
            ]
          },
          "metadata": {
            "tags": []
          },
          "execution_count": 46
        }
      ]
    },
    {
      "cell_type": "code",
      "metadata": {
        "id": "1K81iR59EEKn",
        "colab_type": "code",
        "outputId": "30a2bfeb-374a-4441-b8f2-ef4444f08fcb",
        "colab": {
          "base_uri": "https://localhost:8080/",
          "height": 420
        }
      },
      "source": [
        "preds_mlp = MLP.predict(X_train)\n",
        "cm_mlp = confusion_matrix(y_train, preds_mlp)\n",
        "print(cm_mlp)\n",
        "preds_mlp_test = MLP.predict(X_test)\n",
        "cm_mlp_test = confusion_matrix(y_test, preds_mlp_test)\n",
        "print(cm_mlp_test)\n",
        "print('Accuracy Score :' ,accuracy_score(y_train, preds_mlp))\n",
        "print('Accuracy Score :' ,accuracy_score(y_test, preds_mlp_test))\n",
        "print(\"classification_report\",classification_report(y_train,preds_mlp))\n",
        "print(\"classification_report\",classification_report(y_test,preds_mlp_test))\n"
      ],
      "execution_count": 47,
      "outputs": [
        {
          "output_type": "stream",
          "text": [
            "[[30903  1033]\n",
            " [ 2419  1813]]\n",
            "[[7715  271]\n",
            " [ 618  439]]\n",
            "Accuracy Score : 0.9045565140455651\n",
            "Accuracy Score : 0.9016919163994249\n",
            "classification_report               precision    recall  f1-score   support\n",
            "\n",
            "          no       0.93      0.97      0.95     31936\n",
            "         yes       0.64      0.43      0.51      4232\n",
            "\n",
            "    accuracy                           0.90     36168\n",
            "   macro avg       0.78      0.70      0.73     36168\n",
            "weighted avg       0.89      0.90      0.90     36168\n",
            "\n",
            "classification_report               precision    recall  f1-score   support\n",
            "\n",
            "          no       0.93      0.97      0.95      7986\n",
            "         yes       0.62      0.42      0.50      1057\n",
            "\n",
            "    accuracy                           0.90      9043\n",
            "   macro avg       0.77      0.69      0.72      9043\n",
            "weighted avg       0.89      0.90      0.89      9043\n",
            "\n"
          ],
          "name": "stdout"
        }
      ]
    },
    {
      "cell_type": "markdown",
      "metadata": {
        "id": "T0BZPqArn_V5",
        "colab_type": "text"
      },
      "source": [
        "KNN"
      ]
    },
    {
      "cell_type": "code",
      "metadata": {
        "id": "mfa_R14foERM",
        "colab_type": "code",
        "colab": {
          "base_uri": "https://localhost:8080/",
          "height": 67
        },
        "outputId": "1ac3f306-5b38-4699-c3f0-4c5debbee747"
      },
      "source": [
        "from sklearn.neighbors import KNeighborsClassifier\n",
        "clf_knn = KNeighborsClassifier(algorithm = 'brute',n_neighbors=5,metric=\"euclidean\")\n",
        "clf_knn.fit(X_train,y_train)"
      ],
      "execution_count": 48,
      "outputs": [
        {
          "output_type": "execute_result",
          "data": {
            "text/plain": [
              "KNeighborsClassifier(algorithm='brute', leaf_size=30, metric='euclidean',\n",
              "                     metric_params=None, n_jobs=None, n_neighbors=5, p=2,\n",
              "                     weights='uniform')"
            ]
          },
          "metadata": {
            "tags": []
          },
          "execution_count": 48
        }
      ]
    },
    {
      "cell_type": "code",
      "metadata": {
        "id": "0u0PnrNXoGoS",
        "colab_type": "code",
        "colab": {
          "base_uri": "https://localhost:8080/",
          "height": 386
        },
        "outputId": "3f7d36cb-c6ae-4601-f51e-2d72eebdee30"
      },
      "source": [
        "train_pred_log = clf_knn.predict(X_train)\n",
        "test_pred_log= clf_knn.predict(X_test)\n",
        "confusion_matrix_train = confusion_matrix(y_true = y_train, y_pred = train_pred_log)\n",
        "print(confusion_matrix_train)\n",
        "confusion_matrix_test = confusion_matrix(y_true = y_test, y_pred = test_pred_log)\n",
        "print(confusion_matrix_test)\n",
        "print(\"classification_report\",classification_report(y_train,train_pred_log,digits=4))\n",
        "print(\"classification_report\",classification_report(y_test,test_pred_log,digits=4))"
      ],
      "execution_count": 50,
      "outputs": [
        {
          "output_type": "stream",
          "text": [
            "[[31287   649]\n",
            " [ 2171  2061]]\n",
            "[[7735  251]\n",
            " [ 707  350]]\n",
            "classification_report               precision    recall  f1-score   support\n",
            "\n",
            "          no     0.9351    0.9797    0.9569     31936\n",
            "         yes     0.7605    0.4870    0.5938      4232\n",
            "\n",
            "    accuracy                         0.9220     36168\n",
            "   macro avg     0.8478    0.7333    0.7753     36168\n",
            "weighted avg     0.9147    0.9220    0.9144     36168\n",
            "\n",
            "classification_report               precision    recall  f1-score   support\n",
            "\n",
            "          no     0.9163    0.9686    0.9417      7986\n",
            "         yes     0.5824    0.3311    0.4222      1057\n",
            "\n",
            "    accuracy                         0.8941      9043\n",
            "   macro avg     0.7493    0.6498    0.6819      9043\n",
            "weighted avg     0.8772    0.8941    0.8810      9043\n",
            "\n"
          ],
          "name": "stdout"
        }
      ]
    },
    {
      "cell_type": "code",
      "metadata": {
        "id": "FOJ_PcG9pFPY",
        "colab_type": "code",
        "colab": {
          "base_uri": "https://localhost:8080/",
          "height": 570
        },
        "outputId": "7cd55234-222e-4ed9-cc8a-2f8c169a6946"
      },
      "source": [
        "metrics.plot_roc_curve(clf_knn, X_train, y_train)\n",
        "metrics.plot_roc_curve(clf_knn, X_test, test_pred_log)"
      ],
      "execution_count": 51,
      "outputs": [
        {
          "output_type": "execute_result",
          "data": {
            "text/plain": [
              "<sklearn.metrics._plot.roc_curve.RocCurveDisplay at 0x7f9c444776a0>"
            ]
          },
          "metadata": {
            "tags": []
          },
          "execution_count": 51
        },
        {
          "output_type": "display_data",
          "data": {
            "image/png": "[encoded data removed]",
            "text/plain": [
              "<Figure size 432x288 with 1 Axes>"
            ]
          },
          "metadata": {
            "tags": []
          }
        },
        {
          "output_type": "display_data",
          "data": {
            "image/png": "[encoded data removed]",
            "text/plain": [
              "<Figure size 432x288 with 1 Axes>"
            ]
          },
          "metadata": {
            "tags": []
          }
        }
      ]
    },
    {
      "cell_type": "markdown",
      "metadata": {
        "id": "ECeOG-j4sXR2",
        "colab_type": "text"
      },
      "source": [
        "Decision Tree"
      ]
    },
    {
      "cell_type": "code",
      "metadata": {
        "id": "60Byb4-Ur4VU",
        "colab_type": "code",
        "colab": {}
      },
      "source": [
        "from sklearn import tree\n",
        "clf_dt = tree.DecisionTreeClassifier(class_weight = 'balanced')\n",
        "clf_dt = clf_dt.fit(X_train, y_train)"
      ],
      "execution_count": 0,
      "outputs": []
    },
    {
      "cell_type": "code",
      "metadata": {
        "id": "90i-cs1gsiNk",
        "colab_type": "code",
        "colab": {
          "base_uri": "https://localhost:8080/",
          "height": 386
        },
        "outputId": "f22e7693-b814-401f-f85e-c1e131b3de1f"
      },
      "source": [
        "train_pred_log = clf_dt.predict(X_train)\n",
        "test_pred_log= clf_dt.predict(X_test)\n",
        "confusion_matrix_train = confusion_matrix(y_true = y_train, y_pred = train_pred_log)\n",
        "print(confusion_matrix_train)\n",
        "confusion_matrix_test = confusion_matrix(y_true = y_test, y_pred = test_pred_log)\n",
        "print(confusion_matrix_test)\n",
        "print(\"classification_report\",classification_report(y_train,train_pred_log))\n",
        "print(\"classification_report\",classification_report(y_test,test_pred_log))\n"
      ],
      "execution_count": 53,
      "outputs": [
        {
          "output_type": "stream",
          "text": [
            "[[31936     0]\n",
            " [    0  4232]]\n",
            "[[7469  517]\n",
            " [ 615  442]]\n",
            "classification_report               precision    recall  f1-score   support\n",
            "\n",
            "          no       1.00      1.00      1.00     31936\n",
            "         yes       1.00      1.00      1.00      4232\n",
            "\n",
            "    accuracy                           1.00     36168\n",
            "   macro avg       1.00      1.00      1.00     36168\n",
            "weighted avg       1.00      1.00      1.00     36168\n",
            "\n",
            "classification_report               precision    recall  f1-score   support\n",
            "\n",
            "          no       0.92      0.94      0.93      7986\n",
            "         yes       0.46      0.42      0.44      1057\n",
            "\n",
            "    accuracy                           0.87      9043\n",
            "   macro avg       0.69      0.68      0.68      9043\n",
            "weighted avg       0.87      0.87      0.87      9043\n",
            "\n"
          ],
          "name": "stdout"
        }
      ]
    },
    {
      "cell_type": "markdown",
      "metadata": {
        "id": "12nxu2V9TCZj",
        "colab_type": "text"
      },
      "source": [
        "Seems to be over-fitting"
      ]
    },
    {
      "cell_type": "code",
      "metadata": {
        "id": "vM12XjjVstfK",
        "colab_type": "code",
        "colab": {
          "base_uri": "https://localhost:8080/",
          "height": 570
        },
        "outputId": "bdd10e56-aaa3-4426-f8a2-30d023c9086c"
      },
      "source": [
        "metrics.plot_roc_curve(clf_dt, X_train, y_train)\n",
        "metrics.plot_roc_curve(clf_dt, X_test, test_pred_log)"
      ],
      "execution_count": 54,
      "outputs": [
        {
          "output_type": "execute_result",
          "data": {
            "text/plain": [
              "<sklearn.metrics._plot.roc_curve.RocCurveDisplay at 0x7f9c3dceb6d8>"
            ]
          },
          "metadata": {
            "tags": []
          },
          "execution_count": 54
        },
        {
          "output_type": "display_data",
          "data": {
            "image/png": "[encoded data removed]",
            "text/plain": [
              "<Figure size 432x288 with 1 Axes>"
            ]
          },
          "metadata": {
            "tags": []
          }
        },
        {
          "output_type": "display_data",
          "data": {
            "image/png": "[encoded data removed]",
            "text/plain": [
              "<Figure size 432x288 with 1 Axes>"
            ]
          },
          "metadata": {
            "tags": []
          }
        }
      ]
    },
    {
      "cell_type": "markdown",
      "metadata": {
        "id": "2BEI0HmUNE6q",
        "colab_type": "text"
      },
      "source": [
        "Random Forest"
      ]
    },
    {
      "cell_type": "code",
      "metadata": {
        "id": "HFrX7e05NC-H",
        "colab_type": "code",
        "colab": {
          "base_uri": "https://localhost:8080/",
          "height": 403
        },
        "outputId": "65e2824b-6075-47ea-9cbd-616c28a8026e"
      },
      "source": [
        "# bootstrap class balanced random forest for imbalanced classification\n",
        "from sklearn.ensemble import RandomForestClassifier\n",
        "from sklearn.model_selection import RepeatedStratifiedKFold\n",
        "\n",
        "model = RandomForestClassifier(n_estimators=10, class_weight='balanced_subsample')\n",
        "model.fit(X_train, y_train)\n",
        "train_pred_log = model.predict(X_train)\n",
        "test_pred_log= model.predict(X_test)\n",
        "confusion_matrix_train = confusion_matrix(y_true = y_train, y_pred = train_pred_log)\n",
        "print(confusion_matrix_train)\n",
        "confusion_matrix_test = confusion_matrix(y_true = y_test, y_pred = test_pred_log)\n",
        "print(confusion_matrix_test)\n",
        "print(\"classification_report\",classification_report(y_train,train_pred_log))\n",
        "print(\"classification_report\",classification_report(y_test,test_pred_log))\n",
        "# define evaluation procedure\n",
        "cv = RepeatedStratifiedKFold(n_splits=10, n_repeats=3, random_state=1)\n",
        "# evaluate model\n",
        "scores = cross_val_score(model, X_test, y_test, scoring='roc_auc', cv=cv, n_jobs=-1)\n",
        "# summarize performance\n",
        "print('Mean ROC AUC: %.3f' % mean(scores))"
      ],
      "execution_count": 55,
      "outputs": [
        {
          "output_type": "stream",
          "text": [
            "[[31922    14]\n",
            " [  306  3926]]\n",
            "[[7789  197]\n",
            " [ 742  315]]\n",
            "classification_report               precision    recall  f1-score   support\n",
            "\n",
            "          no       0.99      1.00      1.00     31936\n",
            "         yes       1.00      0.93      0.96      4232\n",
            "\n",
            "    accuracy                           0.99     36168\n",
            "   macro avg       0.99      0.96      0.98     36168\n",
            "weighted avg       0.99      0.99      0.99     36168\n",
            "\n",
            "classification_report               precision    recall  f1-score   support\n",
            "\n",
            "          no       0.91      0.98      0.94      7986\n",
            "         yes       0.62      0.30      0.40      1057\n",
            "\n",
            "    accuracy                           0.90      9043\n",
            "   macro avg       0.76      0.64      0.67      9043\n",
            "weighted avg       0.88      0.90      0.88      9043\n",
            "\n",
            "Mean ROC AUC: 0.871\n"
          ],
          "name": "stdout"
        }
      ]
    },
    {
      "cell_type": "markdown",
      "metadata": {
        "id": "5WYhN7_pTL1R",
        "colab_type": "text"
      },
      "source": [
        "Over-fitting"
      ]
    },
    {
      "cell_type": "markdown",
      "metadata": {
        "id": "pY5iCsyPTQTc",
        "colab_type": "text"
      },
      "source": [
        "Gradient Boosting"
      ]
    },
    {
      "cell_type": "code",
      "metadata": {
        "id": "UIGnWuR5Zqg3",
        "colab_type": "code",
        "colab": {
          "base_uri": "https://localhost:8080/",
          "height": 34
        },
        "outputId": "cbe68537-0491-43aa-a94e-bf48aa22bfe3"
      },
      "source": [
        "from sklearn.ensemble import GradientBoostingClassifier\n",
        "clf = GradientBoostingClassifier(n_estimators=100, learning_rate=1.0,\n",
        "                                 max_depth=1, random_state=0).fit(X_train, y_train)\n",
        "clf.fit(X_train, y_train).score(X_test, y_test)"
      ],
      "execution_count": 56,
      "outputs": [
        {
          "output_type": "execute_result",
          "data": {
            "text/plain": [
              "0.9032400751962845"
            ]
          },
          "metadata": {
            "tags": []
          },
          "execution_count": 56
        }
      ]
    },
    {
      "cell_type": "code",
      "metadata": {
        "id": "6UkQ2bqIaKG4",
        "colab_type": "code",
        "colab": {
          "base_uri": "https://localhost:8080/",
          "height": 403
        },
        "outputId": "b0961dc1-cbc9-4184-ea1b-8564ade838f6"
      },
      "source": [
        "train_pred_log = clf.predict(X_train)\n",
        "test_pred_log= clf.predict(X_test)\n",
        "confusion_matrix_train = confusion_matrix(y_true = y_train, y_pred = train_pred_log)\n",
        "print(confusion_matrix_train)\n",
        "confusion_matrix_test = confusion_matrix(y_true = y_test, y_pred = test_pred_log)\n",
        "print(confusion_matrix_test)\n",
        "print(\"classification_report\",classification_report(y_train,train_pred_log))\n",
        "print(\"classification_report\",classification_report(y_test,test_pred_log))\n",
        "# define evaluation procedure\n",
        "cv = RepeatedStratifiedKFold(n_splits=10, n_repeats=3, random_state=1)\n",
        "# evaluate model\n",
        "scores = cross_val_score(model, X_test, y_test, scoring='roc_auc', cv=cv, n_jobs=-1)\n",
        "# summarize performance\n",
        "print('Mean ROC AUC: %.3f' % mean(scores))"
      ],
      "execution_count": 57,
      "outputs": [
        {
          "output_type": "stream",
          "text": [
            "[[31039   897]\n",
            " [ 2614  1618]]\n",
            "[[7784  202]\n",
            " [ 673  384]]\n",
            "classification_report               precision    recall  f1-score   support\n",
            "\n",
            "          no       0.92      0.97      0.95     31936\n",
            "         yes       0.64      0.38      0.48      4232\n",
            "\n",
            "    accuracy                           0.90     36168\n",
            "   macro avg       0.78      0.68      0.71     36168\n",
            "weighted avg       0.89      0.90      0.89     36168\n",
            "\n",
            "classification_report               precision    recall  f1-score   support\n",
            "\n",
            "          no       0.92      0.97      0.95      7986\n",
            "         yes       0.66      0.36      0.47      1057\n",
            "\n",
            "    accuracy                           0.90      9043\n",
            "   macro avg       0.79      0.67      0.71      9043\n",
            "weighted avg       0.89      0.90      0.89      9043\n",
            "\n",
            "Mean ROC AUC: 0.870\n"
          ],
          "name": "stdout"
        }
      ]
    },
    {
      "cell_type": "markdown",
      "metadata": {
        "id": "80ZtSqtFBvDj",
        "colab_type": "text"
      },
      "source": [
        "F1-score is a better metric when there are imbalanced classes as in the above case. Classification models like logistic, KNN, Decision Tree, Random Forest, Gradient Boosting and MLP models are built.\n",
        "Beforehand, Categorical Variables were dummified using label Encoder and Numerical variables are standardised by using Scaler transformation. And then the models are run over the data."
      ]
    }
  ]
}