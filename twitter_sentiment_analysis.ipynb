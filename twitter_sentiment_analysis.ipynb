{
  "nbformat": 4,
  "nbformat_minor": 0,
  "metadata": {
    "kernelspec": {
      "display_name": "Python 3",
      "language": "python",
      "name": "python3"
    },
    "language_info": {
      "codemirror_mode": {
        "name": "ipython",
        "version": 3
      },
      "file_extension": ".py",
      "mimetype": "text/x-python",
      "name": "python",
      "nbconvert_exporter": "python",
      "pygments_lexer": "ipython3",
      "version": "3.7.3"
    },
    "colab": {
      "name": "twitter_sentiment analysis.ipynb",
      "provenance": [],
      "collapsed_sections": [],
      "include_colab_link": true
    }
  },
  "cells": [
    {
      "cell_type": "markdown",
      "metadata": {
        "id": "view-in-github",
        "colab_type": "text"
      },
      "source": [
        "<a href=\"https://colab.research.google.com/github/soundarya1992/My-Projects/blob/master/twitter_sentiment_analysis.ipynb\" target=\"_parent\"><img src=\"https://colab.research.google.com/assets/colab-badge.svg\" alt=\"Open In Colab\"/></a>"
      ]
    },
    {
      "cell_type": "markdown",
      "metadata": {
        "id": "KjwmFhDG5wBG"
      },
      "source": [
        "# Fetching Tweets using Tweepy"
      ]
    },
    {
      "cell_type": "code",
      "metadata": {
        "id": "luC82mms5wBH"
      },
      "source": [
        "import tweepy\n",
        "\n",
        "# Variables that contains the credentials to access Twitter API\n",
        "ACCESS_TOKEN = '1014097837381111808-1ZmyTn9NwXhnlnH3rLJdjLg7WmwFTG'\n",
        "ACCESS_SECRET = 'siiC7b529NpcGT8uwopjOaauSRZoUQdlN38mLL0gX2TLK'\n",
        "CONSUMER_KEY = 'ZSTjRgpSwrcpgLDqTug1tnHVS'\n",
        "CONSUMER_SECRET = '2mfFBHGIV0OT7b5LbgWrAbBhoyr3tB7GiGTtCGiz0pN8S9EFKv'\n",
        "\n",
        "\n",
        "# Setup access to API\n",
        "def connect_to_twitter_OAuth():\n",
        "    auth = tweepy.OAuthHandler(CONSUMER_KEY, CONSUMER_SECRET)\n",
        "    auth.set_access_token(ACCESS_TOKEN, ACCESS_SECRET)\n",
        "\n",
        "    api = tweepy.API(auth)\n",
        "    return api\n",
        "\n",
        "\n",
        "# Create API object\n",
        "api = connect_to_twitter_OAuth()"
      ],
      "execution_count": 1,
      "outputs": []
    },
    {
      "cell_type": "code",
      "metadata": {
        "id": "-QdkF_mG5wBL",
        "colab": {
          "base_uri": "https://localhost:8080/"
        },
        "outputId": "83367c8e-b33f-4c67-bffc-2151bf546fb7"
      },
      "source": [
        "# tweets from a specific user\n",
        "trump_tweets = api.user_timeline('@realdonaldtrump')  #api.search('#covid19')\n",
        "for tweet in trump_tweets:\n",
        "    print(tweet.text)"
      ],
      "execution_count": 2,
      "outputs": [
        {
          "output_type": "stream",
          "text": [
            "RT @jsolomonReports: Lawyer says Dominion vote-flip in Michigan was due to software, not ‘human error’ | Just The News https://t.co/lPIYDYU…\n",
            "“Michigan fraud witness totally debunks Dominion CEO.” @OANN  It was brutal!\n",
            "RT @theblaze: Will the Kentucky Republican challenge the Electoral College votes?\n",
            "https://t.co/OVlVHQyrIs\n",
            "TRUE! https://t.co/YapMxkF4SE\n",
            "https://t.co/GgwnkrGz9U\n",
            "Chris Krebs was totally excoriated and proven wrong at the Senate Hearing on the Fraudulent 2020 Election. Massive… https://t.co/Wd7xdQorhu\n",
            "Former United States Solicitor General Ken Starr: Pennsylvania “Flagrantly Violated” Laws Ahead of Election.\n",
            "Senate Hearings going on LIVE @OANN, as to the Fraudulent 2020 Election that just took place. @SenRonJohnson doing… https://t.co/98pDLEvkHL\n",
            "Perhaps the biggest difference between 2016 and 2020 is @FoxNews, despite the fact that I went from 63,000,000 Vote… https://t.co/mUBcfcrnmM\n",
            "Can’t believe how badly @FoxNews is doing in the ratings. They played right into the hands of the Radical Left Demo… https://t.co/jYQN64eoJN\n",
            "So ridiculous and unfair. Will people never make a stand! https://t.co/rO3EkzzkVA\n",
            "RT @BreitbartNews: .@Franklin_Graham: \"President Trump will go down in history as one of the great presidents of our nation... May God bles…\n",
            "“Study: Dominion Machines shifted 2-3% of Trump Votes to Biden. Far more votes than needed to sway election.” Flori… https://t.co/HZTU09zk5d\n",
            "RT @KelemenCari: Audits of voting machines reveal ERROR rates:\n",
            "in Michigan: 68.05%\n",
            "in Nevada: 70%\n",
            "in Arizona: we'll know soon!\n",
            "RT @EpochTimes: #Arizona GOP Chairwoman @KelliWardAZ said that her state’s #GOPElectors, who cast their votes for President Trump, believe…\n",
            "Trump's allies slam Mitch McConnell for congratulating Biden https://t.co/ak9nu6420L via @MailOnline. Mitch, 75,000… https://t.co/YG26uYlk9M\n",
            "Poll: 92% of Republican Voters think the election was rigged!\n",
            "Franklin Graham: ‘I Am Grateful to God’ for ‘the Last Four Years’ https://t.co/wbSLJ4snxX via @BreitbartNews Thank you Franklin!\n",
            "RT @wesrap: All of the 38 electoral college votes for Texas go to Donald Trump. #txlege https://t.co/EqlOxlXDgz\n",
            "Because of corruption or because I won despite corruption? https://t.co/6yoazp4WOm\n"
          ],
          "name": "stdout"
        }
      ]
    },
    {
      "cell_type": "code",
      "metadata": {
        "id": "JZHBrOw75wBQ"
      },
      "source": [
        "import pandas as pd\n",
        "# fuction to extract data from tweet object\n",
        "def extract_tweet_attributes(tweet_object):\n",
        "    # create empty list\n",
        "    tweet_list =[]\n",
        "    # loop through tweet objects\n",
        "    for tweet in tweet_object:\n",
        "        tweet_id = tweet.id # unique integer identifier for tweet\n",
        "        text = tweet.text # utf-8 text of tweet\n",
        "        favorite_count = tweet.favorite_count\n",
        "        retweet_count = tweet.retweet_count\n",
        "        created_at = tweet.created_at # utc time tweet created\n",
        "        source = tweet.source # utility used to post tweet\n",
        "        reply_to_status = tweet.in_reply_to_status_id # if reply int of orginal tweet id\n",
        "        reply_to_user = tweet.in_reply_to_screen_name # if reply original tweetes screenname\n",
        "        retweets = tweet.retweet_count # number of times this tweet retweeted\n",
        "        favorites = tweet.favorite_count # number of time this tweet liked\n",
        "        # append attributes to list\n",
        "        tweet_list.append({'tweet_id':tweet_id, \n",
        "                          'text':text, \n",
        "                          'favorite_count':favorite_count,\n",
        "                          'retweet_count':retweet_count,\n",
        "                          'created_at':created_at, \n",
        "                          'source':source, \n",
        "                          'reply_to_status':reply_to_status, \n",
        "                          'reply_to_user':reply_to_user,\n",
        "                          'retweets':retweets,\n",
        "                          'favorites':favorites})\n",
        "    # create dataframe   \n",
        "    df = pd.DataFrame(tweet_list, columns=['tweet_id',\n",
        "                                           'text',\n",
        "                                           'favorite_count',\n",
        "                                           'retweet_count',\n",
        "                                           'created_at',\n",
        "                                           'source',\n",
        "                                           'reply_to_status',\n",
        "                                           'reply_to_user',\n",
        "                                           'retweets',\n",
        "                                           'favorites'])\n",
        "    return df\n",
        "\n",
        "\n",
        "df = extract_tweet_attributes(trump_tweets)"
      ],
      "execution_count": 3,
      "outputs": []
    },
    {
      "cell_type": "code",
      "metadata": {
        "id": "ZH6fsLmN5wBW",
        "colab": {
          "base_uri": "https://localhost:8080/",
          "height": 975
        },
        "outputId": "00ce6cde-0d41-4342-b8a7-a56ce0b8f813"
      },
      "source": [
        "df"
      ],
      "execution_count": 4,
      "outputs": [
        {
          "output_type": "execute_result",
          "data": {
            "text/html": [
              "<div>\n",
              "<style scoped>\n",
              "    .dataframe tbody tr th:only-of-type {\n",
              "        vertical-align: middle;\n",
              "    }\n",
              "\n",
              "    .dataframe tbody tr th {\n",
              "        vertical-align: top;\n",
              "    }\n",
              "\n",
              "    .dataframe thead th {\n",
              "        text-align: right;\n",
              "    }\n",
              "</style>\n",
              "<table border=\"1\" class=\"dataframe\">\n",
              "  <thead>\n",
              "    <tr style=\"text-align: right;\">\n",
              "      <th></th>\n",
              "      <th>tweet_id</th>\n",
              "      <th>text</th>\n",
              "      <th>favorite_count</th>\n",
              "      <th>retweet_count</th>\n",
              "      <th>created_at</th>\n",
              "      <th>source</th>\n",
              "      <th>reply_to_status</th>\n",
              "      <th>reply_to_user</th>\n",
              "      <th>retweets</th>\n",
              "      <th>favorites</th>\n",
              "    </tr>\n",
              "  </thead>\n",
              "  <tbody>\n",
              "    <tr>\n",
              "      <th>0</th>\n",
              "      <td>1339454493751177217</td>\n",
              "      <td>RT @jsolomonReports: Lawyer says Dominion vote...</td>\n",
              "      <td>0</td>\n",
              "      <td>8197</td>\n",
              "      <td>2020-12-17 06:16:51</td>\n",
              "      <td>Twitter for iPhone</td>\n",
              "      <td>None</td>\n",
              "      <td>None</td>\n",
              "      <td>8197</td>\n",
              "      <td>0</td>\n",
              "    </tr>\n",
              "    <tr>\n",
              "      <th>1</th>\n",
              "      <td>1339453818996727809</td>\n",
              "      <td>“Michigan fraud witness totally debunks Domini...</td>\n",
              "      <td>83558</td>\n",
              "      <td>18993</td>\n",
              "      <td>2020-12-17 06:14:10</td>\n",
              "      <td>Twitter for iPhone</td>\n",
              "      <td>None</td>\n",
              "      <td>None</td>\n",
              "      <td>18993</td>\n",
              "      <td>83558</td>\n",
              "    </tr>\n",
              "    <tr>\n",
              "      <th>2</th>\n",
              "      <td>1339453336316162048</td>\n",
              "      <td>RT @theblaze: Will the Kentucky Republican cha...</td>\n",
              "      <td>0</td>\n",
              "      <td>5128</td>\n",
              "      <td>2020-12-17 06:12:15</td>\n",
              "      <td>Twitter for iPhone</td>\n",
              "      <td>None</td>\n",
              "      <td>None</td>\n",
              "      <td>5128</td>\n",
              "      <td>0</td>\n",
              "    </tr>\n",
              "    <tr>\n",
              "      <th>3</th>\n",
              "      <td>1339286784790966274</td>\n",
              "      <td>TRUE! https://t.co/YapMxkF4SE</td>\n",
              "      <td>135383</td>\n",
              "      <td>30055</td>\n",
              "      <td>2020-12-16 19:10:26</td>\n",
              "      <td>Twitter for iPhone</td>\n",
              "      <td>None</td>\n",
              "      <td>None</td>\n",
              "      <td>30055</td>\n",
              "      <td>135383</td>\n",
              "    </tr>\n",
              "    <tr>\n",
              "      <th>4</th>\n",
              "      <td>1339284435456421892</td>\n",
              "      <td>https://t.co/GgwnkrGz9U</td>\n",
              "      <td>145803</td>\n",
              "      <td>38282</td>\n",
              "      <td>2020-12-16 19:01:06</td>\n",
              "      <td>Twitter for iPhone</td>\n",
              "      <td>None</td>\n",
              "      <td>None</td>\n",
              "      <td>38282</td>\n",
              "      <td>145803</td>\n",
              "    </tr>\n",
              "    <tr>\n",
              "      <th>5</th>\n",
              "      <td>1339281950490697729</td>\n",
              "      <td>Chris Krebs was totally excoriated and proven ...</td>\n",
              "      <td>201771</td>\n",
              "      <td>48311</td>\n",
              "      <td>2020-12-16 18:51:14</td>\n",
              "      <td>Twitter for iPhone</td>\n",
              "      <td>None</td>\n",
              "      <td>None</td>\n",
              "      <td>48311</td>\n",
              "      <td>201771</td>\n",
              "    </tr>\n",
              "    <tr>\n",
              "      <th>6</th>\n",
              "      <td>1339277405458997249</td>\n",
              "      <td>Former United States Solicitor General Ken Sta...</td>\n",
              "      <td>226307</td>\n",
              "      <td>48352</td>\n",
              "      <td>2020-12-16 18:33:10</td>\n",
              "      <td>Twitter for iPhone</td>\n",
              "      <td>None</td>\n",
              "      <td>None</td>\n",
              "      <td>48352</td>\n",
              "      <td>226307</td>\n",
              "    </tr>\n",
              "    <tr>\n",
              "      <th>7</th>\n",
              "      <td>1339275859841134594</td>\n",
              "      <td>Senate Hearings going on LIVE @OANN, as to the...</td>\n",
              "      <td>168484</td>\n",
              "      <td>36433</td>\n",
              "      <td>2020-12-16 18:27:02</td>\n",
              "      <td>Twitter for iPhone</td>\n",
              "      <td>None</td>\n",
              "      <td>None</td>\n",
              "      <td>36433</td>\n",
              "      <td>168484</td>\n",
              "    </tr>\n",
              "    <tr>\n",
              "      <th>8</th>\n",
              "      <td>1339225465584840704</td>\n",
              "      <td>Perhaps the biggest difference between 2016 an...</td>\n",
              "      <td>243709</td>\n",
              "      <td>52094</td>\n",
              "      <td>2020-12-16 15:06:47</td>\n",
              "      <td>Twitter for iPhone</td>\n",
              "      <td>None</td>\n",
              "      <td>None</td>\n",
              "      <td>52094</td>\n",
              "      <td>243709</td>\n",
              "    </tr>\n",
              "    <tr>\n",
              "      <th>9</th>\n",
              "      <td>1339198867275980802</td>\n",
              "      <td>Can’t believe how badly @FoxNews is doing in t...</td>\n",
              "      <td>217146</td>\n",
              "      <td>38804</td>\n",
              "      <td>2020-12-16 13:21:05</td>\n",
              "      <td>Twitter for iPhone</td>\n",
              "      <td>None</td>\n",
              "      <td>None</td>\n",
              "      <td>38804</td>\n",
              "      <td>217146</td>\n",
              "    </tr>\n",
              "    <tr>\n",
              "      <th>10</th>\n",
              "      <td>1339186712535298053</td>\n",
              "      <td>So ridiculous and unfair. Will people never ma...</td>\n",
              "      <td>148079</td>\n",
              "      <td>29364</td>\n",
              "      <td>2020-12-16 12:32:47</td>\n",
              "      <td>Twitter for iPhone</td>\n",
              "      <td>None</td>\n",
              "      <td>None</td>\n",
              "      <td>29364</td>\n",
              "      <td>148079</td>\n",
              "    </tr>\n",
              "    <tr>\n",
              "      <th>11</th>\n",
              "      <td>1339090613963198465</td>\n",
              "      <td>RT @BreitbartNews: .@Franklin_Graham: \"Preside...</td>\n",
              "      <td>0</td>\n",
              "      <td>14309</td>\n",
              "      <td>2020-12-16 06:10:56</td>\n",
              "      <td>Twitter for iPhone</td>\n",
              "      <td>None</td>\n",
              "      <td>None</td>\n",
              "      <td>14309</td>\n",
              "      <td>0</td>\n",
              "    </tr>\n",
              "    <tr>\n",
              "      <th>12</th>\n",
              "      <td>1339090279429775363</td>\n",
              "      <td>“Study: Dominion Machines shifted 2-3% of Trum...</td>\n",
              "      <td>218915</td>\n",
              "      <td>50476</td>\n",
              "      <td>2020-12-16 06:09:36</td>\n",
              "      <td>Twitter for iPhone</td>\n",
              "      <td>None</td>\n",
              "      <td>None</td>\n",
              "      <td>50476</td>\n",
              "      <td>218915</td>\n",
              "    </tr>\n",
              "    <tr>\n",
              "      <th>13</th>\n",
              "      <td>1339085251231031296</td>\n",
              "      <td>RT @KelemenCari: Audits of voting machines rev...</td>\n",
              "      <td>0</td>\n",
              "      <td>36002</td>\n",
              "      <td>2020-12-16 05:49:37</td>\n",
              "      <td>Twitter for iPhone</td>\n",
              "      <td>None</td>\n",
              "      <td>None</td>\n",
              "      <td>36002</td>\n",
              "      <td>0</td>\n",
              "    </tr>\n",
              "    <tr>\n",
              "      <th>14</th>\n",
              "      <td>1339084512404320257</td>\n",
              "      <td>RT @EpochTimes: #Arizona GOP Chairwoman @Kelli...</td>\n",
              "      <td>0</td>\n",
              "      <td>12466</td>\n",
              "      <td>2020-12-16 05:46:41</td>\n",
              "      <td>Twitter for iPhone</td>\n",
              "      <td>None</td>\n",
              "      <td>None</td>\n",
              "      <td>12466</td>\n",
              "      <td>0</td>\n",
              "    </tr>\n",
              "    <tr>\n",
              "      <th>15</th>\n",
              "      <td>1339083004216532993</td>\n",
              "      <td>Trump's allies slam Mitch McConnell for congra...</td>\n",
              "      <td>155151</td>\n",
              "      <td>36784</td>\n",
              "      <td>2020-12-16 05:40:41</td>\n",
              "      <td>Twitter for iPhone</td>\n",
              "      <td>None</td>\n",
              "      <td>None</td>\n",
              "      <td>36784</td>\n",
              "      <td>155151</td>\n",
              "    </tr>\n",
              "    <tr>\n",
              "      <th>16</th>\n",
              "      <td>1339071350900723713</td>\n",
              "      <td>Poll: 92% of Republican Voters think the elect...</td>\n",
              "      <td>430749</td>\n",
              "      <td>65472</td>\n",
              "      <td>2020-12-16 04:54:23</td>\n",
              "      <td>Twitter for iPhone</td>\n",
              "      <td>None</td>\n",
              "      <td>None</td>\n",
              "      <td>65472</td>\n",
              "      <td>430749</td>\n",
              "    </tr>\n",
              "    <tr>\n",
              "      <th>17</th>\n",
              "      <td>1339061769441075205</td>\n",
              "      <td>Franklin Graham: ‘I Am Grateful to God’ for ‘t...</td>\n",
              "      <td>130050</td>\n",
              "      <td>20071</td>\n",
              "      <td>2020-12-16 04:16:19</td>\n",
              "      <td>Twitter for iPhone</td>\n",
              "      <td>None</td>\n",
              "      <td>None</td>\n",
              "      <td>20071</td>\n",
              "      <td>130050</td>\n",
              "    </tr>\n",
              "    <tr>\n",
              "      <th>18</th>\n",
              "      <td>1339014123867283456</td>\n",
              "      <td>RT @wesrap: All of the 38 electoral college vo...</td>\n",
              "      <td>0</td>\n",
              "      <td>16572</td>\n",
              "      <td>2020-12-16 01:06:59</td>\n",
              "      <td>Twitter for iPhone</td>\n",
              "      <td>None</td>\n",
              "      <td>None</td>\n",
              "      <td>16572</td>\n",
              "      <td>0</td>\n",
              "    </tr>\n",
              "    <tr>\n",
              "      <th>19</th>\n",
              "      <td>1339013823282499584</td>\n",
              "      <td>Because of corruption or because I won despite...</td>\n",
              "      <td>154615</td>\n",
              "      <td>30664</td>\n",
              "      <td>2020-12-16 01:05:47</td>\n",
              "      <td>Twitter for iPhone</td>\n",
              "      <td>None</td>\n",
              "      <td>None</td>\n",
              "      <td>30664</td>\n",
              "      <td>154615</td>\n",
              "    </tr>\n",
              "  </tbody>\n",
              "</table>\n",
              "</div>"
            ],
            "text/plain": [
              "               tweet_id  ... favorites\n",
              "0   1339454493751177217  ...         0\n",
              "1   1339453818996727809  ...     83558\n",
              "2   1339453336316162048  ...         0\n",
              "3   1339286784790966274  ...    135383\n",
              "4   1339284435456421892  ...    145803\n",
              "5   1339281950490697729  ...    201771\n",
              "6   1339277405458997249  ...    226307\n",
              "7   1339275859841134594  ...    168484\n",
              "8   1339225465584840704  ...    243709\n",
              "9   1339198867275980802  ...    217146\n",
              "10  1339186712535298053  ...    148079\n",
              "11  1339090613963198465  ...         0\n",
              "12  1339090279429775363  ...    218915\n",
              "13  1339085251231031296  ...         0\n",
              "14  1339084512404320257  ...         0\n",
              "15  1339083004216532993  ...    155151\n",
              "16  1339071350900723713  ...    430749\n",
              "17  1339061769441075205  ...    130050\n",
              "18  1339014123867283456  ...         0\n",
              "19  1339013823282499584  ...    154615\n",
              "\n",
              "[20 rows x 10 columns]"
            ]
          },
          "metadata": {
            "tags": []
          },
          "execution_count": 4
        }
      ]
    },
    {
      "cell_type": "code",
      "metadata": {
        "id": "0fXwWn_3HBu2",
        "colab": {
          "base_uri": "https://localhost:8080/"
        },
        "outputId": "5a68ceb2-d123-457d-8498-a8138b3eabfd"
      },
      "source": [
        "df['text']"
      ],
      "execution_count": 5,
      "outputs": [
        {
          "output_type": "execute_result",
          "data": {
            "text/plain": [
              "0     RT @jsolomonReports: Lawyer says Dominion vote...\n",
              "1     “Michigan fraud witness totally debunks Domini...\n",
              "2     RT @theblaze: Will the Kentucky Republican cha...\n",
              "3                         TRUE! https://t.co/YapMxkF4SE\n",
              "4                               https://t.co/GgwnkrGz9U\n",
              "5     Chris Krebs was totally excoriated and proven ...\n",
              "6     Former United States Solicitor General Ken Sta...\n",
              "7     Senate Hearings going on LIVE @OANN, as to the...\n",
              "8     Perhaps the biggest difference between 2016 an...\n",
              "9     Can’t believe how badly @FoxNews is doing in t...\n",
              "10    So ridiculous and unfair. Will people never ma...\n",
              "11    RT @BreitbartNews: .@Franklin_Graham: \"Preside...\n",
              "12    “Study: Dominion Machines shifted 2-3% of Trum...\n",
              "13    RT @KelemenCari: Audits of voting machines rev...\n",
              "14    RT @EpochTimes: #Arizona GOP Chairwoman @Kelli...\n",
              "15    Trump's allies slam Mitch McConnell for congra...\n",
              "16    Poll: 92% of Republican Voters think the elect...\n",
              "17    Franklin Graham: ‘I Am Grateful to God’ for ‘t...\n",
              "18    RT @wesrap: All of the 38 electoral college vo...\n",
              "19    Because of corruption or because I won despite...\n",
              "Name: text, dtype: object"
            ]
          },
          "metadata": {
            "tags": []
          },
          "execution_count": 5
        }
      ]
    },
    {
      "cell_type": "markdown",
      "metadata": {
        "id": "G284cSZO5wBa"
      },
      "source": [
        "# Removing user handle "
      ]
    },
    {
      "cell_type": "code",
      "metadata": {
        "id": "ML5_1kFD5wBb",
        "colab": {
          "base_uri": "https://localhost:8080/"
        },
        "outputId": "e0b04d20-a89d-4cf7-9173-a5060268eb95"
      },
      "source": [
        "# removing user handle \n",
        "df['tidy_tweet'] = df['text'].replace(to_replace ='(@[\\w]+)', value ='', regex = True) \n",
        "df['tidy_tweet'] = df['tidy_tweet'].replace(to_replace =('RT'), value ='',regex = True) \n",
        "df['tidy_tweet']"
      ],
      "execution_count": 6,
      "outputs": [
        {
          "output_type": "execute_result",
          "data": {
            "text/plain": [
              "0      : Lawyer says Dominion vote-flip in Michigan ...\n",
              "1     “Michigan fraud witness totally debunks Domini...\n",
              "2      : Will the Kentucky Republican challenge the ...\n",
              "3                         TRUE! https://t.co/YapMxkF4SE\n",
              "4                               https://t.co/GgwnkrGz9U\n",
              "5     Chris Krebs was totally excoriated and proven ...\n",
              "6     Former United States Solicitor General Ken Sta...\n",
              "7     Senate Hearings going on LIVE , as to the Frau...\n",
              "8     Perhaps the biggest difference between 2016 an...\n",
              "9     Can’t believe how badly  is doing in the ratin...\n",
              "10    So ridiculous and unfair. Will people never ma...\n",
              "11     : .: \"President Trump will go down in history...\n",
              "12    “Study: Dominion Machines shifted 2-3% of Trum...\n",
              "13     : Audits of voting machines reveal ERROR rate...\n",
              "14     : #Arizona GOP Chairwoman  said that her stat...\n",
              "15    Trump's allies slam Mitch McConnell for congra...\n",
              "16    Poll: 92% of Republican Voters think the elect...\n",
              "17    Franklin Graham: ‘I Am Grateful to God’ for ‘t...\n",
              "18     : All of the 38 electoral college votes for T...\n",
              "19    Because of corruption or because I won despite...\n",
              "Name: tidy_tweet, dtype: object"
            ]
          },
          "metadata": {
            "tags": []
          },
          "execution_count": 6
        }
      ]
    },
    {
      "cell_type": "markdown",
      "metadata": {
        "id": "Wnpceyno5wBe"
      },
      "source": [
        "# Remove any links from the tweet"
      ]
    },
    {
      "cell_type": "code",
      "metadata": {
        "id": "NI3t3cRz5wBh",
        "colab": {
          "base_uri": "https://localhost:8080/"
        },
        "outputId": "45e63470-7447-4c96-925f-16927128cc5a"
      },
      "source": [
        "#remove any links from the tweet: Links not required for performing sentiment analysis.\n",
        "df['tidy_tweet'] = df['tidy_tweet'].str.replace('((www\\.[\\s]+)|(https?://[^\\s]+))','\\0',regex=True)\n",
        "df['tidy_tweet']"
      ],
      "execution_count": 7,
      "outputs": [
        {
          "output_type": "execute_result",
          "data": {
            "text/plain": [
              "0      : Lawyer says Dominion vote-flip in Michigan ...\n",
              "1     “Michigan fraud witness totally debunks Domini...\n",
              "2      : Will the Kentucky Republican challenge the ...\n",
              "3                                               TRUE! \u0000\n",
              "4                                                     \u0000\n",
              "5     Chris Krebs was totally excoriated and proven ...\n",
              "6     Former United States Solicitor General Ken Sta...\n",
              "7     Senate Hearings going on LIVE , as to the Frau...\n",
              "8     Perhaps the biggest difference between 2016 an...\n",
              "9     Can’t believe how badly  is doing in the ratin...\n",
              "10    So ridiculous and unfair. Will people never ma...\n",
              "11     : .: \"President Trump will go down in history...\n",
              "12    “Study: Dominion Machines shifted 2-3% of Trum...\n",
              "13     : Audits of voting machines reveal ERROR rate...\n",
              "14     : #Arizona GOP Chairwoman  said that her stat...\n",
              "15    Trump's allies slam Mitch McConnell for congra...\n",
              "16    Poll: 92% of Republican Voters think the elect...\n",
              "17    Franklin Graham: ‘I Am Grateful to God’ for ‘t...\n",
              "18     : All of the 38 electoral college votes for T...\n",
              "19    Because of corruption or because I won despite...\n",
              "Name: tidy_tweet, dtype: object"
            ]
          },
          "metadata": {
            "tags": []
          },
          "execution_count": 7
        }
      ]
    },
    {
      "cell_type": "markdown",
      "metadata": {
        "id": "WiRYUA0-5wBn"
      },
      "source": [
        "# Remove special characters, numbers, punctuations:"
      ]
    },
    {
      "cell_type": "code",
      "metadata": {
        "id": "uqlairSB5wBo"
      },
      "source": [
        "# remove special characters, numbers, punctuations: None of them would add any value to the sentiment score.\n",
        "df['tidy_tweet'] = df['tidy_tweet'].str.replace(\"[^a-zA-Z]+\", \" \")"
      ],
      "execution_count": 8,
      "outputs": []
    },
    {
      "cell_type": "code",
      "metadata": {
        "id": "6J06cka85wBs",
        "colab": {
          "base_uri": "https://localhost:8080/"
        },
        "outputId": "f96dbdeb-2c76-425a-f66b-bd858eff216a"
      },
      "source": [
        "df['tidy_tweet']"
      ],
      "execution_count": 9,
      "outputs": [
        {
          "output_type": "execute_result",
          "data": {
            "text/plain": [
              "0      Lawyer says Dominion vote flip in Michigan wa...\n",
              "1      Michigan fraud witness totally debunks Domini...\n",
              "2      Will the Kentucky Republican challenge the El...\n",
              "3                                                 TRUE \n",
              "4                                                      \n",
              "5     Chris Krebs was totally excoriated and proven ...\n",
              "6     Former United States Solicitor General Ken Sta...\n",
              "7     Senate Hearings going on LIVE as to the Fraudu...\n",
              "8     Perhaps the biggest difference between and is ...\n",
              "9     Can t believe how badly is doing in the rating...\n",
              "10    So ridiculous and unfair Will people never mak...\n",
              "11     President Trump will go down in history as on...\n",
              "12     Study Dominion Machines shifted of Trump Vote...\n",
              "13     Audits of voting machines reveal ERROR rates ...\n",
              "14     Arizona GOP Chairwoman said that her state s ...\n",
              "15    Trump s allies slam Mitch McConnell for congra...\n",
              "16    Poll of Republican Voters think the election w...\n",
              "17    Franklin Graham I Am Grateful to God for the L...\n",
              "18     All of the electoral college votes for Texas ...\n",
              "19    Because of corruption or because I won despite...\n",
              "Name: tidy_tweet, dtype: object"
            ]
          },
          "metadata": {
            "tags": []
          },
          "execution_count": 9
        }
      ]
    },
    {
      "cell_type": "markdown",
      "metadata": {
        "id": "YlThgMOB5wBw"
      },
      "source": [
        "# Tokenising and removing Stop Words"
      ]
    },
    {
      "cell_type": "code",
      "metadata": {
        "id": "LcjzhbzN5wBy",
        "colab": {
          "base_uri": "https://localhost:8080/"
        },
        "outputId": "f9775ea2-4753-4ea8-8040-80936cf42242"
      },
      "source": [
        "import nltk\n",
        "nltk.download('all')\n",
        "df[\"tidy_tweet\"] = df[\"tidy_tweet\"].str.lower()\n",
        "df[\"tidy_tweet\"] = df[\"tidy_tweet\"].str.split()\n",
        "from nltk.corpus import stopwords\n",
        "\n",
        "stop = stopwords.words('english')"
      ],
      "execution_count": 10,
      "outputs": [
        {
          "output_type": "stream",
          "text": [
            "[nltk_data] Downloading collection 'all'\n",
            "[nltk_data]    | \n",
            "[nltk_data]    | Downloading package abc to /root/nltk_data...\n",
            "[nltk_data]    |   Unzipping corpora/abc.zip.\n",
            "[nltk_data]    | Downloading package alpino to /root/nltk_data...\n",
            "[nltk_data]    |   Unzipping corpora/alpino.zip.\n",
            "[nltk_data]    | Downloading package biocreative_ppi to\n",
            "[nltk_data]    |     /root/nltk_data...\n",
            "[nltk_data]    |   Unzipping corpora/biocreative_ppi.zip.\n",
            "[nltk_data]    | Downloading package brown to /root/nltk_data...\n",
            "[nltk_data]    |   Unzipping corpora/brown.zip.\n",
            "[nltk_data]    | Downloading package brown_tei to /root/nltk_data...\n",
            "[nltk_data]    |   Unzipping corpora/brown_tei.zip.\n",
            "[nltk_data]    | Downloading package cess_cat to /root/nltk_data...\n",
            "[nltk_data]    |   Unzipping corpora/cess_cat.zip.\n",
            "[nltk_data]    | Downloading package cess_esp to /root/nltk_data...\n",
            "[nltk_data]    |   Unzipping corpora/cess_esp.zip.\n",
            "[nltk_data]    | Downloading package chat80 to /root/nltk_data...\n",
            "[nltk_data]    |   Unzipping corpora/chat80.zip.\n",
            "[nltk_data]    | Downloading package city_database to\n",
            "[nltk_data]    |     /root/nltk_data...\n",
            "[nltk_data]    |   Unzipping corpora/city_database.zip.\n",
            "[nltk_data]    | Downloading package cmudict to /root/nltk_data...\n",
            "[nltk_data]    |   Unzipping corpora/cmudict.zip.\n",
            "[nltk_data]    | Downloading package comparative_sentences to\n",
            "[nltk_data]    |     /root/nltk_data...\n",
            "[nltk_data]    |   Unzipping corpora/comparative_sentences.zip.\n",
            "[nltk_data]    | Downloading package comtrans to /root/nltk_data...\n",
            "[nltk_data]    | Downloading package conll2000 to /root/nltk_data...\n",
            "[nltk_data]    |   Unzipping corpora/conll2000.zip.\n",
            "[nltk_data]    | Downloading package conll2002 to /root/nltk_data...\n",
            "[nltk_data]    |   Unzipping corpora/conll2002.zip.\n",
            "[nltk_data]    | Downloading package conll2007 to /root/nltk_data...\n",
            "[nltk_data]    | Downloading package crubadan to /root/nltk_data...\n",
            "[nltk_data]    |   Unzipping corpora/crubadan.zip.\n",
            "[nltk_data]    | Downloading package dependency_treebank to\n",
            "[nltk_data]    |     /root/nltk_data...\n",
            "[nltk_data]    |   Unzipping corpora/dependency_treebank.zip.\n",
            "[nltk_data]    | Downloading package dolch to /root/nltk_data...\n",
            "[nltk_data]    |   Unzipping corpora/dolch.zip.\n",
            "[nltk_data]    | Downloading package europarl_raw to\n",
            "[nltk_data]    |     /root/nltk_data...\n",
            "[nltk_data]    |   Unzipping corpora/europarl_raw.zip.\n",
            "[nltk_data]    | Downloading package floresta to /root/nltk_data...\n",
            "[nltk_data]    |   Unzipping corpora/floresta.zip.\n",
            "[nltk_data]    | Downloading package framenet_v15 to\n",
            "[nltk_data]    |     /root/nltk_data...\n",
            "[nltk_data]    |   Unzipping corpora/framenet_v15.zip.\n",
            "[nltk_data]    | Downloading package framenet_v17 to\n",
            "[nltk_data]    |     /root/nltk_data...\n",
            "[nltk_data]    |   Unzipping corpora/framenet_v17.zip.\n",
            "[nltk_data]    | Downloading package gazetteers to /root/nltk_data...\n",
            "[nltk_data]    |   Unzipping corpora/gazetteers.zip.\n",
            "[nltk_data]    | Downloading package genesis to /root/nltk_data...\n",
            "[nltk_data]    |   Unzipping corpora/genesis.zip.\n",
            "[nltk_data]    | Downloading package gutenberg to /root/nltk_data...\n",
            "[nltk_data]    |   Unzipping corpora/gutenberg.zip.\n",
            "[nltk_data]    | Downloading package ieer to /root/nltk_data...\n",
            "[nltk_data]    |   Unzipping corpora/ieer.zip.\n",
            "[nltk_data]    | Downloading package inaugural to /root/nltk_data...\n",
            "[nltk_data]    |   Unzipping corpora/inaugural.zip.\n",
            "[nltk_data]    | Downloading package indian to /root/nltk_data...\n",
            "[nltk_data]    |   Unzipping corpora/indian.zip.\n",
            "[nltk_data]    | Downloading package jeita to /root/nltk_data...\n",
            "[nltk_data]    | Downloading package kimmo to /root/nltk_data...\n",
            "[nltk_data]    |   Unzipping corpora/kimmo.zip.\n",
            "[nltk_data]    | Downloading package knbc to /root/nltk_data...\n",
            "[nltk_data]    | Downloading package lin_thesaurus to\n",
            "[nltk_data]    |     /root/nltk_data...\n",
            "[nltk_data]    |   Unzipping corpora/lin_thesaurus.zip.\n",
            "[nltk_data]    | Downloading package mac_morpho to /root/nltk_data...\n",
            "[nltk_data]    |   Unzipping corpora/mac_morpho.zip.\n",
            "[nltk_data]    | Downloading package machado to /root/nltk_data...\n",
            "[nltk_data]    | Downloading package masc_tagged to /root/nltk_data...\n",
            "[nltk_data]    | Downloading package moses_sample to\n",
            "[nltk_data]    |     /root/nltk_data...\n",
            "[nltk_data]    |   Unzipping models/moses_sample.zip.\n",
            "[nltk_data]    | Downloading package movie_reviews to\n",
            "[nltk_data]    |     /root/nltk_data...\n",
            "[nltk_data]    |   Unzipping corpora/movie_reviews.zip.\n",
            "[nltk_data]    | Downloading package names to /root/nltk_data...\n",
            "[nltk_data]    |   Unzipping corpora/names.zip.\n",
            "[nltk_data]    | Downloading package nombank.1.0 to /root/nltk_data...\n",
            "[nltk_data]    | Downloading package nps_chat to /root/nltk_data...\n",
            "[nltk_data]    |   Unzipping corpora/nps_chat.zip.\n",
            "[nltk_data]    | Downloading package omw to /root/nltk_data...\n",
            "[nltk_data]    |   Unzipping corpora/omw.zip.\n",
            "[nltk_data]    | Downloading package opinion_lexicon to\n",
            "[nltk_data]    |     /root/nltk_data...\n",
            "[nltk_data]    |   Unzipping corpora/opinion_lexicon.zip.\n",
            "[nltk_data]    | Downloading package paradigms to /root/nltk_data...\n",
            "[nltk_data]    |   Unzipping corpora/paradigms.zip.\n",
            "[nltk_data]    | Downloading package pil to /root/nltk_data...\n",
            "[nltk_data]    |   Unzipping corpora/pil.zip.\n",
            "[nltk_data]    | Downloading package pl196x to /root/nltk_data...\n",
            "[nltk_data]    |   Unzipping corpora/pl196x.zip.\n",
            "[nltk_data]    | Downloading package ppattach to /root/nltk_data...\n",
            "[nltk_data]    |   Unzipping corpora/ppattach.zip.\n",
            "[nltk_data]    | Downloading package problem_reports to\n",
            "[nltk_data]    |     /root/nltk_data...\n",
            "[nltk_data]    |   Unzipping corpora/problem_reports.zip.\n",
            "[nltk_data]    | Downloading package propbank to /root/nltk_data...\n",
            "[nltk_data]    | Downloading package ptb to /root/nltk_data...\n",
            "[nltk_data]    |   Unzipping corpora/ptb.zip.\n",
            "[nltk_data]    | Downloading package product_reviews_1 to\n",
            "[nltk_data]    |     /root/nltk_data...\n",
            "[nltk_data]    |   Unzipping corpora/product_reviews_1.zip.\n",
            "[nltk_data]    | Downloading package product_reviews_2 to\n",
            "[nltk_data]    |     /root/nltk_data...\n",
            "[nltk_data]    |   Unzipping corpora/product_reviews_2.zip.\n",
            "[nltk_data]    | Downloading package pros_cons to /root/nltk_data...\n",
            "[nltk_data]    |   Unzipping corpora/pros_cons.zip.\n",
            "[nltk_data]    | Downloading package qc to /root/nltk_data...\n",
            "[nltk_data]    |   Unzipping corpora/qc.zip.\n",
            "[nltk_data]    | Downloading package reuters to /root/nltk_data...\n",
            "[nltk_data]    | Downloading package rte to /root/nltk_data...\n",
            "[nltk_data]    |   Unzipping corpora/rte.zip.\n",
            "[nltk_data]    | Downloading package semcor to /root/nltk_data...\n",
            "[nltk_data]    | Downloading package senseval to /root/nltk_data...\n",
            "[nltk_data]    |   Unzipping corpora/senseval.zip.\n",
            "[nltk_data]    | Downloading package sentiwordnet to\n",
            "[nltk_data]    |     /root/nltk_data...\n",
            "[nltk_data]    |   Unzipping corpora/sentiwordnet.zip.\n",
            "[nltk_data]    | Downloading package sentence_polarity to\n",
            "[nltk_data]    |     /root/nltk_data...\n",
            "[nltk_data]    |   Unzipping corpora/sentence_polarity.zip.\n",
            "[nltk_data]    | Downloading package shakespeare to /root/nltk_data...\n",
            "[nltk_data]    |   Unzipping corpora/shakespeare.zip.\n",
            "[nltk_data]    | Downloading package sinica_treebank to\n",
            "[nltk_data]    |     /root/nltk_data...\n",
            "[nltk_data]    |   Unzipping corpora/sinica_treebank.zip.\n",
            "[nltk_data]    | Downloading package smultron to /root/nltk_data...\n",
            "[nltk_data]    |   Unzipping corpora/smultron.zip.\n",
            "[nltk_data]    | Downloading package state_union to /root/nltk_data...\n",
            "[nltk_data]    |   Unzipping corpora/state_union.zip.\n",
            "[nltk_data]    | Downloading package stopwords to /root/nltk_data...\n",
            "[nltk_data]    |   Unzipping corpora/stopwords.zip.\n",
            "[nltk_data]    | Downloading package subjectivity to\n",
            "[nltk_data]    |     /root/nltk_data...\n",
            "[nltk_data]    |   Unzipping corpora/subjectivity.zip.\n",
            "[nltk_data]    | Downloading package swadesh to /root/nltk_data...\n",
            "[nltk_data]    |   Unzipping corpora/swadesh.zip.\n",
            "[nltk_data]    | Downloading package switchboard to /root/nltk_data...\n",
            "[nltk_data]    |   Unzipping corpora/switchboard.zip.\n",
            "[nltk_data]    | Downloading package timit to /root/nltk_data...\n",
            "[nltk_data]    |   Unzipping corpora/timit.zip.\n",
            "[nltk_data]    | Downloading package toolbox to /root/nltk_data...\n",
            "[nltk_data]    |   Unzipping corpora/toolbox.zip.\n",
            "[nltk_data]    | Downloading package treebank to /root/nltk_data...\n",
            "[nltk_data]    |   Unzipping corpora/treebank.zip.\n",
            "[nltk_data]    | Downloading package twitter_samples to\n",
            "[nltk_data]    |     /root/nltk_data...\n",
            "[nltk_data]    |   Unzipping corpora/twitter_samples.zip.\n",
            "[nltk_data]    | Downloading package udhr to /root/nltk_data...\n",
            "[nltk_data]    |   Unzipping corpora/udhr.zip.\n",
            "[nltk_data]    | Downloading package udhr2 to /root/nltk_data...\n",
            "[nltk_data]    |   Unzipping corpora/udhr2.zip.\n",
            "[nltk_data]    | Downloading package unicode_samples to\n",
            "[nltk_data]    |     /root/nltk_data...\n",
            "[nltk_data]    |   Unzipping corpora/unicode_samples.zip.\n",
            "[nltk_data]    | Downloading package universal_treebanks_v20 to\n",
            "[nltk_data]    |     /root/nltk_data...\n",
            "[nltk_data]    | Downloading package verbnet to /root/nltk_data...\n",
            "[nltk_data]    |   Unzipping corpora/verbnet.zip.\n",
            "[nltk_data]    | Downloading package verbnet3 to /root/nltk_data...\n",
            "[nltk_data]    |   Unzipping corpora/verbnet3.zip.\n",
            "[nltk_data]    | Downloading package webtext to /root/nltk_data...\n",
            "[nltk_data]    |   Unzipping corpora/webtext.zip.\n",
            "[nltk_data]    | Downloading package wordnet to /root/nltk_data...\n",
            "[nltk_data]    |   Unzipping corpora/wordnet.zip.\n",
            "[nltk_data]    | Downloading package wordnet_ic to /root/nltk_data...\n",
            "[nltk_data]    |   Unzipping corpora/wordnet_ic.zip.\n",
            "[nltk_data]    | Downloading package words to /root/nltk_data...\n",
            "[nltk_data]    |   Unzipping corpora/words.zip.\n",
            "[nltk_data]    | Downloading package ycoe to /root/nltk_data...\n",
            "[nltk_data]    |   Unzipping corpora/ycoe.zip.\n",
            "[nltk_data]    | Downloading package rslp to /root/nltk_data...\n",
            "[nltk_data]    |   Unzipping stemmers/rslp.zip.\n",
            "[nltk_data]    | Downloading package maxent_treebank_pos_tagger to\n",
            "[nltk_data]    |     /root/nltk_data...\n",
            "[nltk_data]    |   Unzipping taggers/maxent_treebank_pos_tagger.zip.\n",
            "[nltk_data]    | Downloading package universal_tagset to\n",
            "[nltk_data]    |     /root/nltk_data...\n",
            "[nltk_data]    |   Unzipping taggers/universal_tagset.zip.\n",
            "[nltk_data]    | Downloading package maxent_ne_chunker to\n",
            "[nltk_data]    |     /root/nltk_data...\n",
            "[nltk_data]    |   Unzipping chunkers/maxent_ne_chunker.zip.\n",
            "[nltk_data]    | Downloading package punkt to /root/nltk_data...\n",
            "[nltk_data]    |   Unzipping tokenizers/punkt.zip.\n",
            "[nltk_data]    | Downloading package book_grammars to\n",
            "[nltk_data]    |     /root/nltk_data...\n",
            "[nltk_data]    |   Unzipping grammars/book_grammars.zip.\n",
            "[nltk_data]    | Downloading package sample_grammars to\n",
            "[nltk_data]    |     /root/nltk_data...\n",
            "[nltk_data]    |   Unzipping grammars/sample_grammars.zip.\n",
            "[nltk_data]    | Downloading package spanish_grammars to\n",
            "[nltk_data]    |     /root/nltk_data...\n",
            "[nltk_data]    |   Unzipping grammars/spanish_grammars.zip.\n",
            "[nltk_data]    | Downloading package basque_grammars to\n",
            "[nltk_data]    |     /root/nltk_data...\n",
            "[nltk_data]    |   Unzipping grammars/basque_grammars.zip.\n",
            "[nltk_data]    | Downloading package large_grammars to\n",
            "[nltk_data]    |     /root/nltk_data...\n",
            "[nltk_data]    |   Unzipping grammars/large_grammars.zip.\n",
            "[nltk_data]    | Downloading package tagsets to /root/nltk_data...\n",
            "[nltk_data]    |   Unzipping help/tagsets.zip.\n",
            "[nltk_data]    | Downloading package snowball_data to\n",
            "[nltk_data]    |     /root/nltk_data...\n",
            "[nltk_data]    | Downloading package bllip_wsj_no_aux to\n",
            "[nltk_data]    |     /root/nltk_data...\n",
            "[nltk_data]    |   Unzipping models/bllip_wsj_no_aux.zip.\n",
            "[nltk_data]    | Downloading package word2vec_sample to\n",
            "[nltk_data]    |     /root/nltk_data...\n",
            "[nltk_data]    |   Unzipping models/word2vec_sample.zip.\n",
            "[nltk_data]    | Downloading package panlex_swadesh to\n",
            "[nltk_data]    |     /root/nltk_data...\n",
            "[nltk_data]    | Downloading package mte_teip5 to /root/nltk_data...\n",
            "[nltk_data]    |   Unzipping corpora/mte_teip5.zip.\n",
            "[nltk_data]    | Downloading package averaged_perceptron_tagger to\n",
            "[nltk_data]    |     /root/nltk_data...\n",
            "[nltk_data]    |   Unzipping taggers/averaged_perceptron_tagger.zip.\n",
            "[nltk_data]    | Downloading package averaged_perceptron_tagger_ru to\n",
            "[nltk_data]    |     /root/nltk_data...\n",
            "[nltk_data]    |   Unzipping\n",
            "[nltk_data]    |       taggers/averaged_perceptron_tagger_ru.zip.\n",
            "[nltk_data]    | Downloading package perluniprops to\n",
            "[nltk_data]    |     /root/nltk_data...\n",
            "[nltk_data]    |   Unzipping misc/perluniprops.zip.\n",
            "[nltk_data]    | Downloading package nonbreaking_prefixes to\n",
            "[nltk_data]    |     /root/nltk_data...\n",
            "[nltk_data]    |   Unzipping corpora/nonbreaking_prefixes.zip.\n",
            "[nltk_data]    | Downloading package vader_lexicon to\n",
            "[nltk_data]    |     /root/nltk_data...\n",
            "[nltk_data]    | Downloading package porter_test to /root/nltk_data...\n",
            "[nltk_data]    |   Unzipping stemmers/porter_test.zip.\n",
            "[nltk_data]    | Downloading package wmt15_eval to /root/nltk_data...\n",
            "[nltk_data]    |   Unzipping models/wmt15_eval.zip.\n",
            "[nltk_data]    | Downloading package mwa_ppdb to /root/nltk_data...\n",
            "[nltk_data]    |   Unzipping misc/mwa_ppdb.zip.\n",
            "[nltk_data]    | \n",
            "[nltk_data]  Done downloading collection all\n"
          ],
          "name": "stdout"
        }
      ]
    },
    {
      "cell_type": "code",
      "metadata": {
        "id": "cDFHzCys5wB5",
        "colab": {
          "base_uri": "https://localhost:8080/"
        },
        "outputId": "402ef1b0-f745-47e3-cf6a-a5ec49d179d4"
      },
      "source": [
        "df['tidy_tweet']=df['tidy_tweet'].apply(lambda x: [item for item in x if item not in stop])\n",
        "df['tidy_tweet']"
      ],
      "execution_count": 11,
      "outputs": [
        {
          "output_type": "execute_result",
          "data": {
            "text/plain": [
              "0     [lawyer, says, dominion, vote, flip, michigan,...\n",
              "1     [michigan, fraud, witness, totally, debunks, d...\n",
              "2     [kentucky, republican, challenge, electoral, c...\n",
              "3                                                [true]\n",
              "4                                                    []\n",
              "5     [chris, krebs, totally, excoriated, proven, wr...\n",
              "6     [former, united, states, solicitor, general, k...\n",
              "7     [senate, hearings, going, live, fraudulent, el...\n",
              "8     [perhaps, biggest, difference, despite, fact, ...\n",
              "9     [believe, badly, ratings, played, right, hands...\n",
              "10     [ridiculous, unfair, people, never, make, stand]\n",
              "11    [president, trump, go, history, one, great, pr...\n",
              "12    [study, dominion, machines, shifted, trump, vo...\n",
              "13    [audits, voting, machines, reveal, error, rate...\n",
              "14    [arizona, gop, chairwoman, said, state, gopele...\n",
              "15    [trump, allies, slam, mitch, mcconnell, congra...\n",
              "16    [poll, republican, voters, think, election, ri...\n",
              "17    [franklin, graham, grateful, god, last, four, ...\n",
              "18    [electoral, college, votes, texas, go, donald,...\n",
              "19                    [corruption, despite, corruption]\n",
              "Name: tidy_tweet, dtype: object"
            ]
          },
          "metadata": {
            "tags": []
          },
          "execution_count": 11
        }
      ]
    },
    {
      "cell_type": "code",
      "metadata": {
        "id": "8pajGRX25wB9",
        "colab": {
          "base_uri": "https://localhost:8080/"
        },
        "outputId": "2ad8e26f-8837-4dec-d611-c40c092f39e4"
      },
      "source": [
        "#Alternate Method: Using TweetTokenizer to tokenize the tweet\n",
        "from nltk.tokenize import TweetTokenizer\n",
        "\n",
        "tt = TweetTokenizer()\n",
        "s0 = \"This is a cooool #dummysmiley: :-) :-P <3 and some arrows < > -> <--\"\n",
        "tt.tokenize(s0)"
      ],
      "execution_count": 12,
      "outputs": [
        {
          "output_type": "execute_result",
          "data": {
            "text/plain": [
              "['This',\n",
              " 'is',\n",
              " 'a',\n",
              " 'cooool',\n",
              " '#dummysmiley',\n",
              " ':',\n",
              " ':-)',\n",
              " ':-P',\n",
              " '<3',\n",
              " 'and',\n",
              " 'some',\n",
              " 'arrows',\n",
              " '<',\n",
              " '>',\n",
              " '->',\n",
              " '<--']"
            ]
          },
          "metadata": {
            "tags": []
          },
          "execution_count": 12
        }
      ]
    },
    {
      "cell_type": "code",
      "metadata": {
        "id": "jST_9a-K5wCD"
      },
      "source": [
        "def rejoin_words(row):\n",
        "    my_list = row['tidy_tweet']\n",
        "    joined_words = ( \" \".join(my_list))\n",
        "    return joined_words\n",
        "\n",
        "df['tidy_tweet'] = df.apply(rejoin_words, axis=1)\n"
      ],
      "execution_count": 13,
      "outputs": []
    },
    {
      "cell_type": "code",
      "metadata": {
        "id": "BmZQB2eT5wCJ",
        "colab": {
          "base_uri": "https://localhost:8080/"
        },
        "outputId": "2d34ca7c-4192-4843-828f-766eaac00629"
      },
      "source": [
        "df['tidy_tweet']"
      ],
      "execution_count": 14,
      "outputs": [
        {
          "output_type": "execute_result",
          "data": {
            "text/plain": [
              "0     lawyer says dominion vote flip michigan due so...\n",
              "1     michigan fraud witness totally debunks dominio...\n",
              "2     kentucky republican challenge electoral colleg...\n",
              "3                                                  true\n",
              "4                                                      \n",
              "5     chris krebs totally excoriated proven wrong se...\n",
              "6     former united states solicitor general ken sta...\n",
              "7     senate hearings going live fraudulent election...\n",
              "8     perhaps biggest difference despite fact went vote\n",
              "9     believe badly ratings played right hands radic...\n",
              "10            ridiculous unfair people never make stand\n",
              "11    president trump go history one great president...\n",
              "12    study dominion machines shifted trump votes bi...\n",
              "13    audits voting machines reveal error rates mich...\n",
              "14    arizona gop chairwoman said state gopelectors ...\n",
              "15    trump allies slam mitch mcconnell congratulati...\n",
              "16         poll republican voters think election rigged\n",
              "17    franklin graham grateful god last four years v...\n",
              "18    electoral college votes texas go donald trump ...\n",
              "19                        corruption despite corruption\n",
              "Name: tidy_tweet, dtype: object"
            ]
          },
          "metadata": {
            "tags": []
          },
          "execution_count": 14
        }
      ]
    },
    {
      "cell_type": "markdown",
      "metadata": {
        "id": "1AoI7Iru5wCN"
      },
      "source": [
        "Applying Lemmatization"
      ]
    },
    {
      "cell_type": "code",
      "metadata": {
        "id": "PfCcp2XE5wCP"
      },
      "source": [
        "import nltk\n",
        "w_tokenizer = nltk.tokenize.WhitespaceTokenizer()\n",
        "lemmatizer = nltk.stem.WordNetLemmatizer()\n",
        "\n",
        "def lemmatize_text(text):\n",
        "    return [lemmatizer.lemmatize(w) for w in w_tokenizer.tokenize(text)]\n",
        "\n",
        "df['tidy_tweet'] = df['tidy_tweet'].apply(lemmatize_text)"
      ],
      "execution_count": 15,
      "outputs": []
    },
    {
      "cell_type": "code",
      "metadata": {
        "id": "skIcdzcU5wCS",
        "colab": {
          "base_uri": "https://localhost:8080/"
        },
        "outputId": "c5c6dc19-5f42-43d2-a3ae-72f30cd2d162"
      },
      "source": [
        "df['tidy_tweet']"
      ],
      "execution_count": 16,
      "outputs": [
        {
          "output_type": "execute_result",
          "data": {
            "text/plain": [
              "0     [lawyer, say, dominion, vote, flip, michigan, ...\n",
              "1     [michigan, fraud, witness, totally, debunks, d...\n",
              "2     [kentucky, republican, challenge, electoral, c...\n",
              "3                                                [true]\n",
              "4                                                    []\n",
              "5     [chris, krebs, totally, excoriated, proven, wr...\n",
              "6     [former, united, state, solicitor, general, ke...\n",
              "7     [senate, hearing, going, live, fraudulent, ele...\n",
              "8     [perhaps, biggest, difference, despite, fact, ...\n",
              "9     [believe, badly, rating, played, right, hand, ...\n",
              "10     [ridiculous, unfair, people, never, make, stand]\n",
              "11    [president, trump, go, history, one, great, pr...\n",
              "12    [study, dominion, machine, shifted, trump, vot...\n",
              "13    [audit, voting, machine, reveal, error, rate, ...\n",
              "14    [arizona, gop, chairwoman, said, state, gopele...\n",
              "15    [trump, ally, slam, mitch, mcconnell, congratu...\n",
              "16    [poll, republican, voter, think, election, rig...\n",
              "17    [franklin, graham, grateful, god, last, four, ...\n",
              "18    [electoral, college, vote, texas, go, donald, ...\n",
              "19                    [corruption, despite, corruption]\n",
              "Name: tidy_tweet, dtype: object"
            ]
          },
          "metadata": {
            "tags": []
          },
          "execution_count": 16
        }
      ]
    },
    {
      "cell_type": "code",
      "metadata": {
        "id": "Fhl6IPrM5wCa"
      },
      "source": [
        "def rejoin_words(row):\n",
        "    my_list = row['tidy_tweet']\n",
        "    joined_words = ( \" \".join(my_list))\n",
        "    return joined_words\n",
        "\n",
        "df['tidy_tweet'] = df.apply(rejoin_words, axis=1)"
      ],
      "execution_count": 17,
      "outputs": []
    },
    {
      "cell_type": "code",
      "metadata": {
        "id": "VPpcjvmB5wCd",
        "colab": {
          "base_uri": "https://localhost:8080/"
        },
        "outputId": "e630ff79-2eb7-47f6-88b1-a2000f3f4184"
      },
      "source": [
        "df['tidy_tweet']"
      ],
      "execution_count": 18,
      "outputs": [
        {
          "output_type": "execute_result",
          "data": {
            "text/plain": [
              "0     lawyer say dominion vote flip michigan due sof...\n",
              "1     michigan fraud witness totally debunks dominio...\n",
              "2     kentucky republican challenge electoral colleg...\n",
              "3                                                  true\n",
              "4                                                      \n",
              "5     chris krebs totally excoriated proven wrong se...\n",
              "6     former united state solicitor general ken star...\n",
              "7     senate hearing going live fraudulent election ...\n",
              "8     perhaps biggest difference despite fact went vote\n",
              "9     believe badly rating played right hand radical...\n",
              "10            ridiculous unfair people never make stand\n",
              "11    president trump go history one great president...\n",
              "12    study dominion machine shifted trump vote bide...\n",
              "13    audit voting machine reveal error rate michiga...\n",
              "14    arizona gop chairwoman said state gopelectors ...\n",
              "15    trump ally slam mitch mcconnell congratulating...\n",
              "16          poll republican voter think election rigged\n",
              "17    franklin graham grateful god last four year vi...\n",
              "18    electoral college vote texas go donald trump t...\n",
              "19                        corruption despite corruption\n",
              "Name: tidy_tweet, dtype: object"
            ]
          },
          "metadata": {
            "tags": []
          },
          "execution_count": 18
        }
      ]
    },
    {
      "cell_type": "code",
      "metadata": {
        "id": "27-zMfOf5wCg",
        "colab": {
          "base_uri": "https://localhost:8080/"
        },
        "outputId": "da7e060e-718b-4a05-ff6a-e0e95dd2656f"
      },
      "source": [
        "df.isnull().sum()"
      ],
      "execution_count": 19,
      "outputs": [
        {
          "output_type": "execute_result",
          "data": {
            "text/plain": [
              "tweet_id            0\n",
              "text                0\n",
              "favorite_count      0\n",
              "retweet_count       0\n",
              "created_at          0\n",
              "source              0\n",
              "reply_to_status    20\n",
              "reply_to_user      20\n",
              "retweets            0\n",
              "favorites           0\n",
              "tidy_tweet          0\n",
              "dtype: int64"
            ]
          },
          "metadata": {
            "tags": []
          },
          "execution_count": 19
        }
      ]
    },
    {
      "cell_type": "markdown",
      "metadata": {
        "id": "0c46n7n-5wCi"
      },
      "source": [
        "# Check the Sentiment using TextBlob"
      ]
    },
    {
      "cell_type": "code",
      "metadata": {
        "id": "Sz3GcPT-5wCk"
      },
      "source": [
        "from textblob import TextBlob\n",
        "df[['polarity', 'subjectivity']] = df['tidy_tweet'].apply(lambda Text: pd.Series(TextBlob(Text).sentiment))"
      ],
      "execution_count": 20,
      "outputs": []
    },
    {
      "cell_type": "code",
      "metadata": {
        "id": "yVoDI4HV5wCq",
        "colab": {
          "base_uri": "https://localhost:8080/",
          "height": 639
        },
        "outputId": "8e096806-419c-43a8-c3bc-927dc55008c6"
      },
      "source": [
        "df[['text','polarity', 'subjectivity']]"
      ],
      "execution_count": 21,
      "outputs": [
        {
          "output_type": "execute_result",
          "data": {
            "text/html": [
              "<div>\n",
              "<style scoped>\n",
              "    .dataframe tbody tr th:only-of-type {\n",
              "        vertical-align: middle;\n",
              "    }\n",
              "\n",
              "    .dataframe tbody tr th {\n",
              "        vertical-align: top;\n",
              "    }\n",
              "\n",
              "    .dataframe thead th {\n",
              "        text-align: right;\n",
              "    }\n",
              "</style>\n",
              "<table border=\"1\" class=\"dataframe\">\n",
              "  <thead>\n",
              "    <tr style=\"text-align: right;\">\n",
              "      <th></th>\n",
              "      <th>text</th>\n",
              "      <th>polarity</th>\n",
              "      <th>subjectivity</th>\n",
              "    </tr>\n",
              "  </thead>\n",
              "  <tbody>\n",
              "    <tr>\n",
              "      <th>0</th>\n",
              "      <td>RT @jsolomonReports: Lawyer says Dominion vote...</td>\n",
              "      <td>-0.062500</td>\n",
              "      <td>0.237500</td>\n",
              "    </tr>\n",
              "    <tr>\n",
              "      <th>1</th>\n",
              "      <td>“Michigan fraud witness totally debunks Domini...</td>\n",
              "      <td>-0.437500</td>\n",
              "      <td>0.875000</td>\n",
              "    </tr>\n",
              "    <tr>\n",
              "      <th>2</th>\n",
              "      <td>RT @theblaze: Will the Kentucky Republican cha...</td>\n",
              "      <td>0.000000</td>\n",
              "      <td>0.000000</td>\n",
              "    </tr>\n",
              "    <tr>\n",
              "      <th>3</th>\n",
              "      <td>TRUE! https://t.co/YapMxkF4SE</td>\n",
              "      <td>0.350000</td>\n",
              "      <td>0.650000</td>\n",
              "    </tr>\n",
              "    <tr>\n",
              "      <th>4</th>\n",
              "      <td>https://t.co/GgwnkrGz9U</td>\n",
              "      <td>0.000000</td>\n",
              "      <td>0.000000</td>\n",
              "    </tr>\n",
              "    <tr>\n",
              "      <th>5</th>\n",
              "      <td>Chris Krebs was totally excoriated and proven ...</td>\n",
              "      <td>-0.166667</td>\n",
              "      <td>0.883333</td>\n",
              "    </tr>\n",
              "    <tr>\n",
              "      <th>6</th>\n",
              "      <td>Former United States Solicitor General Ken Sta...</td>\n",
              "      <td>0.025000</td>\n",
              "      <td>0.250000</td>\n",
              "    </tr>\n",
              "    <tr>\n",
              "      <th>7</th>\n",
              "      <td>Senate Hearings going on LIVE @OANN, as to the...</td>\n",
              "      <td>0.136364</td>\n",
              "      <td>0.500000</td>\n",
              "    </tr>\n",
              "    <tr>\n",
              "      <th>8</th>\n",
              "      <td>Perhaps the biggest difference between 2016 an...</td>\n",
              "      <td>0.000000</td>\n",
              "      <td>0.000000</td>\n",
              "    </tr>\n",
              "    <tr>\n",
              "      <th>9</th>\n",
              "      <td>Can’t believe how badly @FoxNews is doing in t...</td>\n",
              "      <td>-0.138095</td>\n",
              "      <td>0.400794</td>\n",
              "    </tr>\n",
              "    <tr>\n",
              "      <th>10</th>\n",
              "      <td>So ridiculous and unfair. Will people never ma...</td>\n",
              "      <td>-0.416667</td>\n",
              "      <td>1.000000</td>\n",
              "    </tr>\n",
              "    <tr>\n",
              "      <th>11</th>\n",
              "      <td>RT @BreitbartNews: .@Franklin_Graham: \"Preside...</td>\n",
              "      <td>0.800000</td>\n",
              "      <td>0.750000</td>\n",
              "    </tr>\n",
              "    <tr>\n",
              "      <th>12</th>\n",
              "      <td>“Study: Dominion Machines shifted 2-3% of Trum...</td>\n",
              "      <td>0.100000</td>\n",
              "      <td>1.000000</td>\n",
              "    </tr>\n",
              "    <tr>\n",
              "      <th>13</th>\n",
              "      <td>RT @KelemenCari: Audits of voting machines rev...</td>\n",
              "      <td>0.000000</td>\n",
              "      <td>0.000000</td>\n",
              "    </tr>\n",
              "    <tr>\n",
              "      <th>14</th>\n",
              "      <td>RT @EpochTimes: #Arizona GOP Chairwoman @Kelli...</td>\n",
              "      <td>0.000000</td>\n",
              "      <td>0.000000</td>\n",
              "    </tr>\n",
              "    <tr>\n",
              "      <th>15</th>\n",
              "      <td>Trump's allies slam Mitch McConnell for congra...</td>\n",
              "      <td>0.000000</td>\n",
              "      <td>0.000000</td>\n",
              "    </tr>\n",
              "    <tr>\n",
              "      <th>16</th>\n",
              "      <td>Poll: 92% of Republican Voters think the elect...</td>\n",
              "      <td>0.000000</td>\n",
              "      <td>0.000000</td>\n",
              "    </tr>\n",
              "    <tr>\n",
              "      <th>17</th>\n",
              "      <td>Franklin Graham: ‘I Am Grateful to God’ for ‘t...</td>\n",
              "      <td>0.000000</td>\n",
              "      <td>0.066667</td>\n",
              "    </tr>\n",
              "    <tr>\n",
              "      <th>18</th>\n",
              "      <td>RT @wesrap: All of the 38 electoral college vo...</td>\n",
              "      <td>0.000000</td>\n",
              "      <td>0.000000</td>\n",
              "    </tr>\n",
              "    <tr>\n",
              "      <th>19</th>\n",
              "      <td>Because of corruption or because I won despite...</td>\n",
              "      <td>0.000000</td>\n",
              "      <td>0.000000</td>\n",
              "    </tr>\n",
              "  </tbody>\n",
              "</table>\n",
              "</div>"
            ],
            "text/plain": [
              "                                                 text  polarity  subjectivity\n",
              "0   RT @jsolomonReports: Lawyer says Dominion vote... -0.062500      0.237500\n",
              "1   “Michigan fraud witness totally debunks Domini... -0.437500      0.875000\n",
              "2   RT @theblaze: Will the Kentucky Republican cha...  0.000000      0.000000\n",
              "3                       TRUE! https://t.co/YapMxkF4SE  0.350000      0.650000\n",
              "4                             https://t.co/GgwnkrGz9U  0.000000      0.000000\n",
              "5   Chris Krebs was totally excoriated and proven ... -0.166667      0.883333\n",
              "6   Former United States Solicitor General Ken Sta...  0.025000      0.250000\n",
              "7   Senate Hearings going on LIVE @OANN, as to the...  0.136364      0.500000\n",
              "8   Perhaps the biggest difference between 2016 an...  0.000000      0.000000\n",
              "9   Can’t believe how badly @FoxNews is doing in t... -0.138095      0.400794\n",
              "10  So ridiculous and unfair. Will people never ma... -0.416667      1.000000\n",
              "11  RT @BreitbartNews: .@Franklin_Graham: \"Preside...  0.800000      0.750000\n",
              "12  “Study: Dominion Machines shifted 2-3% of Trum...  0.100000      1.000000\n",
              "13  RT @KelemenCari: Audits of voting machines rev...  0.000000      0.000000\n",
              "14  RT @EpochTimes: #Arizona GOP Chairwoman @Kelli...  0.000000      0.000000\n",
              "15  Trump's allies slam Mitch McConnell for congra...  0.000000      0.000000\n",
              "16  Poll: 92% of Republican Voters think the elect...  0.000000      0.000000\n",
              "17  Franklin Graham: ‘I Am Grateful to God’ for ‘t...  0.000000      0.066667\n",
              "18  RT @wesrap: All of the 38 electoral college vo...  0.000000      0.000000\n",
              "19  Because of corruption or because I won despite...  0.000000      0.000000"
            ]
          },
          "metadata": {
            "tags": []
          },
          "execution_count": 21
        }
      ]
    },
    {
      "cell_type": "code",
      "metadata": {
        "id": "yz6HdTV65wCu",
        "colab": {
          "base_uri": "https://localhost:8080/",
          "height": 35
        },
        "outputId": "01c439e6-fb7b-4c62-9f46-b2d8bd9d9cdd"
      },
      "source": [
        "df['text'][17]"
      ],
      "execution_count": 22,
      "outputs": [
        {
          "output_type": "execute_result",
          "data": {
            "application/vnd.google.colaboratory.intrinsic+json": {
              "type": "string"
            },
            "text/plain": [
              "'Franklin Graham: ‘I Am Grateful to God’ for ‘the Last Four Years’ https://t.co/wbSLJ4snxX via @BreitbartNews Thank you Franklin!'"
            ]
          },
          "metadata": {
            "tags": []
          },
          "execution_count": 22
        }
      ]
    },
    {
      "cell_type": "code",
      "metadata": {
        "id": "lXtvvUwl5wCx",
        "colab": {
          "base_uri": "https://localhost:8080/"
        },
        "outputId": "ecba982c-0173-46b4-e640-ab15d1fbcad8"
      },
      "source": [
        "from textblob.sentiments import NaiveBayesAnalyzer\n",
        "for tweet in df['tidy_tweet']:\n",
        "    print(tweet)\n",
        "    analysis = TextBlob(tweet,analyzer=NaiveBayesAnalyzer())\n",
        "    print(analysis.sentiment)  "
      ],
      "execution_count": 23,
      "outputs": [
        {
          "output_type": "stream",
          "text": [
            "lawyer say dominion vote flip michigan due software human error news\n",
            "Sentiment(classification='neg', p_pos=0.4351957568513463, p_neg=0.5648042431486552)\n",
            "michigan fraud witness totally debunks dominion ceo brutal\n",
            "Sentiment(classification='pos', p_pos=0.644984118581259, p_neg=0.35501588141874096)\n",
            "kentucky republican challenge electoral college vote\n",
            "Sentiment(classification='pos', p_pos=0.7467053350003076, p_neg=0.2532946649996925)\n",
            "true\n",
            "Sentiment(classification='pos', p_pos=0.653726708074534, p_neg=0.346273291925466)\n",
            "\n",
            "Sentiment(classification='pos', p_pos=0.5, p_neg=0.5)\n",
            "chris krebs totally excoriated proven wrong senate hearing fraudulent election massive\n",
            "Sentiment(classification='pos', p_pos=0.772664670945036, p_neg=0.22733532905496612)\n",
            "former united state solicitor general ken starr pennsylvania flagrantly violated law ahead election\n",
            "Sentiment(classification='pos', p_pos=0.9725971278776813, p_neg=0.02740287212231711)\n",
            "senate hearing going live fraudulent election took place\n",
            "Sentiment(classification='pos', p_pos=0.9523139871166282, p_neg=0.047686012883371556)\n",
            "perhaps biggest difference despite fact went vote\n",
            "Sentiment(classification='pos', p_pos=0.5649662043360644, p_neg=0.43503379566393485)\n",
            "believe badly rating played right hand radical left demo\n",
            "Sentiment(classification='pos', p_pos=0.6570806197139554, p_neg=0.3429193802860441)\n",
            "ridiculous unfair people never make stand\n",
            "Sentiment(classification='neg', p_pos=0.2372920801776456, p_neg=0.7627079198223551)\n",
            "president trump go history one great president nation may god bles\n",
            "Sentiment(classification='pos', p_pos=0.8264117899491772, p_neg=0.1735882100508242)\n",
            "study dominion machine shifted trump vote biden far vote needed sway election flori\n",
            "Sentiment(classification='pos', p_pos=0.6223642492885363, p_neg=0.3776357507114635)\n",
            "audit voting machine reveal error rate michigan nevada arizona know soon\n",
            "Sentiment(classification='pos', p_pos=0.5497562104872187, p_neg=0.4502437895127804)\n",
            "arizona gop chairwoman said state gopelectors cast vote president trump believe\n",
            "Sentiment(classification='neg', p_pos=0.49972554804624353, p_neg=0.5002744519537542)\n",
            "trump ally slam mitch mcconnell congratulating biden via mitch\n",
            "Sentiment(classification='neg', p_pos=0.03902798232695161, p_neg=0.9609720176730504)\n",
            "poll republican voter think election rigged\n",
            "Sentiment(classification='neg', p_pos=0.050482962950616175, p_neg=0.9495170370493855)\n",
            "franklin graham grateful god last four year via thank franklin\n",
            "Sentiment(classification='pos', p_pos=0.5141661426170671, p_neg=0.4858338573829311)\n",
            "electoral college vote texas go donald trump txlege\n",
            "Sentiment(classification='neg', p_pos=0.36826097328244206, p_neg=0.6317390267175567)\n",
            "corruption despite corruption\n",
            "Sentiment(classification='pos', p_pos=0.6996887159533071, p_neg=0.30031128404669283)\n"
          ],
          "name": "stdout"
        }
      ]
    }
  ]
}