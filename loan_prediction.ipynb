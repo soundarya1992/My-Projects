{
  "nbformat": 4,
  "nbformat_minor": 0,
  "metadata": {
    "colab": {
      "name": "loan_prediction.ipynb",
      "provenance": [],
      "collapsed_sections": [],
      "authorship_tag": "ABX9TyNTRz5wKzylhV4ROUXpWvvT",
      "include_colab_link": true
    },
    "kernelspec": {
      "name": "python3",
      "display_name": "Python 3"
    }
  },
  "cells": [
    {
      "cell_type": "markdown",
      "metadata": {
        "id": "view-in-github",
        "colab_type": "text"
      },
      "source": [
        "<a href=\"https://colab.research.google.com/github/soundarya1992/My-Projects/blob/master/loan_prediction.ipynb\" target=\"_parent\"><img src=\"https://colab.research.google.com/assets/colab-badge.svg\" alt=\"Open In Colab\"/></a>"
      ]
    },
    {
      "cell_type": "code",
      "metadata": {
        "id": "x00n6N-HV1RH",
        "colab_type": "code",
        "colab": {
          "base_uri": "https://localhost:8080/",
          "height": 70
        },
        "outputId": "6a2e441a-24c1-4289-d492-4baf2a9a59d0"
      },
      "source": [
        "#Loading Packages\n",
        "import pandas as pd \n",
        "import numpy as np                     # For mathematical calculations \n",
        "import seaborn as sns                  # For data visualization \n",
        "import matplotlib.pyplot as plt        # For plotting graphs \n",
        "%matplotlib inline \n",
        "import warnings                        # To ignore any warnings warnings.filterwarnings(\"ignore\")"
      ],
      "execution_count": 1,
      "outputs": [
        {
          "output_type": "stream",
          "text": [
            "/usr/local/lib/python3.6/dist-packages/statsmodels/tools/_testing.py:19: FutureWarning: pandas.util.testing is deprecated. Use the functions in the public API at pandas.testing instead.\n",
            "  import pandas.util.testing as tm\n"
          ],
          "name": "stderr"
        }
      ]
    },
    {
      "cell_type": "code",
      "metadata": {
        "id": "lTqTTg69a5Vj",
        "colab_type": "code",
        "colab": {}
      },
      "source": [
        "#Reading data\n",
        "train = pd.read_csv(\"train_ctrUa4K.csv\") \n",
        "test = pd.read_csv(\"test_lAUu6dG.csv\")"
      ],
      "execution_count": 2,
      "outputs": []
    },
    {
      "cell_type": "code",
      "metadata": {
        "id": "JWv8G-XkbMGi",
        "colab_type": "code",
        "colab": {}
      },
      "source": [
        "#Copy of Train and Test dataset\n",
        "train_original=train.copy() \n",
        "test_original=test.copy()"
      ],
      "execution_count": 3,
      "outputs": []
    },
    {
      "cell_type": "code",
      "metadata": {
        "id": "epupxPdQbd4b",
        "colab_type": "code",
        "colab": {
          "base_uri": "https://localhost:8080/",
          "height": 84
        },
        "outputId": "cbcb22c5-b0d9-4024-a109-8f3a8c20a54c"
      },
      "source": [
        "train.columns"
      ],
      "execution_count": 4,
      "outputs": [
        {
          "output_type": "execute_result",
          "data": {
            "text/plain": [
              "Index(['Loan_ID', 'Gender', 'Married', 'Dependents', 'Education',\n",
              "       'Self_Employed', 'ApplicantIncome', 'CoapplicantIncome', 'LoanAmount',\n",
              "       'Loan_Amount_Term', 'Credit_History', 'Property_Area', 'Loan_Status'],\n",
              "      dtype='object')"
            ]
          },
          "metadata": {
            "tags": []
          },
          "execution_count": 4
        }
      ]
    },
    {
      "cell_type": "code",
      "metadata": {
        "id": "9PmNxW4ybfJI",
        "colab_type": "code",
        "colab": {
          "base_uri": "https://localhost:8080/",
          "height": 84
        },
        "outputId": "324d7a76-eef9-44ab-b95a-cc785f275e2d"
      },
      "source": [
        "test.columns"
      ],
      "execution_count": 5,
      "outputs": [
        {
          "output_type": "execute_result",
          "data": {
            "text/plain": [
              "Index(['Loan_ID', 'Gender', 'Married', 'Dependents', 'Education',\n",
              "       'Self_Employed', 'ApplicantIncome', 'CoapplicantIncome', 'LoanAmount',\n",
              "       'Loan_Amount_Term', 'Credit_History', 'Property_Area'],\n",
              "      dtype='object')"
            ]
          },
          "metadata": {
            "tags": []
          },
          "execution_count": 5
        }
      ]
    },
    {
      "cell_type": "code",
      "metadata": {
        "id": "Hb_7Y5gMbhjI",
        "colab_type": "code",
        "colab": {
          "base_uri": "https://localhost:8080/",
          "height": 252
        },
        "outputId": "8c258c6b-025b-4cfa-e38a-90206ff1b2ea"
      },
      "source": [
        "train.dtypes"
      ],
      "execution_count": 6,
      "outputs": [
        {
          "output_type": "execute_result",
          "data": {
            "text/plain": [
              "Loan_ID               object\n",
              "Gender                object\n",
              "Married               object\n",
              "Dependents            object\n",
              "Education             object\n",
              "Self_Employed         object\n",
              "ApplicantIncome        int64\n",
              "CoapplicantIncome    float64\n",
              "LoanAmount           float64\n",
              "Loan_Amount_Term     float64\n",
              "Credit_History       float64\n",
              "Property_Area         object\n",
              "Loan_Status           object\n",
              "dtype: object"
            ]
          },
          "metadata": {
            "tags": []
          },
          "execution_count": 6
        }
      ]
    },
    {
      "cell_type": "code",
      "metadata": {
        "id": "pBEnDb12bnO3",
        "colab_type": "code",
        "colab": {
          "base_uri": "https://localhost:8080/",
          "height": 34
        },
        "outputId": "ce81b59b-8bb3-437e-b3de-da9e561f1b28"
      },
      "source": [
        "train.shape, test.shape"
      ],
      "execution_count": 7,
      "outputs": [
        {
          "output_type": "execute_result",
          "data": {
            "text/plain": [
              "((614, 13), (367, 12))"
            ]
          },
          "metadata": {
            "tags": []
          },
          "execution_count": 7
        }
      ]
    },
    {
      "cell_type": "markdown",
      "metadata": {
        "id": "nKspDPKTcBWV",
        "colab_type": "text"
      },
      "source": [
        "# Target Variable"
      ]
    },
    {
      "cell_type": "code",
      "metadata": {
        "id": "DBWNwk3fbumM",
        "colab_type": "code",
        "colab": {
          "base_uri": "https://localhost:8080/",
          "height": 67
        },
        "outputId": "4c1a0d80-8316-4f9b-c8da-728e9bfc8acb"
      },
      "source": [
        "train['Loan_Status'].value_counts()"
      ],
      "execution_count": 8,
      "outputs": [
        {
          "output_type": "execute_result",
          "data": {
            "text/plain": [
              "Y    422\n",
              "N    192\n",
              "Name: Loan_Status, dtype: int64"
            ]
          },
          "metadata": {
            "tags": []
          },
          "execution_count": 8
        }
      ]
    },
    {
      "cell_type": "code",
      "metadata": {
        "id": "xFp6I_Mtbz27",
        "colab_type": "code",
        "colab": {
          "base_uri": "https://localhost:8080/",
          "height": 67
        },
        "outputId": "b95a4654-9be2-4352-f674-2d751c85acb7"
      },
      "source": [
        "train['Loan_Status'].value_counts(normalize=True)"
      ],
      "execution_count": 9,
      "outputs": [
        {
          "output_type": "execute_result",
          "data": {
            "text/plain": [
              "Y    0.687296\n",
              "N    0.312704\n",
              "Name: Loan_Status, dtype: float64"
            ]
          },
          "metadata": {
            "tags": []
          },
          "execution_count": 9
        }
      ]
    },
    {
      "cell_type": "code",
      "metadata": {
        "id": "6Hff95Ctb37V",
        "colab_type": "code",
        "colab": {
          "base_uri": "https://localhost:8080/",
          "height": 280
        },
        "outputId": "27ccedd5-ea83-4262-8e97-0e68981cffc9"
      },
      "source": [
        "train['Loan_Status'].value_counts().plot.bar()"
      ],
      "execution_count": 10,
      "outputs": [
        {
          "output_type": "execute_result",
          "data": {
            "text/plain": [
              "<matplotlib.axes._subplots.AxesSubplot at 0x7f95d83f5198>"
            ]
          },
          "metadata": {
            "tags": []
          },
          "execution_count": 10
        },
        {
          "output_type": "display_data",
          "data": {
            "image/png": "[encoded data removed]",
            "text/plain": [
              "<Figure size 432x288 with 1 Axes>"
            ]
          },
          "metadata": {
            "tags": [],
            "needs_background": "light"
          }
        }
      ]
    },
    {
      "cell_type": "markdown",
      "metadata": {
        "id": "27L8j-d3cIxC",
        "colab_type": "text"
      },
      "source": [
        "# Independent Variable (Categorical)"
      ]
    },
    {
      "cell_type": "code",
      "metadata": {
        "id": "Uqz9IB-Ud-vH",
        "colab_type": "code",
        "colab": {
          "base_uri": "https://localhost:8080/",
          "height": 324
        },
        "outputId": "aac1607b-3fe9-4013-bdec-88380b75d598"
      },
      "source": [
        "train['Gender'].value_counts(normalize=True).plot.bar(title= 'Gender')"
      ],
      "execution_count": 11,
      "outputs": [
        {
          "output_type": "execute_result",
          "data": {
            "text/plain": [
              "<matplotlib.axes._subplots.AxesSubplot at 0x7f95d83389b0>"
            ]
          },
          "metadata": {
            "tags": []
          },
          "execution_count": 11
        },
        {
          "output_type": "display_data",
          "data": {
            "image/png": "[encoded data removed]",
            "text/plain": [
              "<Figure size 432x288 with 1 Axes>"
            ]
          },
          "metadata": {
            "tags": [],
            "needs_background": "light"
          }
        }
      ]
    },
    {
      "cell_type": "code",
      "metadata": {
        "id": "6L0H6uNqeCuz",
        "colab_type": "code",
        "colab": {
          "base_uri": "https://localhost:8080/",
          "height": 304
        },
        "outputId": "be804347-5f79-4840-a320-aff35a96a6fb"
      },
      "source": [
        "train['Married'].value_counts(normalize=True).plot.bar(title= 'Married') "
      ],
      "execution_count": 12,
      "outputs": [
        {
          "output_type": "execute_result",
          "data": {
            "text/plain": [
              "<matplotlib.axes._subplots.AxesSubplot at 0x7f95d7e426a0>"
            ]
          },
          "metadata": {
            "tags": []
          },
          "execution_count": 12
        },
        {
          "output_type": "display_data",
          "data": {
            "image/png": "[encoded data removed]",
            "text/plain": [
              "<Figure size 432x288 with 1 Axes>"
            ]
          },
          "metadata": {
            "tags": [],
            "needs_background": "light"
          }
        }
      ]
    },
    {
      "cell_type": "code",
      "metadata": {
        "id": "e6NEZkrxeFar",
        "colab_type": "code",
        "colab": {
          "base_uri": "https://localhost:8080/",
          "height": 304
        },
        "outputId": "bb08cccf-3c06-4adc-ab7e-6b6b2bed8cb3"
      },
      "source": [
        "train['Self_Employed'].value_counts(normalize=True).plot.bar(title= 'Self_Employed') "
      ],
      "execution_count": 13,
      "outputs": [
        {
          "output_type": "execute_result",
          "data": {
            "text/plain": [
              "<matplotlib.axes._subplots.AxesSubplot at 0x7f95d7dc26d8>"
            ]
          },
          "metadata": {
            "tags": []
          },
          "execution_count": 13
        },
        {
          "output_type": "display_data",
          "data": {
            "image/png": "[encoded data removed]",
            "text/plain": [
              "<Figure size 432x288 with 1 Axes>"
            ]
          },
          "metadata": {
            "tags": [],
            "needs_background": "light"
          }
        }
      ]
    },
    {
      "cell_type": "code",
      "metadata": {
        "id": "tzwkvMoneHxb",
        "colab_type": "code",
        "colab": {
          "base_uri": "https://localhost:8080/",
          "height": 304
        },
        "outputId": "15ee963a-8f93-4d27-cc78-80bf6ecc07dd"
      },
      "source": [
        "train['Credit_History'].value_counts(normalize=True).plot.bar(title= 'Credit_History') \n"
      ],
      "execution_count": 14,
      "outputs": [
        {
          "output_type": "execute_result",
          "data": {
            "text/plain": [
              "<matplotlib.axes._subplots.AxesSubplot at 0x7f95d7db7588>"
            ]
          },
          "metadata": {
            "tags": []
          },
          "execution_count": 14
        },
        {
          "output_type": "display_data",
          "data": {
            "image/png": "[encoded data removed]",
            "text/plain": [
              "<Figure size 432x288 with 1 Axes>"
            ]
          },
          "metadata": {
            "tags": [],
            "needs_background": "light"
          }
        }
      ]
    },
    {
      "cell_type": "markdown",
      "metadata": {
        "id": "cT3CvQDTf5M4",
        "colab_type": "text"
      },
      "source": [
        "It can be inferred from the above bar plots that:\n",
        "\n",
        "80% applicants in the dataset are male.\n",
        "Around 65% of the applicants in the dataset are married.\n",
        "Around 15% applicants in the dataset are self employed.\n",
        "Around 85% applicants have repaid their debts."
      ]
    },
    {
      "cell_type": "markdown",
      "metadata": {
        "id": "c_A6zSiNee6h",
        "colab_type": "text"
      },
      "source": [
        "# Independent Variable (Ordinal)"
      ]
    },
    {
      "cell_type": "code",
      "metadata": {
        "id": "G69l_cZ9ehQn",
        "colab_type": "code",
        "colab": {
          "base_uri": "https://localhost:8080/",
          "height": 303
        },
        "outputId": "e7692dc5-5ec7-4f54-caf8-a1a4efb5e506"
      },
      "source": [
        "train['Dependents'].value_counts(normalize=True).plot.bar(title= 'Dependents') "
      ],
      "execution_count": 15,
      "outputs": [
        {
          "output_type": "execute_result",
          "data": {
            "text/plain": [
              "<matplotlib.axes._subplots.AxesSubplot at 0x7f95d7db75f8>"
            ]
          },
          "metadata": {
            "tags": []
          },
          "execution_count": 15
        },
        {
          "output_type": "display_data",
          "data": {
            "image/png": "[encoded data removed]",
            "text/plain": [
              "<Figure size 432x288 with 1 Axes>"
            ]
          },
          "metadata": {
            "tags": [],
            "needs_background": "light"
          }
        }
      ]
    },
    {
      "cell_type": "code",
      "metadata": {
        "id": "m66hwTh5en3L",
        "colab_type": "code",
        "colab": {
          "base_uri": "https://localhost:8080/",
          "height": 356
        },
        "outputId": "1fdaac7d-5fb1-457f-c164-7094505f2842"
      },
      "source": [
        "train['Education'].value_counts(normalize=True).plot.bar(title= 'Education') "
      ],
      "execution_count": 16,
      "outputs": [
        {
          "output_type": "execute_result",
          "data": {
            "text/plain": [
              "<matplotlib.axes._subplots.AxesSubplot at 0x7f95d7cee6d8>"
            ]
          },
          "metadata": {
            "tags": []
          },
          "execution_count": 16
        },
        {
          "output_type": "display_data",
          "data": {
            "image/png": "[encoded data removed]",
            "text/plain": [
              "<Figure size 432x288 with 1 Axes>"
            ]
          },
          "metadata": {
            "tags": [],
            "needs_background": "light"
          }
        }
      ]
    },
    {
      "cell_type": "code",
      "metadata": {
        "id": "DEMTCtXGerHg",
        "colab_type": "code",
        "colab": {
          "base_uri": "https://localhost:8080/",
          "height": 342
        },
        "outputId": "cbec3ed4-a2f4-47bf-955c-aa6fc30afabf"
      },
      "source": [
        "train['Property_Area'].value_counts(normalize=True).plot.bar(title= 'Property_Area')"
      ],
      "execution_count": 17,
      "outputs": [
        {
          "output_type": "execute_result",
          "data": {
            "text/plain": [
              "<matplotlib.axes._subplots.AxesSubplot at 0x7f95d7c77518>"
            ]
          },
          "metadata": {
            "tags": []
          },
          "execution_count": 17
        },
        {
          "output_type": "display_data",
          "data": {
            "image/png": "[encoded data removed]",
            "text/plain": [
              "<Figure size 432x288 with 1 Axes>"
            ]
          },
          "metadata": {
            "tags": [],
            "needs_background": "light"
          }
        }
      ]
    },
    {
      "cell_type": "markdown",
      "metadata": {
        "id": "-cqGWDvZexh9",
        "colab_type": "text"
      },
      "source": [
        "Following inferences can be made from the above bar plots:\n",
        "\n",
        "Most of the applicants don’t have any dependents.\n",
        "Around 80% of the applicants are Graduate.\n",
        "Most of the applicants are from Semiurban area."
      ]
    },
    {
      "cell_type": "markdown",
      "metadata": {
        "id": "K5TbpV__ezH-",
        "colab_type": "text"
      },
      "source": [
        "# Independent Variable (Numerical)"
      ]
    },
    {
      "cell_type": "code",
      "metadata": {
        "id": "2_ojkKrIe2gW",
        "colab_type": "code",
        "colab": {
          "base_uri": "https://localhost:8080/",
          "height": 296
        },
        "outputId": "59dd47b9-a933-4f18-c671-1ece1d8a26c2"
      },
      "source": [
        "sns.distplot(train['ApplicantIncome'])"
      ],
      "execution_count": 18,
      "outputs": [
        {
          "output_type": "execute_result",
          "data": {
            "text/plain": [
              "<matplotlib.axes._subplots.AxesSubplot at 0x7f95d7bda940>"
            ]
          },
          "metadata": {
            "tags": []
          },
          "execution_count": 18
        },
        {
          "output_type": "display_data",
          "data": {
            "image/png": "[encoded data removed]",
            "text/plain": [
              "<Figure size 432x288 with 1 Axes>"
            ]
          },
          "metadata": {
            "tags": [],
            "needs_background": "light"
          }
        }
      ]
    },
    {
      "cell_type": "markdown",
      "metadata": {
        "id": "KshjYYbogEee",
        "colab_type": "text"
      },
      "source": [
        "It can be inferred that most of the data in the distribution of applicant income is towards left which means it is not normally distributed"
      ]
    },
    {
      "cell_type": "code",
      "metadata": {
        "id": "FcLb57XUe66r",
        "colab_type": "code",
        "colab": {
          "base_uri": "https://localhost:8080/",
          "height": 337
        },
        "outputId": "28f331c9-812e-4430-de17-84e4f0e141ec"
      },
      "source": [
        "train['ApplicantIncome'].plot.box(figsize=(16,5))"
      ],
      "execution_count": 19,
      "outputs": [
        {
          "output_type": "execute_result",
          "data": {
            "text/plain": [
              "<matplotlib.axes._subplots.AxesSubplot at 0x7f95d7b8e518>"
            ]
          },
          "metadata": {
            "tags": []
          },
          "execution_count": 19
        },
        {
          "output_type": "display_data",
          "data": {
            "image/png": "[encoded data removed]",
            "text/plain": [
              "<Figure size 1152x360 with 1 Axes>"
            ]
          },
          "metadata": {
            "tags": [],
            "needs_background": "light"
          }
        }
      ]
    },
    {
      "cell_type": "markdown",
      "metadata": {
        "id": "70RvdrlSgF_f",
        "colab_type": "text"
      },
      "source": [
        "The boxplot confirms the presence of a lot of outliers/extreme values. This can be attributed to the income disparity in the society. Part of this can be driven by the fact that we are looking at people with different education levels. Let us segregate them by Education:"
      ]
    },
    {
      "cell_type": "code",
      "metadata": {
        "id": "BJCeI1TtfIbM",
        "colab_type": "code",
        "colab": {
          "base_uri": "https://localhost:8080/",
          "height": 318
        },
        "outputId": "d5e1a210-b2eb-4b13-f25f-30592654434f"
      },
      "source": [
        "train.boxplot(column='ApplicantIncome', by = 'Education')"
      ],
      "execution_count": 20,
      "outputs": [
        {
          "output_type": "execute_result",
          "data": {
            "text/plain": [
              "<matplotlib.axes._subplots.AxesSubplot at 0x7f95d7ab6d68>"
            ]
          },
          "metadata": {
            "tags": []
          },
          "execution_count": 20
        },
        {
          "output_type": "display_data",
          "data": {
            "image/png": "[encoded data removed]",
            "text/plain": [
              "<Figure size 432x288 with 1 Axes>"
            ]
          },
          "metadata": {
            "tags": [],
            "needs_background": "light"
          }
        }
      ]
    },
    {
      "cell_type": "markdown",
      "metadata": {
        "id": "pwspbXgzfS6b",
        "colab_type": "text"
      },
      "source": [
        "We can see that there are a higher number of graduates with very high incomes, which are appearing to be the outliers."
      ]
    },
    {
      "cell_type": "code",
      "metadata": {
        "id": "IRq357k3fXeT",
        "colab_type": "code",
        "colab": {
          "base_uri": "https://localhost:8080/",
          "height": 279
        },
        "outputId": "f5177341-ca56-4e3a-d102-d50a190e9cbd"
      },
      "source": [
        "sns.distplot(train['CoapplicantIncome']);"
      ],
      "execution_count": 21,
      "outputs": [
        {
          "output_type": "display_data",
          "data": {
            "image/png": "[encoded data removed]",
            "text/plain": [
              "<Figure size 432x288 with 1 Axes>"
            ]
          },
          "metadata": {
            "tags": [],
            "needs_background": "light"
          }
        }
      ]
    },
    {
      "cell_type": "code",
      "metadata": {
        "id": "9cfZOQUbfohC",
        "colab_type": "code",
        "colab": {
          "base_uri": "https://localhost:8080/",
          "height": 337
        },
        "outputId": "0435f44d-e8a5-4d1c-cbf6-a489af8ebc2f"
      },
      "source": [
        "train['CoapplicantIncome'].plot.box(figsize=(16,5)) "
      ],
      "execution_count": 22,
      "outputs": [
        {
          "output_type": "execute_result",
          "data": {
            "text/plain": [
              "<matplotlib.axes._subplots.AxesSubplot at 0x7f95d7932358>"
            ]
          },
          "metadata": {
            "tags": []
          },
          "execution_count": 22
        },
        {
          "output_type": "display_data",
          "data": {
            "image/png": "[encoded data removed]",
            "text/plain": [
              "<Figure size 1152x360 with 1 Axes>"
            ]
          },
          "metadata": {
            "tags": [],
            "needs_background": "light"
          }
        }
      ]
    },
    {
      "cell_type": "markdown",
      "metadata": {
        "id": "rPg56h9VfwGI",
        "colab_type": "text"
      },
      "source": [
        "similar distribution as that of the applicant income"
      ]
    },
    {
      "cell_type": "code",
      "metadata": {
        "id": "3ON-WM2ffxCo",
        "colab_type": "code",
        "colab": {
          "base_uri": "https://localhost:8080/",
          "height": 279
        },
        "outputId": "4d96d0f4-ed3a-45f5-e10d-92bab9f3ca43"
      },
      "source": [
        "sns.distplot(train['LoanAmount']); "
      ],
      "execution_count": 23,
      "outputs": [
        {
          "output_type": "display_data",
          "data": {
            "image/png": "[encoded data removed]",
            "text/plain": [
              "<Figure size 432x288 with 1 Axes>"
            ]
          },
          "metadata": {
            "tags": [],
            "needs_background": "light"
          }
        }
      ]
    },
    {
      "cell_type": "markdown",
      "metadata": {
        "id": "CgmBber2guk-",
        "colab_type": "text"
      },
      "source": [
        "The distribution is fairly normal"
      ]
    },
    {
      "cell_type": "code",
      "metadata": {
        "id": "VFTmA64-gb0W",
        "colab_type": "code",
        "colab": {
          "base_uri": "https://localhost:8080/",
          "height": 337
        },
        "outputId": "c8232e0e-8da5-4c3a-bcaa-3ff70f5a85cf"
      },
      "source": [
        "train['LoanAmount'].plot.box(figsize=(5,5))"
      ],
      "execution_count": 24,
      "outputs": [
        {
          "output_type": "execute_result",
          "data": {
            "text/plain": [
              "<matplotlib.axes._subplots.AxesSubplot at 0x7f95d79f14e0>"
            ]
          },
          "metadata": {
            "tags": []
          },
          "execution_count": 24
        },
        {
          "output_type": "display_data",
          "data": {
            "image/png": "[encoded data removed]",
            "text/plain": [
              "<Figure size 360x360 with 1 Axes>"
            ]
          },
          "metadata": {
            "tags": [],
            "needs_background": "light"
          }
        }
      ]
    },
    {
      "cell_type": "markdown",
      "metadata": {
        "id": "Zhg9CKFQgwS5",
        "colab_type": "text"
      },
      "source": [
        "We see a lot of outliers in this variable"
      ]
    },
    {
      "cell_type": "markdown",
      "metadata": {
        "id": "DgDzGyQog4ys",
        "colab_type": "text"
      },
      "source": [
        "# Bivariate Analysis"
      ]
    },
    {
      "cell_type": "markdown",
      "metadata": {
        "id": "MlPqCGechGYs",
        "colab_type": "text"
      },
      "source": [
        "Categorical Vs Target Variable"
      ]
    },
    {
      "cell_type": "code",
      "metadata": {
        "id": "KwxCYpF6g8VV",
        "colab_type": "code",
        "colab": {
          "base_uri": "https://localhost:8080/",
          "height": 322
        },
        "outputId": "9ca18934-ffcb-4b6d-a0fc-6c765fd48de7"
      },
      "source": [
        "Gender = pd.crosstab(train['Gender'],train['Loan_Status']) \n",
        "Gender.div(Gender.sum(1).astype(float), axis=0).plot(kind=\"bar\", stacked=True, figsize=(4,4))"
      ],
      "execution_count": 25,
      "outputs": [
        {
          "output_type": "execute_result",
          "data": {
            "text/plain": [
              "<matplotlib.axes._subplots.AxesSubplot at 0x7f95d7c7fe48>"
            ]
          },
          "metadata": {
            "tags": []
          },
          "execution_count": 25
        },
        {
          "output_type": "display_data",
          "data": {
            "image/png": "[encoded data removed]",
            "text/plain": [
              "<Figure size 288x288 with 1 Axes>"
            ]
          },
          "metadata": {
            "tags": [],
            "needs_background": "light"
          }
        }
      ]
    },
    {
      "cell_type": "markdown",
      "metadata": {
        "id": "m9JUUx7ThP52",
        "colab_type": "text"
      },
      "source": [
        "It can be inferred that the proportion of male and female applicants is more or less same for both approved and unapproved loans."
      ]
    },
    {
      "cell_type": "code",
      "metadata": {
        "id": "IHi_HD5bhNjk",
        "colab_type": "code",
        "colab": {
          "base_uri": "https://localhost:8080/",
          "height": 302
        },
        "outputId": "6380a2ae-e923-49e2-c83b-6cbde0f9a238"
      },
      "source": [
        "Married = pd.crosstab(train['Married'],train['Loan_Status']) \n",
        "Married.div(Married.sum(1).astype(float), axis=0).plot(kind=\"bar\", stacked=True, figsize=(4,4))"
      ],
      "execution_count": 26,
      "outputs": [
        {
          "output_type": "execute_result",
          "data": {
            "text/plain": [
              "<matplotlib.axes._subplots.AxesSubplot at 0x7f95d784cd68>"
            ]
          },
          "metadata": {
            "tags": []
          },
          "execution_count": 26
        },
        {
          "output_type": "display_data",
          "data": {
            "image/png": "[encoded data removed]",
            "text/plain": [
              "<Figure size 288x288 with 1 Axes>"
            ]
          },
          "metadata": {
            "tags": [],
            "needs_background": "light"
          }
        }
      ]
    },
    {
      "cell_type": "markdown",
      "metadata": {
        "id": "-x-QEwbEh3h7",
        "colab_type": "text"
      },
      "source": [
        "Proportion of married applicants is higher for the approved loans."
      ]
    },
    {
      "cell_type": "code",
      "metadata": {
        "id": "hHo891c2hdxL",
        "colab_type": "code",
        "colab": {
          "base_uri": "https://localhost:8080/",
          "height": 301
        },
        "outputId": "8ba56d83-d5b3-4c48-a711-73fdfb87254a"
      },
      "source": [
        "Dependents = pd.crosstab(train['Dependents'],train['Loan_Status'])\n",
        "Dependents.div(Dependents.sum(1).astype(float), axis=0).plot(kind=\"bar\", stacked=True)"
      ],
      "execution_count": 27,
      "outputs": [
        {
          "output_type": "execute_result",
          "data": {
            "text/plain": [
              "<matplotlib.axes._subplots.AxesSubplot at 0x7f95d784c048>"
            ]
          },
          "metadata": {
            "tags": []
          },
          "execution_count": 27
        },
        {
          "output_type": "display_data",
          "data": {
            "image/png": "[encoded data removed]",
            "text/plain": [
              "<Figure size 432x288 with 1 Axes>"
            ]
          },
          "metadata": {
            "tags": [],
            "needs_background": "light"
          }
        }
      ]
    },
    {
      "cell_type": "markdown",
      "metadata": {
        "id": "NIEmbL6ph6D7",
        "colab_type": "text"
      },
      "source": [
        "Distribution of applicants with 1 or 3+ dependents is similar across both the categories of Loan_Status."
      ]
    },
    {
      "cell_type": "code",
      "metadata": {
        "id": "e8Eyq8bWhlYN",
        "colab_type": "code",
        "colab": {
          "base_uri": "https://localhost:8080/",
          "height": 354
        },
        "outputId": "8c77eb19-4e84-4b1b-f063-2692afaac5f6"
      },
      "source": [
        "Education = pd.crosstab(train['Education'],train['Loan_Status']) \n",
        "Education.div(Education.sum(1).astype(float), axis=0).plot(kind=\"bar\", stacked=True, figsize=(4,4))"
      ],
      "execution_count": 28,
      "outputs": [
        {
          "output_type": "execute_result",
          "data": {
            "text/plain": [
              "<matplotlib.axes._subplots.AxesSubplot at 0x7f95d7730be0>"
            ]
          },
          "metadata": {
            "tags": []
          },
          "execution_count": 28
        },
        {
          "output_type": "display_data",
          "data": {
            "image/png": "[encoded data removed]",
            "text/plain": [
              "<Figure size 288x288 with 1 Axes>"
            ]
          },
          "metadata": {
            "tags": [],
            "needs_background": "light"
          }
        }
      ]
    },
    {
      "cell_type": "code",
      "metadata": {
        "id": "t4gdEquhhrZG",
        "colab_type": "code",
        "colab": {
          "base_uri": "https://localhost:8080/",
          "height": 303
        },
        "outputId": "39500c69-d38f-4f61-e987-c084ea2ab094"
      },
      "source": [
        "Self_Employed=pd.crosstab(train['Self_Employed'],train['Loan_Status'])\n",
        "Self_Employed.div(Self_Employed.sum(1).astype(float), axis=0).plot(kind=\"bar\", stacked=True, figsize=(4,4))"
      ],
      "execution_count": 29,
      "outputs": [
        {
          "output_type": "execute_result",
          "data": {
            "text/plain": [
              "<matplotlib.axes._subplots.AxesSubplot at 0x7f95d76b12b0>"
            ]
          },
          "metadata": {
            "tags": []
          },
          "execution_count": 29
        },
        {
          "output_type": "display_data",
          "data": {
            "image/png": "[encoded data removed]",
            "text/plain": [
              "<Figure size 288x288 with 1 Axes>"
            ]
          },
          "metadata": {
            "tags": [],
            "needs_background": "light"
          }
        }
      ]
    },
    {
      "cell_type": "code",
      "metadata": {
        "id": "Uq5foxzuiAyM",
        "colab_type": "code",
        "colab": {
          "base_uri": "https://localhost:8080/",
          "height": 303
        },
        "outputId": "08b93365-2cac-4d26-a04d-0e39ba581307"
      },
      "source": [
        "Credit_History = pd.crosstab(train['Credit_History'],train['Loan_Status']) \n",
        "Credit_History.div(Credit_History.sum(1).astype(float), axis=0).plot(kind=\"bar\", stacked=True, figsize=(4,4))"
      ],
      "execution_count": 30,
      "outputs": [
        {
          "output_type": "execute_result",
          "data": {
            "text/plain": [
              "<matplotlib.axes._subplots.AxesSubplot at 0x7f95d7626f98>"
            ]
          },
          "metadata": {
            "tags": []
          },
          "execution_count": 30
        },
        {
          "output_type": "display_data",
          "data": {
            "image/png": "[encoded data removed]",
            "text/plain": [
              "<Figure size 288x288 with 1 Axes>"
            ]
          },
          "metadata": {
            "tags": [],
            "needs_background": "light"
          }
        }
      ]
    },
    {
      "cell_type": "markdown",
      "metadata": {
        "id": "MK3iwgnDiG0Y",
        "colab_type": "text"
      },
      "source": [
        "It seems people with credit history as 1 are more likely to get their loans approved."
      ]
    },
    {
      "cell_type": "code",
      "metadata": {
        "id": "zR686rGiiKCG",
        "colab_type": "code",
        "colab": {
          "base_uri": "https://localhost:8080/",
          "height": 341
        },
        "outputId": "72528d22-4b01-41ad-a467-8c8a1ba13615"
      },
      "source": [
        "Property_Area = pd.crosstab(train['Property_Area'],train['Loan_Status']) \n",
        "Property_Area.div(Property_Area.sum(1).astype(float), axis=0).plot(kind=\"bar\", stacked=True)"
      ],
      "execution_count": 31,
      "outputs": [
        {
          "output_type": "execute_result",
          "data": {
            "text/plain": [
              "<matplotlib.axes._subplots.AxesSubplot at 0x7f95d7597048>"
            ]
          },
          "metadata": {
            "tags": []
          },
          "execution_count": 31
        },
        {
          "output_type": "display_data",
          "data": {
            "image/png": "[encoded data removed]",
            "text/plain": [
              "<Figure size 432x288 with 1 Axes>"
            ]
          },
          "metadata": {
            "tags": [],
            "needs_background": "light"
          }
        }
      ]
    },
    {
      "cell_type": "markdown",
      "metadata": {
        "id": "3AZ445v8iQdm",
        "colab_type": "text"
      },
      "source": [
        "Proportion of loans getting approved in semiurban area is higher as compared to that in rural or urban areas."
      ]
    },
    {
      "cell_type": "markdown",
      "metadata": {
        "id": "8tW00-ejiSaN",
        "colab_type": "text"
      },
      "source": [
        "Numerical Vs Target Variable"
      ]
    },
    {
      "cell_type": "code",
      "metadata": {
        "id": "d9wAStTjiVHB",
        "colab_type": "code",
        "colab": {
          "base_uri": "https://localhost:8080/",
          "height": 295
        },
        "outputId": "814b6d41-b212-49a9-f67c-0ed3b9e260f3"
      },
      "source": [
        "train.groupby('Loan_Status')['ApplicantIncome'].mean().plot.bar()"
      ],
      "execution_count": 32,
      "outputs": [
        {
          "output_type": "execute_result",
          "data": {
            "text/plain": [
              "<matplotlib.axes._subplots.AxesSubplot at 0x7f95d7557668>"
            ]
          },
          "metadata": {
            "tags": []
          },
          "execution_count": 32
        },
        {
          "output_type": "display_data",
          "data": {
            "image/png": "[encoded data removed]",
            "text/plain": [
              "<Figure size 432x288 with 1 Axes>"
            ]
          },
          "metadata": {
            "tags": [],
            "needs_background": "light"
          }
        }
      ]
    },
    {
      "cell_type": "markdown",
      "metadata": {
        "id": "ta-KPgtHieyp",
        "colab_type": "text"
      },
      "source": [
        "We don’t see any change in the mean income. So, let’s make bins for the applicant income variable based on the values in it and analyze the corresponding loan status for each bin."
      ]
    },
    {
      "cell_type": "code",
      "metadata": {
        "id": "UVlvJCU-ihq9",
        "colab_type": "code",
        "colab": {
          "base_uri": "https://localhost:8080/",
          "height": 317
        },
        "outputId": "05062ed3-90a8-4d04-bcde-33a376637e6e"
      },
      "source": [
        "from matplotlib import pyplot, pylab\n",
        "\n",
        "bins=[0,2500,4000,6000,81000] \n",
        "group=['Low','Average','High', 'Very high'] \n",
        "train['Income_bin'] = pd.cut(train['ApplicantIncome'],bins,labels=group)\n",
        "Income_bin = pd.crosstab(train['Income_bin'],train['Loan_Status']) \n",
        "Income_bin.div(Income_bin.sum(1).astype(float), axis=0).plot(kind=\"bar\", stacked=True) \n",
        "plt.xlabel(\"ApplicantIncome\")\n",
        "plt.ylabel(\"Percentage\")\n",
        "pyplot.show()"
      ],
      "execution_count": 33,
      "outputs": [
        {
          "output_type": "display_data",
          "data": {
            "image/png": "[encoded data removed]",
            "text/plain": [
              "<Figure size 432x288 with 1 Axes>"
            ]
          },
          "metadata": {
            "tags": [],
            "needs_background": "light"
          }
        }
      ]
    },
    {
      "cell_type": "markdown",
      "metadata": {
        "id": "BIj_QNuzlxnW",
        "colab_type": "text"
      },
      "source": [
        "It can be inferred that Applicant income does not affect the chances of loan approval"
      ]
    },
    {
      "cell_type": "code",
      "metadata": {
        "id": "liZtAs8Ll402",
        "colab_type": "code",
        "colab": {
          "base_uri": "https://localhost:8080/",
          "height": 310
        },
        "outputId": "77e64135-b050-4d30-bb05-59002c16f5a0"
      },
      "source": [
        "bins=[0,1000,3000,42000] \n",
        "group=['Low','Average','High'] \n",
        "train['Coapplicant_Income_bin'] = pd.cut(train['CoapplicantIncome'], bins,labels=group)\n",
        "Coapplicant_Income_bin = pd.crosstab(train['Coapplicant_Income_bin'], train['Loan_Status']) \n",
        "Coapplicant_Income_bin.div(Coapplicant_Income_bin.sum(1).astype(float), axis=0).plot(kind=\"bar\", stacked=True) \n",
        "plt.xlabel('CoapplicantIncome') \n",
        "P = plt.ylabel('Percentage')"
      ],
      "execution_count": 34,
      "outputs": [
        {
          "output_type": "display_data",
          "data": {
            "image/png": "[encoded data removed]",
            "text/plain": [
              "<Figure size 432x288 with 1 Axes>"
            ]
          },
          "metadata": {
            "tags": [],
            "needs_background": "light"
          }
        }
      ]
    },
    {
      "cell_type": "markdown",
      "metadata": {
        "id": "bk_cLg8VmL9-",
        "colab_type": "text"
      },
      "source": [
        "It shows that if coapplicant’s income is less the chances of loan approval are high. But this does not look right. The possible reason behind this may be that most of the applicants don’t have any coapplicant so the coapplicant income for such applicants is 0 and hence the loan approval is not dependent on it. So we can make a new variable in which we will combine the applicant’s and coapplicant’s income to visualize the combined effect of income on loan approval."
      ]
    },
    {
      "cell_type": "code",
      "metadata": {
        "id": "gc7f9pygmPG4",
        "colab_type": "code",
        "colab": {
          "base_uri": "https://localhost:8080/",
          "height": 318
        },
        "outputId": "923c7d43-f43a-4ed3-9547-0e12595fde7a"
      },
      "source": [
        "train['Total_Income'] = train['ApplicantIncome'] + train['CoapplicantIncome']\n",
        "bins=[0,2500,4000,6000,81000] \n",
        "group=['Low','Average','High', 'Very high'] \n",
        "train['Total_Income_bin']=pd.cut(train['Total_Income'],bins,labels=group)\n",
        "Total_Income_bin = pd.crosstab(train['Total_Income_bin'],train['Loan_Status']) \n",
        "Total_Income_bin.div(Total_Income_bin.sum(1).astype(float), axis=0).plot(kind=\"bar\", stacked=True) \n",
        "plt.xlabel('Total_Income') \n",
        "P = plt.ylabel('Percentage')"
      ],
      "execution_count": 35,
      "outputs": [
        {
          "output_type": "display_data",
          "data": {
            "image/png": "[encoded data removed]",
            "text/plain": [
              "<Figure size 432x288 with 1 Axes>"
            ]
          },
          "metadata": {
            "tags": [],
            "needs_background": "light"
          }
        }
      ]
    },
    {
      "cell_type": "markdown",
      "metadata": {
        "id": "x2iQZra0mZ9k",
        "colab_type": "text"
      },
      "source": [
        "We can see that Proportion of loans getting approved for applicants having low Total_Income is very less as compared to that of applicants with Average, High and Very High Income."
      ]
    },
    {
      "cell_type": "code",
      "metadata": {
        "id": "g3SBOI08mcpV",
        "colab_type": "code",
        "colab": {
          "base_uri": "https://localhost:8080/",
          "height": 310
        },
        "outputId": "98b49cfe-aa78-4568-fa35-9dad9de9294b"
      },
      "source": [
        "bins=[0,100,200,700] \n",
        "group=['Low','Average','High'] \n",
        "train['LoanAmount_bin'] = pd.cut(train['LoanAmount'],bins,labels=group)\n",
        "LoanAmount_bin = pd.crosstab(train['LoanAmount_bin'],train['Loan_Status']) \n",
        "LoanAmount_bin.div(LoanAmount_bin.sum(1).astype(float), axis=0).plot(kind=\"bar\", stacked=True) \n",
        "plt.xlabel('LoanAmount') \n",
        "P = plt.ylabel('Percentage')"
      ],
      "execution_count": 36,
      "outputs": [
        {
          "output_type": "display_data",
          "data": {
            "image/png": "[encoded data removed]",
            "text/plain": [
              "<Figure size 432x288 with 1 Axes>"
            ]
          },
          "metadata": {
            "tags": [],
            "needs_background": "light"
          }
        }
      ]
    },
    {
      "cell_type": "markdown",
      "metadata": {
        "id": "xTzNWwdPmsVi",
        "colab_type": "text"
      },
      "source": [
        "It can be seen that the proportion of approved loans is higher for Low and Average Loan Amount as compared to that of High Loan Amount which supports our hypothesis in which we considered that the chances of loan approval will be high when the loan amount is less.\n",
        "\n",
        "Let’s drop the bins which we created for the exploration part. "
      ]
    },
    {
      "cell_type": "markdown",
      "metadata": {
        "id": "-_0A3MIcmvV4",
        "colab_type": "text"
      },
      "source": [
        "We will change the 3+ in dependents variable to 3 to make it a numerical variable.We will also convert the target variable’s categories into 0 and 1 so that we can find its correlation with numerical variables. One more reason to do so is few models like logistic regression takes only numeric values as input. We will replace N with 0 and Y with 1."
      ]
    },
    {
      "cell_type": "code",
      "metadata": {
        "id": "Vahtv5_Oms4y",
        "colab_type": "code",
        "colab": {}
      },
      "source": [
        "train=train.drop(['Income_bin', 'Coapplicant_Income_bin', 'LoanAmount_bin', 'Total_Income_bin', 'Total_Income'], axis=1)\n",
        "train['Dependents'].replace('3+', 3,inplace=True) \n",
        "test['Dependents'].replace('3+', 3,inplace=True) \n",
        "train['Loan_Status'].replace('N', 0,inplace=True) \n",
        "train['Loan_Status'].replace('Y', 1,inplace=True)"
      ],
      "execution_count": 37,
      "outputs": []
    },
    {
      "cell_type": "markdown",
      "metadata": {
        "id": "Uejjphntm6ZW",
        "colab_type": "text"
      },
      "source": [
        "Now lets look at the correlation between all the numerical variables. We will use the heat map to visualize the correlation. Heatmaps visualize data through variations in coloring. The variables with darker color means their correlation is more."
      ]
    },
    {
      "cell_type": "code",
      "metadata": {
        "id": "c5vtJrG2m8Tq",
        "colab_type": "code",
        "colab": {
          "base_uri": "https://localhost:8080/",
          "height": 482
        },
        "outputId": "ba46dd09-e477-4a2f-a168-d16d5eb21d39"
      },
      "source": [
        "matrix = train.corr()\n",
        "ax = plt.subplots(figsize=(9, 6)) \n",
        "sns.heatmap(matrix, vmax=.8, square=True, cmap=\"BuPu\")"
      ],
      "execution_count": 38,
      "outputs": [
        {
          "output_type": "execute_result",
          "data": {
            "text/plain": [
              "<matplotlib.axes._subplots.AxesSubplot at 0x7f95d744c6a0>"
            ]
          },
          "metadata": {
            "tags": []
          },
          "execution_count": 38
        },
        {
          "output_type": "display_data",
          "data": {
            "image/png": "[encoded data removed]",
            "text/plain": [
              "<Figure size 648x432 with 2 Axes>"
            ]
          },
          "metadata": {
            "tags": [],
            "needs_background": "light"
          }
        }
      ]
    },
    {
      "cell_type": "markdown",
      "metadata": {
        "id": "VQYsf9jepO_x",
        "colab_type": "text"
      },
      "source": [
        "We see that the most correlated variables are (ApplicantIncome - LoanAmount) and (Credit_History - Loan_Status). LoanAmount is also correlated with CoapplicantIncome."
      ]
    },
    {
      "cell_type": "code",
      "metadata": {
        "id": "28Q35XubpQcu",
        "colab_type": "code",
        "colab": {
          "base_uri": "https://localhost:8080/",
          "height": 252
        },
        "outputId": "702c5905-3571-418a-bab1-fc7d0af6e47e"
      },
      "source": [
        "#Missing value imputation\n",
        "train.isnull().sum()"
      ],
      "execution_count": 39,
      "outputs": [
        {
          "output_type": "execute_result",
          "data": {
            "text/plain": [
              "Loan_ID               0\n",
              "Gender               13\n",
              "Married               3\n",
              "Dependents           15\n",
              "Education             0\n",
              "Self_Employed        32\n",
              "ApplicantIncome       0\n",
              "CoapplicantIncome     0\n",
              "LoanAmount           22\n",
              "Loan_Amount_Term     14\n",
              "Credit_History       50\n",
              "Property_Area         0\n",
              "Loan_Status           0\n",
              "dtype: int64"
            ]
          },
          "metadata": {
            "tags": []
          },
          "execution_count": 39
        }
      ]
    },
    {
      "cell_type": "markdown",
      "metadata": {
        "id": "Ydj40nsApaWI",
        "colab_type": "text"
      },
      "source": [
        "To fill the missing values:\n",
        "\n",
        "For numerical variables: imputation using mean or median\n",
        "For categorical variables: imputation using mode"
      ]
    },
    {
      "cell_type": "code",
      "metadata": {
        "id": "ciE4NFnepbmD",
        "colab_type": "code",
        "colab": {}
      },
      "source": [
        "train['Gender'].fillna(train['Gender'].mode()[0], inplace=True) \n",
        "train['Married'].fillna(train['Married'].mode()[0], inplace=True) \n",
        "train['Dependents'].fillna(train['Dependents'].mode()[0], inplace=True) \n",
        "train['Self_Employed'].fillna(train['Self_Employed'].mode()[0], inplace=True) \n",
        "train['Credit_History'].fillna(train['Credit_History'].mode()[0], inplace=True)"
      ],
      "execution_count": 40,
      "outputs": []
    },
    {
      "cell_type": "code",
      "metadata": {
        "id": "F_6cFoEopokm",
        "colab_type": "code",
        "colab": {
          "base_uri": "https://localhost:8080/",
          "height": 202
        },
        "outputId": "24643372-0831-4cf9-8c47-66f40d7d80da"
      },
      "source": [
        "train['Loan_Amount_Term'].value_counts()"
      ],
      "execution_count": 41,
      "outputs": [
        {
          "output_type": "execute_result",
          "data": {
            "text/plain": [
              "360.0    512\n",
              "180.0     44\n",
              "480.0     15\n",
              "300.0     13\n",
              "84.0       4\n",
              "240.0      4\n",
              "120.0      3\n",
              "36.0       2\n",
              "60.0       2\n",
              "12.0       1\n",
              "Name: Loan_Amount_Term, dtype: int64"
            ]
          },
          "metadata": {
            "tags": []
          },
          "execution_count": 41
        }
      ]
    },
    {
      "cell_type": "markdown",
      "metadata": {
        "id": "c-p1nuhYpvTC",
        "colab_type": "text"
      },
      "source": [
        "The value of 360 is repeating the most. So we will replace the missing values in this variable using the mode of this variable."
      ]
    },
    {
      "cell_type": "code",
      "metadata": {
        "id": "SAjyWUOXput4",
        "colab_type": "code",
        "colab": {}
      },
      "source": [
        "train['Loan_Amount_Term'].fillna(train['Loan_Amount_Term'].mode()[0], inplace=True)"
      ],
      "execution_count": 42,
      "outputs": []
    },
    {
      "cell_type": "markdown",
      "metadata": {
        "id": "Pc6QizBup3rW",
        "colab_type": "text"
      },
      "source": [
        "Now we will see the LoanAmount variable. As it is a numerical variable, we can use mean or median to impute the missing values. We will use median to fill the null values as earlier we saw that loan amount have outliers so the mean will not be the proper approach as it is highly affected by the presence of outliers."
      ]
    },
    {
      "cell_type": "code",
      "metadata": {
        "id": "HRz9k-3Rp5bT",
        "colab_type": "code",
        "colab": {}
      },
      "source": [
        "train['LoanAmount'].fillna(train['LoanAmount'].median(), inplace=True)"
      ],
      "execution_count": 43,
      "outputs": []
    },
    {
      "cell_type": "code",
      "metadata": {
        "id": "1y-q17pVp7wi",
        "colab_type": "code",
        "colab": {
          "base_uri": "https://localhost:8080/",
          "height": 252
        },
        "outputId": "c698104e-4871-4799-885e-2a7fb4ece818"
      },
      "source": [
        "train.isnull().sum()"
      ],
      "execution_count": 44,
      "outputs": [
        {
          "output_type": "execute_result",
          "data": {
            "text/plain": [
              "Loan_ID              0\n",
              "Gender               0\n",
              "Married              0\n",
              "Dependents           0\n",
              "Education            0\n",
              "Self_Employed        0\n",
              "ApplicantIncome      0\n",
              "CoapplicantIncome    0\n",
              "LoanAmount           0\n",
              "Loan_Amount_Term     0\n",
              "Credit_History       0\n",
              "Property_Area        0\n",
              "Loan_Status          0\n",
              "dtype: int64"
            ]
          },
          "metadata": {
            "tags": []
          },
          "execution_count": 44
        }
      ]
    },
    {
      "cell_type": "markdown",
      "metadata": {
        "id": "RgwEeoPrqABg",
        "colab_type": "text"
      },
      "source": [
        "Let’s fill all the missing values in the test dataset too with the same approach."
      ]
    },
    {
      "cell_type": "code",
      "metadata": {
        "id": "xOZkN-xLqCEv",
        "colab_type": "code",
        "colab": {
          "base_uri": "https://localhost:8080/",
          "height": 235
        },
        "outputId": "64c650f2-aacd-479a-ff4e-5f6947754e7f"
      },
      "source": [
        "test.isnull().sum()"
      ],
      "execution_count": 45,
      "outputs": [
        {
          "output_type": "execute_result",
          "data": {
            "text/plain": [
              "Loan_ID               0\n",
              "Gender               11\n",
              "Married               0\n",
              "Dependents           10\n",
              "Education             0\n",
              "Self_Employed        23\n",
              "ApplicantIncome       0\n",
              "CoapplicantIncome     0\n",
              "LoanAmount            5\n",
              "Loan_Amount_Term      6\n",
              "Credit_History       29\n",
              "Property_Area         0\n",
              "dtype: int64"
            ]
          },
          "metadata": {
            "tags": []
          },
          "execution_count": 45
        }
      ]
    },
    {
      "cell_type": "code",
      "metadata": {
        "id": "T4r8EsRqqI27",
        "colab_type": "code",
        "colab": {}
      },
      "source": [
        "test['Gender'].fillna(train['Gender'].mode()[0], inplace=True) \n",
        "test['Dependents'].fillna(train['Dependents'].mode()[0], inplace=True) \n",
        "test['Self_Employed'].fillna(train['Self_Employed'].mode()[0], inplace=True) \n",
        "test['Credit_History'].fillna(train['Credit_History'].mode()[0], inplace=True) \n",
        "test['Loan_Amount_Term'].fillna(train['Loan_Amount_Term'].mode()[0], inplace=True) \n",
        "test['LoanAmount'].fillna(train['LoanAmount'].median(), inplace=True)"
      ],
      "execution_count": 46,
      "outputs": []
    },
    {
      "cell_type": "code",
      "metadata": {
        "id": "QKNTrRHlqPLm",
        "colab_type": "code",
        "colab": {
          "base_uri": "https://localhost:8080/",
          "height": 235
        },
        "outputId": "c123aed6-a0e7-423b-ac33-3f0986ee4214"
      },
      "source": [
        "test.isnull().sum()"
      ],
      "execution_count": 47,
      "outputs": [
        {
          "output_type": "execute_result",
          "data": {
            "text/plain": [
              "Loan_ID              0\n",
              "Gender               0\n",
              "Married              0\n",
              "Dependents           0\n",
              "Education            0\n",
              "Self_Employed        0\n",
              "ApplicantIncome      0\n",
              "CoapplicantIncome    0\n",
              "LoanAmount           0\n",
              "Loan_Amount_Term     0\n",
              "Credit_History       0\n",
              "Property_Area        0\n",
              "dtype: int64"
            ]
          },
          "metadata": {
            "tags": []
          },
          "execution_count": 47
        }
      ]
    },
    {
      "cell_type": "code",
      "metadata": {
        "id": "y3Z_xfQXqcoG",
        "colab_type": "code",
        "colab": {
          "base_uri": "https://localhost:8080/",
          "height": 265
        },
        "outputId": "4727a83c-81d0-4d93-c997-a90839dc39ea"
      },
      "source": [
        "train['LoanAmount_log'] = np.log(train['LoanAmount']) \n",
        "train['LoanAmount_log'].hist(bins=20) \n",
        "test['LoanAmount_log'] = np.log(test['LoanAmount'])"
      ],
      "execution_count": 48,
      "outputs": [
        {
          "output_type": "display_data",
          "data": {
            "image/png": "[encoded data removed]",
            "text/plain": [
              "<Figure size 432x288 with 1 Axes>"
            ]
          },
          "metadata": {
            "tags": [],
            "needs_background": "light"
          }
        }
      ]
    },
    {
      "cell_type": "code",
      "metadata": {
        "id": "-xRxpjpNqsIi",
        "colab_type": "code",
        "colab": {}
      },
      "source": [
        "#Drop ID Column- Loan_ID in train and test\n",
        "train = train.drop('Loan_ID',axis=1) \n",
        "test = test.drop('Loan_ID',axis=1)"
      ],
      "execution_count": 49,
      "outputs": []
    },
    {
      "cell_type": "code",
      "metadata": {
        "id": "7GxzPm5Rq0JI",
        "colab_type": "code",
        "colab": {}
      },
      "source": [
        "X = train.drop('Loan_Status',1) \n",
        "y = train.Loan_Status"
      ],
      "execution_count": 50,
      "outputs": []
    },
    {
      "cell_type": "markdown",
      "metadata": {
        "id": "gkGgc5kvrBsh",
        "colab_type": "text"
      },
      "source": [
        "Dummy variables for the categorical variables"
      ]
    },
    {
      "cell_type": "code",
      "metadata": {
        "id": "BeMgYLDkrDeW",
        "colab_type": "code",
        "colab": {}
      },
      "source": [
        "X=pd.get_dummies(X) \n",
        "train = pd.get_dummies(train) \n",
        "test = pd.get_dummies(test)"
      ],
      "execution_count": 51,
      "outputs": []
    },
    {
      "cell_type": "code",
      "metadata": {
        "id": "yu8-2jKUrMS3",
        "colab_type": "code",
        "colab": {}
      },
      "source": [
        "from sklearn.model_selection import train_test_split\n",
        "x_train, x_cv, y_train, y_cv = train_test_split(X,y, test_size =0.3)"
      ],
      "execution_count": 91,
      "outputs": []
    },
    {
      "cell_type": "markdown",
      "metadata": {
        "id": "DdDsjEv7rOvE",
        "colab_type": "text"
      },
      "source": [
        "# Logistic Regression"
      ]
    },
    {
      "cell_type": "code",
      "metadata": {
        "id": "ILFu2mV3rR3C",
        "colab_type": "code",
        "colab": {
          "base_uri": "https://localhost:8080/",
          "height": 235
        },
        "outputId": "9d9c9141-ba85-4bab-a861-88e31e58bbec"
      },
      "source": [
        "from sklearn.linear_model import LogisticRegression \n",
        "from sklearn.metrics import accuracy_score\n",
        "model = LogisticRegression() \n",
        "model.fit(x_train, y_train)"
      ],
      "execution_count": 53,
      "outputs": [
        {
          "output_type": "stream",
          "text": [
            "/usr/local/lib/python3.6/dist-packages/sklearn/linear_model/_logistic.py:940: ConvergenceWarning: lbfgs failed to converge (status=1):\n",
            "STOP: TOTAL NO. of ITERATIONS REACHED LIMIT.\n",
            "\n",
            "Increase the number of iterations (max_iter) or scale the data as shown in:\n",
            "    https://scikit-learn.org/stable/modules/preprocessing.html\n",
            "Please also refer to the documentation for alternative solver options:\n",
            "    https://scikit-learn.org/stable/modules/linear_model.html#logistic-regression\n",
            "  extra_warning_msg=_LOGISTIC_SOLVER_CONVERGENCE_MSG)\n"
          ],
          "name": "stderr"
        },
        {
          "output_type": "execute_result",
          "data": {
            "text/plain": [
              "LogisticRegression(C=1.0, class_weight=None, dual=False, fit_intercept=True,\n",
              "                   intercept_scaling=1, l1_ratio=None, max_iter=100,\n",
              "                   multi_class='auto', n_jobs=None, penalty='l2',\n",
              "                   random_state=None, solver='lbfgs', tol=0.0001, verbose=0,\n",
              "                   warm_start=False)"
            ]
          },
          "metadata": {
            "tags": []
          },
          "execution_count": 53
        }
      ]
    },
    {
      "cell_type": "code",
      "metadata": {
        "id": "gwtb4cPbrYFy",
        "colab_type": "code",
        "colab": {}
      },
      "source": [
        "#Let’s predict the Loan_Status for validation set and calculate its accuracy.\n",
        "\n",
        "pred_cv = model.predict(x_cv)"
      ],
      "execution_count": 54,
      "outputs": []
    },
    {
      "cell_type": "code",
      "metadata": {
        "id": "nsAaJDCYrcfm",
        "colab_type": "code",
        "colab": {
          "base_uri": "https://localhost:8080/",
          "height": 34
        },
        "outputId": "8cf98ea1-def5-4825-8a89-df55a1a30087"
      },
      "source": [
        "accuracy_score(y_cv,pred_cv)"
      ],
      "execution_count": 55,
      "outputs": [
        {
          "output_type": "execute_result",
          "data": {
            "text/plain": [
              "0.8054054054054054"
            ]
          },
          "metadata": {
            "tags": []
          },
          "execution_count": 55
        }
      ]
    },
    {
      "cell_type": "markdown",
      "metadata": {
        "id": "SybnZctsrjW2",
        "colab_type": "text"
      },
      "source": [
        "So our predictions are almost 76% accurate, i.e. we have identified 76% of the loan status correctly."
      ]
    },
    {
      "cell_type": "code",
      "metadata": {
        "id": "2jISaUKqrnoD",
        "colab_type": "code",
        "colab": {}
      },
      "source": [
        "pred_test = model.predict(test)"
      ],
      "execution_count": 56,
      "outputs": []
    },
    {
      "cell_type": "code",
      "metadata": {
        "id": "K5Fe7xMNrvLl",
        "colab_type": "code",
        "colab": {}
      },
      "source": [
        "#Read the Submission File\n",
        "submission=pd.read_csv(\"sample_submission_49d68Cx.csv\")"
      ],
      "execution_count": 58,
      "outputs": []
    },
    {
      "cell_type": "markdown",
      "metadata": {
        "id": "yr6JbwxGtC8d",
        "colab_type": "text"
      },
      "source": [
        "We only need the Loan_ID and the corresponding Loan_Status for the final submission"
      ]
    },
    {
      "cell_type": "code",
      "metadata": {
        "id": "8MBdEuzgs_tp",
        "colab_type": "code",
        "colab": {}
      },
      "source": [
        "submission['Loan_Status']=pred_test \n",
        "submission['Loan_ID']=test_original['Loan_ID']"
      ],
      "execution_count": 59,
      "outputs": []
    },
    {
      "cell_type": "markdown",
      "metadata": {
        "id": "rBmHwVYptGT-",
        "colab_type": "text"
      },
      "source": [
        "Let’s convert 1 and 0 to Y and N."
      ]
    },
    {
      "cell_type": "code",
      "metadata": {
        "id": "FLl3090RtIQh",
        "colab_type": "code",
        "colab": {}
      },
      "source": [
        "submission['Loan_Status'].replace(0, 'N',inplace=True) \n",
        "submission['Loan_Status'].replace(1, 'Y',inplace=True)"
      ],
      "execution_count": 60,
      "outputs": []
    },
    {
      "cell_type": "code",
      "metadata": {
        "id": "OVHrLbm1tMEW",
        "colab_type": "code",
        "colab": {}
      },
      "source": [
        "pd.DataFrame(submission, columns=['Loan_ID','Loan_Status']).to_csv('logistic.csv', index=False)"
      ],
      "execution_count": 63,
      "outputs": []
    },
    {
      "cell_type": "markdown",
      "metadata": {
        "id": "PE2kj2WHuRNr",
        "colab_type": "text"
      },
      "source": [
        "Score in Leaderboard is 0.7847"
      ]
    },
    {
      "cell_type": "code",
      "metadata": {
        "id": "L_AnSdFSuqs8",
        "colab_type": "code",
        "colab": {}
      },
      "source": [
        "from sklearn.model_selection import StratifiedKFold"
      ],
      "execution_count": 64,
      "outputs": []
    },
    {
      "cell_type": "code",
      "metadata": {
        "id": "DScw2mlOutoa",
        "colab_type": "code",
        "colab": {
          "base_uri": "https://localhost:8080/",
          "height": 806
        },
        "outputId": "5ad657a1-7e9e-412c-8da8-39f067b77c73"
      },
      "source": [
        "i=1 \n",
        "kf = StratifiedKFold(n_splits=5,random_state=1,shuffle=True) \n",
        "for train_index,test_index in kf.split(X,y):     \n",
        "  print('\\n{} of kfold {}'.format(i,kf.n_splits))     \n",
        "  xtr,xvl = X.loc[train_index],X.loc[test_index]     \n",
        "  ytr,yvl = y[train_index],y[test_index]         \n",
        "  model = LogisticRegression(random_state=1)     \n",
        "  model.fit(xtr, ytr)     \n",
        "  pred_test = model.predict(xvl)     \n",
        "  score = accuracy_score(yvl,pred_test)     \n",
        "  print('accuracy_score',score)     \n",
        "  i+=1 \n",
        "pred_test = model.predict(test) \n",
        "pred=model.predict_proba(xvl)[:,1]"
      ],
      "execution_count": 68,
      "outputs": [
        {
          "output_type": "stream",
          "text": [
            "\n",
            "1 of kfold 5\n",
            "accuracy_score 0.8048780487804879\n",
            "\n",
            "2 of kfold 5\n",
            "accuracy_score 0.8373983739837398\n",
            "\n",
            "3 of kfold 5\n",
            "accuracy_score 0.7804878048780488\n",
            "\n",
            "4 of kfold 5\n",
            "accuracy_score 0.7886178861788617\n",
            "\n",
            "5 of kfold 5\n",
            "accuracy_score 0.7950819672131147\n"
          ],
          "name": "stdout"
        },
        {
          "output_type": "stream",
          "text": [
            "/usr/local/lib/python3.6/dist-packages/sklearn/linear_model/_logistic.py:940: ConvergenceWarning: lbfgs failed to converge (status=1):\n",
            "STOP: TOTAL NO. of ITERATIONS REACHED LIMIT.\n",
            "\n",
            "Increase the number of iterations (max_iter) or scale the data as shown in:\n",
            "    https://scikit-learn.org/stable/modules/preprocessing.html\n",
            "Please also refer to the documentation for alternative solver options:\n",
            "    https://scikit-learn.org/stable/modules/linear_model.html#logistic-regression\n",
            "  extra_warning_msg=_LOGISTIC_SOLVER_CONVERGENCE_MSG)\n",
            "/usr/local/lib/python3.6/dist-packages/sklearn/linear_model/_logistic.py:940: ConvergenceWarning: lbfgs failed to converge (status=1):\n",
            "STOP: TOTAL NO. of ITERATIONS REACHED LIMIT.\n",
            "\n",
            "Increase the number of iterations (max_iter) or scale the data as shown in:\n",
            "    https://scikit-learn.org/stable/modules/preprocessing.html\n",
            "Please also refer to the documentation for alternative solver options:\n",
            "    https://scikit-learn.org/stable/modules/linear_model.html#logistic-regression\n",
            "  extra_warning_msg=_LOGISTIC_SOLVER_CONVERGENCE_MSG)\n",
            "/usr/local/lib/python3.6/dist-packages/sklearn/linear_model/_logistic.py:940: ConvergenceWarning: lbfgs failed to converge (status=1):\n",
            "STOP: TOTAL NO. of ITERATIONS REACHED LIMIT.\n",
            "\n",
            "Increase the number of iterations (max_iter) or scale the data as shown in:\n",
            "    https://scikit-learn.org/stable/modules/preprocessing.html\n",
            "Please also refer to the documentation for alternative solver options:\n",
            "    https://scikit-learn.org/stable/modules/linear_model.html#logistic-regression\n",
            "  extra_warning_msg=_LOGISTIC_SOLVER_CONVERGENCE_MSG)\n",
            "/usr/local/lib/python3.6/dist-packages/sklearn/linear_model/_logistic.py:940: ConvergenceWarning: lbfgs failed to converge (status=1):\n",
            "STOP: TOTAL NO. of ITERATIONS REACHED LIMIT.\n",
            "\n",
            "Increase the number of iterations (max_iter) or scale the data as shown in:\n",
            "    https://scikit-learn.org/stable/modules/preprocessing.html\n",
            "Please also refer to the documentation for alternative solver options:\n",
            "    https://scikit-learn.org/stable/modules/linear_model.html#logistic-regression\n",
            "  extra_warning_msg=_LOGISTIC_SOLVER_CONVERGENCE_MSG)\n"
          ],
          "name": "stderr"
        }
      ]
    },
    {
      "cell_type": "code",
      "metadata": {
        "id": "UXb_la8vvTJr",
        "colab_type": "code",
        "colab": {
          "base_uri": "https://localhost:8080/",
          "height": 497
        },
        "outputId": "98a3ef15-1d86-4b70-e6bb-18f5cbd93f37"
      },
      "source": [
        "#Visualising ROC Curve\n",
        "from sklearn import metrics \n",
        "fpr, tpr, _ = metrics.roc_curve(yvl,  pred) \n",
        "auc = metrics.roc_auc_score(yvl, pred) \n",
        "plt.figure(figsize=(12,8)) \n",
        "plt.plot(fpr,tpr,label=\"validation, auc=\"+str(auc)) \n",
        "plt.xlabel('False Positive Rate') \n",
        "plt.ylabel('True Positive Rate') \n",
        "plt.legend(loc=4) \n",
        "plt.show()"
      ],
      "execution_count": 69,
      "outputs": [
        {
          "output_type": "display_data",
          "data": {
            "image/png": "[encoded data removed]",
            "text/plain": [
              "<Figure size 864x576 with 1 Axes>"
            ]
          },
          "metadata": {
            "tags": [],
            "needs_background": "light"
          }
        }
      ]
    },
    {
      "cell_type": "markdown",
      "metadata": {
        "id": "w0L-z0W5vkz-",
        "colab_type": "text"
      },
      "source": [
        "We got an auc value of 0.73"
      ]
    },
    {
      "cell_type": "code",
      "metadata": {
        "id": "1Xh_rBaKvoKB",
        "colab_type": "code",
        "colab": {}
      },
      "source": [
        "submission['Loan_Status']=pred_test \n",
        "submission['Loan_ID'] = test_original['Loan_ID']"
      ],
      "execution_count": 71,
      "outputs": []
    },
    {
      "cell_type": "markdown",
      "metadata": {
        "id": "TxqvMlJQvtfr",
        "colab_type": "text"
      },
      "source": [
        "We need predictions in Y and N. So let’s convert 1 and 0 to Y and N."
      ]
    },
    {
      "cell_type": "code",
      "metadata": {
        "id": "Y0IpTJ5UvrSs",
        "colab_type": "code",
        "colab": {}
      },
      "source": [
        "submission['Loan_Status'].replace(0, 'N',inplace=True) \n",
        "submission['Loan_Status'].replace(1, 'Y',inplace=True)"
      ],
      "execution_count": 72,
      "outputs": []
    },
    {
      "cell_type": "code",
      "metadata": {
        "id": "_b0nDnPFv6cZ",
        "colab_type": "code",
        "colab": {}
      },
      "source": [
        "pd.DataFrame(submission, columns=['Loan_ID','Loan_Status']).to_csv('Logistic.csv', index = False)"
      ],
      "execution_count": 73,
      "outputs": []
    },
    {
      "cell_type": "markdown",
      "metadata": {
        "id": "wvu09aMbwMgF",
        "colab_type": "text"
      },
      "source": [
        "Your score for this submission is : 0.7638888888888888."
      ]
    },
    {
      "cell_type": "markdown",
      "metadata": {
        "id": "7aRSkNxRwdN1",
        "colab_type": "text"
      },
      "source": [
        "Based on the domain knowledge, we can come up with new features that might affect the target variable. We will create the following three new features:\n",
        "\n",
        "Total Income - As discussed during bivariate analysis we will combine the Applicant Income and Coapplicant Income. If the total income is high, chances of loan approval might also be high.\n",
        "EMI - EMI is the monthly amount to be paid by the applicant to repay the loan. Idea behind making this variable is that people who have high EMI’s might find it difficult to pay back the loan. We can calculate the EMI by taking the ratio of loan amount with respect to loan amount term.\n",
        "Balance Income - This is the income left after the EMI has been paid. Idea behind creating this variable is that if this value is high, the chances are high that a person will repay the loan and hence increasing the chances of loan approval."
      ]
    },
    {
      "cell_type": "code",
      "metadata": {
        "id": "UNH1RZzKwd5d",
        "colab_type": "code",
        "colab": {}
      },
      "source": [
        "#Create Total_Income\n",
        "train['Total_Income']=train['ApplicantIncome']+train['CoapplicantIncome'] \n",
        "test['Total_Income']=test['ApplicantIncome']+test['CoapplicantIncome']"
      ],
      "execution_count": 74,
      "outputs": []
    },
    {
      "cell_type": "code",
      "metadata": {
        "id": "dwVHyr-mwi6R",
        "colab_type": "code",
        "colab": {
          "base_uri": "https://localhost:8080/",
          "height": 280
        },
        "outputId": "a5d11f21-e530-439c-86d7-46919993ad0d"
      },
      "source": [
        "sns.distplot(train['Total_Income']);"
      ],
      "execution_count": 75,
      "outputs": [
        {
          "output_type": "display_data",
          "data": {
            "image/png": "[encoded data removed]",
            "text/plain": [
              "<Figure size 432x288 with 1 Axes>"
            ]
          },
          "metadata": {
            "tags": [],
            "needs_background": "light"
          }
        }
      ]
    },
    {
      "cell_type": "code",
      "metadata": {
        "id": "tjDuNmjvwman",
        "colab_type": "code",
        "colab": {
          "base_uri": "https://localhost:8080/",
          "height": 280
        },
        "outputId": "6564ae2f-ad3a-4c13-d060-5d339619fbee"
      },
      "source": [
        "train['Total_Income_log'] = np.log(train['Total_Income']) \n",
        "sns.distplot(train['Total_Income_log']); \n",
        "test['Total_Income_log'] = np.log(test['Total_Income'])"
      ],
      "execution_count": 76,
      "outputs": [
        {
          "output_type": "display_data",
          "data": {
            "image/png": "[encoded data removed]",
            "text/plain": [
              "<Figure size 432x288 with 1 Axes>"
            ]
          },
          "metadata": {
            "tags": [],
            "needs_background": "light"
          }
        }
      ]
    },
    {
      "cell_type": "code",
      "metadata": {
        "id": "8T-BZxunwrZz",
        "colab_type": "code",
        "colab": {}
      },
      "source": [
        "#Create EMI\n",
        "\n",
        "train['EMI']=train['LoanAmount']/train['Loan_Amount_Term'] \n",
        "test['EMI']=test['LoanAmount']/test['Loan_Amount_Term']"
      ],
      "execution_count": 77,
      "outputs": []
    },
    {
      "cell_type": "code",
      "metadata": {
        "id": "ruUe7jQdwzGU",
        "colab_type": "code",
        "colab": {
          "base_uri": "https://localhost:8080/",
          "height": 296
        },
        "outputId": "be8765a7-5926-4195-8981-21f19ca214be"
      },
      "source": [
        "#Checking the distribution\n",
        "\n",
        "sns.distplot(train['EMI'])"
      ],
      "execution_count": 79,
      "outputs": [
        {
          "output_type": "execute_result",
          "data": {
            "text/plain": [
              "<matplotlib.axes._subplots.AxesSubplot at 0x7f95d178beb8>"
            ]
          },
          "metadata": {
            "tags": []
          },
          "execution_count": 79
        },
        {
          "output_type": "display_data",
          "data": {
            "image/png": "[encoded data removed]",
            "text/plain": [
              "<Figure size 432x288 with 1 Axes>"
            ]
          },
          "metadata": {
            "tags": [],
            "needs_background": "light"
          }
        }
      ]
    },
    {
      "cell_type": "code",
      "metadata": {
        "id": "qq7QUCHXw8jN",
        "colab_type": "code",
        "colab": {}
      },
      "source": [
        "#Create Balance Income feature now and check its distribution.\n",
        "# Multiplying with 1000 to make the units equal \n",
        "\n",
        "train['Balance Income']=train['Total_Income']-(train['EMI']*1000)  \n",
        "test['Balance Income']=test['Total_Income']-(test['EMI']*1000)"
      ],
      "execution_count": 80,
      "outputs": []
    },
    {
      "cell_type": "code",
      "metadata": {
        "id": "TklwlIWtxKUl",
        "colab_type": "code",
        "colab": {
          "base_uri": "https://localhost:8080/",
          "height": 279
        },
        "outputId": "19015427-4aa8-4fc6-9244-0341bf03ff04"
      },
      "source": [
        "#Checking the distribution\n",
        "\n",
        "sns.distplot(train['Balance Income']);"
      ],
      "execution_count": 81,
      "outputs": [
        {
          "output_type": "display_data",
          "data": {
            "image/png": "[encoded data removed]",
            "text/plain": [
              "<Figure size 432x288 with 1 Axes>"
            ]
          },
          "metadata": {
            "tags": [],
            "needs_background": "light"
          }
        }
      ]
    },
    {
      "cell_type": "code",
      "metadata": {
        "id": "vCiT5cGqxXDR",
        "colab_type": "code",
        "colab": {}
      },
      "source": [
        "#Removing the variables after creating the new ones\n",
        "\n",
        "train = train.drop(['ApplicantIncome', 'CoapplicantIncome', 'LoanAmount', 'Loan_Amount_Term'], axis=1) \n",
        "\n",
        "test = test.drop(['ApplicantIncome', 'CoapplicantIncome', 'LoanAmount', 'Loan_Amount_Term'], axis=1)"
      ],
      "execution_count": 82,
      "outputs": []
    },
    {
      "cell_type": "code",
      "metadata": {
        "id": "lygGpNX1xnxo",
        "colab_type": "code",
        "colab": {}
      },
      "source": [
        "X = train.drop('Loan_Status',1) \n",
        "y = train.Loan_Status "
      ],
      "execution_count": 83,
      "outputs": []
    },
    {
      "cell_type": "code",
      "metadata": {
        "id": "ciNAYz7lyTCb",
        "colab_type": "code",
        "colab": {
          "base_uri": "https://localhost:8080/",
          "height": 185
        },
        "outputId": "47741e57-dfa8-4937-f720-339e0f6755cd"
      },
      "source": [
        "from sklearn.ensemble import GradientBoostingClassifier\n",
        "model = GradientBoostingClassifier(n_estimators=100,max_depth=5)\n",
        "model.fit(x_train, y_train)\n"
      ],
      "execution_count": 84,
      "outputs": [
        {
          "output_type": "execute_result",
          "data": {
            "text/plain": [
              "GradientBoostingClassifier(ccp_alpha=0.0, criterion='friedman_mse', init=None,\n",
              "                           learning_rate=0.1, loss='deviance', max_depth=5,\n",
              "                           max_features=None, max_leaf_nodes=None,\n",
              "                           min_impurity_decrease=0.0, min_impurity_split=None,\n",
              "                           min_samples_leaf=1, min_samples_split=2,\n",
              "                           min_weight_fraction_leaf=0.0, n_estimators=100,\n",
              "                           n_iter_no_change=None, presort='deprecated',\n",
              "                           random_state=None, subsample=1.0, tol=0.0001,\n",
              "                           validation_fraction=0.1, verbose=0,\n",
              "                           warm_start=False)"
            ]
          },
          "metadata": {
            "tags": []
          },
          "execution_count": 84
        }
      ]
    },
    {
      "cell_type": "code",
      "metadata": {
        "id": "LbbakvdizBan",
        "colab_type": "code",
        "colab": {
          "base_uri": "https://localhost:8080/",
          "height": 34
        },
        "outputId": "1be759b7-1fc3-47e2-c020-5c89d7b21053"
      },
      "source": [
        "pred_xg = model.predict(x_cv)\n",
        "accuracy_score(y_cv,pred_xg)"
      ],
      "execution_count": 85,
      "outputs": [
        {
          "output_type": "execute_result",
          "data": {
            "text/plain": [
              "0.7783783783783784"
            ]
          },
          "metadata": {
            "tags": []
          },
          "execution_count": 85
        }
      ]
    },
    {
      "cell_type": "code",
      "metadata": {
        "id": "i1r4zfBNzQ2V",
        "colab_type": "code",
        "colab": {}
      },
      "source": [
        "pred_test_xg = model.predict(test)"
      ],
      "execution_count": 86,
      "outputs": []
    },
    {
      "cell_type": "code",
      "metadata": {
        "colab_type": "code",
        "id": "DMIQh5lDzc4b",
        "colab": {}
      },
      "source": [
        "#Read the Submission File\n",
        "#submission=pd.read_csv(\"sample_submission_49d68Cx.csv\")"
      ],
      "execution_count": null,
      "outputs": []
    },
    {
      "cell_type": "markdown",
      "metadata": {
        "colab_type": "text",
        "id": "9L7eOy06zc4o"
      },
      "source": [
        "We only need the Loan_ID and the corresponding Loan_Status for the final submission"
      ]
    },
    {
      "cell_type": "code",
      "metadata": {
        "colab_type": "code",
        "id": "BPNoxK24zc4p",
        "colab": {}
      },
      "source": [
        "submission['Loan_Status']=pred_test_xg \n",
        "submission['Loan_ID']=test_original['Loan_ID']"
      ],
      "execution_count": 87,
      "outputs": []
    },
    {
      "cell_type": "markdown",
      "metadata": {
        "colab_type": "text",
        "id": "Kn5AURlkzc4y"
      },
      "source": [
        "Let’s convert 1 and 0 to Y and N."
      ]
    },
    {
      "cell_type": "code",
      "metadata": {
        "colab_type": "code",
        "id": "1G6wx1WGzc43",
        "colab": {}
      },
      "source": [
        "submission['Loan_Status'].replace(0, 'N',inplace=True) \n",
        "submission['Loan_Status'].replace(1, 'Y',inplace=True)"
      ],
      "execution_count": 88,
      "outputs": []
    },
    {
      "cell_type": "code",
      "metadata": {
        "colab_type": "code",
        "id": "cwwCJ_vWzc5A",
        "colab": {}
      },
      "source": [
        "pd.DataFrame(submission, columns=['Loan_ID','Loan_Status']).to_csv('xg.csv', index=False)"
      ],
      "execution_count": 89,
      "outputs": []
    },
    {
      "cell_type": "markdown",
      "metadata": {
        "id": "Ww95Zvu9z4Et",
        "colab_type": "text"
      },
      "source": [
        "Your score for this submission is : 0.6458333333333334."
      ]
    },
    {
      "cell_type": "code",
      "metadata": {
        "id": "WEh-ICrV0jI-",
        "colab_type": "code",
        "colab": {}
      },
      "source": [
        "from sklearn.tree import DecisionTreeClassifier\n",
        "clf = DecisionTreeClassifier(random_state=0)\n",
        "clf = clf.fit(x_train, y_train)"
      ],
      "execution_count": 95,
      "outputs": []
    },
    {
      "cell_type": "code",
      "metadata": {
        "id": "7gd581GN0siu",
        "colab_type": "code",
        "colab": {
          "base_uri": "https://localhost:8080/",
          "height": 34
        },
        "outputId": "c9dfb62a-ce4d-4cf2-dd8c-379857792b2a"
      },
      "source": [
        "pred_dt = clf.predict(x_cv)\n",
        "accuracy_score(y_cv,pred_dt)"
      ],
      "execution_count": 96,
      "outputs": [
        {
          "output_type": "execute_result",
          "data": {
            "text/plain": [
              "0.6864864864864865"
            ]
          },
          "metadata": {
            "tags": []
          },
          "execution_count": 96
        }
      ]
    },
    {
      "cell_type": "code",
      "metadata": {
        "id": "YgJCeELh1ghj",
        "colab_type": "code",
        "colab": {
          "base_uri": "https://localhost:8080/",
          "height": 269
        },
        "outputId": "cb52b562-d656-4fd1-c78a-cb5e01481c20"
      },
      "source": [
        "i=1 \n",
        "kf = StratifiedKFold(n_splits=5,random_state=1,shuffle=True) \n",
        "for train_index,test_index in kf.split(X,y):     \n",
        "  print('\\n{} of kfold {}'.format(i,kf.n_splits))     \n",
        "  xtr,xvl = X.loc[train_index],X.loc[test_index]     \n",
        "  ytr,yvl = y[train_index],y[test_index]         \n",
        "  model = DecisionTreeClassifier(random_state=1)     \n",
        "  model.fit(xtr, ytr)     \n",
        "  pred_test = model.predict(xvl)     \n",
        "  score = accuracy_score(yvl,pred_test)     \n",
        "  print('accuracy_score',score)     \n",
        "  i+=1 \n",
        "pred_test = model.predict(test) \n",
        "pred=model.predict_proba(xvl)[:,1]"
      ],
      "execution_count": 97,
      "outputs": [
        {
          "output_type": "stream",
          "text": [
            "\n",
            "1 of kfold 5\n",
            "accuracy_score 0.7398373983739838\n",
            "\n",
            "2 of kfold 5\n",
            "accuracy_score 0.6991869918699187\n",
            "\n",
            "3 of kfold 5\n",
            "accuracy_score 0.7560975609756098\n",
            "\n",
            "4 of kfold 5\n",
            "accuracy_score 0.7073170731707317\n",
            "\n",
            "5 of kfold 5\n",
            "accuracy_score 0.6721311475409836\n"
          ],
          "name": "stdout"
        }
      ]
    },
    {
      "cell_type": "markdown",
      "metadata": {
        "id": "_mndVskDz5bu",
        "colab_type": "text"
      },
      "source": [
        "The best accuracy on the public leaderboard is achieved by Logistic Regression (0.7847)"
      ]
    }
  ]
}